{
  "nbformat": 4,
  "nbformat_minor": 0,
  "metadata": {
    "colab": {
      "name": "Desafio_do_Titanic.ipynb",
      "provenance": [],
      "collapsed_sections": [
        "91XvfGCF-_St",
        "VQrZ92B0SIob",
        "zn8yMy-L8f33",
        "ce72DZ3Hbd78",
        "V5PpdhiFjX_x",
        "zI3GbbqRZT_p",
        "W9hE8ETea7hY",
        "YXf7dtMPfRH8",
        "r9A3xK2tq1AR",
        "QvKSz0Vmsct0",
        "F283SxD_sebD",
        "vI_S2FqY6OWW",
        "9o3v4m4E7M6U",
        "QXThf7csBsZf",
        "j5y9i4mGcQxL",
        "wHkKI_mLejFK",
        "8dfZlnXwgXBk",
        "D80dcvMYbrlH",
        "dbm1JyQAC_40",
        "QhaRJGc_DdE1",
        "XQo9nxXODm9i"
      ]
    },
    "kernelspec": {
      "name": "python3",
      "display_name": "Python 3"
    },
    "language_info": {
      "name": "python"
    }
  },
  "cells": [
    {
      "cell_type": "markdown",
      "source": [
        "## Apresentação"
      ],
      "metadata": {
        "id": "cGzDgfK3mLAk"
      }
    },
    {
      "cell_type": "markdown",
      "source": [
        "**Wagner Ribeiro De Carvalho\n",
        "11 976098988**"
      ],
      "metadata": {
        "id": "QwlBRXOWo40X"
      }
    },
    {
      "cell_type": "markdown",
      "source": [
        "No Kaggle: Existe uma competição que é lendária o Titanic, a competição é simples use o aprendizado de máquina para criar um modelo que prevê quais passageiros sobreviveram ao naufrágio do Titanic.\n",
        "\n",
        "tentaremos criar um código que verifica se o passageiro sobreviveu de acordo com o status econômico (classe), sexo, idade e sobrevivência. Neste desafio, somos solicitados a prever se um passageiro do Titanic teria sobrevivido ou não."
      ],
      "metadata": {
        "id": "6ivH6pDlmXeN"
      }
    },
    {
      "cell_type": "markdown",
      "source": [
        "Aqui temos alguns scripts de analise de dados e machine learning sobre quem poderia sobreviver no acidente do titanic esse script esta na versão em teste e alguns não rodara da forma correta."
      ],
      "metadata": {
        "id": "Igta2-oEjCIv"
      }
    },
    {
      "cell_type": "markdown",
      "source": [
        "## **Preparando os Dados**"
      ],
      "metadata": {
        "id": "gEflg7B6o5ja"
      }
    },
    {
      "cell_type": "code",
      "source": [
        "pip install -U pandasql"
      ],
      "metadata": {
        "colab": {
          "base_uri": "https://localhost:8080/"
        },
        "id": "C8BzscN8stcI",
        "outputId": "446b83b7-7e53-47f0-8482-6c298903a3ed"
      },
      "execution_count": 75,
      "outputs": [
        {
          "output_type": "stream",
          "name": "stdout",
          "text": [
            "Looking in indexes: https://pypi.org/simple, https://us-python.pkg.dev/colab-wheels/public/simple/\n",
            "Collecting pandasql\n",
            "  Downloading pandasql-0.7.3.tar.gz (26 kB)\n",
            "Requirement already satisfied: numpy in /usr/local/lib/python3.7/dist-packages (from pandasql) (1.21.6)\n",
            "Requirement already satisfied: pandas in /usr/local/lib/python3.7/dist-packages (from pandasql) (1.3.5)\n",
            "Requirement already satisfied: sqlalchemy in /usr/local/lib/python3.7/dist-packages (from pandasql) (1.4.40)\n",
            "Requirement already satisfied: python-dateutil>=2.7.3 in /usr/local/lib/python3.7/dist-packages (from pandas->pandasql) (2.8.2)\n",
            "Requirement already satisfied: pytz>=2017.3 in /usr/local/lib/python3.7/dist-packages (from pandas->pandasql) (2022.2.1)\n",
            "Requirement already satisfied: six>=1.5 in /usr/local/lib/python3.7/dist-packages (from python-dateutil>=2.7.3->pandas->pandasql) (1.15.0)\n",
            "Requirement already satisfied: greenlet!=0.4.17 in /usr/local/lib/python3.7/dist-packages (from sqlalchemy->pandasql) (1.1.2)\n",
            "Requirement already satisfied: importlib-metadata in /usr/local/lib/python3.7/dist-packages (from sqlalchemy->pandasql) (4.12.0)\n",
            "Requirement already satisfied: typing-extensions>=3.6.4 in /usr/local/lib/python3.7/dist-packages (from importlib-metadata->sqlalchemy->pandasql) (4.1.1)\n",
            "Requirement already satisfied: zipp>=0.5 in /usr/local/lib/python3.7/dist-packages (from importlib-metadata->sqlalchemy->pandasql) (3.8.1)\n",
            "Building wheels for collected packages: pandasql\n",
            "  Building wheel for pandasql (setup.py) ... \u001b[?25l\u001b[?25hdone\n",
            "  Created wheel for pandasql: filename=pandasql-0.7.3-py3-none-any.whl size=26784 sha256=a1423d561d07a4559df223f13240511e32bc23b789475004465cdc2ba5d1429e\n",
            "  Stored in directory: /root/.cache/pip/wheels/5c/4b/ec/41f4e116c8053c3654e2c2a47c62b4fca34cc67ef7b55deb7f\n",
            "Successfully built pandasql\n",
            "Installing collected packages: pandasql\n",
            "Successfully installed pandasql-0.7.3\n"
          ]
        }
      ]
    },
    {
      "cell_type": "code",
      "source": [
        "#Carrendo as Bibliotecas\n",
        "import numpy as np \n",
        "import pandas as pd \n",
        "import seaborn as sns\n",
        "import re"
      ],
      "metadata": {
        "id": "UCOZm7GlmW3M"
      },
      "execution_count": 1,
      "outputs": []
    },
    {
      "cell_type": "code",
      "source": [
        "# Algoritimos de Machine Learning e gráfico\n",
        "from sklearn import linear_model\n",
        "from sklearn.linear_model import LogisticRegression\n",
        "from sklearn.ensemble import RandomForestClassifier\n",
        "from sklearn.linear_model import Perceptron\n",
        "from sklearn.linear_model import SGDClassifier\n",
        "from sklearn.tree import DecisionTreeClassifier\n",
        "from sklearn.neighbors import KNeighborsClassifier\n",
        "from sklearn.svm import SVC, LinearSVC\n",
        "from sklearn.naive_bayes import GaussianNB\n",
        "from matplotlib import pyplot as plt\n",
        "from matplotlib import style\n",
        "from sklearn import datasets, svm\n",
        "from sklearn.model_selection import train_test_split\n",
        "\n",
        "from sklearn_pandas import DataFrameMapper, gen_features;\n",
        "\n",
        "from sklearn.compose import make_column_selector;\n",
        "from sklearn.base import BaseEstimator, TransformerMixin;\n",
        "from sklearn.pipeline import make_pipeline, Pipeline ;\n",
        "from sklearn.preprocessing import FunctionTransformer, LabelEncoder, StandardScaler, RobustScaler, OrdinalEncoder;\n",
        "from sklearn.impute import SimpleImputer;\n",
        "\n",
        "from sklearn.model_selection import KFold, GridSearchCV;\n",
        "from sklearn.ensemble import GradientBoostingClassifier, RandomForestClassifier, StackingClassifier;\n",
        "from xgboost import XGBClassifier;\n",
        "from lightgbm import LGBMClassifier;\n",
        "from sklearn.svm import SVC;\n",
        "from sklearn.tree import DecisionTreeClassifier;\n",
        "from sklearn.linear_model import LogisticRegression;\n",
        "\n",
        "from sklearn.metrics import precision_score, recall_score, accuracy_score, roc_auc_score, f1_score, classification_report, confusion_matrix;\n",
        "\n",
        "import regex as re;\n",
        "\n",
        "import seaborn as sns;\n",
        "sns.set_style('darkgrid');\n",
        "\n",
        "from pandasql import sqldf\n",
        "pysqldf = lambda q: sqldf(q, globals())\n",
        "\n",
        "from warnings import filterwarnings;\n",
        "from termcolor import colored;\n",
        "\n",
        "from sklearn.preprocessing import StandardScaler\n",
        "from sklearn.pipeline import make_pipeline\n",
        "\n",
        "%matplotlib inline\n"
      ],
      "metadata": {
        "id": "iFqBseFJoJu5"
      },
      "execution_count": 76,
      "outputs": []
    },
    {
      "cell_type": "markdown",
      "source": [
        "**Importando os Dados**"
      ],
      "metadata": {
        "id": "inFvbgLHpvta"
      }
    },
    {
      "cell_type": "code",
      "source": [
        "#Importando os Dados\n",
        "\n",
        "#teste\n",
        "dfTeste = pd.read_csv(\"https://raw.githubusercontent.com/wagnerrc9999/Big-Data/main/test.csv\")\n",
        "#treino\n",
        "dfTreino = pd.read_csv(\"https://raw.githubusercontent.com/wagnerrc9999/Big-Data/main/train.csv\")"
      ],
      "metadata": {
        "id": "z3Wcq8Lopwh-"
      },
      "execution_count": 3,
      "outputs": []
    },
    {
      "cell_type": "markdown",
      "source": [
        "**Renomenado as Colunas**"
      ],
      "metadata": {
        "id": "TxLDF3kbEaXW"
      }
    },
    {
      "cell_type": "code",
      "source": [
        "dfTeste.rename(columns = {'PassengerId':'ID_Passageiro', 'Survived':'Sobreviventes',\n",
        "                     'Pclass':'Classe', 'Name':'Nome',\n",
        "                     'Sex':'Sexo', 'Age':'Idade',\n",
        "                     'SibSp':'SibSp', 'Parch':'Parch',\n",
        "                     'Ticket':'Ticket', 'Fare':'Tarifa',\n",
        "                     'Cabin':'Cabine', 'Embarked':'Embarcou'\n",
        "                        }, inplace = True)"
      ],
      "metadata": {
        "id": "jCrtcjRuH0uN"
      },
      "execution_count": 4,
      "outputs": []
    },
    {
      "cell_type": "code",
      "source": [
        "#Renomeando as Colunas\n",
        "\n",
        "dfTreino.rename(columns = {'PassengerId':'ID_Passageiro', 'Survived':'Sobreviventes',\n",
        "                     'Pclass':'Classe', 'Name':'Nome',\n",
        "                     'Sex':'Sexo', 'Age':'Idade',\n",
        "                     'SibSp':'SibSp', 'Parch':'Parch',\n",
        "                     'Ticket':'Ticket', 'Fare':'Tarifa',\n",
        "                     'Cabin':'Cabine', 'Embarked':'Embarcou'\n",
        "                        }, inplace = True)"
      ],
      "metadata": {
        "id": "vAP6X4_LEa2f"
      },
      "execution_count": 5,
      "outputs": []
    },
    {
      "cell_type": "markdown",
      "source": [
        "**Esquemas dos dados e Consultado os Dados **"
      ],
      "metadata": {
        "id": "kOcu_Ed89qwi"
      }
    },
    {
      "cell_type": "code",
      "source": [
        "#Informações \n",
        "dfTreino.info()"
      ],
      "metadata": {
        "colab": {
          "base_uri": "https://localhost:8080/"
        },
        "id": "If1m5Gbs-D22",
        "outputId": "d8255738-bed8-478f-a981-f14bbc77d2c0"
      },
      "execution_count": 6,
      "outputs": [
        {
          "output_type": "stream",
          "name": "stdout",
          "text": [
            "<class 'pandas.core.frame.DataFrame'>\n",
            "RangeIndex: 891 entries, 0 to 890\n",
            "Data columns (total 12 columns):\n",
            " #   Column         Non-Null Count  Dtype  \n",
            "---  ------         --------------  -----  \n",
            " 0   ID_Passageiro  891 non-null    int64  \n",
            " 1   Sobreviventes  891 non-null    int64  \n",
            " 2   Classe         891 non-null    int64  \n",
            " 3   Nome           891 non-null    object \n",
            " 4   Sexo           891 non-null    object \n",
            " 5   Idade          714 non-null    float64\n",
            " 6   SibSp          891 non-null    int64  \n",
            " 7   Parch          891 non-null    int64  \n",
            " 8   Ticket         891 non-null    object \n",
            " 9   Tarifa         891 non-null    float64\n",
            " 10  Cabine         204 non-null    object \n",
            " 11  Embarcou       889 non-null    object \n",
            "dtypes: float64(2), int64(5), object(5)\n",
            "memory usage: 83.7+ KB\n"
          ]
        }
      ]
    },
    {
      "cell_type": "markdown",
      "source": [
        "no dados de Treinamento desse Dataset contém 891 exemplos e 11 características + a variável de destino (Survived) . 2 dos recursos são floats, 5 são inteiros e 5 são objetos."
      ],
      "metadata": {
        "id": "Mbph46aJDNrz"
      }
    },
    {
      "cell_type": "markdown",
      "source": [
        "## **Estatista**"
      ],
      "metadata": {
        "id": "91XvfGCF-_St"
      }
    },
    {
      "cell_type": "markdown",
      "source": [
        "Estatistica Descritiva Dos Dados"
      ],
      "metadata": {
        "id": "WZkMTPeS_F8N"
      }
    },
    {
      "cell_type": "code",
      "source": [
        "#\n",
        "dfTreino.describe()"
      ],
      "metadata": {
        "colab": {
          "base_uri": "https://localhost:8080/",
          "height": 0
        },
        "id": "VhUdGg0x9rwx",
        "outputId": "93e6ab29-86e3-423d-ee01-4da15977ecaf"
      },
      "execution_count": 7,
      "outputs": [
        {
          "output_type": "execute_result",
          "data": {
            "text/plain": [
              "       ID_Passageiro  Sobreviventes      Classe       Idade       SibSp  \\\n",
              "count     891.000000     891.000000  891.000000  714.000000  891.000000   \n",
              "mean      446.000000       0.383838    2.308642   29.699118    0.523008   \n",
              "std       257.353842       0.486592    0.836071   14.526497    1.102743   \n",
              "min         1.000000       0.000000    1.000000    0.420000    0.000000   \n",
              "25%       223.500000       0.000000    2.000000   20.125000    0.000000   \n",
              "50%       446.000000       0.000000    3.000000   28.000000    0.000000   \n",
              "75%       668.500000       1.000000    3.000000   38.000000    1.000000   \n",
              "max       891.000000       1.000000    3.000000   80.000000    8.000000   \n",
              "\n",
              "            Parch      Tarifa  \n",
              "count  891.000000  891.000000  \n",
              "mean     0.381594   32.204208  \n",
              "std      0.806057   49.693429  \n",
              "min      0.000000    0.000000  \n",
              "25%      0.000000    7.910400  \n",
              "50%      0.000000   14.454200  \n",
              "75%      0.000000   31.000000  \n",
              "max      6.000000  512.329200  "
            ],
            "text/html": [
              "\n",
              "  <div id=\"df-f7539a8b-5614-4842-98a1-63ea80a6d0ec\">\n",
              "    <div class=\"colab-df-container\">\n",
              "      <div>\n",
              "<style scoped>\n",
              "    .dataframe tbody tr th:only-of-type {\n",
              "        vertical-align: middle;\n",
              "    }\n",
              "\n",
              "    .dataframe tbody tr th {\n",
              "        vertical-align: top;\n",
              "    }\n",
              "\n",
              "    .dataframe thead th {\n",
              "        text-align: right;\n",
              "    }\n",
              "</style>\n",
              "<table border=\"1\" class=\"dataframe\">\n",
              "  <thead>\n",
              "    <tr style=\"text-align: right;\">\n",
              "      <th></th>\n",
              "      <th>ID_Passageiro</th>\n",
              "      <th>Sobreviventes</th>\n",
              "      <th>Classe</th>\n",
              "      <th>Idade</th>\n",
              "      <th>SibSp</th>\n",
              "      <th>Parch</th>\n",
              "      <th>Tarifa</th>\n",
              "    </tr>\n",
              "  </thead>\n",
              "  <tbody>\n",
              "    <tr>\n",
              "      <th>count</th>\n",
              "      <td>891.000000</td>\n",
              "      <td>891.000000</td>\n",
              "      <td>891.000000</td>\n",
              "      <td>714.000000</td>\n",
              "      <td>891.000000</td>\n",
              "      <td>891.000000</td>\n",
              "      <td>891.000000</td>\n",
              "    </tr>\n",
              "    <tr>\n",
              "      <th>mean</th>\n",
              "      <td>446.000000</td>\n",
              "      <td>0.383838</td>\n",
              "      <td>2.308642</td>\n",
              "      <td>29.699118</td>\n",
              "      <td>0.523008</td>\n",
              "      <td>0.381594</td>\n",
              "      <td>32.204208</td>\n",
              "    </tr>\n",
              "    <tr>\n",
              "      <th>std</th>\n",
              "      <td>257.353842</td>\n",
              "      <td>0.486592</td>\n",
              "      <td>0.836071</td>\n",
              "      <td>14.526497</td>\n",
              "      <td>1.102743</td>\n",
              "      <td>0.806057</td>\n",
              "      <td>49.693429</td>\n",
              "    </tr>\n",
              "    <tr>\n",
              "      <th>min</th>\n",
              "      <td>1.000000</td>\n",
              "      <td>0.000000</td>\n",
              "      <td>1.000000</td>\n",
              "      <td>0.420000</td>\n",
              "      <td>0.000000</td>\n",
              "      <td>0.000000</td>\n",
              "      <td>0.000000</td>\n",
              "    </tr>\n",
              "    <tr>\n",
              "      <th>25%</th>\n",
              "      <td>223.500000</td>\n",
              "      <td>0.000000</td>\n",
              "      <td>2.000000</td>\n",
              "      <td>20.125000</td>\n",
              "      <td>0.000000</td>\n",
              "      <td>0.000000</td>\n",
              "      <td>7.910400</td>\n",
              "    </tr>\n",
              "    <tr>\n",
              "      <th>50%</th>\n",
              "      <td>446.000000</td>\n",
              "      <td>0.000000</td>\n",
              "      <td>3.000000</td>\n",
              "      <td>28.000000</td>\n",
              "      <td>0.000000</td>\n",
              "      <td>0.000000</td>\n",
              "      <td>14.454200</td>\n",
              "    </tr>\n",
              "    <tr>\n",
              "      <th>75%</th>\n",
              "      <td>668.500000</td>\n",
              "      <td>1.000000</td>\n",
              "      <td>3.000000</td>\n",
              "      <td>38.000000</td>\n",
              "      <td>1.000000</td>\n",
              "      <td>0.000000</td>\n",
              "      <td>31.000000</td>\n",
              "    </tr>\n",
              "    <tr>\n",
              "      <th>max</th>\n",
              "      <td>891.000000</td>\n",
              "      <td>1.000000</td>\n",
              "      <td>3.000000</td>\n",
              "      <td>80.000000</td>\n",
              "      <td>8.000000</td>\n",
              "      <td>6.000000</td>\n",
              "      <td>512.329200</td>\n",
              "    </tr>\n",
              "  </tbody>\n",
              "</table>\n",
              "</div>\n",
              "      <button class=\"colab-df-convert\" onclick=\"convertToInteractive('df-f7539a8b-5614-4842-98a1-63ea80a6d0ec')\"\n",
              "              title=\"Convert this dataframe to an interactive table.\"\n",
              "              style=\"display:none;\">\n",
              "        \n",
              "  <svg xmlns=\"http://www.w3.org/2000/svg\" height=\"24px\"viewBox=\"0 0 24 24\"\n",
              "       width=\"24px\">\n",
              "    <path d=\"M0 0h24v24H0V0z\" fill=\"none\"/>\n",
              "    <path d=\"M18.56 5.44l.94 2.06.94-2.06 2.06-.94-2.06-.94-.94-2.06-.94 2.06-2.06.94zm-11 1L8.5 8.5l.94-2.06 2.06-.94-2.06-.94L8.5 2.5l-.94 2.06-2.06.94zm10 10l.94 2.06.94-2.06 2.06-.94-2.06-.94-.94-2.06-.94 2.06-2.06.94z\"/><path d=\"M17.41 7.96l-1.37-1.37c-.4-.4-.92-.59-1.43-.59-.52 0-1.04.2-1.43.59L10.3 9.45l-7.72 7.72c-.78.78-.78 2.05 0 2.83L4 21.41c.39.39.9.59 1.41.59.51 0 1.02-.2 1.41-.59l7.78-7.78 2.81-2.81c.8-.78.8-2.07 0-2.86zM5.41 20L4 18.59l7.72-7.72 1.47 1.35L5.41 20z\"/>\n",
              "  </svg>\n",
              "      </button>\n",
              "      \n",
              "  <style>\n",
              "    .colab-df-container {\n",
              "      display:flex;\n",
              "      flex-wrap:wrap;\n",
              "      gap: 12px;\n",
              "    }\n",
              "\n",
              "    .colab-df-convert {\n",
              "      background-color: #E8F0FE;\n",
              "      border: none;\n",
              "      border-radius: 50%;\n",
              "      cursor: pointer;\n",
              "      display: none;\n",
              "      fill: #1967D2;\n",
              "      height: 32px;\n",
              "      padding: 0 0 0 0;\n",
              "      width: 32px;\n",
              "    }\n",
              "\n",
              "    .colab-df-convert:hover {\n",
              "      background-color: #E2EBFA;\n",
              "      box-shadow: 0px 1px 2px rgba(60, 64, 67, 0.3), 0px 1px 3px 1px rgba(60, 64, 67, 0.15);\n",
              "      fill: #174EA6;\n",
              "    }\n",
              "\n",
              "    [theme=dark] .colab-df-convert {\n",
              "      background-color: #3B4455;\n",
              "      fill: #D2E3FC;\n",
              "    }\n",
              "\n",
              "    [theme=dark] .colab-df-convert:hover {\n",
              "      background-color: #434B5C;\n",
              "      box-shadow: 0px 1px 3px 1px rgba(0, 0, 0, 0.15);\n",
              "      filter: drop-shadow(0px 1px 2px rgba(0, 0, 0, 0.3));\n",
              "      fill: #FFFFFF;\n",
              "    }\n",
              "  </style>\n",
              "\n",
              "      <script>\n",
              "        const buttonEl =\n",
              "          document.querySelector('#df-f7539a8b-5614-4842-98a1-63ea80a6d0ec button.colab-df-convert');\n",
              "        buttonEl.style.display =\n",
              "          google.colab.kernel.accessAllowed ? 'block' : 'none';\n",
              "\n",
              "        async function convertToInteractive(key) {\n",
              "          const element = document.querySelector('#df-f7539a8b-5614-4842-98a1-63ea80a6d0ec');\n",
              "          const dataTable =\n",
              "            await google.colab.kernel.invokeFunction('convertToInteractive',\n",
              "                                                     [key], {});\n",
              "          if (!dataTable) return;\n",
              "\n",
              "          const docLinkHtml = 'Like what you see? Visit the ' +\n",
              "            '<a target=\"_blank\" href=https://colab.research.google.com/notebooks/data_table.ipynb>data table notebook</a>'\n",
              "            + ' to learn more about interactive tables.';\n",
              "          element.innerHTML = '';\n",
              "          dataTable['output_type'] = 'display_data';\n",
              "          await google.colab.output.renderOutput(dataTable, element);\n",
              "          const docLink = document.createElement('div');\n",
              "          docLink.innerHTML = docLinkHtml;\n",
              "          element.appendChild(docLink);\n",
              "        }\n",
              "      </script>\n",
              "    </div>\n",
              "  </div>\n",
              "  "
            ]
          },
          "metadata": {},
          "execution_count": 7
        }
      ]
    },
    {
      "cell_type": "code",
      "source": [
        "dfTreino.head(10)"
      ],
      "metadata": {
        "colab": {
          "base_uri": "https://localhost:8080/",
          "height": 0
        },
        "id": "GHjxAZPq_FfS",
        "outputId": "548dc485-23c2-4aae-e451-266745ddcb04"
      },
      "execution_count": 8,
      "outputs": [
        {
          "output_type": "execute_result",
          "data": {
            "text/plain": [
              "   ID_Passageiro  Sobreviventes  Classe  \\\n",
              "0              1              0       3   \n",
              "1              2              1       1   \n",
              "2              3              1       3   \n",
              "3              4              1       1   \n",
              "4              5              0       3   \n",
              "5              6              0       3   \n",
              "6              7              0       1   \n",
              "7              8              0       3   \n",
              "8              9              1       3   \n",
              "9             10              1       2   \n",
              "\n",
              "                                                Nome    Sexo  Idade  SibSp  \\\n",
              "0                            Braund, Mr. Owen Harris    male   22.0      1   \n",
              "1  Cumings, Mrs. John Bradley (Florence Briggs Th...  female   38.0      1   \n",
              "2                             Heikkinen, Miss. Laina  female   26.0      0   \n",
              "3       Futrelle, Mrs. Jacques Heath (Lily May Peel)  female   35.0      1   \n",
              "4                           Allen, Mr. William Henry    male   35.0      0   \n",
              "5                                   Moran, Mr. James    male    NaN      0   \n",
              "6                            McCarthy, Mr. Timothy J    male   54.0      0   \n",
              "7                     Palsson, Master. Gosta Leonard    male    2.0      3   \n",
              "8  Johnson, Mrs. Oscar W (Elisabeth Vilhelmina Berg)  female   27.0      0   \n",
              "9                Nasser, Mrs. Nicholas (Adele Achem)  female   14.0      1   \n",
              "\n",
              "   Parch            Ticket   Tarifa Cabine Embarcou  \n",
              "0      0         A/5 21171   7.2500    NaN        S  \n",
              "1      0          PC 17599  71.2833    C85        C  \n",
              "2      0  STON/O2. 3101282   7.9250    NaN        S  \n",
              "3      0            113803  53.1000   C123        S  \n",
              "4      0            373450   8.0500    NaN        S  \n",
              "5      0            330877   8.4583    NaN        Q  \n",
              "6      0             17463  51.8625    E46        S  \n",
              "7      1            349909  21.0750    NaN        S  \n",
              "8      2            347742  11.1333    NaN        S  \n",
              "9      0            237736  30.0708    NaN        C  "
            ],
            "text/html": [
              "\n",
              "  <div id=\"df-c4cc01a9-b0fa-455e-b40e-cd5411a51c45\">\n",
              "    <div class=\"colab-df-container\">\n",
              "      <div>\n",
              "<style scoped>\n",
              "    .dataframe tbody tr th:only-of-type {\n",
              "        vertical-align: middle;\n",
              "    }\n",
              "\n",
              "    .dataframe tbody tr th {\n",
              "        vertical-align: top;\n",
              "    }\n",
              "\n",
              "    .dataframe thead th {\n",
              "        text-align: right;\n",
              "    }\n",
              "</style>\n",
              "<table border=\"1\" class=\"dataframe\">\n",
              "  <thead>\n",
              "    <tr style=\"text-align: right;\">\n",
              "      <th></th>\n",
              "      <th>ID_Passageiro</th>\n",
              "      <th>Sobreviventes</th>\n",
              "      <th>Classe</th>\n",
              "      <th>Nome</th>\n",
              "      <th>Sexo</th>\n",
              "      <th>Idade</th>\n",
              "      <th>SibSp</th>\n",
              "      <th>Parch</th>\n",
              "      <th>Ticket</th>\n",
              "      <th>Tarifa</th>\n",
              "      <th>Cabine</th>\n",
              "      <th>Embarcou</th>\n",
              "    </tr>\n",
              "  </thead>\n",
              "  <tbody>\n",
              "    <tr>\n",
              "      <th>0</th>\n",
              "      <td>1</td>\n",
              "      <td>0</td>\n",
              "      <td>3</td>\n",
              "      <td>Braund, Mr. Owen Harris</td>\n",
              "      <td>male</td>\n",
              "      <td>22.0</td>\n",
              "      <td>1</td>\n",
              "      <td>0</td>\n",
              "      <td>A/5 21171</td>\n",
              "      <td>7.2500</td>\n",
              "      <td>NaN</td>\n",
              "      <td>S</td>\n",
              "    </tr>\n",
              "    <tr>\n",
              "      <th>1</th>\n",
              "      <td>2</td>\n",
              "      <td>1</td>\n",
              "      <td>1</td>\n",
              "      <td>Cumings, Mrs. John Bradley (Florence Briggs Th...</td>\n",
              "      <td>female</td>\n",
              "      <td>38.0</td>\n",
              "      <td>1</td>\n",
              "      <td>0</td>\n",
              "      <td>PC 17599</td>\n",
              "      <td>71.2833</td>\n",
              "      <td>C85</td>\n",
              "      <td>C</td>\n",
              "    </tr>\n",
              "    <tr>\n",
              "      <th>2</th>\n",
              "      <td>3</td>\n",
              "      <td>1</td>\n",
              "      <td>3</td>\n",
              "      <td>Heikkinen, Miss. Laina</td>\n",
              "      <td>female</td>\n",
              "      <td>26.0</td>\n",
              "      <td>0</td>\n",
              "      <td>0</td>\n",
              "      <td>STON/O2. 3101282</td>\n",
              "      <td>7.9250</td>\n",
              "      <td>NaN</td>\n",
              "      <td>S</td>\n",
              "    </tr>\n",
              "    <tr>\n",
              "      <th>3</th>\n",
              "      <td>4</td>\n",
              "      <td>1</td>\n",
              "      <td>1</td>\n",
              "      <td>Futrelle, Mrs. Jacques Heath (Lily May Peel)</td>\n",
              "      <td>female</td>\n",
              "      <td>35.0</td>\n",
              "      <td>1</td>\n",
              "      <td>0</td>\n",
              "      <td>113803</td>\n",
              "      <td>53.1000</td>\n",
              "      <td>C123</td>\n",
              "      <td>S</td>\n",
              "    </tr>\n",
              "    <tr>\n",
              "      <th>4</th>\n",
              "      <td>5</td>\n",
              "      <td>0</td>\n",
              "      <td>3</td>\n",
              "      <td>Allen, Mr. William Henry</td>\n",
              "      <td>male</td>\n",
              "      <td>35.0</td>\n",
              "      <td>0</td>\n",
              "      <td>0</td>\n",
              "      <td>373450</td>\n",
              "      <td>8.0500</td>\n",
              "      <td>NaN</td>\n",
              "      <td>S</td>\n",
              "    </tr>\n",
              "    <tr>\n",
              "      <th>5</th>\n",
              "      <td>6</td>\n",
              "      <td>0</td>\n",
              "      <td>3</td>\n",
              "      <td>Moran, Mr. James</td>\n",
              "      <td>male</td>\n",
              "      <td>NaN</td>\n",
              "      <td>0</td>\n",
              "      <td>0</td>\n",
              "      <td>330877</td>\n",
              "      <td>8.4583</td>\n",
              "      <td>NaN</td>\n",
              "      <td>Q</td>\n",
              "    </tr>\n",
              "    <tr>\n",
              "      <th>6</th>\n",
              "      <td>7</td>\n",
              "      <td>0</td>\n",
              "      <td>1</td>\n",
              "      <td>McCarthy, Mr. Timothy J</td>\n",
              "      <td>male</td>\n",
              "      <td>54.0</td>\n",
              "      <td>0</td>\n",
              "      <td>0</td>\n",
              "      <td>17463</td>\n",
              "      <td>51.8625</td>\n",
              "      <td>E46</td>\n",
              "      <td>S</td>\n",
              "    </tr>\n",
              "    <tr>\n",
              "      <th>7</th>\n",
              "      <td>8</td>\n",
              "      <td>0</td>\n",
              "      <td>3</td>\n",
              "      <td>Palsson, Master. Gosta Leonard</td>\n",
              "      <td>male</td>\n",
              "      <td>2.0</td>\n",
              "      <td>3</td>\n",
              "      <td>1</td>\n",
              "      <td>349909</td>\n",
              "      <td>21.0750</td>\n",
              "      <td>NaN</td>\n",
              "      <td>S</td>\n",
              "    </tr>\n",
              "    <tr>\n",
              "      <th>8</th>\n",
              "      <td>9</td>\n",
              "      <td>1</td>\n",
              "      <td>3</td>\n",
              "      <td>Johnson, Mrs. Oscar W (Elisabeth Vilhelmina Berg)</td>\n",
              "      <td>female</td>\n",
              "      <td>27.0</td>\n",
              "      <td>0</td>\n",
              "      <td>2</td>\n",
              "      <td>347742</td>\n",
              "      <td>11.1333</td>\n",
              "      <td>NaN</td>\n",
              "      <td>S</td>\n",
              "    </tr>\n",
              "    <tr>\n",
              "      <th>9</th>\n",
              "      <td>10</td>\n",
              "      <td>1</td>\n",
              "      <td>2</td>\n",
              "      <td>Nasser, Mrs. Nicholas (Adele Achem)</td>\n",
              "      <td>female</td>\n",
              "      <td>14.0</td>\n",
              "      <td>1</td>\n",
              "      <td>0</td>\n",
              "      <td>237736</td>\n",
              "      <td>30.0708</td>\n",
              "      <td>NaN</td>\n",
              "      <td>C</td>\n",
              "    </tr>\n",
              "  </tbody>\n",
              "</table>\n",
              "</div>\n",
              "      <button class=\"colab-df-convert\" onclick=\"convertToInteractive('df-c4cc01a9-b0fa-455e-b40e-cd5411a51c45')\"\n",
              "              title=\"Convert this dataframe to an interactive table.\"\n",
              "              style=\"display:none;\">\n",
              "        \n",
              "  <svg xmlns=\"http://www.w3.org/2000/svg\" height=\"24px\"viewBox=\"0 0 24 24\"\n",
              "       width=\"24px\">\n",
              "    <path d=\"M0 0h24v24H0V0z\" fill=\"none\"/>\n",
              "    <path d=\"M18.56 5.44l.94 2.06.94-2.06 2.06-.94-2.06-.94-.94-2.06-.94 2.06-2.06.94zm-11 1L8.5 8.5l.94-2.06 2.06-.94-2.06-.94L8.5 2.5l-.94 2.06-2.06.94zm10 10l.94 2.06.94-2.06 2.06-.94-2.06-.94-.94-2.06-.94 2.06-2.06.94z\"/><path d=\"M17.41 7.96l-1.37-1.37c-.4-.4-.92-.59-1.43-.59-.52 0-1.04.2-1.43.59L10.3 9.45l-7.72 7.72c-.78.78-.78 2.05 0 2.83L4 21.41c.39.39.9.59 1.41.59.51 0 1.02-.2 1.41-.59l7.78-7.78 2.81-2.81c.8-.78.8-2.07 0-2.86zM5.41 20L4 18.59l7.72-7.72 1.47 1.35L5.41 20z\"/>\n",
              "  </svg>\n",
              "      </button>\n",
              "      \n",
              "  <style>\n",
              "    .colab-df-container {\n",
              "      display:flex;\n",
              "      flex-wrap:wrap;\n",
              "      gap: 12px;\n",
              "    }\n",
              "\n",
              "    .colab-df-convert {\n",
              "      background-color: #E8F0FE;\n",
              "      border: none;\n",
              "      border-radius: 50%;\n",
              "      cursor: pointer;\n",
              "      display: none;\n",
              "      fill: #1967D2;\n",
              "      height: 32px;\n",
              "      padding: 0 0 0 0;\n",
              "      width: 32px;\n",
              "    }\n",
              "\n",
              "    .colab-df-convert:hover {\n",
              "      background-color: #E2EBFA;\n",
              "      box-shadow: 0px 1px 2px rgba(60, 64, 67, 0.3), 0px 1px 3px 1px rgba(60, 64, 67, 0.15);\n",
              "      fill: #174EA6;\n",
              "    }\n",
              "\n",
              "    [theme=dark] .colab-df-convert {\n",
              "      background-color: #3B4455;\n",
              "      fill: #D2E3FC;\n",
              "    }\n",
              "\n",
              "    [theme=dark] .colab-df-convert:hover {\n",
              "      background-color: #434B5C;\n",
              "      box-shadow: 0px 1px 3px 1px rgba(0, 0, 0, 0.15);\n",
              "      filter: drop-shadow(0px 1px 2px rgba(0, 0, 0, 0.3));\n",
              "      fill: #FFFFFF;\n",
              "    }\n",
              "  </style>\n",
              "\n",
              "      <script>\n",
              "        const buttonEl =\n",
              "          document.querySelector('#df-c4cc01a9-b0fa-455e-b40e-cd5411a51c45 button.colab-df-convert');\n",
              "        buttonEl.style.display =\n",
              "          google.colab.kernel.accessAllowed ? 'block' : 'none';\n",
              "\n",
              "        async function convertToInteractive(key) {\n",
              "          const element = document.querySelector('#df-c4cc01a9-b0fa-455e-b40e-cd5411a51c45');\n",
              "          const dataTable =\n",
              "            await google.colab.kernel.invokeFunction('convertToInteractive',\n",
              "                                                     [key], {});\n",
              "          if (!dataTable) return;\n",
              "\n",
              "          const docLinkHtml = 'Like what you see? Visit the ' +\n",
              "            '<a target=\"_blank\" href=https://colab.research.google.com/notebooks/data_table.ipynb>data table notebook</a>'\n",
              "            + ' to learn more about interactive tables.';\n",
              "          element.innerHTML = '';\n",
              "          dataTable['output_type'] = 'display_data';\n",
              "          await google.colab.output.renderOutput(dataTable, element);\n",
              "          const docLink = document.createElement('div');\n",
              "          docLink.innerHTML = docLinkHtml;\n",
              "          element.appendChild(docLink);\n",
              "        }\n",
              "      </script>\n",
              "    </div>\n",
              "  </div>\n",
              "  "
            ]
          },
          "metadata": {},
          "execution_count": 8
        }
      ]
    },
    {
      "cell_type": "markdown",
      "source": [],
      "metadata": {
        "id": "A-fPf526DhnX"
      }
    },
    {
      "cell_type": "code",
      "source": [
        "dfTotal = dfTreino.isnull().sum().sort_values(ascending=False)\n",
        "percentual1 = dfTreino.isnull().sum()/dfTreino.isnull().count()*100\n",
        "percentual2 = (round(percentual1, 1)).sort_values(ascending=False)\n",
        "missing_data = pd.concat([dfTotal, percentual2], axis=1, keys=['Total', '%'])\n",
        "missing_data.head(5)"
      ],
      "metadata": {
        "colab": {
          "base_uri": "https://localhost:8080/",
          "height": 0
        },
        "id": "m5l6owgkDiUn",
        "outputId": "b9e8987e-a973-46ed-e349-d99415647afd"
      },
      "execution_count": 9,
      "outputs": [
        {
          "output_type": "execute_result",
          "data": {
            "text/plain": [
              "               Total     %\n",
              "Cabine           687  77.1\n",
              "Idade            177  19.9\n",
              "Embarcou           2   0.2\n",
              "ID_Passageiro      0   0.0\n",
              "Sobreviventes      0   0.0"
            ],
            "text/html": [
              "\n",
              "  <div id=\"df-568228f4-e6de-42f7-8c94-5b5ad7a7d1dd\">\n",
              "    <div class=\"colab-df-container\">\n",
              "      <div>\n",
              "<style scoped>\n",
              "    .dataframe tbody tr th:only-of-type {\n",
              "        vertical-align: middle;\n",
              "    }\n",
              "\n",
              "    .dataframe tbody tr th {\n",
              "        vertical-align: top;\n",
              "    }\n",
              "\n",
              "    .dataframe thead th {\n",
              "        text-align: right;\n",
              "    }\n",
              "</style>\n",
              "<table border=\"1\" class=\"dataframe\">\n",
              "  <thead>\n",
              "    <tr style=\"text-align: right;\">\n",
              "      <th></th>\n",
              "      <th>Total</th>\n",
              "      <th>%</th>\n",
              "    </tr>\n",
              "  </thead>\n",
              "  <tbody>\n",
              "    <tr>\n",
              "      <th>Cabine</th>\n",
              "      <td>687</td>\n",
              "      <td>77.1</td>\n",
              "    </tr>\n",
              "    <tr>\n",
              "      <th>Idade</th>\n",
              "      <td>177</td>\n",
              "      <td>19.9</td>\n",
              "    </tr>\n",
              "    <tr>\n",
              "      <th>Embarcou</th>\n",
              "      <td>2</td>\n",
              "      <td>0.2</td>\n",
              "    </tr>\n",
              "    <tr>\n",
              "      <th>ID_Passageiro</th>\n",
              "      <td>0</td>\n",
              "      <td>0.0</td>\n",
              "    </tr>\n",
              "    <tr>\n",
              "      <th>Sobreviventes</th>\n",
              "      <td>0</td>\n",
              "      <td>0.0</td>\n",
              "    </tr>\n",
              "  </tbody>\n",
              "</table>\n",
              "</div>\n",
              "      <button class=\"colab-df-convert\" onclick=\"convertToInteractive('df-568228f4-e6de-42f7-8c94-5b5ad7a7d1dd')\"\n",
              "              title=\"Convert this dataframe to an interactive table.\"\n",
              "              style=\"display:none;\">\n",
              "        \n",
              "  <svg xmlns=\"http://www.w3.org/2000/svg\" height=\"24px\"viewBox=\"0 0 24 24\"\n",
              "       width=\"24px\">\n",
              "    <path d=\"M0 0h24v24H0V0z\" fill=\"none\"/>\n",
              "    <path d=\"M18.56 5.44l.94 2.06.94-2.06 2.06-.94-2.06-.94-.94-2.06-.94 2.06-2.06.94zm-11 1L8.5 8.5l.94-2.06 2.06-.94-2.06-.94L8.5 2.5l-.94 2.06-2.06.94zm10 10l.94 2.06.94-2.06 2.06-.94-2.06-.94-.94-2.06-.94 2.06-2.06.94z\"/><path d=\"M17.41 7.96l-1.37-1.37c-.4-.4-.92-.59-1.43-.59-.52 0-1.04.2-1.43.59L10.3 9.45l-7.72 7.72c-.78.78-.78 2.05 0 2.83L4 21.41c.39.39.9.59 1.41.59.51 0 1.02-.2 1.41-.59l7.78-7.78 2.81-2.81c.8-.78.8-2.07 0-2.86zM5.41 20L4 18.59l7.72-7.72 1.47 1.35L5.41 20z\"/>\n",
              "  </svg>\n",
              "      </button>\n",
              "      \n",
              "  <style>\n",
              "    .colab-df-container {\n",
              "      display:flex;\n",
              "      flex-wrap:wrap;\n",
              "      gap: 12px;\n",
              "    }\n",
              "\n",
              "    .colab-df-convert {\n",
              "      background-color: #E8F0FE;\n",
              "      border: none;\n",
              "      border-radius: 50%;\n",
              "      cursor: pointer;\n",
              "      display: none;\n",
              "      fill: #1967D2;\n",
              "      height: 32px;\n",
              "      padding: 0 0 0 0;\n",
              "      width: 32px;\n",
              "    }\n",
              "\n",
              "    .colab-df-convert:hover {\n",
              "      background-color: #E2EBFA;\n",
              "      box-shadow: 0px 1px 2px rgba(60, 64, 67, 0.3), 0px 1px 3px 1px rgba(60, 64, 67, 0.15);\n",
              "      fill: #174EA6;\n",
              "    }\n",
              "\n",
              "    [theme=dark] .colab-df-convert {\n",
              "      background-color: #3B4455;\n",
              "      fill: #D2E3FC;\n",
              "    }\n",
              "\n",
              "    [theme=dark] .colab-df-convert:hover {\n",
              "      background-color: #434B5C;\n",
              "      box-shadow: 0px 1px 3px 1px rgba(0, 0, 0, 0.15);\n",
              "      filter: drop-shadow(0px 1px 2px rgba(0, 0, 0, 0.3));\n",
              "      fill: #FFFFFF;\n",
              "    }\n",
              "  </style>\n",
              "\n",
              "      <script>\n",
              "        const buttonEl =\n",
              "          document.querySelector('#df-568228f4-e6de-42f7-8c94-5b5ad7a7d1dd button.colab-df-convert');\n",
              "        buttonEl.style.display =\n",
              "          google.colab.kernel.accessAllowed ? 'block' : 'none';\n",
              "\n",
              "        async function convertToInteractive(key) {\n",
              "          const element = document.querySelector('#df-568228f4-e6de-42f7-8c94-5b5ad7a7d1dd');\n",
              "          const dataTable =\n",
              "            await google.colab.kernel.invokeFunction('convertToInteractive',\n",
              "                                                     [key], {});\n",
              "          if (!dataTable) return;\n",
              "\n",
              "          const docLinkHtml = 'Like what you see? Visit the ' +\n",
              "            '<a target=\"_blank\" href=https://colab.research.google.com/notebooks/data_table.ipynb>data table notebook</a>'\n",
              "            + ' to learn more about interactive tables.';\n",
              "          element.innerHTML = '';\n",
              "          dataTable['output_type'] = 'display_data';\n",
              "          await google.colab.output.renderOutput(dataTable, element);\n",
              "          const docLink = document.createElement('div');\n",
              "          docLink.innerHTML = docLinkHtml;\n",
              "          element.appendChild(docLink);\n",
              "        }\n",
              "      </script>\n",
              "    </div>\n",
              "  </div>\n",
              "  "
            ]
          },
          "metadata": {},
          "execution_count": 9
        }
      ]
    },
    {
      "cell_type": "markdown",
      "source": [
        "## **Correlação de Sobrevivencia**"
      ],
      "metadata": {
        "id": "VQrZ92B0SIob"
      }
    },
    {
      "cell_type": "code",
      "source": [
        "dfTreino.columns.values"
      ],
      "metadata": {
        "colab": {
          "base_uri": "https://localhost:8080/"
        },
        "id": "MRn0myGPSJKt",
        "outputId": "a5637dbc-4cd8-4151-c81c-25d24a7cc626"
      },
      "execution_count": 10,
      "outputs": [
        {
          "output_type": "execute_result",
          "data": {
            "text/plain": [
              "array(['ID_Passageiro', 'Sobreviventes', 'Classe', 'Nome', 'Sexo',\n",
              "       'Idade', 'SibSp', 'Parch', 'Ticket', 'Tarifa', 'Cabine',\n",
              "       'Embarcou'], dtype=object)"
            ]
          },
          "metadata": {},
          "execution_count": 10
        }
      ]
    },
    {
      "cell_type": "markdown",
      "source": [
        "Vamos Correlacionar algumas posiveis variaveis de sobrevivencias, nesse caso algumas dessas variaveis seram descartadas, pois para essa analise não seram muito utilizadas."
      ],
      "metadata": {
        "id": "DWF4RrxlUOzd"
      }
    },
    {
      "cell_type": "markdown",
      "source": [
        "### **Correlação Entre Homens e Mulheres**"
      ],
      "metadata": {
        "id": "RZjJdxXAvOXo"
      }
    },
    {
      "cell_type": "code",
      "source": [
        "# Idade e Sexo dos Passageiros\n",
        "Sobreviventes = 'Sobreviventes'\n",
        "NaoSobreviventes = 'Não Sobreviventes'\n",
        "fig, axes = plt.subplots(nrows=1, ncols=2,figsize=(16, 10))\n",
        "\n",
        "\n",
        "#Mulheres\n",
        "Mulheres = dfTreino[dfTreino['Sexo']=='female']\n",
        "ax = sns.distplot(Mulheres[Mulheres['Sobreviventes']==1].Idade.dropna(), bins=18, label = Sobreviventes, ax = axes[0], kde =False)\n",
        "ax = sns.distplot(Mulheres[Mulheres['Sobreviventes']==0].Idade.dropna(), bins=40, label = NaoSobreviventes, ax = axes[0], kde =False)\n",
        "ax.legend()\n",
        "ax.set_title('Mulheres')\n",
        "\n",
        "#Homens\n",
        "Homens = dfTreino[dfTreino['Sexo']=='male'] \n",
        "ax2 = sns.distplot(Homens[Homens['Sobreviventes']==1].Idade.dropna(), bins=18, label = Sobreviventes, ax = axes[1], kde = False)\n",
        "ax2 = sns.distplot(Homens[Homens['Sobreviventes']==0].Idade.dropna(), bins=40, label = NaoSobreviventes, ax = axes[1], kde = False)\n",
        "ax2.legend()\n",
        "_ = ax2.set_title('Homens')"
      ],
      "metadata": {
        "colab": {
          "base_uri": "https://localhost:8080/",
          "height": 0
        },
        "id": "vbGhY549Szin",
        "outputId": "b7230248-b9c7-46e9-c945-f6e2220f4c8b"
      },
      "execution_count": 11,
      "outputs": [
        {
          "output_type": "stream",
          "name": "stderr",
          "text": [
            "/usr/local/lib/python3.7/dist-packages/seaborn/distributions.py:2619: FutureWarning: `distplot` is a deprecated function and will be removed in a future version. Please adapt your code to use either `displot` (a figure-level function with similar flexibility) or `histplot` (an axes-level function for histograms).\n",
            "  warnings.warn(msg, FutureWarning)\n"
          ]
        },
        {
          "output_type": "display_data",
          "data": {
            "text/plain": [
              "<Figure size 1152x720 with 2 Axes>"
            ],
            "image/png": "[encoded data removed]"
          },
          "metadata": {
            "needs_background": "light"
          }
        }
      ]
    },
    {
      "cell_type": "markdown",
      "source": [
        "Os Embarques estão mais correlacionada com a sobrevivência, dependendo do sexo. no caso mulheres com pora Q e S têm maior chance de sobrevivência,\n",
        "Ja para os Homens a sua maior chance estava na porta C, e menor nas portas Q\n",
        "\n"
      ],
      "metadata": {
        "id": "ByMxU1VvttVX"
      }
    },
    {
      "cell_type": "markdown",
      "source": [
        "**Embarcação, Classes de bilhetes e Sexo:**"
      ],
      "metadata": {
        "id": "ReBiRnOz0TYx"
      }
    },
    {
      "cell_type": "code",
      "source": [
        "# Embarcação, Classes de bilhetes e Sexo:\n",
        "FacetGrid = sns.FacetGrid(dfTreino, row='Embarcou', size=3.4, aspect=1.6)\n",
        "FacetGrid.map(sns.pointplot, 'Classe', 'Sobreviventes', 'Sexo', palette=\"muted\",  order=None, hue_order=None )\n",
        "FacetGrid.add_legend()\n",
        "\n",
        "#AZul = Home\n",
        "#Laranja = Mulher"
      ],
      "metadata": {
        "colab": {
          "base_uri": "https://localhost:8080/",
          "height": 0
        },
        "id": "rxoWoC0CT1Tk",
        "outputId": "390aee9e-8705-43e0-f09a-49a0ba84eef2"
      },
      "execution_count": 12,
      "outputs": [
        {
          "output_type": "stream",
          "name": "stderr",
          "text": [
            "/usr/local/lib/python3.7/dist-packages/seaborn/axisgrid.py:337: UserWarning: The `size` parameter has been renamed to `height`; please update your code.\n",
            "  warnings.warn(msg, UserWarning)\n"
          ]
        },
        {
          "output_type": "execute_result",
          "data": {
            "text/plain": [
              "<seaborn.axisgrid.FacetGrid at 0x7fd32ada5450>"
            ]
          },
          "metadata": {},
          "execution_count": 12
        },
        {
          "output_type": "display_data",
          "data": {
            "text/plain": [
              "<Figure size 462.18x734.4 with 3 Axes>"
            ],
            "image/png": "[encoded data removed]"
          },
          "metadata": {
            "needs_background": "light"
          }
        }
      ]
    },
    {
      "cell_type": "markdown",
      "source": [
        "### **Gráfico**"
      ],
      "metadata": {
        "id": "gXhm9cCL5VQZ"
      }
    },
    {
      "cell_type": "code",
      "source": [
        "#Passageiros por Classe\n",
        "sns.barplot(x='Classe', y='Sobreviventes', data=dfTreino)"
      ],
      "metadata": {
        "colab": {
          "base_uri": "https://localhost:8080/",
          "height": 0
        },
        "id": "T6HD4pi06Qpj",
        "outputId": "da34e31a-884c-4c0e-b37e-598310d65e4e"
      },
      "execution_count": 13,
      "outputs": [
        {
          "output_type": "execute_result",
          "data": {
            "text/plain": [
              "<matplotlib.axes._subplots.AxesSubplot at 0x7fd327f2a4d0>"
            ]
          },
          "metadata": {},
          "execution_count": 13
        },
        {
          "output_type": "display_data",
          "data": {
            "text/plain": [
              "<Figure size 432x288 with 1 Axes>"
            ],
            "image/png": "[encoded data removed]"
          },
          "metadata": {
            "needs_background": "light"
          }
        }
      ]
    },
    {
      "cell_type": "markdown",
      "source": [
        "**Diferença Entre Sobreviventes dos Sexo**"
      ],
      "metadata": {
        "id": "Wv3u7DM_wjs4"
      }
    },
    {
      "cell_type": "code",
      "source": [
        "#Passageiros Sobreviventes por Sexo.\n",
        "sns.barplot(x='Sexo', y='Sobreviventes', data=dfTreino)"
      ],
      "metadata": {
        "colab": {
          "base_uri": "https://localhost:8080/",
          "height": 0
        },
        "id": "U7N-dstNwkyk",
        "outputId": "2800da3a-77bc-4590-9b18-5a393e60abb8"
      },
      "execution_count": 14,
      "outputs": [
        {
          "output_type": "execute_result",
          "data": {
            "text/plain": [
              "<matplotlib.axes._subplots.AxesSubplot at 0x7fd327f032d0>"
            ]
          },
          "metadata": {},
          "execution_count": 14
        },
        {
          "output_type": "display_data",
          "data": {
            "text/plain": [
              "<Figure size 432x288 with 1 Axes>"
            ],
            "image/png": "[encoded data removed]"
          },
          "metadata": {
            "needs_background": "light"
          }
        }
      ]
    },
    {
      "cell_type": "markdown",
      "source": [
        "Passageiros Sobreviventes por Idade"
      ],
      "metadata": {
        "id": "z_c_voON6Fkj"
      }
    },
    {
      "cell_type": "code",
      "source": [
        "sns.barplot(x='Idade', y='Sobreviventes', data=dfTreino)"
      ],
      "metadata": {
        "colab": {
          "base_uri": "https://localhost:8080/",
          "height": 0
        },
        "id": "daK56TdD6Dyu",
        "outputId": "a57edd59-e6bb-4ed8-85c9-1d2035054710"
      },
      "execution_count": 15,
      "outputs": [
        {
          "output_type": "execute_result",
          "data": {
            "text/plain": [
              "<matplotlib.axes._subplots.AxesSubplot at 0x7fd327e58290>"
            ]
          },
          "metadata": {},
          "execution_count": 15
        },
        {
          "output_type": "display_data",
          "data": {
            "text/plain": [
              "<Figure size 432x288 with 1 Axes>"
            ],
            "image/png": "[encoded data removed]"
          },
          "metadata": {
            "needs_background": "light"
          }
        }
      ]
    },
    {
      "cell_type": "markdown",
      "source": [
        "### **Rede**"
      ],
      "metadata": {
        "id": "zn8yMy-L8f33"
      }
    },
    {
      "cell_type": "markdown",
      "source": [
        "Agora Vamos Criar um outro Tipo de Gráfico Plotagem para as Informações que estamos Analisando dos sobreviventes."
      ],
      "metadata": {
        "id": "Wq443TYb-Pew"
      }
    },
    {
      "cell_type": "code",
      "source": [
        "Rede = sns.FacetGrid(dfTreino, col='Sobreviventes', row='Classe', size=2.2, aspect=1.6)\n",
        "Rede.map(plt.hist, 'Idade', alpha=.5, bins=20)\n",
        "Rede.add_legend();"
      ],
      "metadata": {
        "colab": {
          "base_uri": "https://localhost:8080/",
          "height": 0
        },
        "id": "cWSVds-L6lAD",
        "outputId": "4f432967-0900-4fbe-efa3-3d304a5bf33a"
      },
      "execution_count": 16,
      "outputs": [
        {
          "output_type": "stream",
          "name": "stderr",
          "text": [
            "/usr/local/lib/python3.7/dist-packages/seaborn/axisgrid.py:337: UserWarning: The `size` parameter has been renamed to `height`; please update your code.\n",
            "  warnings.warn(msg, UserWarning)\n"
          ]
        },
        {
          "output_type": "display_data",
          "data": {
            "text/plain": [
              "<Figure size 514.88x475.2 with 6 Axes>"
            ],
            "image/png": "[encoded data removed]"
          },
          "metadata": {
            "needs_background": "light"
          }
        }
      ]
    },
    {
      "cell_type": "markdown",
      "source": [
        "**SibSp and Parch:**\n",
        "SibSp e Parch faria mais sentido como uma característica combinada, que mostra o número total de parentes, uma pessoa tem no Titanic. Vou criá-lo abaixo e também um recurso que semeia se alguém não está sozinho."
      ],
      "metadata": {
        "id": "pt9aYYPiN3Dt"
      }
    },
    {
      "cell_type": "code",
      "source": [
        "# por Sexo e Idade\n",
        "Rede_1 = sns.FacetGrid(dfTreino, col='Sobreviventes', row='Sexo', size=2.2, aspect=1.6)\n",
        "Rede_1.map(plt.hist, 'Idade', alpha=.5, bins=8)\n",
        "Rede_1.add_legend();"
      ],
      "metadata": {
        "colab": {
          "base_uri": "https://localhost:8080/",
          "height": 0
        },
        "id": "olHJBurO-QJu",
        "outputId": "fcc05225-9b6d-4beb-fb42-6c5946f8b321"
      },
      "execution_count": 17,
      "outputs": [
        {
          "output_type": "stream",
          "name": "stderr",
          "text": [
            "/usr/local/lib/python3.7/dist-packages/seaborn/axisgrid.py:337: UserWarning: The `size` parameter has been renamed to `height`; please update your code.\n",
            "  warnings.warn(msg, UserWarning)\n"
          ]
        },
        {
          "output_type": "display_data",
          "data": {
            "text/plain": [
              "<Figure size 514.88x316.8 with 4 Axes>"
            ],
            "image/png": "[encoded data removed]"
          },
          "metadata": {
            "needs_background": "light"
          }
        }
      ]
    },
    {
      "cell_type": "markdown",
      "source": [
        "### Criando um gráfico onde mostra uma caracteristica combinada do numero total de parentes, e verificar se ele não esta sozinho.\n"
      ],
      "metadata": {
        "id": "wyxJwsiu_7rv"
      }
    },
    {
      "cell_type": "code",
      "source": [
        "Data = [dfTreino, dfTeste]\n",
        "for Dataset in Data:\n",
        "    Dataset['Relativo'] = Dataset['SibSp'] + Dataset['Parch']\n",
        "    Dataset.loc[Dataset['Relativo'] > 0, 'Acompanhado'] = 0\n",
        "    Dataset.loc[Dataset['Relativo'] == 0, 'Acompanhado'] = 1\n",
        "    Dataset['Acompanhado'] = Dataset['Acompanhado'].astype(int)"
      ],
      "metadata": {
        "id": "VFvhUlWQN3ce"
      },
      "execution_count": 18,
      "outputs": []
    },
    {
      "cell_type": "code",
      "source": [
        "dfTreino['Acompanhado'].value_counts()"
      ],
      "metadata": {
        "colab": {
          "base_uri": "https://localhost:8080/"
        },
        "id": "rLiLL9uUOfcu",
        "outputId": "d4f1f960-ce5c-437f-bb4b-b4c4a17128ee"
      },
      "execution_count": 19,
      "outputs": [
        {
          "output_type": "execute_result",
          "data": {
            "text/plain": [
              "1    537\n",
              "0    354\n",
              "Name: Acompanhado, dtype: int64"
            ]
          },
          "metadata": {},
          "execution_count": 19
        }
      ]
    },
    {
      "cell_type": "code",
      "source": [
        "axes = sns.factorplot('Relativo','Sobreviventes', \n",
        "                      data=dfTreino, aspect = 1.4, )"
      ],
      "metadata": {
        "colab": {
          "base_uri": "https://localhost:8080/",
          "height": 0
        },
        "id": "GXKZt8bkOkkZ",
        "outputId": "3cc4ba9a-be96-4b45-ed86-0410718c44ad"
      },
      "execution_count": 20,
      "outputs": [
        {
          "output_type": "stream",
          "name": "stderr",
          "text": [
            "/usr/local/lib/python3.7/dist-packages/seaborn/categorical.py:3717: UserWarning: The `factorplot` function has been renamed to `catplot`. The original name will be removed in a future release. Please update your code. Note that the default `kind` in `factorplot` (`'point'`) has changed `'strip'` in `catplot`.\n",
            "  warnings.warn(msg)\n",
            "/usr/local/lib/python3.7/dist-packages/seaborn/_decorators.py:43: FutureWarning: Pass the following variables as keyword args: x, y. From version 0.12, the only valid positional argument will be `data`, and passing other arguments without an explicit keyword will result in an error or misinterpretation.\n",
            "  FutureWarning\n"
          ]
        },
        {
          "output_type": "display_data",
          "data": {
            "text/plain": [
              "<Figure size 504x360 with 1 Axes>"
            ],
            "image/png": "[encoded data removed]"
          },
          "metadata": {
            "needs_background": "light"
          }
        }
      ]
    },
    {
      "cell_type": "markdown",
      "source": [
        "## **Pré-Processamento de Dados**"
      ],
      "metadata": {
        "id": "yMFW-dToOaVn"
      }
    },
    {
      "cell_type": "markdown",
      "source": [
        "## **Tratando os Dados**"
      ],
      "metadata": {
        "id": "ce72DZ3Hbd78"
      }
    },
    {
      "cell_type": "markdown",
      "source": [
        "**Tarifas**"
      ],
      "metadata": {
        "id": "ZkwZTyszcz0v"
      }
    },
    {
      "cell_type": "markdown",
      "source": [
        "**Comvertendo Tarifa Float para Int64 com o Pandas**"
      ],
      "metadata": {
        "id": "YLMeSDyWboQT"
      }
    },
    {
      "cell_type": "code",
      "source": [
        "Data = [dfTreino, dfTreino]\n",
        "\n",
        "for Dataset in Data:\n",
        "    Dataset['Tarifa'] = Dataset['Tarifa'].fillna(0)\n",
        "    Dataset['Tarifa'] = Dataset['Tarifa'].astype(int)"
      ],
      "metadata": {
        "id": "wQC3N88Jboun"
      },
      "execution_count": 21,
      "outputs": []
    },
    {
      "cell_type": "markdown",
      "source": [
        "Dados Ausentes:\n"
      ],
      "metadata": {
        "id": "m4cpK1KOPl2A"
      }
    },
    {
      "cell_type": "markdown",
      "source": [
        "### **Cabine**"
      ],
      "metadata": {
        "id": "V5PpdhiFjX_x"
      }
    },
    {
      "cell_type": "code",
      "source": [
        "Categoria = {\"A\": 1, \"B\": 2, \"C\": 3, \"D\": 4, \"E\": 5, \"F\": 6, \"G\": 7, \"U\": 8}"
      ],
      "metadata": {
        "id": "gLMOBnqAvc_1"
      },
      "execution_count": 22,
      "outputs": []
    },
    {
      "cell_type": "code",
      "source": [
        "#Cabine\n",
        "\n",
        "Data = [dfTreino, dfTeste]\n",
        "\n",
        "for Dataset in Data:\n",
        "    Dataset['Cabine'] = Dataset['Cabine'].fillna(\"U0\")\n",
        "    # função Lambda\n",
        "    Dataset['Categoria'] = Dataset['Cabine'].map(lambda x: re.compile(\"([a-zA-Z]+)\").search(x).group())\n",
        "    Dataset['Categoria'] = Dataset['Categoria'].map(Categoria)\n",
        "    Dataset['Categoria'] = Dataset['Categoria'].fillna(0)\n",
        "    Dataset['Categoria'] = Dataset['Categoria'].astype(int)"
      ],
      "metadata": {
        "id": "qDJM-leCOax_"
      },
      "execution_count": 23,
      "outputs": []
    },
    {
      "cell_type": "markdown",
      "source": [
        "### **Idade**"
      ],
      "metadata": {
        "id": "zI3GbbqRZT_p"
      }
    },
    {
      "cell_type": "code",
      "source": [
        "#Idade\n",
        "\n",
        "Data = [dfTreino, dfTeste]\n",
        "\n",
        "for Dataset in Data:\n",
        "    Media = dfTreino[\"Idade\"].mean()\n",
        "    Desvio_Padrao = dfTeste[\"Idade\"].std()\n",
        "    is_null = Dataset[\"Idade\"].isnull().sum()"
      ],
      "metadata": {
        "id": "BlnM4novSL98"
      },
      "execution_count": 24,
      "outputs": []
    },
    {
      "cell_type": "code",
      "source": [
        "# Gerando dados Aleatorios na idade\n",
        "Idade_Aleatoria = np.random.randint(Media - Desvio_Padrao, Media + Desvio_Padrao, size = is_null)"
      ],
      "metadata": {
        "id": "OZyo0Uua1FyZ"
      },
      "execution_count": 25,
      "outputs": []
    },
    {
      "cell_type": "code",
      "source": [
        "    # Gerando valores Aleatórios nos campos NaN\n",
        "    Fatiar_Idade = Dataset[\"Idade\"].copy()\n",
        "    Fatiar_Idade[np.isnan(Fatiar_Idade)] = Idade_Aleatoria\n",
        "    Dataset[\"Idade\"] = Fatiar_Idade"
      ],
      "metadata": {
        "id": "zg4QYV39cjOE"
      },
      "execution_count": 26,
      "outputs": []
    },
    {
      "cell_type": "code",
      "source": [
        " #   Dataset[\"Idade\"] = dfTreino[\"Idade\"].astype(int)"
      ],
      "metadata": {
        "id": "j19JJT2Q3DTk"
      },
      "execution_count": 27,
      "outputs": []
    },
    {
      "cell_type": "code",
      "source": [
        "dfTreino[\"Idade\"].isnull().sum()"
      ],
      "metadata": {
        "id": "Nc9ZbKe-W-YT",
        "colab": {
          "base_uri": "https://localhost:8080/"
        },
        "outputId": "38c36abe-53bb-4b36-a4f4-811d3297fc3f"
      },
      "execution_count": 28,
      "outputs": [
        {
          "output_type": "execute_result",
          "data": {
            "text/plain": [
              "177"
            ]
          },
          "metadata": {},
          "execution_count": 28
        }
      ]
    },
    {
      "cell_type": "markdown",
      "source": [
        "### **Embarques**"
      ],
      "metadata": {
        "id": "hpsC7Mg9ZAaQ"
      }
    },
    {
      "cell_type": "code",
      "source": [
        "dfTreino['Embarcou'].describe()"
      ],
      "metadata": {
        "id": "S4yIiCXKZCm6",
        "colab": {
          "base_uri": "https://localhost:8080/"
        },
        "outputId": "54d4c3c5-46fd-47ff-86e2-a95deb3755c7"
      },
      "execution_count": 29,
      "outputs": [
        {
          "output_type": "execute_result",
          "data": {
            "text/plain": [
              "count     889\n",
              "unique      3\n",
              "top         S\n",
              "freq      644\n",
              "Name: Embarcou, dtype: object"
            ]
          },
          "metadata": {},
          "execution_count": 29
        }
      ]
    },
    {
      "cell_type": "code",
      "source": [
        "common_value = 'S'\n",
        "Data = [dfTreino, dfTeste]\n",
        "\n",
        "for Dataset in Data:\n",
        "    Dataset['Embarcou'] = Dataset['Embarcou'].fillna(common_value)"
      ],
      "metadata": {
        "id": "4V66XZ6KZDJ4"
      },
      "execution_count": 30,
      "outputs": []
    },
    {
      "cell_type": "markdown",
      "source": [
        "#### **Convertendo** **Embarcou** **em** **numerico**\n"
      ],
      "metadata": {
        "id": "m0CngQa4gMQT"
      }
    },
    {
      "cell_type": "code",
      "source": [
        "Porta = {\"S\": 0, \"C\": 1, \"Q\": 2}\n",
        "Data = [dfTreino, dfTeste]\n",
        "\n",
        "for Dataset in Data:\n",
        "    Dataset['Embarcou'] = Dataset['Embarcou'].map(Porta)"
      ],
      "metadata": {
        "id": "GwVft3OdgM56"
      },
      "execution_count": 31,
      "outputs": []
    },
    {
      "cell_type": "code",
      "source": [
        "dfTreino.info()\n"
      ],
      "metadata": {
        "id": "sTn_LgOJZRxe",
        "colab": {
          "base_uri": "https://localhost:8080/"
        },
        "outputId": "5338b5d0-ccbf-4e95-bce3-034d514535ed"
      },
      "execution_count": 32,
      "outputs": [
        {
          "output_type": "stream",
          "name": "stdout",
          "text": [
            "<class 'pandas.core.frame.DataFrame'>\n",
            "RangeIndex: 891 entries, 0 to 890\n",
            "Data columns (total 15 columns):\n",
            " #   Column         Non-Null Count  Dtype  \n",
            "---  ------         --------------  -----  \n",
            " 0   ID_Passageiro  891 non-null    int64  \n",
            " 1   Sobreviventes  891 non-null    int64  \n",
            " 2   Classe         891 non-null    int64  \n",
            " 3   Nome           891 non-null    object \n",
            " 4   Sexo           891 non-null    object \n",
            " 5   Idade          714 non-null    float64\n",
            " 6   SibSp          891 non-null    int64  \n",
            " 7   Parch          891 non-null    int64  \n",
            " 8   Ticket         891 non-null    object \n",
            " 9   Tarifa         891 non-null    int64  \n",
            " 10  Cabine         891 non-null    object \n",
            " 11  Embarcou       891 non-null    int64  \n",
            " 12  Relativo       891 non-null    int64  \n",
            " 13  Acompanhado    891 non-null    int64  \n",
            " 14  Categoria      891 non-null    int64  \n",
            "dtypes: float64(1), int64(10), object(4)\n",
            "memory usage: 104.5+ KB\n"
          ]
        }
      ]
    },
    {
      "cell_type": "markdown",
      "source": [
        "### **SEXO**"
      ],
      "metadata": {
        "id": "W9hE8ETea7hY"
      }
    },
    {
      "cell_type": "markdown",
      "source": [
        "Convertendo 'Sexo' em numérico."
      ],
      "metadata": {
        "id": "f5ktqZdifJbe"
      }
    },
    {
      "cell_type": "code",
      "source": [
        "Genero = {\"male\": 0, \"female\": 1}\n",
        "Data = [dfTreino, dfTeste]\n",
        "\n",
        "for Dataset in Data:\n",
        "    Dataset['Sexo'] = Dataset['Sexo'].map(Genero)"
      ],
      "metadata": {
        "id": "_e7V-CUPa8HD"
      },
      "execution_count": 33,
      "outputs": []
    },
    {
      "cell_type": "markdown",
      "source": [
        "### **Nomes e Titulos**"
      ],
      "metadata": {
        "id": "YXf7dtMPfRH8"
      }
    },
    {
      "cell_type": "markdown",
      "source": [
        "Usaremos o recurso Name para extrair os Títulos do Nome, para que possamos criar um novo recurso a partir disso."
      ],
      "metadata": {
        "id": "6E2WaTEsfajI"
      }
    },
    {
      "cell_type": "code",
      "source": [
        "Data = [dfTreino, dfTeste]\n",
        "Titulo = {\"Senhor\": 1, \"Senhora\": 2, \"Senhores\": 3, \"Mestre\": 4, \"Dona\": 5}\n",
        "\n",
        "for Dataset in Data:\n",
        "    # extraindo os titulos\n",
        "    Dataset['Titulo'] = Dataset.Nome.str.extract(' ([A-Za-z]+)\\.', expand=False)\n",
        "\n",
        "    # Renomenado os titulos das pessoas\n",
        "    Dataset['Titulo'] = Dataset['Titulo'].replace(['Senhora', 'Condessa','Capitão', 'Col','Don', 'Doutor',\\\n",
        "                                            'Superior', 'Rev', 'Senhor', 'Jonkheer', 'Dona'], 'Rare')\n",
        "    Dataset['Titulo'] = Dataset['Titulo'].replace('Mlle', 'Senhora')\n",
        "    Dataset['Titulo'] = Dataset['Titulo'].replace('Ms', 'Senhora')\n",
        "    Dataset['Titulo'] = Dataset['Titulo'].replace('Mme', 'senhor')\n",
        "\n",
        "    # converter títulos em números\n",
        "    Dataset['Titulo'] = Dataset['Titulo'].map(Titulo)\n",
        "    # Inserindo o 0 nos campos NaN \n",
        "    Dataset['Titulo'] = Dataset['Titulo'].fillna(0)"
      ],
      "metadata": {
        "id": "UWniIZBUfRir"
      },
      "execution_count": 34,
      "outputs": []
    },
    {
      "cell_type": "markdown",
      "source": [
        "### **Ticket**"
      ],
      "metadata": {
        "id": "r9A3xK2tq1AR"
      }
    },
    {
      "cell_type": "markdown",
      "source": [
        "OPCIONAL"
      ],
      "metadata": {
        "id": "Cggx6oBArLQu"
      }
    },
    {
      "cell_type": "code",
      "source": [
        "#Removendo os Tickets Opcional\n",
        "#dfTreino = dfTreino.drop(['Ticket'], axis=1)\n",
        "#dfTeste = dfTeste.drop(['Ticket'], axis=1)\n",
        "\n",
        "#Descrição\n",
        "dfTreino['Ticket'].describe()"
      ],
      "metadata": {
        "id": "-RKCVFoirMI6",
        "colab": {
          "base_uri": "https://localhost:8080/"
        },
        "outputId": "ef86ac09-4e8b-4969-84b9-f28b34321e2b"
      },
      "execution_count": 35,
      "outputs": [
        {
          "output_type": "execute_result",
          "data": {
            "text/plain": [
              "count        891\n",
              "unique       681\n",
              "top       347082\n",
              "freq           7\n",
              "Name: Ticket, dtype: object"
            ]
          },
          "metadata": {},
          "execution_count": 35
        }
      ]
    },
    {
      "cell_type": "markdown",
      "source": [
        "## **Criando as Categorias**"
      ],
      "metadata": {
        "id": "QvKSz0Vmsct0"
      }
    },
    {
      "cell_type": "markdown",
      "source": [
        "### **iDADE**"
      ],
      "metadata": {
        "id": "F283SxD_sebD"
      }
    },
    {
      "cell_type": "code",
      "source": [
        "Data = [dfTreino, dfTeste]\n",
        "\n",
        "for Dataset in Data:\n",
        "   # Dataset['Idade'] = Dataset['Idade'].astype(int)\n",
        "    Dataset.loc[ Dataset['Idade'] <= 11, 'Idade'] = 0\n",
        "\n",
        "    # aqui é entre uma idade e outra no caso se a idade está entre 11 e 18 = 1\n",
        "    # e por ai vai.\n",
        "    Dataset.loc[(Dataset['Idade'] > 11) & (Dataset['Idade'] <= 18), 'Idade'] = 1\n",
        "    Dataset.loc[(Dataset['Idade'] > 18) & (Dataset['Idade'] <= 22), 'Idade'] = 2\n",
        "    Dataset.loc[(Dataset['Idade'] > 22) & (Dataset['Idade'] <= 27), 'Idade'] = 3\n",
        "    Dataset.loc[(Dataset['Idade'] > 27) & (Dataset['Idade'] <= 33), 'Idade'] = 4\n",
        "    Dataset.loc[(Dataset['Idade'] > 33) & (Dataset['Idade'] <= 40), 'Idade'] = 5\n",
        "    Dataset.loc[(Dataset['Idade'] > 40) & (Dataset['Idade'] <= 66), 'Idade'] = 6\n",
        "    Dataset.loc[ Dataset['Idade'] > 66, 'Idade'] = 7"
      ],
      "metadata": {
        "id": "FiUsjZQ1sdOg"
      },
      "execution_count": 36,
      "outputs": []
    },
    {
      "cell_type": "code",
      "source": [
        "# Verificando a distribuição\n",
        "dfTreino['Idade'].value_counts()"
      ],
      "metadata": {
        "colab": {
          "base_uri": "https://localhost:8080/"
        },
        "id": "ADYy1He8uXcm",
        "outputId": "64353017-2017-4aec-bbcb-b3910a1222cf"
      },
      "execution_count": 37,
      "outputs": [
        {
          "output_type": "execute_result",
          "data": {
            "text/plain": [
              "6.0    143\n",
              "4.0    126\n",
              "3.0    106\n",
              "5.0    101\n",
              "2.0     92\n",
              "1.0     71\n",
              "0.0     68\n",
              "7.0      7\n",
              "Name: Idade, dtype: int64"
            ]
          },
          "metadata": {},
          "execution_count": 37
        }
      ]
    },
    {
      "cell_type": "markdown",
      "source": [
        "### **Tarifa**"
      ],
      "metadata": {
        "id": "CcMLNTCZwp8p"
      }
    },
    {
      "cell_type": "code",
      "source": [
        "Data = [dfTreino, dfTeste]\n",
        "\n",
        "for Dataset in Data:\n",
        "    Dataset.loc[ Dataset['Tarifa'] <= 7.91, 'Tarifa'] = 0\n",
        "    Dataset.loc[(Dataset['Tarifa'] > 7.91) & (Dataset['Tarifa'] <= 14.454), 'Tarifa'] = 1\n",
        "    Dataset.loc[(Dataset['Tarifa'] > 14.454) & (Dataset['Tarifa'] <= 31), 'Tarifa']   = 2\n",
        "    Dataset.loc[(Dataset['Tarifa'] > 31) & (Dataset['Tarifa'] <= 99), 'Tarifa']   = 3\n",
        "    Dataset.loc[(Dataset['Tarifa'] > 99) & (Dataset['Tarifa'] <= 250), 'Tarifa']   = 4\n",
        "    Dataset.loc[ Dataset['Tarifa'] > 250, 'Tarifa'] = 5"
      ],
      "metadata": {
        "id": "wS2SRgNywqnk"
      },
      "execution_count": 38,
      "outputs": []
    },
    {
      "cell_type": "code",
      "source": [
        "    Dataset['Tarifa'] = dfTreino['Tarifa'].astype(int)"
      ],
      "metadata": {
        "id": "YwFVmHCY5Qf3"
      },
      "execution_count": 39,
      "outputs": []
    },
    {
      "cell_type": "markdown",
      "source": [
        "## **Criando novos parametros**"
      ],
      "metadata": {
        "id": "vI_S2FqY6OWW"
      }
    },
    {
      "cell_type": "code",
      "source": [
        "dfTreino.head(50)\n"
      ],
      "metadata": {
        "colab": {
          "base_uri": "https://localhost:8080/",
          "height": 0
        },
        "id": "IQ2Yv6Z0-cjl",
        "outputId": "01bb9f23-fd80-404f-91f5-829f7913c7c0"
      },
      "execution_count": 51,
      "outputs": [
        {
          "output_type": "execute_result",
          "data": {
            "text/plain": [
              "    ID_Passageiro  Sobreviventes  Classe  \\\n",
              "0               1              0       3   \n",
              "1               2              1       1   \n",
              "2               3              1       3   \n",
              "3               4              1       1   \n",
              "4               5              0       3   \n",
              "5               6              0       3   \n",
              "6               7              0       1   \n",
              "7               8              0       3   \n",
              "8               9              1       3   \n",
              "9              10              1       2   \n",
              "10             11              1       3   \n",
              "11             12              1       1   \n",
              "12             13              0       3   \n",
              "13             14              0       3   \n",
              "14             15              0       3   \n",
              "15             16              1       2   \n",
              "16             17              0       3   \n",
              "17             18              1       2   \n",
              "18             19              0       3   \n",
              "19             20              1       3   \n",
              "20             21              0       2   \n",
              "21             22              1       2   \n",
              "22             23              1       3   \n",
              "23             24              1       1   \n",
              "24             25              0       3   \n",
              "25             26              1       3   \n",
              "26             27              0       3   \n",
              "27             28              0       1   \n",
              "28             29              1       3   \n",
              "29             30              0       3   \n",
              "30             31              0       1   \n",
              "31             32              1       1   \n",
              "32             33              1       3   \n",
              "33             34              0       2   \n",
              "34             35              0       1   \n",
              "35             36              0       1   \n",
              "36             37              1       3   \n",
              "37             38              0       3   \n",
              "38             39              0       3   \n",
              "39             40              1       3   \n",
              "40             41              0       3   \n",
              "41             42              0       2   \n",
              "42             43              0       3   \n",
              "43             44              1       2   \n",
              "44             45              1       3   \n",
              "45             46              0       3   \n",
              "46             47              0       3   \n",
              "47             48              1       3   \n",
              "48             49              0       3   \n",
              "49             50              0       3   \n",
              "\n",
              "                                                 Nome  Sexo  Idade  SibSp  \\\n",
              "0                             Braund, Mr. Owen Harris     0    2.0      1   \n",
              "1   Cumings, Mrs. John Bradley (Florence Briggs Th...     1    5.0      1   \n",
              "2                              Heikkinen, Miss. Laina     1    3.0      0   \n",
              "3        Futrelle, Mrs. Jacques Heath (Lily May Peel)     1    5.0      1   \n",
              "4                            Allen, Mr. William Henry     0    5.0      0   \n",
              "5                                    Moran, Mr. James     0    NaN      0   \n",
              "6                             McCarthy, Mr. Timothy J     0    6.0      0   \n",
              "7                      Palsson, Master. Gosta Leonard     0    0.0      3   \n",
              "8   Johnson, Mrs. Oscar W (Elisabeth Vilhelmina Berg)     1    3.0      0   \n",
              "9                 Nasser, Mrs. Nicholas (Adele Achem)     1    1.0      1   \n",
              "10                    Sandstrom, Miss. Marguerite Rut     1    0.0      1   \n",
              "11                           Bonnell, Miss. Elizabeth     1    6.0      0   \n",
              "12                     Saundercock, Mr. William Henry     0    2.0      0   \n",
              "13                        Andersson, Mr. Anders Johan     0    5.0      1   \n",
              "14               Vestrom, Miss. Hulda Amanda Adolfina     1    1.0      0   \n",
              "15                   Hewlett, Mrs. (Mary D Kingcome)      1    6.0      0   \n",
              "16                               Rice, Master. Eugene     0    0.0      4   \n",
              "17                       Williams, Mr. Charles Eugene     0    NaN      0   \n",
              "18  Vander Planke, Mrs. Julius (Emelia Maria Vande...     1    4.0      1   \n",
              "19                            Masselmani, Mrs. Fatima     1    NaN      0   \n",
              "20                               Fynney, Mr. Joseph J     0    5.0      0   \n",
              "21                              Beesley, Mr. Lawrence     0    5.0      0   \n",
              "22                        McGowan, Miss. Anna \"Annie\"     1    1.0      0   \n",
              "23                       Sloper, Mr. William Thompson     0    4.0      0   \n",
              "24                      Palsson, Miss. Torborg Danira     1    0.0      3   \n",
              "25  Asplund, Mrs. Carl Oscar (Selma Augusta Emilia...     1    5.0      1   \n",
              "26                            Emir, Mr. Farred Chehab     0    NaN      0   \n",
              "27                     Fortune, Mr. Charles Alexander     0    2.0      3   \n",
              "28                      O'Dwyer, Miss. Ellen \"Nellie\"     1    NaN      0   \n",
              "29                                Todoroff, Mr. Lalio     0    NaN      0   \n",
              "30                           Uruchurtu, Don. Manuel E     0    5.0      0   \n",
              "31     Spencer, Mrs. William Augustus (Marie Eugenie)     1    NaN      1   \n",
              "32                           Glynn, Miss. Mary Agatha     1    NaN      0   \n",
              "33                              Wheadon, Mr. Edward H     0    6.0      0   \n",
              "34                            Meyer, Mr. Edgar Joseph     0    4.0      1   \n",
              "35                     Holverson, Mr. Alexander Oskar     0    6.0      1   \n",
              "36                                   Mamee, Mr. Hanna     0    NaN      0   \n",
              "37                           Cann, Mr. Ernest Charles     0    2.0      0   \n",
              "38                 Vander Planke, Miss. Augusta Maria     1    1.0      2   \n",
              "39                        Nicola-Yarred, Miss. Jamila     1    1.0      1   \n",
              "40     Ahlin, Mrs. Johan (Johanna Persdotter Larsson)     1    5.0      1   \n",
              "41  Turpin, Mrs. William John Robert (Dorothy Ann ...     1    3.0      1   \n",
              "42                                Kraeff, Mr. Theodor     0    NaN      0   \n",
              "43           Laroche, Miss. Simonne Marie Anne Andree     1    0.0      1   \n",
              "44                      Devaney, Miss. Margaret Delia     1    2.0      0   \n",
              "45                           Rogers, Mr. William John     0    NaN      0   \n",
              "46                                  Lennon, Mr. Denis     0    NaN      1   \n",
              "47                          O'Driscoll, Miss. Bridget     1    NaN      0   \n",
              "48                                Samaan, Mr. Youssef     0    NaN      2   \n",
              "49      Arnold-Franchi, Mrs. Josef (Josefine Franchi)     1    1.0      1   \n",
              "\n",
              "    Parch            Ticket  Tarifa       Cabine  Embarcou  Relativo  \\\n",
              "0       0         A/5 21171       0           U0         0         1   \n",
              "1       0          PC 17599       3          C85         1         1   \n",
              "2       0  STON/O2. 3101282       0           U0         0         0   \n",
              "3       0            113803       3         C123         0         1   \n",
              "4       0            373450       1           U0         0         0   \n",
              "5       0            330877       1           U0         2         0   \n",
              "6       0             17463       3          E46         0         0   \n",
              "7       1            349909       2           U0         0         4   \n",
              "8       2            347742       1           U0         0         2   \n",
              "9       0            237736       2           U0         1         1   \n",
              "10      1           PP 9549       2           G6         0         2   \n",
              "11      0            113783       2         C103         0         0   \n",
              "12      0         A/5. 2151       1           U0         0         0   \n",
              "13      5            347082       2           U0         0         6   \n",
              "14      0            350406       0           U0         0         0   \n",
              "15      0            248706       2           U0         0         0   \n",
              "16      1            382652       2           U0         2         5   \n",
              "17      0            244373       1           U0         0         0   \n",
              "18      0            345763       2           U0         0         1   \n",
              "19      0              2649       0           U0         1         0   \n",
              "20      0            239865       2           U0         0         0   \n",
              "21      0            248698       1          D56         0         0   \n",
              "22      0            330923       1           U0         2         0   \n",
              "23      0            113788       3           A6         0         0   \n",
              "24      1            349909       2           U0         0         4   \n",
              "25      5            347077       2           U0         0         6   \n",
              "26      0              2631       0           U0         1         0   \n",
              "27      2             19950       5  C23 C25 C27         0         5   \n",
              "28      0            330959       0           U0         2         0   \n",
              "29      0            349216       0           U0         0         0   \n",
              "30      0          PC 17601       2           U0         1         0   \n",
              "31      0          PC 17569       4          B78         1         1   \n",
              "32      0            335677       0           U0         2         0   \n",
              "33      0        C.A. 24579       1           U0         0         0   \n",
              "34      0          PC 17604       3           U0         1         1   \n",
              "35      0            113789       3           U0         0         1   \n",
              "36      0              2677       0           U0         1         0   \n",
              "37      0        A./5. 2152       1           U0         0         0   \n",
              "38      0            345764       2           U0         0         2   \n",
              "39      0              2651       1           U0         1         1   \n",
              "40      0              7546       1           U0         0         1   \n",
              "41      0             11668       2           U0         0         1   \n",
              "42      0            349253       0           U0         1         0   \n",
              "43      2     SC/Paris 2123       3           U0         1         3   \n",
              "44      0            330958       0           U0         2         0   \n",
              "45      0   S.C./A.4. 23567       1           U0         0         0   \n",
              "46      0            370371       2           U0         2         1   \n",
              "47      0             14311       0           U0         2         0   \n",
              "48      0              2662       2           U0         1         2   \n",
              "49      0            349237       2           U0         0         1   \n",
              "\n",
              "    Acompanhado  Categoria  Titulo  Idade_Classe  Tarifa_Por_Pessoa  \n",
              "0             0          8     0.0           6.0                  0  \n",
              "1             0          3     0.0           5.0                  1  \n",
              "2             1          8     0.0           9.0                  0  \n",
              "3             0          3     0.0           5.0                  1  \n",
              "4             1          8     0.0          15.0                  1  \n",
              "5             1          8     0.0           NaN                  1  \n",
              "6             1          5     0.0           6.0                  3  \n",
              "7             0          8     0.0           0.0                  0  \n",
              "8             0          8     0.0           9.0                  0  \n",
              "9             0          8     0.0           2.0                  1  \n",
              "10            0          7     0.0           0.0                  0  \n",
              "11            1          3     0.0           6.0                  2  \n",
              "12            1          8     0.0           6.0                  1  \n",
              "13            0          8     0.0          15.0                  0  \n",
              "14            1          8     0.0           3.0                  0  \n",
              "15            1          8     0.0          12.0                  2  \n",
              "16            0          8     0.0           0.0                  0  \n",
              "17            1          8     0.0           NaN                  1  \n",
              "18            0          8     0.0          12.0                  1  \n",
              "19            1          8     0.0           NaN                  0  \n",
              "20            1          8     0.0          10.0                  2  \n",
              "21            1          4     0.0          10.0                  1  \n",
              "22            1          8     0.0           3.0                  1  \n",
              "23            1          1     0.0           4.0                  3  \n",
              "24            0          8     0.0           0.0                  0  \n",
              "25            0          8     0.0          15.0                  0  \n",
              "26            1          8     0.0           NaN                  0  \n",
              "27            0          3     0.0           2.0                  0  \n",
              "28            1          8     0.0           NaN                  0  \n",
              "29            1          8     0.0           NaN                  0  \n",
              "30            1          8     0.0           5.0                  2  \n",
              "31            0          2     0.0           NaN                  2  \n",
              "32            1          8     0.0           NaN                  0  \n",
              "33            1          8     0.0          12.0                  1  \n",
              "34            0          8     0.0           4.0                  1  \n",
              "35            0          8     0.0           6.0                  1  \n",
              "36            1          8     0.0           NaN                  0  \n",
              "37            1          8     0.0           6.0                  1  \n",
              "38            0          8     0.0           3.0                  0  \n",
              "39            0          8     0.0           3.0                  0  \n",
              "40            0          8     0.0          15.0                  0  \n",
              "41            0          8     0.0           6.0                  1  \n",
              "42            1          8     0.0           NaN                  0  \n",
              "43            0          8     0.0           0.0                  0  \n",
              "44            1          8     0.0           6.0                  0  \n",
              "45            1          8     0.0           NaN                  1  \n",
              "46            0          8     0.0           NaN                  1  \n",
              "47            1          8     0.0           NaN                  0  \n",
              "48            0          8     0.0           NaN                  0  \n",
              "49            0          8     0.0           3.0                  1  "
            ],
            "text/html": [
              "\n",
              "  <div id=\"df-e9c45cc1-262e-4f54-94df-31528b284b2d\">\n",
              "    <div class=\"colab-df-container\">\n",
              "      <div>\n",
              "<style scoped>\n",
              "    .dataframe tbody tr th:only-of-type {\n",
              "        vertical-align: middle;\n",
              "    }\n",
              "\n",
              "    .dataframe tbody tr th {\n",
              "        vertical-align: top;\n",
              "    }\n",
              "\n",
              "    .dataframe thead th {\n",
              "        text-align: right;\n",
              "    }\n",
              "</style>\n",
              "<table border=\"1\" class=\"dataframe\">\n",
              "  <thead>\n",
              "    <tr style=\"text-align: right;\">\n",
              "      <th></th>\n",
              "      <th>ID_Passageiro</th>\n",
              "      <th>Sobreviventes</th>\n",
              "      <th>Classe</th>\n",
              "      <th>Nome</th>\n",
              "      <th>Sexo</th>\n",
              "      <th>Idade</th>\n",
              "      <th>SibSp</th>\n",
              "      <th>Parch</th>\n",
              "      <th>Ticket</th>\n",
              "      <th>Tarifa</th>\n",
              "      <th>Cabine</th>\n",
              "      <th>Embarcou</th>\n",
              "      <th>Relativo</th>\n",
              "      <th>Acompanhado</th>\n",
              "      <th>Categoria</th>\n",
              "      <th>Titulo</th>\n",
              "      <th>Idade_Classe</th>\n",
              "      <th>Tarifa_Por_Pessoa</th>\n",
              "    </tr>\n",
              "  </thead>\n",
              "  <tbody>\n",
              "    <tr>\n",
              "      <th>0</th>\n",
              "      <td>1</td>\n",
              "      <td>0</td>\n",
              "      <td>3</td>\n",
              "      <td>Braund, Mr. Owen Harris</td>\n",
              "      <td>0</td>\n",
              "      <td>2.0</td>\n",
              "      <td>1</td>\n",
              "      <td>0</td>\n",
              "      <td>A/5 21171</td>\n",
              "      <td>0</td>\n",
              "      <td>U0</td>\n",
              "      <td>0</td>\n",
              "      <td>1</td>\n",
              "      <td>0</td>\n",
              "      <td>8</td>\n",
              "      <td>0.0</td>\n",
              "      <td>6.0</td>\n",
              "      <td>0</td>\n",
              "    </tr>\n",
              "    <tr>\n",
              "      <th>1</th>\n",
              "      <td>2</td>\n",
              "      <td>1</td>\n",
              "      <td>1</td>\n",
              "      <td>Cumings, Mrs. John Bradley (Florence Briggs Th...</td>\n",
              "      <td>1</td>\n",
              "      <td>5.0</td>\n",
              "      <td>1</td>\n",
              "      <td>0</td>\n",
              "      <td>PC 17599</td>\n",
              "      <td>3</td>\n",
              "      <td>C85</td>\n",
              "      <td>1</td>\n",
              "      <td>1</td>\n",
              "      <td>0</td>\n",
              "      <td>3</td>\n",
              "      <td>0.0</td>\n",
              "      <td>5.0</td>\n",
              "      <td>1</td>\n",
              "    </tr>\n",
              "    <tr>\n",
              "      <th>2</th>\n",
              "      <td>3</td>\n",
              "      <td>1</td>\n",
              "      <td>3</td>\n",
              "      <td>Heikkinen, Miss. Laina</td>\n",
              "      <td>1</td>\n",
              "      <td>3.0</td>\n",
              "      <td>0</td>\n",
              "      <td>0</td>\n",
              "      <td>STON/O2. 3101282</td>\n",
              "      <td>0</td>\n",
              "      <td>U0</td>\n",
              "      <td>0</td>\n",
              "      <td>0</td>\n",
              "      <td>1</td>\n",
              "      <td>8</td>\n",
              "      <td>0.0</td>\n",
              "      <td>9.0</td>\n",
              "      <td>0</td>\n",
              "    </tr>\n",
              "    <tr>\n",
              "      <th>3</th>\n",
              "      <td>4</td>\n",
              "      <td>1</td>\n",
              "      <td>1</td>\n",
              "      <td>Futrelle, Mrs. Jacques Heath (Lily May Peel)</td>\n",
              "      <td>1</td>\n",
              "      <td>5.0</td>\n",
              "      <td>1</td>\n",
              "      <td>0</td>\n",
              "      <td>113803</td>\n",
              "      <td>3</td>\n",
              "      <td>C123</td>\n",
              "      <td>0</td>\n",
              "      <td>1</td>\n",
              "      <td>0</td>\n",
              "      <td>3</td>\n",
              "      <td>0.0</td>\n",
              "      <td>5.0</td>\n",
              "      <td>1</td>\n",
              "    </tr>\n",
              "    <tr>\n",
              "      <th>4</th>\n",
              "      <td>5</td>\n",
              "      <td>0</td>\n",
              "      <td>3</td>\n",
              "      <td>Allen, Mr. William Henry</td>\n",
              "      <td>0</td>\n",
              "      <td>5.0</td>\n",
              "      <td>0</td>\n",
              "      <td>0</td>\n",
              "      <td>373450</td>\n",
              "      <td>1</td>\n",
              "      <td>U0</td>\n",
              "      <td>0</td>\n",
              "      <td>0</td>\n",
              "      <td>1</td>\n",
              "      <td>8</td>\n",
              "      <td>0.0</td>\n",
              "      <td>15.0</td>\n",
              "      <td>1</td>\n",
              "    </tr>\n",
              "    <tr>\n",
              "      <th>5</th>\n",
              "      <td>6</td>\n",
              "      <td>0</td>\n",
              "      <td>3</td>\n",
              "      <td>Moran, Mr. James</td>\n",
              "      <td>0</td>\n",
              "      <td>NaN</td>\n",
              "      <td>0</td>\n",
              "      <td>0</td>\n",
              "      <td>330877</td>\n",
              "      <td>1</td>\n",
              "      <td>U0</td>\n",
              "      <td>2</td>\n",
              "      <td>0</td>\n",
              "      <td>1</td>\n",
              "      <td>8</td>\n",
              "      <td>0.0</td>\n",
              "      <td>NaN</td>\n",
              "      <td>1</td>\n",
              "    </tr>\n",
              "    <tr>\n",
              "      <th>6</th>\n",
              "      <td>7</td>\n",
              "      <td>0</td>\n",
              "      <td>1</td>\n",
              "      <td>McCarthy, Mr. Timothy J</td>\n",
              "      <td>0</td>\n",
              "      <td>6.0</td>\n",
              "      <td>0</td>\n",
              "      <td>0</td>\n",
              "      <td>17463</td>\n",
              "      <td>3</td>\n",
              "      <td>E46</td>\n",
              "      <td>0</td>\n",
              "      <td>0</td>\n",
              "      <td>1</td>\n",
              "      <td>5</td>\n",
              "      <td>0.0</td>\n",
              "      <td>6.0</td>\n",
              "      <td>3</td>\n",
              "    </tr>\n",
              "    <tr>\n",
              "      <th>7</th>\n",
              "      <td>8</td>\n",
              "      <td>0</td>\n",
              "      <td>3</td>\n",
              "      <td>Palsson, Master. Gosta Leonard</td>\n",
              "      <td>0</td>\n",
              "      <td>0.0</td>\n",
              "      <td>3</td>\n",
              "      <td>1</td>\n",
              "      <td>349909</td>\n",
              "      <td>2</td>\n",
              "      <td>U0</td>\n",
              "      <td>0</td>\n",
              "      <td>4</td>\n",
              "      <td>0</td>\n",
              "      <td>8</td>\n",
              "      <td>0.0</td>\n",
              "      <td>0.0</td>\n",
              "      <td>0</td>\n",
              "    </tr>\n",
              "    <tr>\n",
              "      <th>8</th>\n",
              "      <td>9</td>\n",
              "      <td>1</td>\n",
              "      <td>3</td>\n",
              "      <td>Johnson, Mrs. Oscar W (Elisabeth Vilhelmina Berg)</td>\n",
              "      <td>1</td>\n",
              "      <td>3.0</td>\n",
              "      <td>0</td>\n",
              "      <td>2</td>\n",
              "      <td>347742</td>\n",
              "      <td>1</td>\n",
              "      <td>U0</td>\n",
              "      <td>0</td>\n",
              "      <td>2</td>\n",
              "      <td>0</td>\n",
              "      <td>8</td>\n",
              "      <td>0.0</td>\n",
              "      <td>9.0</td>\n",
              "      <td>0</td>\n",
              "    </tr>\n",
              "    <tr>\n",
              "      <th>9</th>\n",
              "      <td>10</td>\n",
              "      <td>1</td>\n",
              "      <td>2</td>\n",
              "      <td>Nasser, Mrs. Nicholas (Adele Achem)</td>\n",
              "      <td>1</td>\n",
              "      <td>1.0</td>\n",
              "      <td>1</td>\n",
              "      <td>0</td>\n",
              "      <td>237736</td>\n",
              "      <td>2</td>\n",
              "      <td>U0</td>\n",
              "      <td>1</td>\n",
              "      <td>1</td>\n",
              "      <td>0</td>\n",
              "      <td>8</td>\n",
              "      <td>0.0</td>\n",
              "      <td>2.0</td>\n",
              "      <td>1</td>\n",
              "    </tr>\n",
              "    <tr>\n",
              "      <th>10</th>\n",
              "      <td>11</td>\n",
              "      <td>1</td>\n",
              "      <td>3</td>\n",
              "      <td>Sandstrom, Miss. Marguerite Rut</td>\n",
              "      <td>1</td>\n",
              "      <td>0.0</td>\n",
              "      <td>1</td>\n",
              "      <td>1</td>\n",
              "      <td>PP 9549</td>\n",
              "      <td>2</td>\n",
              "      <td>G6</td>\n",
              "      <td>0</td>\n",
              "      <td>2</td>\n",
              "      <td>0</td>\n",
              "      <td>7</td>\n",
              "      <td>0.0</td>\n",
              "      <td>0.0</td>\n",
              "      <td>0</td>\n",
              "    </tr>\n",
              "    <tr>\n",
              "      <th>11</th>\n",
              "      <td>12</td>\n",
              "      <td>1</td>\n",
              "      <td>1</td>\n",
              "      <td>Bonnell, Miss. Elizabeth</td>\n",
              "      <td>1</td>\n",
              "      <td>6.0</td>\n",
              "      <td>0</td>\n",
              "      <td>0</td>\n",
              "      <td>113783</td>\n",
              "      <td>2</td>\n",
              "      <td>C103</td>\n",
              "      <td>0</td>\n",
              "      <td>0</td>\n",
              "      <td>1</td>\n",
              "      <td>3</td>\n",
              "      <td>0.0</td>\n",
              "      <td>6.0</td>\n",
              "      <td>2</td>\n",
              "    </tr>\n",
              "    <tr>\n",
              "      <th>12</th>\n",
              "      <td>13</td>\n",
              "      <td>0</td>\n",
              "      <td>3</td>\n",
              "      <td>Saundercock, Mr. William Henry</td>\n",
              "      <td>0</td>\n",
              "      <td>2.0</td>\n",
              "      <td>0</td>\n",
              "      <td>0</td>\n",
              "      <td>A/5. 2151</td>\n",
              "      <td>1</td>\n",
              "      <td>U0</td>\n",
              "      <td>0</td>\n",
              "      <td>0</td>\n",
              "      <td>1</td>\n",
              "      <td>8</td>\n",
              "      <td>0.0</td>\n",
              "      <td>6.0</td>\n",
              "      <td>1</td>\n",
              "    </tr>\n",
              "    <tr>\n",
              "      <th>13</th>\n",
              "      <td>14</td>\n",
              "      <td>0</td>\n",
              "      <td>3</td>\n",
              "      <td>Andersson, Mr. Anders Johan</td>\n",
              "      <td>0</td>\n",
              "      <td>5.0</td>\n",
              "      <td>1</td>\n",
              "      <td>5</td>\n",
              "      <td>347082</td>\n",
              "      <td>2</td>\n",
              "      <td>U0</td>\n",
              "      <td>0</td>\n",
              "      <td>6</td>\n",
              "      <td>0</td>\n",
              "      <td>8</td>\n",
              "      <td>0.0</td>\n",
              "      <td>15.0</td>\n",
              "      <td>0</td>\n",
              "    </tr>\n",
              "    <tr>\n",
              "      <th>14</th>\n",
              "      <td>15</td>\n",
              "      <td>0</td>\n",
              "      <td>3</td>\n",
              "      <td>Vestrom, Miss. Hulda Amanda Adolfina</td>\n",
              "      <td>1</td>\n",
              "      <td>1.0</td>\n",
              "      <td>0</td>\n",
              "      <td>0</td>\n",
              "      <td>350406</td>\n",
              "      <td>0</td>\n",
              "      <td>U0</td>\n",
              "      <td>0</td>\n",
              "      <td>0</td>\n",
              "      <td>1</td>\n",
              "      <td>8</td>\n",
              "      <td>0.0</td>\n",
              "      <td>3.0</td>\n",
              "      <td>0</td>\n",
              "    </tr>\n",
              "    <tr>\n",
              "      <th>15</th>\n",
              "      <td>16</td>\n",
              "      <td>1</td>\n",
              "      <td>2</td>\n",
              "      <td>Hewlett, Mrs. (Mary D Kingcome)</td>\n",
              "      <td>1</td>\n",
              "      <td>6.0</td>\n",
              "      <td>0</td>\n",
              "      <td>0</td>\n",
              "      <td>248706</td>\n",
              "      <td>2</td>\n",
              "      <td>U0</td>\n",
              "      <td>0</td>\n",
              "      <td>0</td>\n",
              "      <td>1</td>\n",
              "      <td>8</td>\n",
              "      <td>0.0</td>\n",
              "      <td>12.0</td>\n",
              "      <td>2</td>\n",
              "    </tr>\n",
              "    <tr>\n",
              "      <th>16</th>\n",
              "      <td>17</td>\n",
              "      <td>0</td>\n",
              "      <td>3</td>\n",
              "      <td>Rice, Master. Eugene</td>\n",
              "      <td>0</td>\n",
              "      <td>0.0</td>\n",
              "      <td>4</td>\n",
              "      <td>1</td>\n",
              "      <td>382652</td>\n",
              "      <td>2</td>\n",
              "      <td>U0</td>\n",
              "      <td>2</td>\n",
              "      <td>5</td>\n",
              "      <td>0</td>\n",
              "      <td>8</td>\n",
              "      <td>0.0</td>\n",
              "      <td>0.0</td>\n",
              "      <td>0</td>\n",
              "    </tr>\n",
              "    <tr>\n",
              "      <th>17</th>\n",
              "      <td>18</td>\n",
              "      <td>1</td>\n",
              "      <td>2</td>\n",
              "      <td>Williams, Mr. Charles Eugene</td>\n",
              "      <td>0</td>\n",
              "      <td>NaN</td>\n",
              "      <td>0</td>\n",
              "      <td>0</td>\n",
              "      <td>244373</td>\n",
              "      <td>1</td>\n",
              "      <td>U0</td>\n",
              "      <td>0</td>\n",
              "      <td>0</td>\n",
              "      <td>1</td>\n",
              "      <td>8</td>\n",
              "      <td>0.0</td>\n",
              "      <td>NaN</td>\n",
              "      <td>1</td>\n",
              "    </tr>\n",
              "    <tr>\n",
              "      <th>18</th>\n",
              "      <td>19</td>\n",
              "      <td>0</td>\n",
              "      <td>3</td>\n",
              "      <td>Vander Planke, Mrs. Julius (Emelia Maria Vande...</td>\n",
              "      <td>1</td>\n",
              "      <td>4.0</td>\n",
              "      <td>1</td>\n",
              "      <td>0</td>\n",
              "      <td>345763</td>\n",
              "      <td>2</td>\n",
              "      <td>U0</td>\n",
              "      <td>0</td>\n",
              "      <td>1</td>\n",
              "      <td>0</td>\n",
              "      <td>8</td>\n",
              "      <td>0.0</td>\n",
              "      <td>12.0</td>\n",
              "      <td>1</td>\n",
              "    </tr>\n",
              "    <tr>\n",
              "      <th>19</th>\n",
              "      <td>20</td>\n",
              "      <td>1</td>\n",
              "      <td>3</td>\n",
              "      <td>Masselmani, Mrs. Fatima</td>\n",
              "      <td>1</td>\n",
              "      <td>NaN</td>\n",
              "      <td>0</td>\n",
              "      <td>0</td>\n",
              "      <td>2649</td>\n",
              "      <td>0</td>\n",
              "      <td>U0</td>\n",
              "      <td>1</td>\n",
              "      <td>0</td>\n",
              "      <td>1</td>\n",
              "      <td>8</td>\n",
              "      <td>0.0</td>\n",
              "      <td>NaN</td>\n",
              "      <td>0</td>\n",
              "    </tr>\n",
              "    <tr>\n",
              "      <th>20</th>\n",
              "      <td>21</td>\n",
              "      <td>0</td>\n",
              "      <td>2</td>\n",
              "      <td>Fynney, Mr. Joseph J</td>\n",
              "      <td>0</td>\n",
              "      <td>5.0</td>\n",
              "      <td>0</td>\n",
              "      <td>0</td>\n",
              "      <td>239865</td>\n",
              "      <td>2</td>\n",
              "      <td>U0</td>\n",
              "      <td>0</td>\n",
              "      <td>0</td>\n",
              "      <td>1</td>\n",
              "      <td>8</td>\n",
              "      <td>0.0</td>\n",
              "      <td>10.0</td>\n",
              "      <td>2</td>\n",
              "    </tr>\n",
              "    <tr>\n",
              "      <th>21</th>\n",
              "      <td>22</td>\n",
              "      <td>1</td>\n",
              "      <td>2</td>\n",
              "      <td>Beesley, Mr. Lawrence</td>\n",
              "      <td>0</td>\n",
              "      <td>5.0</td>\n",
              "      <td>0</td>\n",
              "      <td>0</td>\n",
              "      <td>248698</td>\n",
              "      <td>1</td>\n",
              "      <td>D56</td>\n",
              "      <td>0</td>\n",
              "      <td>0</td>\n",
              "      <td>1</td>\n",
              "      <td>4</td>\n",
              "      <td>0.0</td>\n",
              "      <td>10.0</td>\n",
              "      <td>1</td>\n",
              "    </tr>\n",
              "    <tr>\n",
              "      <th>22</th>\n",
              "      <td>23</td>\n",
              "      <td>1</td>\n",
              "      <td>3</td>\n",
              "      <td>McGowan, Miss. Anna \"Annie\"</td>\n",
              "      <td>1</td>\n",
              "      <td>1.0</td>\n",
              "      <td>0</td>\n",
              "      <td>0</td>\n",
              "      <td>330923</td>\n",
              "      <td>1</td>\n",
              "      <td>U0</td>\n",
              "      <td>2</td>\n",
              "      <td>0</td>\n",
              "      <td>1</td>\n",
              "      <td>8</td>\n",
              "      <td>0.0</td>\n",
              "      <td>3.0</td>\n",
              "      <td>1</td>\n",
              "    </tr>\n",
              "    <tr>\n",
              "      <th>23</th>\n",
              "      <td>24</td>\n",
              "      <td>1</td>\n",
              "      <td>1</td>\n",
              "      <td>Sloper, Mr. William Thompson</td>\n",
              "      <td>0</td>\n",
              "      <td>4.0</td>\n",
              "      <td>0</td>\n",
              "      <td>0</td>\n",
              "      <td>113788</td>\n",
              "      <td>3</td>\n",
              "      <td>A6</td>\n",
              "      <td>0</td>\n",
              "      <td>0</td>\n",
              "      <td>1</td>\n",
              "      <td>1</td>\n",
              "      <td>0.0</td>\n",
              "      <td>4.0</td>\n",
              "      <td>3</td>\n",
              "    </tr>\n",
              "    <tr>\n",
              "      <th>24</th>\n",
              "      <td>25</td>\n",
              "      <td>0</td>\n",
              "      <td>3</td>\n",
              "      <td>Palsson, Miss. Torborg Danira</td>\n",
              "      <td>1</td>\n",
              "      <td>0.0</td>\n",
              "      <td>3</td>\n",
              "      <td>1</td>\n",
              "      <td>349909</td>\n",
              "      <td>2</td>\n",
              "      <td>U0</td>\n",
              "      <td>0</td>\n",
              "      <td>4</td>\n",
              "      <td>0</td>\n",
              "      <td>8</td>\n",
              "      <td>0.0</td>\n",
              "      <td>0.0</td>\n",
              "      <td>0</td>\n",
              "    </tr>\n",
              "    <tr>\n",
              "      <th>25</th>\n",
              "      <td>26</td>\n",
              "      <td>1</td>\n",
              "      <td>3</td>\n",
              "      <td>Asplund, Mrs. Carl Oscar (Selma Augusta Emilia...</td>\n",
              "      <td>1</td>\n",
              "      <td>5.0</td>\n",
              "      <td>1</td>\n",
              "      <td>5</td>\n",
              "      <td>347077</td>\n",
              "      <td>2</td>\n",
              "      <td>U0</td>\n",
              "      <td>0</td>\n",
              "      <td>6</td>\n",
              "      <td>0</td>\n",
              "      <td>8</td>\n",
              "      <td>0.0</td>\n",
              "      <td>15.0</td>\n",
              "      <td>0</td>\n",
              "    </tr>\n",
              "    <tr>\n",
              "      <th>26</th>\n",
              "      <td>27</td>\n",
              "      <td>0</td>\n",
              "      <td>3</td>\n",
              "      <td>Emir, Mr. Farred Chehab</td>\n",
              "      <td>0</td>\n",
              "      <td>NaN</td>\n",
              "      <td>0</td>\n",
              "      <td>0</td>\n",
              "      <td>2631</td>\n",
              "      <td>0</td>\n",
              "      <td>U0</td>\n",
              "      <td>1</td>\n",
              "      <td>0</td>\n",
              "      <td>1</td>\n",
              "      <td>8</td>\n",
              "      <td>0.0</td>\n",
              "      <td>NaN</td>\n",
              "      <td>0</td>\n",
              "    </tr>\n",
              "    <tr>\n",
              "      <th>27</th>\n",
              "      <td>28</td>\n",
              "      <td>0</td>\n",
              "      <td>1</td>\n",
              "      <td>Fortune, Mr. Charles Alexander</td>\n",
              "      <td>0</td>\n",
              "      <td>2.0</td>\n",
              "      <td>3</td>\n",
              "      <td>2</td>\n",
              "      <td>19950</td>\n",
              "      <td>5</td>\n",
              "      <td>C23 C25 C27</td>\n",
              "      <td>0</td>\n",
              "      <td>5</td>\n",
              "      <td>0</td>\n",
              "      <td>3</td>\n",
              "      <td>0.0</td>\n",
              "      <td>2.0</td>\n",
              "      <td>0</td>\n",
              "    </tr>\n",
              "    <tr>\n",
              "      <th>28</th>\n",
              "      <td>29</td>\n",
              "      <td>1</td>\n",
              "      <td>3</td>\n",
              "      <td>O'Dwyer, Miss. Ellen \"Nellie\"</td>\n",
              "      <td>1</td>\n",
              "      <td>NaN</td>\n",
              "      <td>0</td>\n",
              "      <td>0</td>\n",
              "      <td>330959</td>\n",
              "      <td>0</td>\n",
              "      <td>U0</td>\n",
              "      <td>2</td>\n",
              "      <td>0</td>\n",
              "      <td>1</td>\n",
              "      <td>8</td>\n",
              "      <td>0.0</td>\n",
              "      <td>NaN</td>\n",
              "      <td>0</td>\n",
              "    </tr>\n",
              "    <tr>\n",
              "      <th>29</th>\n",
              "      <td>30</td>\n",
              "      <td>0</td>\n",
              "      <td>3</td>\n",
              "      <td>Todoroff, Mr. Lalio</td>\n",
              "      <td>0</td>\n",
              "      <td>NaN</td>\n",
              "      <td>0</td>\n",
              "      <td>0</td>\n",
              "      <td>349216</td>\n",
              "      <td>0</td>\n",
              "      <td>U0</td>\n",
              "      <td>0</td>\n",
              "      <td>0</td>\n",
              "      <td>1</td>\n",
              "      <td>8</td>\n",
              "      <td>0.0</td>\n",
              "      <td>NaN</td>\n",
              "      <td>0</td>\n",
              "    </tr>\n",
              "    <tr>\n",
              "      <th>30</th>\n",
              "      <td>31</td>\n",
              "      <td>0</td>\n",
              "      <td>1</td>\n",
              "      <td>Uruchurtu, Don. Manuel E</td>\n",
              "      <td>0</td>\n",
              "      <td>5.0</td>\n",
              "      <td>0</td>\n",
              "      <td>0</td>\n",
              "      <td>PC 17601</td>\n",
              "      <td>2</td>\n",
              "      <td>U0</td>\n",
              "      <td>1</td>\n",
              "      <td>0</td>\n",
              "      <td>1</td>\n",
              "      <td>8</td>\n",
              "      <td>0.0</td>\n",
              "      <td>5.0</td>\n",
              "      <td>2</td>\n",
              "    </tr>\n",
              "    <tr>\n",
              "      <th>31</th>\n",
              "      <td>32</td>\n",
              "      <td>1</td>\n",
              "      <td>1</td>\n",
              "      <td>Spencer, Mrs. William Augustus (Marie Eugenie)</td>\n",
              "      <td>1</td>\n",
              "      <td>NaN</td>\n",
              "      <td>1</td>\n",
              "      <td>0</td>\n",
              "      <td>PC 17569</td>\n",
              "      <td>4</td>\n",
              "      <td>B78</td>\n",
              "      <td>1</td>\n",
              "      <td>1</td>\n",
              "      <td>0</td>\n",
              "      <td>2</td>\n",
              "      <td>0.0</td>\n",
              "      <td>NaN</td>\n",
              "      <td>2</td>\n",
              "    </tr>\n",
              "    <tr>\n",
              "      <th>32</th>\n",
              "      <td>33</td>\n",
              "      <td>1</td>\n",
              "      <td>3</td>\n",
              "      <td>Glynn, Miss. Mary Agatha</td>\n",
              "      <td>1</td>\n",
              "      <td>NaN</td>\n",
              "      <td>0</td>\n",
              "      <td>0</td>\n",
              "      <td>335677</td>\n",
              "      <td>0</td>\n",
              "      <td>U0</td>\n",
              "      <td>2</td>\n",
              "      <td>0</td>\n",
              "      <td>1</td>\n",
              "      <td>8</td>\n",
              "      <td>0.0</td>\n",
              "      <td>NaN</td>\n",
              "      <td>0</td>\n",
              "    </tr>\n",
              "    <tr>\n",
              "      <th>33</th>\n",
              "      <td>34</td>\n",
              "      <td>0</td>\n",
              "      <td>2</td>\n",
              "      <td>Wheadon, Mr. Edward H</td>\n",
              "      <td>0</td>\n",
              "      <td>6.0</td>\n",
              "      <td>0</td>\n",
              "      <td>0</td>\n",
              "      <td>C.A. 24579</td>\n",
              "      <td>1</td>\n",
              "      <td>U0</td>\n",
              "      <td>0</td>\n",
              "      <td>0</td>\n",
              "      <td>1</td>\n",
              "      <td>8</td>\n",
              "      <td>0.0</td>\n",
              "      <td>12.0</td>\n",
              "      <td>1</td>\n",
              "    </tr>\n",
              "    <tr>\n",
              "      <th>34</th>\n",
              "      <td>35</td>\n",
              "      <td>0</td>\n",
              "      <td>1</td>\n",
              "      <td>Meyer, Mr. Edgar Joseph</td>\n",
              "      <td>0</td>\n",
              "      <td>4.0</td>\n",
              "      <td>1</td>\n",
              "      <td>0</td>\n",
              "      <td>PC 17604</td>\n",
              "      <td>3</td>\n",
              "      <td>U0</td>\n",
              "      <td>1</td>\n",
              "      <td>1</td>\n",
              "      <td>0</td>\n",
              "      <td>8</td>\n",
              "      <td>0.0</td>\n",
              "      <td>4.0</td>\n",
              "      <td>1</td>\n",
              "    </tr>\n",
              "    <tr>\n",
              "      <th>35</th>\n",
              "      <td>36</td>\n",
              "      <td>0</td>\n",
              "      <td>1</td>\n",
              "      <td>Holverson, Mr. Alexander Oskar</td>\n",
              "      <td>0</td>\n",
              "      <td>6.0</td>\n",
              "      <td>1</td>\n",
              "      <td>0</td>\n",
              "      <td>113789</td>\n",
              "      <td>3</td>\n",
              "      <td>U0</td>\n",
              "      <td>0</td>\n",
              "      <td>1</td>\n",
              "      <td>0</td>\n",
              "      <td>8</td>\n",
              "      <td>0.0</td>\n",
              "      <td>6.0</td>\n",
              "      <td>1</td>\n",
              "    </tr>\n",
              "    <tr>\n",
              "      <th>36</th>\n",
              "      <td>37</td>\n",
              "      <td>1</td>\n",
              "      <td>3</td>\n",
              "      <td>Mamee, Mr. Hanna</td>\n",
              "      <td>0</td>\n",
              "      <td>NaN</td>\n",
              "      <td>0</td>\n",
              "      <td>0</td>\n",
              "      <td>2677</td>\n",
              "      <td>0</td>\n",
              "      <td>U0</td>\n",
              "      <td>1</td>\n",
              "      <td>0</td>\n",
              "      <td>1</td>\n",
              "      <td>8</td>\n",
              "      <td>0.0</td>\n",
              "      <td>NaN</td>\n",
              "      <td>0</td>\n",
              "    </tr>\n",
              "    <tr>\n",
              "      <th>37</th>\n",
              "      <td>38</td>\n",
              "      <td>0</td>\n",
              "      <td>3</td>\n",
              "      <td>Cann, Mr. Ernest Charles</td>\n",
              "      <td>0</td>\n",
              "      <td>2.0</td>\n",
              "      <td>0</td>\n",
              "      <td>0</td>\n",
              "      <td>A./5. 2152</td>\n",
              "      <td>1</td>\n",
              "      <td>U0</td>\n",
              "      <td>0</td>\n",
              "      <td>0</td>\n",
              "      <td>1</td>\n",
              "      <td>8</td>\n",
              "      <td>0.0</td>\n",
              "      <td>6.0</td>\n",
              "      <td>1</td>\n",
              "    </tr>\n",
              "    <tr>\n",
              "      <th>38</th>\n",
              "      <td>39</td>\n",
              "      <td>0</td>\n",
              "      <td>3</td>\n",
              "      <td>Vander Planke, Miss. Augusta Maria</td>\n",
              "      <td>1</td>\n",
              "      <td>1.0</td>\n",
              "      <td>2</td>\n",
              "      <td>0</td>\n",
              "      <td>345764</td>\n",
              "      <td>2</td>\n",
              "      <td>U0</td>\n",
              "      <td>0</td>\n",
              "      <td>2</td>\n",
              "      <td>0</td>\n",
              "      <td>8</td>\n",
              "      <td>0.0</td>\n",
              "      <td>3.0</td>\n",
              "      <td>0</td>\n",
              "    </tr>\n",
              "    <tr>\n",
              "      <th>39</th>\n",
              "      <td>40</td>\n",
              "      <td>1</td>\n",
              "      <td>3</td>\n",
              "      <td>Nicola-Yarred, Miss. Jamila</td>\n",
              "      <td>1</td>\n",
              "      <td>1.0</td>\n",
              "      <td>1</td>\n",
              "      <td>0</td>\n",
              "      <td>2651</td>\n",
              "      <td>1</td>\n",
              "      <td>U0</td>\n",
              "      <td>1</td>\n",
              "      <td>1</td>\n",
              "      <td>0</td>\n",
              "      <td>8</td>\n",
              "      <td>0.0</td>\n",
              "      <td>3.0</td>\n",
              "      <td>0</td>\n",
              "    </tr>\n",
              "    <tr>\n",
              "      <th>40</th>\n",
              "      <td>41</td>\n",
              "      <td>0</td>\n",
              "      <td>3</td>\n",
              "      <td>Ahlin, Mrs. Johan (Johanna Persdotter Larsson)</td>\n",
              "      <td>1</td>\n",
              "      <td>5.0</td>\n",
              "      <td>1</td>\n",
              "      <td>0</td>\n",
              "      <td>7546</td>\n",
              "      <td>1</td>\n",
              "      <td>U0</td>\n",
              "      <td>0</td>\n",
              "      <td>1</td>\n",
              "      <td>0</td>\n",
              "      <td>8</td>\n",
              "      <td>0.0</td>\n",
              "      <td>15.0</td>\n",
              "      <td>0</td>\n",
              "    </tr>\n",
              "    <tr>\n",
              "      <th>41</th>\n",
              "      <td>42</td>\n",
              "      <td>0</td>\n",
              "      <td>2</td>\n",
              "      <td>Turpin, Mrs. William John Robert (Dorothy Ann ...</td>\n",
              "      <td>1</td>\n",
              "      <td>3.0</td>\n",
              "      <td>1</td>\n",
              "      <td>0</td>\n",
              "      <td>11668</td>\n",
              "      <td>2</td>\n",
              "      <td>U0</td>\n",
              "      <td>0</td>\n",
              "      <td>1</td>\n",
              "      <td>0</td>\n",
              "      <td>8</td>\n",
              "      <td>0.0</td>\n",
              "      <td>6.0</td>\n",
              "      <td>1</td>\n",
              "    </tr>\n",
              "    <tr>\n",
              "      <th>42</th>\n",
              "      <td>43</td>\n",
              "      <td>0</td>\n",
              "      <td>3</td>\n",
              "      <td>Kraeff, Mr. Theodor</td>\n",
              "      <td>0</td>\n",
              "      <td>NaN</td>\n",
              "      <td>0</td>\n",
              "      <td>0</td>\n",
              "      <td>349253</td>\n",
              "      <td>0</td>\n",
              "      <td>U0</td>\n",
              "      <td>1</td>\n",
              "      <td>0</td>\n",
              "      <td>1</td>\n",
              "      <td>8</td>\n",
              "      <td>0.0</td>\n",
              "      <td>NaN</td>\n",
              "      <td>0</td>\n",
              "    </tr>\n",
              "    <tr>\n",
              "      <th>43</th>\n",
              "      <td>44</td>\n",
              "      <td>1</td>\n",
              "      <td>2</td>\n",
              "      <td>Laroche, Miss. Simonne Marie Anne Andree</td>\n",
              "      <td>1</td>\n",
              "      <td>0.0</td>\n",
              "      <td>1</td>\n",
              "      <td>2</td>\n",
              "      <td>SC/Paris 2123</td>\n",
              "      <td>3</td>\n",
              "      <td>U0</td>\n",
              "      <td>1</td>\n",
              "      <td>3</td>\n",
              "      <td>0</td>\n",
              "      <td>8</td>\n",
              "      <td>0.0</td>\n",
              "      <td>0.0</td>\n",
              "      <td>0</td>\n",
              "    </tr>\n",
              "    <tr>\n",
              "      <th>44</th>\n",
              "      <td>45</td>\n",
              "      <td>1</td>\n",
              "      <td>3</td>\n",
              "      <td>Devaney, Miss. Margaret Delia</td>\n",
              "      <td>1</td>\n",
              "      <td>2.0</td>\n",
              "      <td>0</td>\n",
              "      <td>0</td>\n",
              "      <td>330958</td>\n",
              "      <td>0</td>\n",
              "      <td>U0</td>\n",
              "      <td>2</td>\n",
              "      <td>0</td>\n",
              "      <td>1</td>\n",
              "      <td>8</td>\n",
              "      <td>0.0</td>\n",
              "      <td>6.0</td>\n",
              "      <td>0</td>\n",
              "    </tr>\n",
              "    <tr>\n",
              "      <th>45</th>\n",
              "      <td>46</td>\n",
              "      <td>0</td>\n",
              "      <td>3</td>\n",
              "      <td>Rogers, Mr. William John</td>\n",
              "      <td>0</td>\n",
              "      <td>NaN</td>\n",
              "      <td>0</td>\n",
              "      <td>0</td>\n",
              "      <td>S.C./A.4. 23567</td>\n",
              "      <td>1</td>\n",
              "      <td>U0</td>\n",
              "      <td>0</td>\n",
              "      <td>0</td>\n",
              "      <td>1</td>\n",
              "      <td>8</td>\n",
              "      <td>0.0</td>\n",
              "      <td>NaN</td>\n",
              "      <td>1</td>\n",
              "    </tr>\n",
              "    <tr>\n",
              "      <th>46</th>\n",
              "      <td>47</td>\n",
              "      <td>0</td>\n",
              "      <td>3</td>\n",
              "      <td>Lennon, Mr. Denis</td>\n",
              "      <td>0</td>\n",
              "      <td>NaN</td>\n",
              "      <td>1</td>\n",
              "      <td>0</td>\n",
              "      <td>370371</td>\n",
              "      <td>2</td>\n",
              "      <td>U0</td>\n",
              "      <td>2</td>\n",
              "      <td>1</td>\n",
              "      <td>0</td>\n",
              "      <td>8</td>\n",
              "      <td>0.0</td>\n",
              "      <td>NaN</td>\n",
              "      <td>1</td>\n",
              "    </tr>\n",
              "    <tr>\n",
              "      <th>47</th>\n",
              "      <td>48</td>\n",
              "      <td>1</td>\n",
              "      <td>3</td>\n",
              "      <td>O'Driscoll, Miss. Bridget</td>\n",
              "      <td>1</td>\n",
              "      <td>NaN</td>\n",
              "      <td>0</td>\n",
              "      <td>0</td>\n",
              "      <td>14311</td>\n",
              "      <td>0</td>\n",
              "      <td>U0</td>\n",
              "      <td>2</td>\n",
              "      <td>0</td>\n",
              "      <td>1</td>\n",
              "      <td>8</td>\n",
              "      <td>0.0</td>\n",
              "      <td>NaN</td>\n",
              "      <td>0</td>\n",
              "    </tr>\n",
              "    <tr>\n",
              "      <th>48</th>\n",
              "      <td>49</td>\n",
              "      <td>0</td>\n",
              "      <td>3</td>\n",
              "      <td>Samaan, Mr. Youssef</td>\n",
              "      <td>0</td>\n",
              "      <td>NaN</td>\n",
              "      <td>2</td>\n",
              "      <td>0</td>\n",
              "      <td>2662</td>\n",
              "      <td>2</td>\n",
              "      <td>U0</td>\n",
              "      <td>1</td>\n",
              "      <td>2</td>\n",
              "      <td>0</td>\n",
              "      <td>8</td>\n",
              "      <td>0.0</td>\n",
              "      <td>NaN</td>\n",
              "      <td>0</td>\n",
              "    </tr>\n",
              "    <tr>\n",
              "      <th>49</th>\n",
              "      <td>50</td>\n",
              "      <td>0</td>\n",
              "      <td>3</td>\n",
              "      <td>Arnold-Franchi, Mrs. Josef (Josefine Franchi)</td>\n",
              "      <td>1</td>\n",
              "      <td>1.0</td>\n",
              "      <td>1</td>\n",
              "      <td>0</td>\n",
              "      <td>349237</td>\n",
              "      <td>2</td>\n",
              "      <td>U0</td>\n",
              "      <td>0</td>\n",
              "      <td>1</td>\n",
              "      <td>0</td>\n",
              "      <td>8</td>\n",
              "      <td>0.0</td>\n",
              "      <td>3.0</td>\n",
              "      <td>1</td>\n",
              "    </tr>\n",
              "  </tbody>\n",
              "</table>\n",
              "</div>\n",
              "      <button class=\"colab-df-convert\" onclick=\"convertToInteractive('df-e9c45cc1-262e-4f54-94df-31528b284b2d')\"\n",
              "              title=\"Convert this dataframe to an interactive table.\"\n",
              "              style=\"display:none;\">\n",
              "        \n",
              "  <svg xmlns=\"http://www.w3.org/2000/svg\" height=\"24px\"viewBox=\"0 0 24 24\"\n",
              "       width=\"24px\">\n",
              "    <path d=\"M0 0h24v24H0V0z\" fill=\"none\"/>\n",
              "    <path d=\"M18.56 5.44l.94 2.06.94-2.06 2.06-.94-2.06-.94-.94-2.06-.94 2.06-2.06.94zm-11 1L8.5 8.5l.94-2.06 2.06-.94-2.06-.94L8.5 2.5l-.94 2.06-2.06.94zm10 10l.94 2.06.94-2.06 2.06-.94-2.06-.94-.94-2.06-.94 2.06-2.06.94z\"/><path d=\"M17.41 7.96l-1.37-1.37c-.4-.4-.92-.59-1.43-.59-.52 0-1.04.2-1.43.59L10.3 9.45l-7.72 7.72c-.78.78-.78 2.05 0 2.83L4 21.41c.39.39.9.59 1.41.59.51 0 1.02-.2 1.41-.59l7.78-7.78 2.81-2.81c.8-.78.8-2.07 0-2.86zM5.41 20L4 18.59l7.72-7.72 1.47 1.35L5.41 20z\"/>\n",
              "  </svg>\n",
              "      </button>\n",
              "      \n",
              "  <style>\n",
              "    .colab-df-container {\n",
              "      display:flex;\n",
              "      flex-wrap:wrap;\n",
              "      gap: 12px;\n",
              "    }\n",
              "\n",
              "    .colab-df-convert {\n",
              "      background-color: #E8F0FE;\n",
              "      border: none;\n",
              "      border-radius: 50%;\n",
              "      cursor: pointer;\n",
              "      display: none;\n",
              "      fill: #1967D2;\n",
              "      height: 32px;\n",
              "      padding: 0 0 0 0;\n",
              "      width: 32px;\n",
              "    }\n",
              "\n",
              "    .colab-df-convert:hover {\n",
              "      background-color: #E2EBFA;\n",
              "      box-shadow: 0px 1px 2px rgba(60, 64, 67, 0.3), 0px 1px 3px 1px rgba(60, 64, 67, 0.15);\n",
              "      fill: #174EA6;\n",
              "    }\n",
              "\n",
              "    [theme=dark] .colab-df-convert {\n",
              "      background-color: #3B4455;\n",
              "      fill: #D2E3FC;\n",
              "    }\n",
              "\n",
              "    [theme=dark] .colab-df-convert:hover {\n",
              "      background-color: #434B5C;\n",
              "      box-shadow: 0px 1px 3px 1px rgba(0, 0, 0, 0.15);\n",
              "      filter: drop-shadow(0px 1px 2px rgba(0, 0, 0, 0.3));\n",
              "      fill: #FFFFFF;\n",
              "    }\n",
              "  </style>\n",
              "\n",
              "      <script>\n",
              "        const buttonEl =\n",
              "          document.querySelector('#df-e9c45cc1-262e-4f54-94df-31528b284b2d button.colab-df-convert');\n",
              "        buttonEl.style.display =\n",
              "          google.colab.kernel.accessAllowed ? 'block' : 'none';\n",
              "\n",
              "        async function convertToInteractive(key) {\n",
              "          const element = document.querySelector('#df-e9c45cc1-262e-4f54-94df-31528b284b2d');\n",
              "          const dataTable =\n",
              "            await google.colab.kernel.invokeFunction('convertToInteractive',\n",
              "                                                     [key], {});\n",
              "          if (!dataTable) return;\n",
              "\n",
              "          const docLinkHtml = 'Like what you see? Visit the ' +\n",
              "            '<a target=\"_blank\" href=https://colab.research.google.com/notebooks/data_table.ipynb>data table notebook</a>'\n",
              "            + ' to learn more about interactive tables.';\n",
              "          element.innerHTML = '';\n",
              "          dataTable['output_type'] = 'display_data';\n",
              "          await google.colab.output.renderOutput(dataTable, element);\n",
              "          const docLink = document.createElement('div');\n",
              "          docLink.innerHTML = docLinkHtml;\n",
              "          element.appendChild(docLink);\n",
              "        }\n",
              "      </script>\n",
              "    </div>\n",
              "  </div>\n",
              "  "
            ]
          },
          "metadata": {},
          "execution_count": 51
        }
      ]
    },
    {
      "cell_type": "code",
      "source": [
        "Data = [dfTreino, dfTeste]\n",
        "for Dataset in Data:\n",
        "    Dataset['Idade_Classe']= Dataset['Idade']* Dataset['Classe']"
      ],
      "metadata": {
        "id": "nvJKbqr06PFo"
      },
      "execution_count": 52,
      "outputs": []
    },
    {
      "cell_type": "code",
      "source": [
        "for Dataset in Data:\n",
        "    Dataset['Tarifa_Por_Pessoa'] = Dataset['Tarifa']/(Dataset['Relativo']+1)\n",
        "    Dataset['Tarifa_Por_Pessoa'] = Dataset['Tarifa_Por_Pessoa'].astype(int)"
      ],
      "metadata": {
        "id": "vFFn4Ys6-Uc2"
      },
      "execution_count": 53,
      "outputs": []
    },
    {
      "cell_type": "markdown",
      "source": [
        "## **Analise dos Dados**"
      ],
      "metadata": {
        "id": "MUW8YDwvC_CM"
      }
    },
    {
      "cell_type": "markdown",
      "source": [
        "### **Desastre**"
      ],
      "metadata": {
        "id": "9o3v4m4E7M6U"
      }
    },
    {
      "cell_type": "markdown",
      "source": [
        "**Dividindo os dados de treinamento em recursos e destino**"
      ],
      "metadata": {
        "id": "XU_60MAp7Nh8"
      }
    },
    {
      "cell_type": "code",
      "source": [
        "\n",
        "# Criando dois Dataframes um apenas com os sobrevivnetes e e outro apagando os sobreviventes do dataset semelhante a tentativa la em cima.\n",
        "x_dfTreino, y_dfTreino = dfTreino.drop('Sobreviventes', axis= 1), dfTreino[['Sobreviventes']];\n",
        "\n",
        "print(colored(F\"Train-Test dataframe lengths = {len(dfTreino), len(dfTeste)}\", color= 'red', attrs= ['bold']));\n",
        "\n",
        "print(colored(F\"\\nInformações do Conjunto de Dados\\n\", color = 'green', attrs= ['bold', 'dark']));\n",
        "display(dfTreino.info());\n",
        "print(colored(F\"\\nTrain-set description\\n\", color = 'green', attrs= ['bold', 'dark']));\n",
        "display(dfTreino.describe().style.format('{:.2f}'));"
      ],
      "metadata": {
        "colab": {
          "base_uri": "https://localhost:8080/",
          "height": 0
        },
        "id": "Jgv9FAmq7OBL",
        "outputId": "f1584698-b6ee-49a7-914f-ca7d2b5d4dc7"
      },
      "execution_count": 54,
      "outputs": [
        {
          "output_type": "stream",
          "name": "stdout",
          "text": [
            "\u001b[1m\u001b[31mTrain-Test dataframe lengths = (891, 418)\u001b[0m\n",
            "\u001b[2m\u001b[1m\u001b[32m\n",
            "Informações do Conjunto de Dados\n",
            "\u001b[0m\n",
            "<class 'pandas.core.frame.DataFrame'>\n",
            "RangeIndex: 891 entries, 0 to 890\n",
            "Data columns (total 18 columns):\n",
            " #   Column             Non-Null Count  Dtype  \n",
            "---  ------             --------------  -----  \n",
            " 0   ID_Passageiro      891 non-null    int64  \n",
            " 1   Sobreviventes      891 non-null    int64  \n",
            " 2   Classe             891 non-null    int64  \n",
            " 3   Nome               891 non-null    object \n",
            " 4   Sexo               891 non-null    int64  \n",
            " 5   Idade              714 non-null    float64\n",
            " 6   SibSp              891 non-null    int64  \n",
            " 7   Parch              891 non-null    int64  \n",
            " 8   Ticket             891 non-null    object \n",
            " 9   Tarifa             891 non-null    int64  \n",
            " 10  Cabine             891 non-null    object \n",
            " 11  Embarcou           891 non-null    int64  \n",
            " 12  Relativo           891 non-null    int64  \n",
            " 13  Acompanhado        891 non-null    int64  \n",
            " 14  Categoria          891 non-null    int64  \n",
            " 15  Titulo             891 non-null    float64\n",
            " 16  Idade_Classe       714 non-null    float64\n",
            " 17  Tarifa_Por_Pessoa  891 non-null    int64  \n",
            "dtypes: float64(3), int64(12), object(3)\n",
            "memory usage: 125.4+ KB\n"
          ]
        },
        {
          "output_type": "display_data",
          "data": {
            "text/plain": [
              "None"
            ]
          },
          "metadata": {}
        },
        {
          "output_type": "stream",
          "name": "stdout",
          "text": [
            "\u001b[2m\u001b[1m\u001b[32m\n",
            "Train-set description\n",
            "\u001b[0m\n"
          ]
        },
        {
          "output_type": "display_data",
          "data": {
            "text/plain": [
              "<pandas.io.formats.style.Styler at 0x7fd327555a10>"
            ],
            "text/html": [
              "<style type=\"text/css\">\n",
              "</style>\n",
              "<table id=\"T_17246_\" class=\"dataframe\">\n",
              "  <thead>\n",
              "    <tr>\n",
              "      <th class=\"blank level0\" >&nbsp;</th>\n",
              "      <th class=\"col_heading level0 col0\" >ID_Passageiro</th>\n",
              "      <th class=\"col_heading level0 col1\" >Sobreviventes</th>\n",
              "      <th class=\"col_heading level0 col2\" >Classe</th>\n",
              "      <th class=\"col_heading level0 col3\" >Sexo</th>\n",
              "      <th class=\"col_heading level0 col4\" >Idade</th>\n",
              "      <th class=\"col_heading level0 col5\" >SibSp</th>\n",
              "      <th class=\"col_heading level0 col6\" >Parch</th>\n",
              "      <th class=\"col_heading level0 col7\" >Tarifa</th>\n",
              "      <th class=\"col_heading level0 col8\" >Embarcou</th>\n",
              "      <th class=\"col_heading level0 col9\" >Relativo</th>\n",
              "      <th class=\"col_heading level0 col10\" >Acompanhado</th>\n",
              "      <th class=\"col_heading level0 col11\" >Categoria</th>\n",
              "      <th class=\"col_heading level0 col12\" >Titulo</th>\n",
              "      <th class=\"col_heading level0 col13\" >Idade_Classe</th>\n",
              "      <th class=\"col_heading level0 col14\" >Tarifa_Por_Pessoa</th>\n",
              "    </tr>\n",
              "  </thead>\n",
              "  <tbody>\n",
              "    <tr>\n",
              "      <th id=\"T_17246_level0_row0\" class=\"row_heading level0 row0\" >count</th>\n",
              "      <td id=\"T_17246_row0_col0\" class=\"data row0 col0\" >891.00</td>\n",
              "      <td id=\"T_17246_row0_col1\" class=\"data row0 col1\" >891.00</td>\n",
              "      <td id=\"T_17246_row0_col2\" class=\"data row0 col2\" >891.00</td>\n",
              "      <td id=\"T_17246_row0_col3\" class=\"data row0 col3\" >891.00</td>\n",
              "      <td id=\"T_17246_row0_col4\" class=\"data row0 col4\" >714.00</td>\n",
              "      <td id=\"T_17246_row0_col5\" class=\"data row0 col5\" >891.00</td>\n",
              "      <td id=\"T_17246_row0_col6\" class=\"data row0 col6\" >891.00</td>\n",
              "      <td id=\"T_17246_row0_col7\" class=\"data row0 col7\" >891.00</td>\n",
              "      <td id=\"T_17246_row0_col8\" class=\"data row0 col8\" >891.00</td>\n",
              "      <td id=\"T_17246_row0_col9\" class=\"data row0 col9\" >891.00</td>\n",
              "      <td id=\"T_17246_row0_col10\" class=\"data row0 col10\" >891.00</td>\n",
              "      <td id=\"T_17246_row0_col11\" class=\"data row0 col11\" >891.00</td>\n",
              "      <td id=\"T_17246_row0_col12\" class=\"data row0 col12\" >891.00</td>\n",
              "      <td id=\"T_17246_row0_col13\" class=\"data row0 col13\" >714.00</td>\n",
              "      <td id=\"T_17246_row0_col14\" class=\"data row0 col14\" >891.00</td>\n",
              "    </tr>\n",
              "    <tr>\n",
              "      <th id=\"T_17246_level0_row1\" class=\"row_heading level0 row1\" >mean</th>\n",
              "      <td id=\"T_17246_row1_col0\" class=\"data row1 col0\" >446.00</td>\n",
              "      <td id=\"T_17246_row1_col1\" class=\"data row1 col1\" >0.38</td>\n",
              "      <td id=\"T_17246_row1_col2\" class=\"data row1 col2\" >2.31</td>\n",
              "      <td id=\"T_17246_row1_col3\" class=\"data row1 col3\" >0.35</td>\n",
              "      <td id=\"T_17246_row1_col4\" class=\"data row1 col4\" >3.49</td>\n",
              "      <td id=\"T_17246_row1_col5\" class=\"data row1 col5\" >0.52</td>\n",
              "      <td id=\"T_17246_row1_col6\" class=\"data row1 col6\" >0.38</td>\n",
              "      <td id=\"T_17246_row1_col7\" class=\"data row1 col7\" >1.52</td>\n",
              "      <td id=\"T_17246_row1_col8\" class=\"data row1 col8\" >0.36</td>\n",
              "      <td id=\"T_17246_row1_col9\" class=\"data row1 col9\" >0.90</td>\n",
              "      <td id=\"T_17246_row1_col10\" class=\"data row1 col10\" >0.60</td>\n",
              "      <td id=\"T_17246_row1_col11\" class=\"data row1 col11\" >6.94</td>\n",
              "      <td id=\"T_17246_row1_col12\" class=\"data row1 col12\" >0.01</td>\n",
              "      <td id=\"T_17246_row1_col13\" class=\"data row1 col13\" >7.22</td>\n",
              "      <td id=\"T_17246_row1_col14\" class=\"data row1 col14\" >0.80</td>\n",
              "    </tr>\n",
              "    <tr>\n",
              "      <th id=\"T_17246_level0_row2\" class=\"row_heading level0 row2\" >std</th>\n",
              "      <td id=\"T_17246_row2_col0\" class=\"data row2 col0\" >257.35</td>\n",
              "      <td id=\"T_17246_row2_col1\" class=\"data row2 col1\" >0.49</td>\n",
              "      <td id=\"T_17246_row2_col2\" class=\"data row2 col2\" >0.84</td>\n",
              "      <td id=\"T_17246_row2_col3\" class=\"data row2 col3\" >0.48</td>\n",
              "      <td id=\"T_17246_row2_col4\" class=\"data row2 col4\" >1.96</td>\n",
              "      <td id=\"T_17246_row2_col5\" class=\"data row2 col5\" >1.10</td>\n",
              "      <td id=\"T_17246_row2_col6\" class=\"data row2 col6\" >0.81</td>\n",
              "      <td id=\"T_17246_row2_col7\" class=\"data row2 col7\" >1.25</td>\n",
              "      <td id=\"T_17246_row2_col8\" class=\"data row2 col8\" >0.64</td>\n",
              "      <td id=\"T_17246_row2_col9\" class=\"data row2 col9\" >1.61</td>\n",
              "      <td id=\"T_17246_row2_col10\" class=\"data row2 col10\" >0.49</td>\n",
              "      <td id=\"T_17246_row2_col11\" class=\"data row2 col11\" >2.07</td>\n",
              "      <td id=\"T_17246_row2_col12\" class=\"data row2 col12\" >0.12</td>\n",
              "      <td id=\"T_17246_row2_col13\" class=\"data row2 col13\" >4.77</td>\n",
              "      <td id=\"T_17246_row2_col14\" class=\"data row2 col14\" >0.95</td>\n",
              "    </tr>\n",
              "    <tr>\n",
              "      <th id=\"T_17246_level0_row3\" class=\"row_heading level0 row3\" >min</th>\n",
              "      <td id=\"T_17246_row3_col0\" class=\"data row3 col0\" >1.00</td>\n",
              "      <td id=\"T_17246_row3_col1\" class=\"data row3 col1\" >0.00</td>\n",
              "      <td id=\"T_17246_row3_col2\" class=\"data row3 col2\" >1.00</td>\n",
              "      <td id=\"T_17246_row3_col3\" class=\"data row3 col3\" >0.00</td>\n",
              "      <td id=\"T_17246_row3_col4\" class=\"data row3 col4\" >0.00</td>\n",
              "      <td id=\"T_17246_row3_col5\" class=\"data row3 col5\" >0.00</td>\n",
              "      <td id=\"T_17246_row3_col6\" class=\"data row3 col6\" >0.00</td>\n",
              "      <td id=\"T_17246_row3_col7\" class=\"data row3 col7\" >0.00</td>\n",
              "      <td id=\"T_17246_row3_col8\" class=\"data row3 col8\" >0.00</td>\n",
              "      <td id=\"T_17246_row3_col9\" class=\"data row3 col9\" >0.00</td>\n",
              "      <td id=\"T_17246_row3_col10\" class=\"data row3 col10\" >0.00</td>\n",
              "      <td id=\"T_17246_row3_col11\" class=\"data row3 col11\" >0.00</td>\n",
              "      <td id=\"T_17246_row3_col12\" class=\"data row3 col12\" >0.00</td>\n",
              "      <td id=\"T_17246_row3_col13\" class=\"data row3 col13\" >0.00</td>\n",
              "      <td id=\"T_17246_row3_col14\" class=\"data row3 col14\" >0.00</td>\n",
              "    </tr>\n",
              "    <tr>\n",
              "      <th id=\"T_17246_level0_row4\" class=\"row_heading level0 row4\" >25%</th>\n",
              "      <td id=\"T_17246_row4_col0\" class=\"data row4 col0\" >223.50</td>\n",
              "      <td id=\"T_17246_row4_col1\" class=\"data row4 col1\" >0.00</td>\n",
              "      <td id=\"T_17246_row4_col2\" class=\"data row4 col2\" >2.00</td>\n",
              "      <td id=\"T_17246_row4_col3\" class=\"data row4 col3\" >0.00</td>\n",
              "      <td id=\"T_17246_row4_col4\" class=\"data row4 col4\" >2.00</td>\n",
              "      <td id=\"T_17246_row4_col5\" class=\"data row4 col5\" >0.00</td>\n",
              "      <td id=\"T_17246_row4_col6\" class=\"data row4 col6\" >0.00</td>\n",
              "      <td id=\"T_17246_row4_col7\" class=\"data row4 col7\" >0.00</td>\n",
              "      <td id=\"T_17246_row4_col8\" class=\"data row4 col8\" >0.00</td>\n",
              "      <td id=\"T_17246_row4_col9\" class=\"data row4 col9\" >0.00</td>\n",
              "      <td id=\"T_17246_row4_col10\" class=\"data row4 col10\" >0.00</td>\n",
              "      <td id=\"T_17246_row4_col11\" class=\"data row4 col11\" >8.00</td>\n",
              "      <td id=\"T_17246_row4_col12\" class=\"data row4 col12\" >0.00</td>\n",
              "      <td id=\"T_17246_row4_col13\" class=\"data row4 col13\" >4.00</td>\n",
              "      <td id=\"T_17246_row4_col14\" class=\"data row4 col14\" >0.00</td>\n",
              "    </tr>\n",
              "    <tr>\n",
              "      <th id=\"T_17246_level0_row5\" class=\"row_heading level0 row5\" >50%</th>\n",
              "      <td id=\"T_17246_row5_col0\" class=\"data row5 col0\" >446.00</td>\n",
              "      <td id=\"T_17246_row5_col1\" class=\"data row5 col1\" >0.00</td>\n",
              "      <td id=\"T_17246_row5_col2\" class=\"data row5 col2\" >3.00</td>\n",
              "      <td id=\"T_17246_row5_col3\" class=\"data row5 col3\" >0.00</td>\n",
              "      <td id=\"T_17246_row5_col4\" class=\"data row5 col4\" >4.00</td>\n",
              "      <td id=\"T_17246_row5_col5\" class=\"data row5 col5\" >0.00</td>\n",
              "      <td id=\"T_17246_row5_col6\" class=\"data row5 col6\" >0.00</td>\n",
              "      <td id=\"T_17246_row5_col7\" class=\"data row5 col7\" >1.00</td>\n",
              "      <td id=\"T_17246_row5_col8\" class=\"data row5 col8\" >0.00</td>\n",
              "      <td id=\"T_17246_row5_col9\" class=\"data row5 col9\" >0.00</td>\n",
              "      <td id=\"T_17246_row5_col10\" class=\"data row5 col10\" >1.00</td>\n",
              "      <td id=\"T_17246_row5_col11\" class=\"data row5 col11\" >8.00</td>\n",
              "      <td id=\"T_17246_row5_col12\" class=\"data row5 col12\" >0.00</td>\n",
              "      <td id=\"T_17246_row5_col13\" class=\"data row5 col13\" >6.00</td>\n",
              "      <td id=\"T_17246_row5_col14\" class=\"data row5 col14\" >1.00</td>\n",
              "    </tr>\n",
              "    <tr>\n",
              "      <th id=\"T_17246_level0_row6\" class=\"row_heading level0 row6\" >75%</th>\n",
              "      <td id=\"T_17246_row6_col0\" class=\"data row6 col0\" >668.50</td>\n",
              "      <td id=\"T_17246_row6_col1\" class=\"data row6 col1\" >1.00</td>\n",
              "      <td id=\"T_17246_row6_col2\" class=\"data row6 col2\" >3.00</td>\n",
              "      <td id=\"T_17246_row6_col3\" class=\"data row6 col3\" >1.00</td>\n",
              "      <td id=\"T_17246_row6_col4\" class=\"data row6 col4\" >5.00</td>\n",
              "      <td id=\"T_17246_row6_col5\" class=\"data row6 col5\" >1.00</td>\n",
              "      <td id=\"T_17246_row6_col6\" class=\"data row6 col6\" >0.00</td>\n",
              "      <td id=\"T_17246_row6_col7\" class=\"data row6 col7\" >2.00</td>\n",
              "      <td id=\"T_17246_row6_col8\" class=\"data row6 col8\" >1.00</td>\n",
              "      <td id=\"T_17246_row6_col9\" class=\"data row6 col9\" >1.00</td>\n",
              "      <td id=\"T_17246_row6_col10\" class=\"data row6 col10\" >1.00</td>\n",
              "      <td id=\"T_17246_row6_col11\" class=\"data row6 col11\" >8.00</td>\n",
              "      <td id=\"T_17246_row6_col12\" class=\"data row6 col12\" >0.00</td>\n",
              "      <td id=\"T_17246_row6_col13\" class=\"data row6 col13\" >10.00</td>\n",
              "      <td id=\"T_17246_row6_col14\" class=\"data row6 col14\" >1.00</td>\n",
              "    </tr>\n",
              "    <tr>\n",
              "      <th id=\"T_17246_level0_row7\" class=\"row_heading level0 row7\" >max</th>\n",
              "      <td id=\"T_17246_row7_col0\" class=\"data row7 col0\" >891.00</td>\n",
              "      <td id=\"T_17246_row7_col1\" class=\"data row7 col1\" >1.00</td>\n",
              "      <td id=\"T_17246_row7_col2\" class=\"data row7 col2\" >3.00</td>\n",
              "      <td id=\"T_17246_row7_col3\" class=\"data row7 col3\" >1.00</td>\n",
              "      <td id=\"T_17246_row7_col4\" class=\"data row7 col4\" >7.00</td>\n",
              "      <td id=\"T_17246_row7_col5\" class=\"data row7 col5\" >8.00</td>\n",
              "      <td id=\"T_17246_row7_col6\" class=\"data row7 col6\" >6.00</td>\n",
              "      <td id=\"T_17246_row7_col7\" class=\"data row7 col7\" >5.00</td>\n",
              "      <td id=\"T_17246_row7_col8\" class=\"data row7 col8\" >2.00</td>\n",
              "      <td id=\"T_17246_row7_col9\" class=\"data row7 col9\" >10.00</td>\n",
              "      <td id=\"T_17246_row7_col10\" class=\"data row7 col10\" >1.00</td>\n",
              "      <td id=\"T_17246_row7_col11\" class=\"data row7 col11\" >8.00</td>\n",
              "      <td id=\"T_17246_row7_col12\" class=\"data row7 col12\" >2.00</td>\n",
              "      <td id=\"T_17246_row7_col13\" class=\"data row7 col13\" >21.00</td>\n",
              "      <td id=\"T_17246_row7_col14\" class=\"data row7 col14\" >5.00</td>\n",
              "    </tr>\n",
              "  </tbody>\n",
              "</table>\n"
            ]
          },
          "metadata": {}
        }
      ]
    },
    {
      "cell_type": "markdown",
      "source": [
        "**Coluna de Destino**"
      ],
      "metadata": {
        "id": "wkdTJsup__cT"
      }
    },
    {
      "cell_type": "code",
      "source": [
        "#Selecionando o Tamanho da Figura.\n",
        "plt.subplots(1,1,figsize= (10,8));\n",
        "\n",
        "#Atribuindo os valores\n",
        "\n",
        "#Selecionando a cor do Gráfico. no caso vermelho\n",
        "ax3 = y_dfTreino.value_counts().plot.bar(color= 'tab:red');\n",
        "\n",
        "#Selecionando a Cor do Título do Grafico no caso aqui Rosa. e o tamanho e a Fonte\n",
        "ax3.set_title(\"Analise Dos Sobreviventes pelo conjunto de Dados\", color = 'tab:Pink', fontsize= 15);\n",
        "\n",
        "#Sekecionando a Texto e a Cor de Rodapé do Gráfico\n",
        "ax3.set_xlabel('Status de Sobreviventes', color= 'tab:red');\n",
        "\n",
        "\n",
        "ax3.set_yticks(range(0, len(x_dfTreino), 50));\n",
        "ax3.set_ylabel('Passageiros', color= 'tab:green');\n",
        "plt.xticks(rotation = 0);\n",
        "plt.show();"
      ],
      "metadata": {
        "colab": {
          "base_uri": "https://localhost:8080/",
          "height": 0
        },
        "id": "GsH1fCHh__9B",
        "outputId": "5e6763d9-fee1-46b0-cb3d-4d4e3352d024"
      },
      "execution_count": 55,
      "outputs": [
        {
          "output_type": "display_data",
          "data": {
            "text/plain": [
              "<Figure size 720x576 with 1 Axes>"
            ],
            "image/png": "[encoded data removed]"
          },
          "metadata": {
            "needs_background": "light"
          }
        }
      ]
    },
    {
      "cell_type": "markdown",
      "source": [
        "### **Classe e sexo do passageiro**"
      ],
      "metadata": {
        "id": "QXThf7csBsZf"
      }
    },
    {
      "cell_type": "code",
      "source": [
        "#Agrupando os dados de Classe e sexo.\n",
        "p1 = dfTreino.groupby(['Sexo', 'Classe']).agg(Sobreviventes = pd.NamedAgg('Sobreviventes', np.sum),Passageiros = pd.NamedAgg('Sobreviventes', np.size)).sort_index(level=[1,0])\n",
        "p1['Sobreviventes_Rate'] = p1['Sobreviventes'] \n",
        "\n",
        "\n",
        "#/ p1['Passengers'];\n",
        "print(colored(f'\\nPassageiros sobrevivêntes pela Classe e Sexo.\\n', color = 'green', attrs= ['bold', 'dark'])); \\\n",
        "display(p1.style.format({'Sobreviventes_Rate':'{:.2%}'}))"
      ],
      "metadata": {
        "colab": {
          "base_uri": "https://localhost:8080/",
          "height": 0
        },
        "id": "k21wYLzpCJ5U",
        "outputId": "e26ea33a-9f80-4ebb-e8e7-4d2aa28cea33"
      },
      "execution_count": 56,
      "outputs": [
        {
          "output_type": "stream",
          "name": "stdout",
          "text": [
            "\u001b[2m\u001b[1m\u001b[32m\n",
            "Passageiros sobrevivêntes pela Classe e Sexo.\n",
            "\u001b[0m\n"
          ]
        },
        {
          "output_type": "display_data",
          "data": {
            "text/plain": [
              "<pandas.io.formats.style.Styler at 0x7fd3271a99d0>"
            ],
            "text/html": [
              "<style type=\"text/css\">\n",
              "</style>\n",
              "<table id=\"T_c63ac_\" class=\"dataframe\">\n",
              "  <thead>\n",
              "    <tr>\n",
              "      <th class=\"blank\" >&nbsp;</th>\n",
              "      <th class=\"blank level0\" >&nbsp;</th>\n",
              "      <th class=\"col_heading level0 col0\" >Sobreviventes</th>\n",
              "      <th class=\"col_heading level0 col1\" >Passageiros</th>\n",
              "      <th class=\"col_heading level0 col2\" >Sobreviventes_Rate</th>\n",
              "    </tr>\n",
              "    <tr>\n",
              "      <th class=\"index_name level0\" >Sexo</th>\n",
              "      <th class=\"index_name level1\" >Classe</th>\n",
              "      <th class=\"blank col0\" >&nbsp;</th>\n",
              "      <th class=\"blank col1\" >&nbsp;</th>\n",
              "      <th class=\"blank col2\" >&nbsp;</th>\n",
              "    </tr>\n",
              "  </thead>\n",
              "  <tbody>\n",
              "    <tr>\n",
              "      <th id=\"T_c63ac_level0_row0\" class=\"row_heading level0 row0\" >0</th>\n",
              "      <th id=\"T_c63ac_level1_row0\" class=\"row_heading level1 row0\" >1</th>\n",
              "      <td id=\"T_c63ac_row0_col0\" class=\"data row0 col0\" >45</td>\n",
              "      <td id=\"T_c63ac_row0_col1\" class=\"data row0 col1\" >122</td>\n",
              "      <td id=\"T_c63ac_row0_col2\" class=\"data row0 col2\" >4500.00%</td>\n",
              "    </tr>\n",
              "    <tr>\n",
              "      <th id=\"T_c63ac_level0_row1\" class=\"row_heading level0 row1\" >1</th>\n",
              "      <th id=\"T_c63ac_level1_row1\" class=\"row_heading level1 row1\" >1</th>\n",
              "      <td id=\"T_c63ac_row1_col0\" class=\"data row1 col0\" >91</td>\n",
              "      <td id=\"T_c63ac_row1_col1\" class=\"data row1 col1\" >94</td>\n",
              "      <td id=\"T_c63ac_row1_col2\" class=\"data row1 col2\" >9100.00%</td>\n",
              "    </tr>\n",
              "    <tr>\n",
              "      <th id=\"T_c63ac_level0_row2\" class=\"row_heading level0 row2\" >0</th>\n",
              "      <th id=\"T_c63ac_level1_row2\" class=\"row_heading level1 row2\" >2</th>\n",
              "      <td id=\"T_c63ac_row2_col0\" class=\"data row2 col0\" >17</td>\n",
              "      <td id=\"T_c63ac_row2_col1\" class=\"data row2 col1\" >108</td>\n",
              "      <td id=\"T_c63ac_row2_col2\" class=\"data row2 col2\" >1700.00%</td>\n",
              "    </tr>\n",
              "    <tr>\n",
              "      <th id=\"T_c63ac_level0_row3\" class=\"row_heading level0 row3\" >1</th>\n",
              "      <th id=\"T_c63ac_level1_row3\" class=\"row_heading level1 row3\" >2</th>\n",
              "      <td id=\"T_c63ac_row3_col0\" class=\"data row3 col0\" >70</td>\n",
              "      <td id=\"T_c63ac_row3_col1\" class=\"data row3 col1\" >76</td>\n",
              "      <td id=\"T_c63ac_row3_col2\" class=\"data row3 col2\" >7000.00%</td>\n",
              "    </tr>\n",
              "    <tr>\n",
              "      <th id=\"T_c63ac_level0_row4\" class=\"row_heading level0 row4\" >0</th>\n",
              "      <th id=\"T_c63ac_level1_row4\" class=\"row_heading level1 row4\" >3</th>\n",
              "      <td id=\"T_c63ac_row4_col0\" class=\"data row4 col0\" >47</td>\n",
              "      <td id=\"T_c63ac_row4_col1\" class=\"data row4 col1\" >347</td>\n",
              "      <td id=\"T_c63ac_row4_col2\" class=\"data row4 col2\" >4700.00%</td>\n",
              "    </tr>\n",
              "    <tr>\n",
              "      <th id=\"T_c63ac_level0_row5\" class=\"row_heading level0 row5\" >1</th>\n",
              "      <th id=\"T_c63ac_level1_row5\" class=\"row_heading level1 row5\" >3</th>\n",
              "      <td id=\"T_c63ac_row5_col0\" class=\"data row5 col0\" >72</td>\n",
              "      <td id=\"T_c63ac_row5_col1\" class=\"data row5 col1\" >144</td>\n",
              "      <td id=\"T_c63ac_row5_col2\" class=\"data row5 col2\" >7200.00%</td>\n",
              "    </tr>\n",
              "  </tbody>\n",
              "</table>\n"
            ]
          },
          "metadata": {}
        }
      ]
    },
    {
      "cell_type": "code",
      "source": [
        "p10 = p1.groupby(level= 0).agg({'Sobreviventes':np.sum, 'Passageiros':np.sum});\n",
        "p10['Survival_Rate'] = p10['Sobreviventes'] / p10['Passageiros'];\n",
        "\n",
        "p11 = p1.groupby(level= 1).agg({'Sobreviventes':np.sum, 'Passageiros':np.sum});\n",
        "p11['Survival_Rate'] = p11['Sobreviventes'] / p11['Passageiros'];"
      ],
      "metadata": {
        "id": "fjOpXsIDUUMD"
      },
      "execution_count": 57,
      "outputs": []
    },
    {
      "cell_type": "code",
      "source": [
        "print('\\n');\n",
        "fig, ax = plt.subplots(nrows= 1,ncols=2,figsize = (12,6), sharey= True);\n",
        "\n",
        "#Mulheres são representadas pelo 0 (p10) e os homens pelo 1 (p11)\n",
        "sns.barplot(x = p10.index, y = p10.Survival_Rate, palette = 'Blues', ax = ax[0]);\n",
        "sns.barplot(x = p11.index, y = p11.Survival_Rate, palette = 'Blues', ax= ax[1]);\n",
        "\n",
        "# Gerando os Gráficos\n",
        "ax[0].set_title(\" Análise de sobrevivência por gênero\", color = 'tab:green', fontsize = 15);\n",
        "ax[1].set_title(\" Análise de sobrevivência por classe de passageiros \", color = 'tab:green', fontsize = 15);\n",
        "\n",
        "plt.yticks(np.arange(0,1,0.05),fontsize= 12, color = 'red');\n",
        "plt.show()\n",
        "\n",
        "del p1, p10, p11;"
      ],
      "metadata": {
        "colab": {
          "base_uri": "https://localhost:8080/",
          "height": 0
        },
        "id": "KHEKN1WGBs36",
        "outputId": "8f54d55e-1b1b-473d-906a-a853c2a3fceb"
      },
      "execution_count": 58,
      "outputs": [
        {
          "output_type": "stream",
          "name": "stdout",
          "text": [
            "\n",
            "\n"
          ]
        },
        {
          "output_type": "display_data",
          "data": {
            "text/plain": [
              "<Figure size 864x432 with 2 Axes>"
            ],
            "image/png": "[encoded data removed]"
          },
          "metadata": {
            "needs_background": "light"
          }
        }
      ]
    },
    {
      "cell_type": "markdown",
      "source": [
        "### **Idade**"
      ],
      "metadata": {
        "id": "j5y9i4mGcQxL"
      }
    },
    {
      "cell_type": "code",
      "source": [
        "fig, ax = plt.subplots(1,2,figsize = (22,10));\n",
        "sns.histplot(x = dfTreino['Idade'], kde= True, palette = 'Blues', ax = ax[0]);\n",
        "ax[0].set_title(f\"Análise geral de distribuição de idade\", color = 'tab:blue', fontsize= 15 )\n",
        "\n",
        "sns.boxplot(x = dfTreino.Classe, y = dfTreino.Idade, palette = 'Blues', ax = ax[1]);\n",
        "ax[1].set_title(f\"Distribuição de idade por classe\", color = 'tab:blue', fontsize= 12);\n",
        "\n",
        "plt.show();"
      ],
      "metadata": {
        "colab": {
          "base_uri": "https://localhost:8080/",
          "height": 0
        },
        "id": "yvrqGQRzccHj",
        "outputId": "bd105ff8-f4e0-46c7-f07a-b8ec8d3681e5"
      },
      "execution_count": 59,
      "outputs": [
        {
          "output_type": "display_data",
          "data": {
            "text/plain": [
              "<Figure size 1584x720 with 2 Axes>"
            ],
            "image/png": "[encoded data removed]"
          },
          "metadata": {
            "needs_background": "light"
          }
        }
      ]
    },
    {
      "cell_type": "markdown",
      "source": [
        "### **Sobreviventes Pela Tarifa**"
      ],
      "metadata": {
        "id": "wHkKI_mLejFK"
      }
    },
    {
      "cell_type": "code",
      "source": [
        "#Selecionando o Texto o Tamanho e as Cores\n",
        "print(colored(f\"\\nTarifa do bilhete por Classe e sobrevivência\\n\", color = 'green', attrs= ['bold', 'dark']));\n",
        "\n",
        "# Mostrando os Dados e os sobreviventes pela Tarifa\n",
        "display(dfTreino.groupby(['Classe', 'Sobreviventes']).agg({'Tarifa': [np.amin, np.median, np.mean, np.amax]}).style.format('{:.2f}'))"
      ],
      "metadata": {
        "colab": {
          "base_uri": "https://localhost:8080/",
          "height": 0
        },
        "id": "LQptsouzekwg",
        "outputId": "e6bea496-0469-42aa-8f11-e3afcd845813"
      },
      "execution_count": 60,
      "outputs": [
        {
          "output_type": "stream",
          "name": "stdout",
          "text": [
            "\u001b[2m\u001b[1m\u001b[32m\n",
            "Tarifa do bilhete por Classe e sobrevivência\n",
            "\u001b[0m\n"
          ]
        },
        {
          "output_type": "display_data",
          "data": {
            "text/plain": [
              "<pandas.io.formats.style.Styler at 0x7fd32b0b9950>"
            ],
            "text/html": [
              "<style type=\"text/css\">\n",
              "</style>\n",
              "<table id=\"T_72ed3_\" class=\"dataframe\">\n",
              "  <thead>\n",
              "    <tr>\n",
              "      <th class=\"blank\" >&nbsp;</th>\n",
              "      <th class=\"blank level0\" >&nbsp;</th>\n",
              "      <th class=\"col_heading level0 col0\" colspan=\"4\">Tarifa</th>\n",
              "    </tr>\n",
              "    <tr>\n",
              "      <th class=\"blank\" >&nbsp;</th>\n",
              "      <th class=\"blank level1\" >&nbsp;</th>\n",
              "      <th class=\"col_heading level1 col0\" >amin</th>\n",
              "      <th class=\"col_heading level1 col1\" >median</th>\n",
              "      <th class=\"col_heading level1 col2\" >mean</th>\n",
              "      <th class=\"col_heading level1 col3\" >amax</th>\n",
              "    </tr>\n",
              "    <tr>\n",
              "      <th class=\"index_name level0\" >Classe</th>\n",
              "      <th class=\"index_name level1\" >Sobreviventes</th>\n",
              "      <th class=\"blank col0\" >&nbsp;</th>\n",
              "      <th class=\"blank col1\" >&nbsp;</th>\n",
              "      <th class=\"blank col2\" >&nbsp;</th>\n",
              "      <th class=\"blank col3\" >&nbsp;</th>\n",
              "    </tr>\n",
              "  </thead>\n",
              "  <tbody>\n",
              "    <tr>\n",
              "      <th id=\"T_72ed3_level0_row0\" class=\"row_heading level0 row0\" rowspan=\"2\">1</th>\n",
              "      <th id=\"T_72ed3_level1_row0\" class=\"row_heading level1 row0\" >0</th>\n",
              "      <td id=\"T_72ed3_row0_col0\" class=\"data row0 col0\" >0.00</td>\n",
              "      <td id=\"T_72ed3_row0_col1\" class=\"data row0 col1\" >3.00</td>\n",
              "      <td id=\"T_72ed3_row0_col2\" class=\"data row0 col2\" >2.67</td>\n",
              "      <td id=\"T_72ed3_row0_col3\" class=\"data row0 col3\" >5.00</td>\n",
              "    </tr>\n",
              "    <tr>\n",
              "      <th id=\"T_72ed3_level1_row1\" class=\"row_heading level1 row1\" >1</th>\n",
              "      <td id=\"T_72ed3_row1_col0\" class=\"data row1 col0\" >2.00</td>\n",
              "      <td id=\"T_72ed3_row1_col1\" class=\"data row1 col1\" >3.00</td>\n",
              "      <td id=\"T_72ed3_row1_col2\" class=\"data row1 col2\" >3.14</td>\n",
              "      <td id=\"T_72ed3_row1_col3\" class=\"data row1 col3\" >5.00</td>\n",
              "    </tr>\n",
              "    <tr>\n",
              "      <th id=\"T_72ed3_level0_row2\" class=\"row_heading level0 row2\" rowspan=\"2\">2</th>\n",
              "      <th id=\"T_72ed3_level1_row2\" class=\"row_heading level1 row2\" >0</th>\n",
              "      <td id=\"T_72ed3_row2_col0\" class=\"data row2 col0\" >0.00</td>\n",
              "      <td id=\"T_72ed3_row2_col1\" class=\"data row2 col1\" >1.00</td>\n",
              "      <td id=\"T_72ed3_row2_col2\" class=\"data row2 col2\" >1.43</td>\n",
              "      <td id=\"T_72ed3_row2_col3\" class=\"data row2 col3\" >3.00</td>\n",
              "    </tr>\n",
              "    <tr>\n",
              "      <th id=\"T_72ed3_level1_row3\" class=\"row_heading level1 row3\" >1</th>\n",
              "      <td id=\"T_72ed3_row3_col0\" class=\"data row3 col0\" >1.00</td>\n",
              "      <td id=\"T_72ed3_row3_col1\" class=\"data row3 col1\" >2.00</td>\n",
              "      <td id=\"T_72ed3_row3_col2\" class=\"data row3 col2\" >1.74</td>\n",
              "      <td id=\"T_72ed3_row3_col3\" class=\"data row3 col3\" >3.00</td>\n",
              "    </tr>\n",
              "    <tr>\n",
              "      <th id=\"T_72ed3_level0_row4\" class=\"row_heading level0 row4\" rowspan=\"2\">3</th>\n",
              "      <th id=\"T_72ed3_level1_row4\" class=\"row_heading level1 row4\" >0</th>\n",
              "      <td id=\"T_72ed3_row4_col0\" class=\"data row4 col0\" >0.00</td>\n",
              "      <td id=\"T_72ed3_row4_col1\" class=\"data row4 col1\" >1.00</td>\n",
              "      <td id=\"T_72ed3_row4_col2\" class=\"data row4 col2\" >0.84</td>\n",
              "      <td id=\"T_72ed3_row4_col3\" class=\"data row4 col3\" >3.00</td>\n",
              "    </tr>\n",
              "    <tr>\n",
              "      <th id=\"T_72ed3_level1_row5\" class=\"row_heading level1 row5\" >1</th>\n",
              "      <td id=\"T_72ed3_row5_col0\" class=\"data row5 col0\" >0.00</td>\n",
              "      <td id=\"T_72ed3_row5_col1\" class=\"data row5 col1\" >1.00</td>\n",
              "      <td id=\"T_72ed3_row5_col2\" class=\"data row5 col2\" >0.94</td>\n",
              "      <td id=\"T_72ed3_row5_col3\" class=\"data row5 col3\" >3.00</td>\n",
              "    </tr>\n",
              "  </tbody>\n",
              "</table>\n"
            ]
          },
          "metadata": {}
        }
      ]
    },
    {
      "cell_type": "markdown",
      "source": [
        "### Inferencia dos Dados"
      ],
      "metadata": {
        "id": "8dfZlnXwgXBk"
      }
    },
    {
      "cell_type": "code",
      "source": [
        "print(colored(f\"\\nInferência de dados nulos na Coluna de Cabine\\n\", color = 'green', attrs= ['bold', 'dark']));\n",
        "\n",
        "\n",
        "display(dfTreino.assign(Cabine = dfTreino.Cabine.str[0:1]).groupby(['Cabine', 'Classe'], dropna= False).\\\n",
        "        agg({'Tarifa':[np.median, np.mean, np.amin, np.amax], \n",
        "             'ID_Passageiro':[np.size], \n",
        "             'Sobreviventes': [np.sum]})\\\n",
        "        .style.format('{:,.0f}'));"
      ],
      "metadata": {
        "colab": {
          "base_uri": "https://localhost:8080/",
          "height": 0
        },
        "id": "83xLPaAMgX4G",
        "outputId": "89233d47-5b9c-4df7-d6ef-7dea53b9e9a4"
      },
      "execution_count": 61,
      "outputs": [
        {
          "output_type": "stream",
          "name": "stdout",
          "text": [
            "\u001b[2m\u001b[1m\u001b[32m\n",
            "Inferência de dados nulos na Coluna de Cabine\n",
            "\u001b[0m\n"
          ]
        },
        {
          "output_type": "display_data",
          "data": {
            "text/plain": [
              "<pandas.io.formats.style.Styler at 0x7fd327203150>"
            ],
            "text/html": [
              "<style type=\"text/css\">\n",
              "</style>\n",
              "<table id=\"T_3be84_\" class=\"dataframe\">\n",
              "  <thead>\n",
              "    <tr>\n",
              "      <th class=\"blank\" >&nbsp;</th>\n",
              "      <th class=\"blank level0\" >&nbsp;</th>\n",
              "      <th class=\"col_heading level0 col0\" colspan=\"4\">Tarifa</th>\n",
              "      <th class=\"col_heading level0 col4\" >ID_Passageiro</th>\n",
              "      <th class=\"col_heading level0 col5\" >Sobreviventes</th>\n",
              "    </tr>\n",
              "    <tr>\n",
              "      <th class=\"blank\" >&nbsp;</th>\n",
              "      <th class=\"blank level1\" >&nbsp;</th>\n",
              "      <th class=\"col_heading level1 col0\" >median</th>\n",
              "      <th class=\"col_heading level1 col1\" >mean</th>\n",
              "      <th class=\"col_heading level1 col2\" >amin</th>\n",
              "      <th class=\"col_heading level1 col3\" >amax</th>\n",
              "      <th class=\"col_heading level1 col4\" >size</th>\n",
              "      <th class=\"col_heading level1 col5\" >sum</th>\n",
              "    </tr>\n",
              "    <tr>\n",
              "      <th class=\"index_name level0\" >Cabine</th>\n",
              "      <th class=\"index_name level1\" >Classe</th>\n",
              "      <th class=\"blank col0\" >&nbsp;</th>\n",
              "      <th class=\"blank col1\" >&nbsp;</th>\n",
              "      <th class=\"blank col2\" >&nbsp;</th>\n",
              "      <th class=\"blank col3\" >&nbsp;</th>\n",
              "      <th class=\"blank col4\" >&nbsp;</th>\n",
              "      <th class=\"blank col5\" >&nbsp;</th>\n",
              "    </tr>\n",
              "  </thead>\n",
              "  <tbody>\n",
              "    <tr>\n",
              "      <th id=\"T_3be84_level0_row0\" class=\"row_heading level0 row0\" >A</th>\n",
              "      <th id=\"T_3be84_level1_row0\" class=\"row_heading level1 row0\" >1</th>\n",
              "      <td id=\"T_3be84_row0_col0\" class=\"data row0 col0\" >3</td>\n",
              "      <td id=\"T_3be84_row0_col1\" class=\"data row0 col1\" >3</td>\n",
              "      <td id=\"T_3be84_row0_col2\" class=\"data row0 col2\" >0</td>\n",
              "      <td id=\"T_3be84_row0_col3\" class=\"data row0 col3\" >3</td>\n",
              "      <td id=\"T_3be84_row0_col4\" class=\"data row0 col4\" >15</td>\n",
              "      <td id=\"T_3be84_row0_col5\" class=\"data row0 col5\" >7</td>\n",
              "    </tr>\n",
              "    <tr>\n",
              "      <th id=\"T_3be84_level0_row1\" class=\"row_heading level0 row1\" >B</th>\n",
              "      <th id=\"T_3be84_level1_row1\" class=\"row_heading level1 row1\" >1</th>\n",
              "      <td id=\"T_3be84_row1_col0\" class=\"data row1 col0\" >3</td>\n",
              "      <td id=\"T_3be84_row1_col1\" class=\"data row1 col1\" >3</td>\n",
              "      <td id=\"T_3be84_row1_col2\" class=\"data row1 col2\" >0</td>\n",
              "      <td id=\"T_3be84_row1_col3\" class=\"data row1 col3\" >5</td>\n",
              "      <td id=\"T_3be84_row1_col4\" class=\"data row1 col4\" >47</td>\n",
              "      <td id=\"T_3be84_row1_col5\" class=\"data row1 col5\" >35</td>\n",
              "    </tr>\n",
              "    <tr>\n",
              "      <th id=\"T_3be84_level0_row2\" class=\"row_heading level0 row2\" >C</th>\n",
              "      <th id=\"T_3be84_level1_row2\" class=\"row_heading level1 row2\" >1</th>\n",
              "      <td id=\"T_3be84_row2_col0\" class=\"data row2 col0\" >3</td>\n",
              "      <td id=\"T_3be84_row2_col1\" class=\"data row2 col1\" >3</td>\n",
              "      <td id=\"T_3be84_row2_col2\" class=\"data row2 col2\" >2</td>\n",
              "      <td id=\"T_3be84_row2_col3\" class=\"data row2 col3\" >5</td>\n",
              "      <td id=\"T_3be84_row2_col4\" class=\"data row2 col4\" >59</td>\n",
              "      <td id=\"T_3be84_row2_col5\" class=\"data row2 col5\" >35</td>\n",
              "    </tr>\n",
              "    <tr>\n",
              "      <th id=\"T_3be84_level0_row3\" class=\"row_heading level0 row3\" rowspan=\"2\">D</th>\n",
              "      <th id=\"T_3be84_level1_row3\" class=\"row_heading level1 row3\" >1</th>\n",
              "      <td id=\"T_3be84_row3_col0\" class=\"data row3 col0\" >3</td>\n",
              "      <td id=\"T_3be84_row3_col1\" class=\"data row3 col1\" >3</td>\n",
              "      <td id=\"T_3be84_row3_col2\" class=\"data row3 col2\" >2</td>\n",
              "      <td id=\"T_3be84_row3_col3\" class=\"data row3 col3\" >4</td>\n",
              "      <td id=\"T_3be84_row3_col4\" class=\"data row3 col4\" >29</td>\n",
              "      <td id=\"T_3be84_row3_col5\" class=\"data row3 col5\" >22</td>\n",
              "    </tr>\n",
              "    <tr>\n",
              "      <th id=\"T_3be84_level1_row4\" class=\"row_heading level1 row4\" >2</th>\n",
              "      <td id=\"T_3be84_row4_col0\" class=\"data row4 col0\" >1</td>\n",
              "      <td id=\"T_3be84_row4_col1\" class=\"data row4 col1\" >1</td>\n",
              "      <td id=\"T_3be84_row4_col2\" class=\"data row4 col2\" >1</td>\n",
              "      <td id=\"T_3be84_row4_col3\" class=\"data row4 col3\" >1</td>\n",
              "      <td id=\"T_3be84_row4_col4\" class=\"data row4 col4\" >4</td>\n",
              "      <td id=\"T_3be84_row4_col5\" class=\"data row4 col5\" >3</td>\n",
              "    </tr>\n",
              "    <tr>\n",
              "      <th id=\"T_3be84_level0_row5\" class=\"row_heading level0 row5\" rowspan=\"3\">E</th>\n",
              "      <th id=\"T_3be84_level1_row5\" class=\"row_heading level1 row5\" >1</th>\n",
              "      <td id=\"T_3be84_row5_col0\" class=\"data row5 col0\" >3</td>\n",
              "      <td id=\"T_3be84_row5_col1\" class=\"data row5 col1\" >3</td>\n",
              "      <td id=\"T_3be84_row5_col2\" class=\"data row5 col2\" >2</td>\n",
              "      <td id=\"T_3be84_row5_col3\" class=\"data row5 col3\" >4</td>\n",
              "      <td id=\"T_3be84_row5_col4\" class=\"data row5 col4\" >25</td>\n",
              "      <td id=\"T_3be84_row5_col5\" class=\"data row5 col5\" >18</td>\n",
              "    </tr>\n",
              "    <tr>\n",
              "      <th id=\"T_3be84_level1_row6\" class=\"row_heading level1 row6\" >2</th>\n",
              "      <td id=\"T_3be84_row6_col0\" class=\"data row6 col0\" >1</td>\n",
              "      <td id=\"T_3be84_row6_col1\" class=\"data row6 col1\" >1</td>\n",
              "      <td id=\"T_3be84_row6_col2\" class=\"data row6 col2\" >1</td>\n",
              "      <td id=\"T_3be84_row6_col3\" class=\"data row6 col3\" >1</td>\n",
              "      <td id=\"T_3be84_row6_col4\" class=\"data row6 col4\" >4</td>\n",
              "      <td id=\"T_3be84_row6_col5\" class=\"data row6 col5\" >3</td>\n",
              "    </tr>\n",
              "    <tr>\n",
              "      <th id=\"T_3be84_level1_row7\" class=\"row_heading level1 row7\" >3</th>\n",
              "      <td id=\"T_3be84_row7_col0\" class=\"data row7 col0\" >1</td>\n",
              "      <td id=\"T_3be84_row7_col1\" class=\"data row7 col1\" >1</td>\n",
              "      <td id=\"T_3be84_row7_col2\" class=\"data row7 col2\" >1</td>\n",
              "      <td id=\"T_3be84_row7_col3\" class=\"data row7 col3\" >1</td>\n",
              "      <td id=\"T_3be84_row7_col4\" class=\"data row7 col4\" >3</td>\n",
              "      <td id=\"T_3be84_row7_col5\" class=\"data row7 col5\" >3</td>\n",
              "    </tr>\n",
              "    <tr>\n",
              "      <th id=\"T_3be84_level0_row8\" class=\"row_heading level0 row8\" rowspan=\"2\">F</th>\n",
              "      <th id=\"T_3be84_level1_row8\" class=\"row_heading level1 row8\" >2</th>\n",
              "      <td id=\"T_3be84_row8_col0\" class=\"data row8 col0\" >2</td>\n",
              "      <td id=\"T_3be84_row8_col1\" class=\"data row8 col1\" >2</td>\n",
              "      <td id=\"T_3be84_row8_col2\" class=\"data row8 col2\" >1</td>\n",
              "      <td id=\"T_3be84_row8_col3\" class=\"data row8 col3\" >3</td>\n",
              "      <td id=\"T_3be84_row8_col4\" class=\"data row8 col4\" >8</td>\n",
              "      <td id=\"T_3be84_row8_col5\" class=\"data row8 col5\" >7</td>\n",
              "    </tr>\n",
              "    <tr>\n",
              "      <th id=\"T_3be84_level1_row9\" class=\"row_heading level1 row9\" >3</th>\n",
              "      <td id=\"T_3be84_row9_col0\" class=\"data row9 col0\" >0</td>\n",
              "      <td id=\"T_3be84_row9_col1\" class=\"data row9 col1\" >0</td>\n",
              "      <td id=\"T_3be84_row9_col2\" class=\"data row9 col2\" >0</td>\n",
              "      <td id=\"T_3be84_row9_col3\" class=\"data row9 col3\" >2</td>\n",
              "      <td id=\"T_3be84_row9_col4\" class=\"data row9 col4\" >5</td>\n",
              "      <td id=\"T_3be84_row9_col5\" class=\"data row9 col5\" >1</td>\n",
              "    </tr>\n",
              "    <tr>\n",
              "      <th id=\"T_3be84_level0_row10\" class=\"row_heading level0 row10\" >G</th>\n",
              "      <th id=\"T_3be84_level1_row10\" class=\"row_heading level1 row10\" >3</th>\n",
              "      <td id=\"T_3be84_row10_col0\" class=\"data row10 col0\" >2</td>\n",
              "      <td id=\"T_3be84_row10_col1\" class=\"data row10 col1\" >2</td>\n",
              "      <td id=\"T_3be84_row10_col2\" class=\"data row10 col2\" >1</td>\n",
              "      <td id=\"T_3be84_row10_col3\" class=\"data row10 col3\" >2</td>\n",
              "      <td id=\"T_3be84_row10_col4\" class=\"data row10 col4\" >4</td>\n",
              "      <td id=\"T_3be84_row10_col5\" class=\"data row10 col5\" >2</td>\n",
              "    </tr>\n",
              "    <tr>\n",
              "      <th id=\"T_3be84_level0_row11\" class=\"row_heading level0 row11\" >T</th>\n",
              "      <th id=\"T_3be84_level1_row11\" class=\"row_heading level1 row11\" >1</th>\n",
              "      <td id=\"T_3be84_row11_col0\" class=\"data row11 col0\" >3</td>\n",
              "      <td id=\"T_3be84_row11_col1\" class=\"data row11 col1\" >3</td>\n",
              "      <td id=\"T_3be84_row11_col2\" class=\"data row11 col2\" >3</td>\n",
              "      <td id=\"T_3be84_row11_col3\" class=\"data row11 col3\" >3</td>\n",
              "      <td id=\"T_3be84_row11_col4\" class=\"data row11 col4\" >1</td>\n",
              "      <td id=\"T_3be84_row11_col5\" class=\"data row11 col5\" >0</td>\n",
              "    </tr>\n",
              "    <tr>\n",
              "      <th id=\"T_3be84_level0_row12\" class=\"row_heading level0 row12\" rowspan=\"3\">U</th>\n",
              "      <th id=\"T_3be84_level1_row12\" class=\"row_heading level1 row12\" >1</th>\n",
              "      <td id=\"T_3be84_row12_col0\" class=\"data row12 col0\" >3</td>\n",
              "      <td id=\"T_3be84_row12_col1\" class=\"data row12 col1\" >3</td>\n",
              "      <td id=\"T_3be84_row12_col2\" class=\"data row12 col2\" >0</td>\n",
              "      <td id=\"T_3be84_row12_col3\" class=\"data row12 col3\" >5</td>\n",
              "      <td id=\"T_3be84_row12_col4\" class=\"data row12 col4\" >40</td>\n",
              "      <td id=\"T_3be84_row12_col5\" class=\"data row12 col5\" >19</td>\n",
              "    </tr>\n",
              "    <tr>\n",
              "      <th id=\"T_3be84_level1_row13\" class=\"row_heading level1 row13\" >2</th>\n",
              "      <td id=\"T_3be84_row13_col0\" class=\"data row13 col0\" >2</td>\n",
              "      <td id=\"T_3be84_row13_col1\" class=\"data row13 col1\" >2</td>\n",
              "      <td id=\"T_3be84_row13_col2\" class=\"data row13 col2\" >0</td>\n",
              "      <td id=\"T_3be84_row13_col3\" class=\"data row13 col3\" >3</td>\n",
              "      <td id=\"T_3be84_row13_col4\" class=\"data row13 col4\" >168</td>\n",
              "      <td id=\"T_3be84_row13_col5\" class=\"data row13 col5\" >74</td>\n",
              "    </tr>\n",
              "    <tr>\n",
              "      <th id=\"T_3be84_level1_row14\" class=\"row_heading level1 row14\" >3</th>\n",
              "      <td id=\"T_3be84_row14_col0\" class=\"data row14 col0\" >1</td>\n",
              "      <td id=\"T_3be84_row14_col1\" class=\"data row14 col1\" >1</td>\n",
              "      <td id=\"T_3be84_row14_col2\" class=\"data row14 col2\" >0</td>\n",
              "      <td id=\"T_3be84_row14_col3\" class=\"data row14 col3\" >3</td>\n",
              "      <td id=\"T_3be84_row14_col4\" class=\"data row14 col4\" >479</td>\n",
              "      <td id=\"T_3be84_row14_col5\" class=\"data row14 col5\" >113</td>\n",
              "    </tr>\n",
              "  </tbody>\n",
              "</table>\n"
            ]
          },
          "metadata": {}
        }
      ]
    },
    {
      "cell_type": "markdown",
      "source": [
        "### **Criando funções e classes de ajudante de pipeline**"
      ],
      "metadata": {
        "id": "gHA--W6qnrdk"
      }
    },
    {
      "cell_type": "markdown",
      "source": [
        "Esta é uma função adicional para tratar a coluna de cabine com valor nulo nos dados de treino e de teste.\n",
        "    Isso foi projetado para imputar os nulos em vez de descartar a coluna completamente.\n",
        "\n",
        "    O tratamento de nulos segue o processo abaixo:\n",
        "\n",
        "    1. Crie uma variável composta com a categoria cabina (1ª letra na coluna cabine) e a Classe.\n",
        "    Esta é uma variável de interação\n",
        "\n",
        "    2. Considere passageiros com a mesma Classe do sujeito\n",
        "\n",
        "    3. Mapeie a categoria de cabine composta com as instâncias nulas na cabine com base na diferença de tarifa mais baixa.\n",
        "    As funções SQL de janela são usadas para o mesmo\n",
        "\n",
        "    4. Para os casos em que a tarifa não esteja disponível, utilize a modalidade da categoria de cabine por Classe.\n",
        "    \n",
        "    Input- df1 (dataframe):- Dataframe de entrada sem tratamento\n",
        "    Retorna- df (dataframe):- Dataframe com os nulos da cabine tratados"
      ],
      "metadata": {
        "id": "KTtfTgR6lHlz"
      }
    },
    {
      "cell_type": "code",
      "source": [
        "def TreatCabinNulls(df1:pd.DataFrame):\n",
        "    \"\"\"    \n",
        "    \"\"\";\n",
        "    \n",
        "    global dfTreino, dfTeste;\n",
        "    \n",
        "    cabine_trmt_prf = \\\n",
        "    sqldf(f\"\"\" \n",
        "    select ID_Passageiro, Classe, Tarifa, Embarcou, Cabine from dfTreino \n",
        "    union all\n",
        "    select ID_Passageiro, Classe, Tarifa, Embarcou, Cabine from dfTeste\n",
        "    \"\"\");\n",
        "\n",
        "    #  Criando uma variável proxy com a tarifa e Classe   \n",
        "    cabine_trmt_prf = \\\n",
        "    sqldf(f\"\"\"\n",
        "   select A1.PID1 as ID_Passageiro, A1.Classe, A1.cabine_Ctg_Lbl\n",
        "    from \n",
        "    (\n",
        "    select a.ID_Passageiro as PID1,a.Classe, b.ID_Passageiro as PID2, b.cabine_Ctg_Lbl, a.Tarifa as Tarifa, b.Tarifa as Tarifa, abs(a.Tarifa - b.Tarifa) as Tarifa_Diff,\n",
        "    row_number() over(partition by a.ID_Passageiro ORDER BY abs(a.Tarifa - b.Tarifa) asc) as Tarifa_Diff_Rank\n",
        "    from \n",
        "    (select ID_Passageiro, Classe, Tarifa, Embarcou from cabine_trmt_prf WHERE Cabine is null) A \n",
        "    inner join \n",
        "    (\n",
        "    select ID_Passageiro, Classe, Tarifa, (cast(Classe as varchar(1)) || substr(Cabine,1,1)) AS cabine_Ctg_Lbl, Embarcou \n",
        "    from cabine_trmt_prf \n",
        "    where Cabine is not null\n",
        "    ) B on (A.Classe = B.Classe and abs(a.Tarifa - b.Tarifa) <= 50)\n",
        "    ) A1\n",
        "    where A1.Tarifa_Diff_Rank == 1\n",
        "    \"\"\");\n",
        "    \n",
        "    #  Finalmente anexando os nulos ainda presentes com o modo do rótulo Classe e Categorias:-\n",
        "    cabine_trmt_prf = \\\n",
        "    sqldf(\"\"\"\n",
        "    select a.* from \n",
        "    (\n",
        "    select Classe, cabine_Ctg_Lbl, count(ID_Passageiro) as cnt, row_number() over (order by count(ID_Passageiro) desc) as rank_id\n",
        "    from cabine_trmt_mst \n",
        "    group by Classe, cabine_Ctg_Lbl\n",
        "    ) a\n",
        "    where a.rank_id = 1\n",
        "    \"\"\");\n",
        " \n",
        "    # Mapeando a variável de interação para a tabela relevante:-   \n",
        "    df = df1.copy();   \n",
        "    df = sqldf(\"\"\"\n",
        "    select a.*, coalesce(coalesce(b.cabine_Ctg_Lbl, cast(a.Classe as varchar(1)) || substr(a.Cabine,1,1)), c.cabine_Ctg_Lbl) as cabine_Class_Lbl \n",
        "    from df a \n",
        "    left join cabine_trmt_mst b on a.ID_Passageiro = B.ID_Passageiro\n",
        "    left join cabine_md_sum c on a.Classe = c.Classe\n",
        "    \"\"\");  \n",
        "    \n",
        "    del cabine_trmt_mst, cabine_trmt_prf, cabine_md_sum; \n",
        "    return df;  "
      ],
      "metadata": {
        "id": "oFIafJY5oW_t"
      },
      "execution_count": 63,
      "outputs": []
    },
    {
      "cell_type": "markdown",
      "source": [
        "Esta função faz as tarefas abaixo:\n",
        "\n",
        "    1. Cria um atributo de título da coluna de nome\n",
        "    2. Atribui 'outros' a títulos incomuns\n",
        "    3. Cria um sinalizador para 'filho' a partir do título. Isso é    usado para preencher os nulos de idade.\n",
        "    4. Cria uma coluna 'contagem de membros da família' a partir dos atributos Sibsp e Parch\n",
        "    5. Descarta colunas supérfluas\n",
        "    \n",
        "    Entrada- df (dataframe):- Análise de dataframe\n",
        "    Retorna- df (dataframe):- Dataframe modificado  "
      ],
      "metadata": {
        "id": "WE5tS6Zfwblm"
      }
    },
    {
      "cell_type": "code",
      "source": [
        "def Xform_Data(df1:pd.DataFrame): \n",
        "    \"\"\"\n",
        "   \n",
        "    \"\"\";\n",
        "    \n",
        "    filterwarnings(action= \"ignore\");\n",
        "    df = df1.copy();\n",
        "    \n",
        "    df['Titulo'] = df['Nome'].apply(lambda x: re.findall(r\"\\S+\\. \",x)[0].strip()[0:-1]);\n",
        "    df['Titulo'].loc[~df.Titulo.isin(['Senhor', 'Senhora', 'Miss', 'Mestre'])] = 'Outro';\n",
        "    df['Crianca'] = np.select([df['Titulo'].str.lower() == 'Mestre2'], ['Sim'], 'Nao');    \n",
        "    df['Nb_Familia_Mem'] = df['SibSp'].fillna(0) + df['Parch'].fillna(0);  \n",
        "\n",
        "    #Apagando os dados.\n",
        "    df = df.drop(['ID_Passageiro', 'Ticket', 'Nome', 'Cabine'], axis= 1);  \n",
        "    \n",
        "    return df;"
      ],
      "metadata": {
        "id": "uV6D7wP3wcSe"
      },
      "execution_count": 68,
      "outputs": []
    },
    {
      "cell_type": "code",
      "source": [
        "class IdadeImputer(BaseEstimator, TransformerMixin):\n",
        "\n",
        "    \"\"\"Esta classe foi projetada para preencher os valores nulos de idade com as medianas baseadas no gênero infantil/adulto\"\"\";\n",
        "    def __init__(self): pass\n",
        "    def fit(self, X, y=None, **fit_params):\n",
        "\n",
        "        \"Esta função aprende as medianas de treinamento nos grupos de crianças e adultos para preencher nulos\";\n",
        "        self.median_ = X.groupby(['Criancas','Sexo'])[['Idade']].median().reset_index();\n",
        "        return self;\n",
        "    def transform(self, X, y=None, **transform_params):\n",
        "        \n",
        "        \"Esta função imputa os valores nulos no conjunto de dados relevante de acordo com as medianas\";\n",
        "        X1 = X.merge(self.median_, how= 'left', on= ['Criancas', 'Sexo'], suffixes= ('', '_Median'));\n",
        "        X1['Idade'] = X1['Idade'].fillna(X1.Idade_Median);\n",
        "        X1 = X1.drop(['Idade_Median'], axis= 1);\n",
        "        return X1;\n",
        "       "
      ],
      "metadata": {
        "id": "LGH1-Njzy9i9"
      },
      "execution_count": 69,
      "outputs": []
    },
    {
      "cell_type": "code",
      "source": [
        "class TarifaImputer(BaseEstimator, TransformerMixin):\n",
        "\n",
        "    \"\"\"Esta classe é projetada para preencher os valores nulos da tarifa do bilhete com as medianas da classe\"\"\";\n",
        "    def __init__(self): pass\n",
        "    def fit(self, X, y=None, **fit_params):\n",
        "\n",
        "        \"Esta função aprende as medianas de treinamento nos grupos de classes para preencher nulos\";\n",
        "        self.median_ = X.groupby(['Classe'])[['Tarifa']].median().reset_index();\n",
        "        return self;\n",
        "    def transform(self, X, y=None, **transform_params):\n",
        "\n",
        "        \"Esta função imputa os valores nulos no conjunto de dados relevante de acordo com as medianas\";\n",
        "        X1 = X.merge(self.median_, how= 'left', on= ['Classe'], suffixes= ('', '_Median'));\n",
        "        X1['Tarifa'] = X1['Tarifa'].fillna(X1.Tarifa_Median);\n",
        "        X1 = X1.drop(['Tarifa_Median'], axis= 1);\n",
        "        return X1;"
      ],
      "metadata": {
        "id": "8vNV7f121MwG"
      },
      "execution_count": 70,
      "outputs": []
    },
    {
      "cell_type": "markdown",
      "source": [
        "Esta classe desenvolve bins para a idade e tarifa do bilhete, para promover a estabilidade e oferecer uma previsibilidade melhor e mais estável.\n",
        "    Os parâmetros do conjunto de treinamento são desenvolvidos com a função de ajuste."
      ],
      "metadata": {
        "id": "S6Y2IZ7bm7mr"
      }
    },
    {
      "cell_type": "code",
      "source": [
        "class IdadeTarifaBinner(BaseEstimator, TransformerMixin):\n",
        "    \"\"\". \n",
        "    \"\"\";\n",
        "    \n",
        "    def __init__(self, nb_Idade_bins: int = 5, nb_Tarifa_bins:int = 5): \n",
        "        self.nb_Idade_bins = nb_Idade_bins\n",
        "        self.nb_Tarifa_bins = nb_Tarifa_bins\n",
        "    \n",
        "    def fit(self, X, y= None, **fit_params):\n",
        "        \"\"\"Esta função calcula os compartimentos para as colunas de idade e tarifa, respectivamente\"\"\";     \n",
        "        self.Idade_bins_ = pd.qcut(X['Idade'], q = self.nb_Idade_bins, retbins= True, labels = range(1,self.nb_Idade_bins + 1,1))[1];\n",
        "        self.Tarifa_bins_ = pd.qcut(X['Tarifa'], q = self.nb_Tarifa_bins, retbins= True, labels = range(1,self.nb_Tarifa_bins + 1,1))[1];   \n",
        "        return self;\n",
        "        \n",
        "    def transform(self, X, y=None, **transform_param):\n",
        "        \"\"\"Esta função aplica os resultados agrupados ao dataframe relevante e retorna a coluna rotulada\"\"\";        \n",
        "        X1 = X.copy();\n",
        "        \n",
        "        self.Idade_bins_[0] = 0.0; self.Tarifa_bins_[0] = 0.0;\n",
        "        self.Idade_bins_[-1] = np.inf; self.Tarifa_bins_[-1] = np.inf;\n",
        "        \n",
        "        X1['Idade_Bin'] = pd.cut(X1['Idade'], self.Idade_bins_, retbins= False, labels = range(1,self.nb_Idade_bins + 1,1), include_lowest= True);\n",
        "        X1['Tarifa_Bin'] = pd.cut(X1['Tarifa'], self.Tarifa_bins_, retbins= False, labels = range(1,self.nb_Idade_bins + 1,1), include_lowest= True); \n",
        "               \n",
        "        global df_col; df_col = list(X1.columns);\n",
        "        return X1;"
      ],
      "metadata": {
        "id": "TuXnpvEm2LDQ"
      },
      "execution_count": 71,
      "outputs": []
    },
    {
      "cell_type": "code",
      "source": [
        "nb_Idade_bins = 5;\n",
        "nb_Tarifa_bins = 5;\n",
        "enc_col_lst = ['Sexo', 'Embarcou', 'Titulo', 'Crianca'];\n",
        "std_col_lst = ['Idade', 'Tarifa', 'SibSp', 'Parch', 'Nb_Familia_Mem' ]\n",
        "\n",
        "Data_Processor = \\\n",
        "Pipeline(verbose=True, \n",
        "         steps= \\\n",
        "         [('Imp_Cabine', FunctionTransformer(func= TreatCabinNulls)),\n",
        "          ('Xform_Data', FunctionTransformer(func= Xform_Data)),\n",
        "          ('Imp_Embarque', DataFrameMapper(default= None, input_df= True, df_out= True, \n",
        "                                             features= [(['Embarcou'], SimpleImputer(strategy= 'mais frequente'))])\n",
        "          ),\n",
        "          ('Lbl_Enc', DataFrameMapper(default= None, input_df= True, df_out= True, \n",
        "                                            features = gen_features([col.split(' ') for col in enc_col_lst], [LabelEncoder]))\n",
        "          ),\n",
        "          ('Computar_Idade', IdadeImputer()),\n",
        "          ('Computar_Tarifa',TarifaImputer()),\n",
        "          ('Ord_Enc', DataFrameMapper(default= None, input_df= True, df_out= True, \n",
        "                                      features= [(['cabine_Classe_Lbl'], OrdinalEncoder(handle_unknown='Usando_Valores_Codificado',unknown_value= 49))])\n",
        "          ),\n",
        "#           ('BinAgeFare', AgeFareBinner(nb_age_bins = nb_age_bins, nb_fare_bins = nb_fare_bins)),\n",
        "          ('Desvio_Padrao', DataFrameMapper(default= None, input_df= True, df_out= True, \n",
        "                                  features = gen_features([col.split(' ') for col in std_col_lst], [RobustScaler])))\n",
        "         ]\n",
        "        );"
      ],
      "metadata": {
        "id": "D0H1NyFh323f"
      },
      "execution_count": 72,
      "outputs": []
    },
    {
      "cell_type": "code",
      "source": [
        "print(colored(f\"\\nDetalhes do pipeline\\n\", color = 'green'));\n",
        "Data_Processor.fit(x_dfTreino, y_dfTreino);\n",
        "\n",
        "# Transformação do conjunto de treino\n",
        "print(colored(f\"\\nImplementação de pipeline para o conjunto de treinamento\\n\", color= 'green', attrs= ['bold', 'dark']));\n",
        "dfTreino_x = Data_Processor.transform(x_dfTreino);\n",
        "\n",
        "print(colored(f\"\\nVerificação nula após o pipeline\\n\", color = 'red'));\n",
        "display(dfTreino_x.isna().sum(axis=0));\n",
        "\n",
        "print(colored(f'\\nDescrição dos dados após o pipeline\\n', color = 'green'));\n",
        "display(dfTreino_x.describe().style.format('{:.2f}'));"
      ],
      "metadata": {
        "id": "j-XP06vf97Xu",
        "colab": {
          "base_uri": "https://localhost:8080/",
          "height": 1000
        },
        "outputId": "0d3dc695-2950-4078-daac-d3accfbd76f9"
      },
      "execution_count": 77,
      "outputs": [
        {
          "output_type": "stream",
          "name": "stdout",
          "text": [
            "\u001b[32m\n",
            "Detalhes do pipeline\n",
            "\u001b[0m\n"
          ]
        },
        {
          "output_type": "error",
          "ename": "PandaSQLException",
          "evalue": "ignored",
          "traceback": [
            "\u001b[0;31m---------------------------------------------------------------------------\u001b[0m",
            "\u001b[0;31mOperationalError\u001b[0m                          Traceback (most recent call last)",
            "\u001b[0;32m/usr/local/lib/python3.7/dist-packages/sqlalchemy/engine/base.py\u001b[0m in \u001b[0;36m_execute_context\u001b[0;34m(self, dialect, constructor, statement, parameters, execution_options, *args, **kw)\u001b[0m\n\u001b[1;32m   1900\u001b[0m                     self.dialect.do_execute(\n\u001b[0;32m-> 1901\u001b[0;31m                         \u001b[0mcursor\u001b[0m\u001b[0;34m,\u001b[0m \u001b[0mstatement\u001b[0m\u001b[0;34m,\u001b[0m \u001b[0mparameters\u001b[0m\u001b[0;34m,\u001b[0m \u001b[0mcontext\u001b[0m\u001b[0;34m\u001b[0m\u001b[0;34m\u001b[0m\u001b[0m\n\u001b[0m\u001b[1;32m   1902\u001b[0m                     )\n",
            "\u001b[0;32m/usr/local/lib/python3.7/dist-packages/sqlalchemy/engine/default.py\u001b[0m in \u001b[0;36mdo_execute\u001b[0;34m(self, cursor, statement, parameters, context)\u001b[0m\n\u001b[1;32m    731\u001b[0m     \u001b[0;32mdef\u001b[0m \u001b[0mdo_execute\u001b[0m\u001b[0;34m(\u001b[0m\u001b[0mself\u001b[0m\u001b[0;34m,\u001b[0m \u001b[0mcursor\u001b[0m\u001b[0;34m,\u001b[0m \u001b[0mstatement\u001b[0m\u001b[0;34m,\u001b[0m \u001b[0mparameters\u001b[0m\u001b[0;34m,\u001b[0m \u001b[0mcontext\u001b[0m\u001b[0;34m=\u001b[0m\u001b[0;32mNone\u001b[0m\u001b[0;34m)\u001b[0m\u001b[0;34m:\u001b[0m\u001b[0;34m\u001b[0m\u001b[0;34m\u001b[0m\u001b[0m\n\u001b[0;32m--> 732\u001b[0;31m         \u001b[0mcursor\u001b[0m\u001b[0;34m.\u001b[0m\u001b[0mexecute\u001b[0m\u001b[0;34m(\u001b[0m\u001b[0mstatement\u001b[0m\u001b[0;34m,\u001b[0m \u001b[0mparameters\u001b[0m\u001b[0;34m)\u001b[0m\u001b[0;34m\u001b[0m\u001b[0;34m\u001b[0m\u001b[0m\n\u001b[0m\u001b[1;32m    733\u001b[0m \u001b[0;34m\u001b[0m\u001b[0m\n",
            "\u001b[0;31mOperationalError\u001b[0m: near \"(\": syntax error",
            "\nThe above exception was the direct cause of the following exception:\n",
            "\u001b[0;31mOperationalError\u001b[0m                          Traceback (most recent call last)",
            "\u001b[0;32m/usr/local/lib/python3.7/dist-packages/pandasql/sqldf.py\u001b[0m in \u001b[0;36m__call__\u001b[0;34m(self, query, env)\u001b[0m\n\u001b[1;32m     60\u001b[0m             \u001b[0;32mtry\u001b[0m\u001b[0;34m:\u001b[0m\u001b[0;34m\u001b[0m\u001b[0;34m\u001b[0m\u001b[0m\n\u001b[0;32m---> 61\u001b[0;31m                 \u001b[0mresult\u001b[0m \u001b[0;34m=\u001b[0m \u001b[0mread_sql\u001b[0m\u001b[0;34m(\u001b[0m\u001b[0mquery\u001b[0m\u001b[0;34m,\u001b[0m \u001b[0mconn\u001b[0m\u001b[0;34m)\u001b[0m\u001b[0;34m\u001b[0m\u001b[0;34m\u001b[0m\u001b[0m\n\u001b[0m\u001b[1;32m     62\u001b[0m             \u001b[0;32mexcept\u001b[0m \u001b[0mDatabaseError\u001b[0m \u001b[0;32mas\u001b[0m \u001b[0mex\u001b[0m\u001b[0;34m:\u001b[0m\u001b[0;34m\u001b[0m\u001b[0;34m\u001b[0m\u001b[0m\n",
            "\u001b[0;32m/usr/local/lib/python3.7/dist-packages/pandas/io/sql.py\u001b[0m in \u001b[0;36mread_sql\u001b[0;34m(sql, con, index_col, coerce_float, params, parse_dates, columns, chunksize)\u001b[0m\n\u001b[1;32m    633\u001b[0m             \u001b[0mparse_dates\u001b[0m\u001b[0;34m=\u001b[0m\u001b[0mparse_dates\u001b[0m\u001b[0;34m,\u001b[0m\u001b[0;34m\u001b[0m\u001b[0;34m\u001b[0m\u001b[0m\n\u001b[0;32m--> 634\u001b[0;31m             \u001b[0mchunksize\u001b[0m\u001b[0;34m=\u001b[0m\u001b[0mchunksize\u001b[0m\u001b[0;34m,\u001b[0m\u001b[0;34m\u001b[0m\u001b[0;34m\u001b[0m\u001b[0m\n\u001b[0m\u001b[1;32m    635\u001b[0m         )\n",
            "\u001b[0;32m/usr/local/lib/python3.7/dist-packages/pandas/io/sql.py\u001b[0m in \u001b[0;36mread_query\u001b[0;34m(self, sql, index_col, coerce_float, parse_dates, params, chunksize, dtype)\u001b[0m\n\u001b[1;32m   1578\u001b[0m \u001b[0;34m\u001b[0m\u001b[0m\n\u001b[0;32m-> 1579\u001b[0;31m         \u001b[0mresult\u001b[0m \u001b[0;34m=\u001b[0m \u001b[0mself\u001b[0m\u001b[0;34m.\u001b[0m\u001b[0mexecute\u001b[0m\u001b[0;34m(\u001b[0m\u001b[0;34m*\u001b[0m\u001b[0margs\u001b[0m\u001b[0;34m)\u001b[0m\u001b[0;34m\u001b[0m\u001b[0;34m\u001b[0m\u001b[0m\n\u001b[0m\u001b[1;32m   1580\u001b[0m         \u001b[0mcolumns\u001b[0m \u001b[0;34m=\u001b[0m \u001b[0mresult\u001b[0m\u001b[0;34m.\u001b[0m\u001b[0mkeys\u001b[0m\u001b[0;34m(\u001b[0m\u001b[0;34m)\u001b[0m\u001b[0;34m\u001b[0m\u001b[0;34m\u001b[0m\u001b[0m\n",
            "\u001b[0;32m/usr/local/lib/python3.7/dist-packages/pandas/io/sql.py\u001b[0m in \u001b[0;36mexecute\u001b[0;34m(self, *args, **kwargs)\u001b[0m\n\u001b[1;32m   1423\u001b[0m         \u001b[0;34m\"\"\"Simple passthrough to SQLAlchemy connectable\"\"\"\u001b[0m\u001b[0;34m\u001b[0m\u001b[0;34m\u001b[0m\u001b[0m\n\u001b[0;32m-> 1424\u001b[0;31m         \u001b[0;32mreturn\u001b[0m \u001b[0mself\u001b[0m\u001b[0;34m.\u001b[0m\u001b[0mconnectable\u001b[0m\u001b[0;34m.\u001b[0m\u001b[0mexecution_options\u001b[0m\u001b[0;34m(\u001b[0m\u001b[0;34m)\u001b[0m\u001b[0;34m.\u001b[0m\u001b[0mexecute\u001b[0m\u001b[0;34m(\u001b[0m\u001b[0;34m*\u001b[0m\u001b[0margs\u001b[0m\u001b[0;34m,\u001b[0m \u001b[0;34m**\u001b[0m\u001b[0mkwargs\u001b[0m\u001b[0;34m)\u001b[0m\u001b[0;34m\u001b[0m\u001b[0;34m\u001b[0m\u001b[0m\n\u001b[0m\u001b[1;32m   1425\u001b[0m \u001b[0;34m\u001b[0m\u001b[0m\n",
            "\u001b[0;32m/usr/local/lib/python3.7/dist-packages/sqlalchemy/engine/base.py\u001b[0m in \u001b[0;36mexecute\u001b[0;34m(self, statement, *multiparams, **params)\u001b[0m\n\u001b[1;32m   1369\u001b[0m                 \u001b[0m_EMPTY_EXECUTION_OPTS\u001b[0m\u001b[0;34m,\u001b[0m\u001b[0;34m\u001b[0m\u001b[0;34m\u001b[0m\u001b[0m\n\u001b[0;32m-> 1370\u001b[0;31m                 \u001b[0mfuture\u001b[0m\u001b[0;34m=\u001b[0m\u001b[0;32mFalse\u001b[0m\u001b[0;34m,\u001b[0m\u001b[0;34m\u001b[0m\u001b[0;34m\u001b[0m\u001b[0m\n\u001b[0m\u001b[1;32m   1371\u001b[0m             )\n",
            "\u001b[0;32m/usr/local/lib/python3.7/dist-packages/sqlalchemy/engine/base.py\u001b[0m in \u001b[0;36m_exec_driver_sql\u001b[0;34m(self, statement, multiparams, params, execution_options, future)\u001b[0m\n\u001b[1;32m   1675\u001b[0m             \u001b[0mstatement\u001b[0m\u001b[0;34m,\u001b[0m\u001b[0;34m\u001b[0m\u001b[0;34m\u001b[0m\u001b[0m\n\u001b[0;32m-> 1676\u001b[0;31m             \u001b[0mdistilled_parameters\u001b[0m\u001b[0;34m,\u001b[0m\u001b[0;34m\u001b[0m\u001b[0;34m\u001b[0m\u001b[0m\n\u001b[0m\u001b[1;32m   1677\u001b[0m         )\n",
            "\u001b[0;32m/usr/local/lib/python3.7/dist-packages/sqlalchemy/engine/base.py\u001b[0m in \u001b[0;36m_execute_context\u001b[0;34m(self, dialect, constructor, statement, parameters, execution_options, *args, **kw)\u001b[0m\n\u001b[1;32m   1943\u001b[0m             self._handle_dbapi_exception(\n\u001b[0;32m-> 1944\u001b[0;31m                 \u001b[0me\u001b[0m\u001b[0;34m,\u001b[0m \u001b[0mstatement\u001b[0m\u001b[0;34m,\u001b[0m \u001b[0mparameters\u001b[0m\u001b[0;34m,\u001b[0m \u001b[0mcursor\u001b[0m\u001b[0;34m,\u001b[0m \u001b[0mcontext\u001b[0m\u001b[0;34m\u001b[0m\u001b[0;34m\u001b[0m\u001b[0m\n\u001b[0m\u001b[1;32m   1945\u001b[0m             )\n",
            "\u001b[0;32m/usr/local/lib/python3.7/dist-packages/sqlalchemy/engine/base.py\u001b[0m in \u001b[0;36m_handle_dbapi_exception\u001b[0;34m(self, e, statement, parameters, cursor, context)\u001b[0m\n\u001b[1;32m   2124\u001b[0m                 util.raise_(\n\u001b[0;32m-> 2125\u001b[0;31m                     \u001b[0msqlalchemy_exception\u001b[0m\u001b[0;34m,\u001b[0m \u001b[0mwith_traceback\u001b[0m\u001b[0;34m=\u001b[0m\u001b[0mexc_info\u001b[0m\u001b[0;34m[\u001b[0m\u001b[0;36m2\u001b[0m\u001b[0;34m]\u001b[0m\u001b[0;34m,\u001b[0m \u001b[0mfrom_\u001b[0m\u001b[0;34m=\u001b[0m\u001b[0me\u001b[0m\u001b[0;34m\u001b[0m\u001b[0;34m\u001b[0m\u001b[0m\n\u001b[0m\u001b[1;32m   2126\u001b[0m                 )\n",
            "\u001b[0;32m/usr/local/lib/python3.7/dist-packages/sqlalchemy/util/compat.py\u001b[0m in \u001b[0;36mraise_\u001b[0;34m(***failed resolving arguments***)\u001b[0m\n\u001b[1;32m    207\u001b[0m         \u001b[0;32mtry\u001b[0m\u001b[0;34m:\u001b[0m\u001b[0;34m\u001b[0m\u001b[0;34m\u001b[0m\u001b[0m\n\u001b[0;32m--> 208\u001b[0;31m             \u001b[0;32mraise\u001b[0m \u001b[0mexception\u001b[0m\u001b[0;34m\u001b[0m\u001b[0;34m\u001b[0m\u001b[0m\n\u001b[0m\u001b[1;32m    209\u001b[0m         \u001b[0;32mfinally\u001b[0m\u001b[0;34m:\u001b[0m\u001b[0;34m\u001b[0m\u001b[0;34m\u001b[0m\u001b[0m\n",
            "\u001b[0;32m/usr/local/lib/python3.7/dist-packages/sqlalchemy/engine/base.py\u001b[0m in \u001b[0;36m_execute_context\u001b[0;34m(self, dialect, constructor, statement, parameters, execution_options, *args, **kw)\u001b[0m\n\u001b[1;32m   1900\u001b[0m                     self.dialect.do_execute(\n\u001b[0;32m-> 1901\u001b[0;31m                         \u001b[0mcursor\u001b[0m\u001b[0;34m,\u001b[0m \u001b[0mstatement\u001b[0m\u001b[0;34m,\u001b[0m \u001b[0mparameters\u001b[0m\u001b[0;34m,\u001b[0m \u001b[0mcontext\u001b[0m\u001b[0;34m\u001b[0m\u001b[0;34m\u001b[0m\u001b[0m\n\u001b[0m\u001b[1;32m   1902\u001b[0m                     )\n",
            "\u001b[0;32m/usr/local/lib/python3.7/dist-packages/sqlalchemy/engine/default.py\u001b[0m in \u001b[0;36mdo_execute\u001b[0;34m(self, cursor, statement, parameters, context)\u001b[0m\n\u001b[1;32m    731\u001b[0m     \u001b[0;32mdef\u001b[0m \u001b[0mdo_execute\u001b[0m\u001b[0;34m(\u001b[0m\u001b[0mself\u001b[0m\u001b[0;34m,\u001b[0m \u001b[0mcursor\u001b[0m\u001b[0;34m,\u001b[0m \u001b[0mstatement\u001b[0m\u001b[0;34m,\u001b[0m \u001b[0mparameters\u001b[0m\u001b[0;34m,\u001b[0m \u001b[0mcontext\u001b[0m\u001b[0;34m=\u001b[0m\u001b[0;32mNone\u001b[0m\u001b[0;34m)\u001b[0m\u001b[0;34m:\u001b[0m\u001b[0;34m\u001b[0m\u001b[0;34m\u001b[0m\u001b[0m\n\u001b[0;32m--> 732\u001b[0;31m         \u001b[0mcursor\u001b[0m\u001b[0;34m.\u001b[0m\u001b[0mexecute\u001b[0m\u001b[0;34m(\u001b[0m\u001b[0mstatement\u001b[0m\u001b[0;34m,\u001b[0m \u001b[0mparameters\u001b[0m\u001b[0;34m)\u001b[0m\u001b[0;34m\u001b[0m\u001b[0;34m\u001b[0m\u001b[0m\n\u001b[0m\u001b[1;32m    733\u001b[0m \u001b[0;34m\u001b[0m\u001b[0m\n",
            "\u001b[0;31mOperationalError\u001b[0m: (sqlite3.OperationalError) near \"(\": syntax error\n[SQL: \n   select A1.PID1 as ID_Passageiro, A1.Classe, A1.cabine_Ctg_Lbl\n    from \n    (\n    select a.ID_Passageiro as PID1,a.Classe, b.ID_Passageiro as PID2, b.cabine_Ctg_Lbl, a.Tarifa as Tarifa, b.Tarifa as Tarifa, abs(a.Tarifa - b.Tarifa) as Tarifa_Diff,\n    row_number() over(partition by a.ID_Passageiro order by abs(a.Tarifa - b.Tarifa) asc) as Tarifa_Diff_Rank\n    from \n    (select ID_Passageiro, Classe, Tarifa, Embarcou from cabine_trmt_prf WHERE Cabine is null) A \n    inner join \n    (\n    select ID_Passageiro, Classe, Tarifa, (cast(Classe as varchar(1)) || substr(Cabine,1,1)) AS cabine_Ctg_Lbl, Embarcou \n    from cabine_trmt_prf \n    where Cabine is not null\n    ) B on (A.Classe = B.Classe and abs(a.Tarifa - b.Tarifa) <= 50)\n    ) A1\n    where A1.Tarifa_Diff_Rank == 1\n    ]\n(Background on this error at: https://sqlalche.me/e/14/e3q8)",
            "\nDuring handling of the above exception, another exception occurred:\n",
            "\u001b[0;31mPandaSQLException\u001b[0m                         Traceback (most recent call last)",
            "\u001b[0;32m<ipython-input-77-a826b1103b3c>\u001b[0m in \u001b[0;36m<module>\u001b[0;34m\u001b[0m\n\u001b[1;32m      1\u001b[0m \u001b[0mprint\u001b[0m\u001b[0;34m(\u001b[0m\u001b[0mcolored\u001b[0m\u001b[0;34m(\u001b[0m\u001b[0;34mf\"\\nDetalhes do pipeline\\n\"\u001b[0m\u001b[0;34m,\u001b[0m \u001b[0mcolor\u001b[0m \u001b[0;34m=\u001b[0m \u001b[0;34m'green'\u001b[0m\u001b[0;34m)\u001b[0m\u001b[0;34m)\u001b[0m\u001b[0;34m;\u001b[0m\u001b[0;34m\u001b[0m\u001b[0;34m\u001b[0m\u001b[0m\n\u001b[0;32m----> 2\u001b[0;31m \u001b[0mData_Processor\u001b[0m\u001b[0;34m.\u001b[0m\u001b[0mfit\u001b[0m\u001b[0;34m(\u001b[0m\u001b[0mx_dfTreino\u001b[0m\u001b[0;34m,\u001b[0m \u001b[0my_dfTreino\u001b[0m\u001b[0;34m)\u001b[0m\u001b[0;34m;\u001b[0m\u001b[0;34m\u001b[0m\u001b[0;34m\u001b[0m\u001b[0m\n\u001b[0m\u001b[1;32m      3\u001b[0m \u001b[0;34m\u001b[0m\u001b[0m\n\u001b[1;32m      4\u001b[0m \u001b[0;31m# Transformação do conjunto de treino\u001b[0m\u001b[0;34m\u001b[0m\u001b[0;34m\u001b[0m\u001b[0;34m\u001b[0m\u001b[0m\n\u001b[1;32m      5\u001b[0m \u001b[0mprint\u001b[0m\u001b[0;34m(\u001b[0m\u001b[0mcolored\u001b[0m\u001b[0;34m(\u001b[0m\u001b[0;34mf\"\\nImplementação de pipeline para o conjunto de treinamento\\n\"\u001b[0m\u001b[0;34m,\u001b[0m \u001b[0mcolor\u001b[0m\u001b[0;34m=\u001b[0m \u001b[0;34m'green'\u001b[0m\u001b[0;34m,\u001b[0m \u001b[0mattrs\u001b[0m\u001b[0;34m=\u001b[0m \u001b[0;34m[\u001b[0m\u001b[0;34m'bold'\u001b[0m\u001b[0;34m,\u001b[0m \u001b[0;34m'dark'\u001b[0m\u001b[0;34m]\u001b[0m\u001b[0;34m)\u001b[0m\u001b[0;34m)\u001b[0m\u001b[0;34m;\u001b[0m\u001b[0;34m\u001b[0m\u001b[0;34m\u001b[0m\u001b[0m\n",
            "\u001b[0;32m/usr/local/lib/python3.7/dist-packages/sklearn/pipeline.py\u001b[0m in \u001b[0;36mfit\u001b[0;34m(self, X, y, **fit_params)\u001b[0m\n\u001b[1;32m    388\u001b[0m         \"\"\"\n\u001b[1;32m    389\u001b[0m         \u001b[0mfit_params_steps\u001b[0m \u001b[0;34m=\u001b[0m \u001b[0mself\u001b[0m\u001b[0;34m.\u001b[0m\u001b[0m_check_fit_params\u001b[0m\u001b[0;34m(\u001b[0m\u001b[0;34m**\u001b[0m\u001b[0mfit_params\u001b[0m\u001b[0;34m)\u001b[0m\u001b[0;34m\u001b[0m\u001b[0;34m\u001b[0m\u001b[0m\n\u001b[0;32m--> 390\u001b[0;31m         \u001b[0mXt\u001b[0m \u001b[0;34m=\u001b[0m \u001b[0mself\u001b[0m\u001b[0;34m.\u001b[0m\u001b[0m_fit\u001b[0m\u001b[0;34m(\u001b[0m\u001b[0mX\u001b[0m\u001b[0;34m,\u001b[0m \u001b[0my\u001b[0m\u001b[0;34m,\u001b[0m \u001b[0;34m**\u001b[0m\u001b[0mfit_params_steps\u001b[0m\u001b[0;34m)\u001b[0m\u001b[0;34m\u001b[0m\u001b[0;34m\u001b[0m\u001b[0m\n\u001b[0m\u001b[1;32m    391\u001b[0m         \u001b[0;32mwith\u001b[0m \u001b[0m_print_elapsed_time\u001b[0m\u001b[0;34m(\u001b[0m\u001b[0;34m\"Pipeline\"\u001b[0m\u001b[0;34m,\u001b[0m \u001b[0mself\u001b[0m\u001b[0;34m.\u001b[0m\u001b[0m_log_message\u001b[0m\u001b[0;34m(\u001b[0m\u001b[0mlen\u001b[0m\u001b[0;34m(\u001b[0m\u001b[0mself\u001b[0m\u001b[0;34m.\u001b[0m\u001b[0msteps\u001b[0m\u001b[0;34m)\u001b[0m \u001b[0;34m-\u001b[0m \u001b[0;36m1\u001b[0m\u001b[0;34m)\u001b[0m\u001b[0;34m)\u001b[0m\u001b[0;34m:\u001b[0m\u001b[0;34m\u001b[0m\u001b[0;34m\u001b[0m\u001b[0m\n\u001b[1;32m    392\u001b[0m             \u001b[0;32mif\u001b[0m \u001b[0mself\u001b[0m\u001b[0;34m.\u001b[0m\u001b[0m_final_estimator\u001b[0m \u001b[0;34m!=\u001b[0m \u001b[0;34m\"passthrough\"\u001b[0m\u001b[0;34m:\u001b[0m\u001b[0;34m\u001b[0m\u001b[0;34m\u001b[0m\u001b[0m\n",
            "\u001b[0;32m/usr/local/lib/python3.7/dist-packages/sklearn/pipeline.py\u001b[0m in \u001b[0;36m_fit\u001b[0;34m(self, X, y, **fit_params_steps)\u001b[0m\n\u001b[1;32m    353\u001b[0m                 \u001b[0mmessage_clsname\u001b[0m\u001b[0;34m=\u001b[0m\u001b[0;34m\"Pipeline\"\u001b[0m\u001b[0;34m,\u001b[0m\u001b[0;34m\u001b[0m\u001b[0;34m\u001b[0m\u001b[0m\n\u001b[1;32m    354\u001b[0m                 \u001b[0mmessage\u001b[0m\u001b[0;34m=\u001b[0m\u001b[0mself\u001b[0m\u001b[0;34m.\u001b[0m\u001b[0m_log_message\u001b[0m\u001b[0;34m(\u001b[0m\u001b[0mstep_idx\u001b[0m\u001b[0;34m)\u001b[0m\u001b[0;34m,\u001b[0m\u001b[0;34m\u001b[0m\u001b[0;34m\u001b[0m\u001b[0m\n\u001b[0;32m--> 355\u001b[0;31m                 \u001b[0;34m**\u001b[0m\u001b[0mfit_params_steps\u001b[0m\u001b[0;34m[\u001b[0m\u001b[0mname\u001b[0m\u001b[0;34m]\u001b[0m\u001b[0;34m,\u001b[0m\u001b[0;34m\u001b[0m\u001b[0;34m\u001b[0m\u001b[0m\n\u001b[0m\u001b[1;32m    356\u001b[0m             )\n\u001b[1;32m    357\u001b[0m             \u001b[0;31m# Replace the transformer of the step with the fitted\u001b[0m\u001b[0;34m\u001b[0m\u001b[0;34m\u001b[0m\u001b[0;34m\u001b[0m\u001b[0m\n",
            "\u001b[0;32m/usr/local/lib/python3.7/dist-packages/joblib/memory.py\u001b[0m in \u001b[0;36m__call__\u001b[0;34m(self, *args, **kwargs)\u001b[0m\n\u001b[1;32m    347\u001b[0m \u001b[0;34m\u001b[0m\u001b[0m\n\u001b[1;32m    348\u001b[0m     \u001b[0;32mdef\u001b[0m \u001b[0m__call__\u001b[0m\u001b[0;34m(\u001b[0m\u001b[0mself\u001b[0m\u001b[0;34m,\u001b[0m \u001b[0;34m*\u001b[0m\u001b[0margs\u001b[0m\u001b[0;34m,\u001b[0m \u001b[0;34m**\u001b[0m\u001b[0mkwargs\u001b[0m\u001b[0;34m)\u001b[0m\u001b[0;34m:\u001b[0m\u001b[0;34m\u001b[0m\u001b[0;34m\u001b[0m\u001b[0m\n\u001b[0;32m--> 349\u001b[0;31m         \u001b[0;32mreturn\u001b[0m \u001b[0mself\u001b[0m\u001b[0;34m.\u001b[0m\u001b[0mfunc\u001b[0m\u001b[0;34m(\u001b[0m\u001b[0;34m*\u001b[0m\u001b[0margs\u001b[0m\u001b[0;34m,\u001b[0m \u001b[0;34m**\u001b[0m\u001b[0mkwargs\u001b[0m\u001b[0;34m)\u001b[0m\u001b[0;34m\u001b[0m\u001b[0;34m\u001b[0m\u001b[0m\n\u001b[0m\u001b[1;32m    350\u001b[0m \u001b[0;34m\u001b[0m\u001b[0m\n\u001b[1;32m    351\u001b[0m     \u001b[0;32mdef\u001b[0m \u001b[0mcall_and_shelve\u001b[0m\u001b[0;34m(\u001b[0m\u001b[0mself\u001b[0m\u001b[0;34m,\u001b[0m \u001b[0;34m*\u001b[0m\u001b[0margs\u001b[0m\u001b[0;34m,\u001b[0m \u001b[0;34m**\u001b[0m\u001b[0mkwargs\u001b[0m\u001b[0;34m)\u001b[0m\u001b[0;34m:\u001b[0m\u001b[0;34m\u001b[0m\u001b[0;34m\u001b[0m\u001b[0m\n",
            "\u001b[0;32m/usr/local/lib/python3.7/dist-packages/sklearn/pipeline.py\u001b[0m in \u001b[0;36m_fit_transform_one\u001b[0;34m(transformer, X, y, weight, message_clsname, message, **fit_params)\u001b[0m\n\u001b[1;32m    891\u001b[0m     \u001b[0;32mwith\u001b[0m \u001b[0m_print_elapsed_time\u001b[0m\u001b[0;34m(\u001b[0m\u001b[0mmessage_clsname\u001b[0m\u001b[0;34m,\u001b[0m \u001b[0mmessage\u001b[0m\u001b[0;34m)\u001b[0m\u001b[0;34m:\u001b[0m\u001b[0;34m\u001b[0m\u001b[0;34m\u001b[0m\u001b[0m\n\u001b[1;32m    892\u001b[0m         \u001b[0;32mif\u001b[0m \u001b[0mhasattr\u001b[0m\u001b[0;34m(\u001b[0m\u001b[0mtransformer\u001b[0m\u001b[0;34m,\u001b[0m \u001b[0;34m\"fit_transform\"\u001b[0m\u001b[0;34m)\u001b[0m\u001b[0;34m:\u001b[0m\u001b[0;34m\u001b[0m\u001b[0;34m\u001b[0m\u001b[0m\n\u001b[0;32m--> 893\u001b[0;31m             \u001b[0mres\u001b[0m \u001b[0;34m=\u001b[0m \u001b[0mtransformer\u001b[0m\u001b[0;34m.\u001b[0m\u001b[0mfit_transform\u001b[0m\u001b[0;34m(\u001b[0m\u001b[0mX\u001b[0m\u001b[0;34m,\u001b[0m \u001b[0my\u001b[0m\u001b[0;34m,\u001b[0m \u001b[0;34m**\u001b[0m\u001b[0mfit_params\u001b[0m\u001b[0;34m)\u001b[0m\u001b[0;34m\u001b[0m\u001b[0;34m\u001b[0m\u001b[0m\n\u001b[0m\u001b[1;32m    894\u001b[0m         \u001b[0;32melse\u001b[0m\u001b[0;34m:\u001b[0m\u001b[0;34m\u001b[0m\u001b[0;34m\u001b[0m\u001b[0m\n\u001b[1;32m    895\u001b[0m             \u001b[0mres\u001b[0m \u001b[0;34m=\u001b[0m \u001b[0mtransformer\u001b[0m\u001b[0;34m.\u001b[0m\u001b[0mfit\u001b[0m\u001b[0;34m(\u001b[0m\u001b[0mX\u001b[0m\u001b[0;34m,\u001b[0m \u001b[0my\u001b[0m\u001b[0;34m,\u001b[0m \u001b[0;34m**\u001b[0m\u001b[0mfit_params\u001b[0m\u001b[0;34m)\u001b[0m\u001b[0;34m.\u001b[0m\u001b[0mtransform\u001b[0m\u001b[0;34m(\u001b[0m\u001b[0mX\u001b[0m\u001b[0;34m)\u001b[0m\u001b[0;34m\u001b[0m\u001b[0;34m\u001b[0m\u001b[0m\n",
            "\u001b[0;32m/usr/local/lib/python3.7/dist-packages/sklearn/base.py\u001b[0m in \u001b[0;36mfit_transform\u001b[0;34m(self, X, y, **fit_params)\u001b[0m\n\u001b[1;32m    853\u001b[0m         \u001b[0;32melse\u001b[0m\u001b[0;34m:\u001b[0m\u001b[0;34m\u001b[0m\u001b[0;34m\u001b[0m\u001b[0m\n\u001b[1;32m    854\u001b[0m             \u001b[0;31m# fit method of arity 2 (supervised transformation)\u001b[0m\u001b[0;34m\u001b[0m\u001b[0;34m\u001b[0m\u001b[0;34m\u001b[0m\u001b[0m\n\u001b[0;32m--> 855\u001b[0;31m             \u001b[0;32mreturn\u001b[0m \u001b[0mself\u001b[0m\u001b[0;34m.\u001b[0m\u001b[0mfit\u001b[0m\u001b[0;34m(\u001b[0m\u001b[0mX\u001b[0m\u001b[0;34m,\u001b[0m \u001b[0my\u001b[0m\u001b[0;34m,\u001b[0m \u001b[0;34m**\u001b[0m\u001b[0mfit_params\u001b[0m\u001b[0;34m)\u001b[0m\u001b[0;34m.\u001b[0m\u001b[0mtransform\u001b[0m\u001b[0;34m(\u001b[0m\u001b[0mX\u001b[0m\u001b[0;34m)\u001b[0m\u001b[0;34m\u001b[0m\u001b[0;34m\u001b[0m\u001b[0m\n\u001b[0m\u001b[1;32m    856\u001b[0m \u001b[0;34m\u001b[0m\u001b[0m\n\u001b[1;32m    857\u001b[0m \u001b[0;34m\u001b[0m\u001b[0m\n",
            "\u001b[0;32m/usr/local/lib/python3.7/dist-packages/sklearn/preprocessing/_function_transformer.py\u001b[0m in \u001b[0;36mtransform\u001b[0;34m(self, X)\u001b[0m\n\u001b[1;32m    180\u001b[0m         \"\"\"\n\u001b[1;32m    181\u001b[0m         \u001b[0mX\u001b[0m \u001b[0;34m=\u001b[0m \u001b[0mself\u001b[0m\u001b[0;34m.\u001b[0m\u001b[0m_check_input\u001b[0m\u001b[0;34m(\u001b[0m\u001b[0mX\u001b[0m\u001b[0;34m,\u001b[0m \u001b[0mreset\u001b[0m\u001b[0;34m=\u001b[0m\u001b[0;32mFalse\u001b[0m\u001b[0;34m)\u001b[0m\u001b[0;34m\u001b[0m\u001b[0;34m\u001b[0m\u001b[0m\n\u001b[0;32m--> 182\u001b[0;31m         \u001b[0;32mreturn\u001b[0m \u001b[0mself\u001b[0m\u001b[0;34m.\u001b[0m\u001b[0m_transform\u001b[0m\u001b[0;34m(\u001b[0m\u001b[0mX\u001b[0m\u001b[0;34m,\u001b[0m \u001b[0mfunc\u001b[0m\u001b[0;34m=\u001b[0m\u001b[0mself\u001b[0m\u001b[0;34m.\u001b[0m\u001b[0mfunc\u001b[0m\u001b[0;34m,\u001b[0m \u001b[0mkw_args\u001b[0m\u001b[0;34m=\u001b[0m\u001b[0mself\u001b[0m\u001b[0;34m.\u001b[0m\u001b[0mkw_args\u001b[0m\u001b[0;34m)\u001b[0m\u001b[0;34m\u001b[0m\u001b[0;34m\u001b[0m\u001b[0m\n\u001b[0m\u001b[1;32m    183\u001b[0m \u001b[0;34m\u001b[0m\u001b[0m\n\u001b[1;32m    184\u001b[0m     \u001b[0;32mdef\u001b[0m \u001b[0minverse_transform\u001b[0m\u001b[0;34m(\u001b[0m\u001b[0mself\u001b[0m\u001b[0;34m,\u001b[0m \u001b[0mX\u001b[0m\u001b[0;34m)\u001b[0m\u001b[0;34m:\u001b[0m\u001b[0;34m\u001b[0m\u001b[0;34m\u001b[0m\u001b[0m\n",
            "\u001b[0;32m/usr/local/lib/python3.7/dist-packages/sklearn/preprocessing/_function_transformer.py\u001b[0m in \u001b[0;36m_transform\u001b[0;34m(self, X, func, kw_args)\u001b[0m\n\u001b[1;32m    203\u001b[0m             \u001b[0mfunc\u001b[0m \u001b[0;34m=\u001b[0m \u001b[0m_identity\u001b[0m\u001b[0;34m\u001b[0m\u001b[0;34m\u001b[0m\u001b[0m\n\u001b[1;32m    204\u001b[0m \u001b[0;34m\u001b[0m\u001b[0m\n\u001b[0;32m--> 205\u001b[0;31m         \u001b[0;32mreturn\u001b[0m \u001b[0mfunc\u001b[0m\u001b[0;34m(\u001b[0m\u001b[0mX\u001b[0m\u001b[0;34m,\u001b[0m \u001b[0;34m**\u001b[0m\u001b[0;34m(\u001b[0m\u001b[0mkw_args\u001b[0m \u001b[0;32mif\u001b[0m \u001b[0mkw_args\u001b[0m \u001b[0;32melse\u001b[0m \u001b[0;34m{\u001b[0m\u001b[0;34m}\u001b[0m\u001b[0;34m)\u001b[0m\u001b[0;34m)\u001b[0m\u001b[0;34m\u001b[0m\u001b[0;34m\u001b[0m\u001b[0m\n\u001b[0m\u001b[1;32m    206\u001b[0m \u001b[0;34m\u001b[0m\u001b[0m\n\u001b[1;32m    207\u001b[0m     \u001b[0;32mdef\u001b[0m \u001b[0m__sklearn_is_fitted__\u001b[0m\u001b[0;34m(\u001b[0m\u001b[0mself\u001b[0m\u001b[0;34m)\u001b[0m\u001b[0;34m:\u001b[0m\u001b[0;34m\u001b[0m\u001b[0;34m\u001b[0m\u001b[0m\n",
            "\u001b[0;32m<ipython-input-63-1d7cdfd86a7d>\u001b[0m in \u001b[0;36mTreatCabinNulls\u001b[0;34m(df1)\u001b[0m\n\u001b[1;32m     30\u001b[0m     ) A1\n\u001b[1;32m     31\u001b[0m     \u001b[0mwhere\u001b[0m \u001b[0mA1\u001b[0m\u001b[0;34m.\u001b[0m\u001b[0mTarifa_Diff_Rank\u001b[0m \u001b[0;34m==\u001b[0m \u001b[0;36m1\u001b[0m\u001b[0;34m\u001b[0m\u001b[0;34m\u001b[0m\u001b[0m\n\u001b[0;32m---> 32\u001b[0;31m     \"\"\");\n\u001b[0m\u001b[1;32m     33\u001b[0m \u001b[0;34m\u001b[0m\u001b[0m\n\u001b[1;32m     34\u001b[0m     \u001b[0;31m#  Finalmente anexando os nulos ainda presentes com o modo do rótulo Classe e Categorias:-\u001b[0m\u001b[0;34m\u001b[0m\u001b[0;34m\u001b[0m\u001b[0;34m\u001b[0m\u001b[0m\n",
            "\u001b[0;32m/usr/local/lib/python3.7/dist-packages/pandasql/sqldf.py\u001b[0m in \u001b[0;36msqldf\u001b[0;34m(query, env, db_uri)\u001b[0m\n\u001b[1;32m    154\u001b[0m     \u001b[0;34m>>\u001b[0m\u001b[0;34m>\u001b[0m \u001b[0msqldf\u001b[0m\u001b[0;34m(\u001b[0m\u001b[0;34m\"select avg(x) from df;\"\u001b[0m\u001b[0;34m,\u001b[0m \u001b[0mlocals\u001b[0m\u001b[0;34m(\u001b[0m\u001b[0;34m)\u001b[0m\u001b[0;34m)\u001b[0m\u001b[0;34m\u001b[0m\u001b[0;34m\u001b[0m\u001b[0m\n\u001b[1;32m    155\u001b[0m     \"\"\"\n\u001b[0;32m--> 156\u001b[0;31m     \u001b[0;32mreturn\u001b[0m \u001b[0mPandaSQL\u001b[0m\u001b[0;34m(\u001b[0m\u001b[0mdb_uri\u001b[0m\u001b[0;34m)\u001b[0m\u001b[0;34m(\u001b[0m\u001b[0mquery\u001b[0m\u001b[0;34m,\u001b[0m \u001b[0menv\u001b[0m\u001b[0;34m)\u001b[0m\u001b[0;34m\u001b[0m\u001b[0;34m\u001b[0m\u001b[0m\n\u001b[0m",
            "\u001b[0;32m/usr/local/lib/python3.7/dist-packages/pandasql/sqldf.py\u001b[0m in \u001b[0;36m__call__\u001b[0;34m(self, query, env)\u001b[0m\n\u001b[1;32m     61\u001b[0m                 \u001b[0mresult\u001b[0m \u001b[0;34m=\u001b[0m \u001b[0mread_sql\u001b[0m\u001b[0;34m(\u001b[0m\u001b[0mquery\u001b[0m\u001b[0;34m,\u001b[0m \u001b[0mconn\u001b[0m\u001b[0;34m)\u001b[0m\u001b[0;34m\u001b[0m\u001b[0;34m\u001b[0m\u001b[0m\n\u001b[1;32m     62\u001b[0m             \u001b[0;32mexcept\u001b[0m \u001b[0mDatabaseError\u001b[0m \u001b[0;32mas\u001b[0m \u001b[0mex\u001b[0m\u001b[0;34m:\u001b[0m\u001b[0;34m\u001b[0m\u001b[0;34m\u001b[0m\u001b[0m\n\u001b[0;32m---> 63\u001b[0;31m                 \u001b[0;32mraise\u001b[0m \u001b[0mPandaSQLException\u001b[0m\u001b[0;34m(\u001b[0m\u001b[0mex\u001b[0m\u001b[0;34m)\u001b[0m\u001b[0;34m\u001b[0m\u001b[0;34m\u001b[0m\u001b[0m\n\u001b[0m\u001b[1;32m     64\u001b[0m             \u001b[0;32mexcept\u001b[0m \u001b[0mResourceClosedError\u001b[0m\u001b[0;34m:\u001b[0m\u001b[0;34m\u001b[0m\u001b[0;34m\u001b[0m\u001b[0m\n\u001b[1;32m     65\u001b[0m                 \u001b[0;31m# query returns nothing\u001b[0m\u001b[0;34m\u001b[0m\u001b[0;34m\u001b[0m\u001b[0;34m\u001b[0m\u001b[0m\n",
            "\u001b[0;31mPandaSQLException\u001b[0m: (sqlite3.OperationalError) near \"(\": syntax error\n[SQL: \n   select A1.PID1 as ID_Passageiro, A1.Classe, A1.cabine_Ctg_Lbl\n    from \n    (\n    select a.ID_Passageiro as PID1,a.Classe, b.ID_Passageiro as PID2, b.cabine_Ctg_Lbl, a.Tarifa as Tarifa, b.Tarifa as Tarifa, abs(a.Tarifa - b.Tarifa) as Tarifa_Diff,\n    row_number() over(partition by a.ID_Passageiro order by abs(a.Tarifa - b.Tarifa) asc) as Tarifa_Diff_Rank\n    from \n    (select ID_Passageiro, Classe, Tarifa, Embarcou from cabine_trmt_prf WHERE Cabine is null) A \n    inner join \n    (\n    select ID_Passageiro, Classe, Tarifa, (cast(Classe as varchar(1)) || substr(Cabine,1,1)) AS cabine_Ctg_Lbl, Embarcou \n    from cabine_trmt_prf \n    where Cabine is not null\n    ) B on (A.Classe = B.Classe and abs(a.Tarifa - b.Tarifa) <= 50)\n    ) A1\n    where A1.Tarifa_Diff_Rank == 1\n    ]\n(Background on this error at: https://sqlalche.me/e/14/e3q8)"
          ]
        }
      ]
    },
    {
      "cell_type": "code",
      "source": [
        "# Transformação do conjunto de teste\n",
        "print(colored(f\"\\nImplementação de pipeline para o conjunto de testes\\n\", color= 'blue', attrs= ['bold', 'dark']));\n",
        "dfTeste_x = Data_Processor.transform(dfTeste);\n",
        "\n",
        "print(colored(f\"\\nVerificação nula após o pipeline\\n\", color = 'blue'));\n",
        "display(dfTeste.isna().sum(axis=0));"
      ],
      "metadata": {
        "id": "7wBrAqwdrl38"
      },
      "execution_count": null,
      "outputs": []
    },
    {
      "cell_type": "markdown",
      "source": [
        "machine learning"
      ],
      "metadata": {
        "id": "PlJnE3qUjJCc"
      }
    },
    {
      "cell_type": "code",
      "source": [
        "# Criando um dicionário mestre para os parâmetros do modelo e instâncias de classe:-\n",
        "mdl_mst_dict = \\\n",
        "{\n",
        "'Logistic': [LogisticRegression(random_state = 10), {}],\n",
        "'SVC': [SVC(random_state = 10), {'C': range(3,10,1)}],\n",
        "'DTree' : [DecisionTreeClassifier(random_state= 10), {'max_depth': range(4,8,1), 'min_amostra_folha' : range(3,12,1)}],\n",
        "'RandomForest': [RandomForestClassifier(random_state =10), \n",
        "                 {'n_estimadores': range(50,300,25), 'max_depth': range(4,7,1)}],\n",
        "'GBM': [GradientBoostingClassifier(random_state= 10), {'max_depth' : range(2,6,1)}],\n",
        "'LGBM': [LGBMClassifier(random_state = 10),{}],\n",
        "'XgBoost': [XGBClassifier(eval_metric= 'logloss'), {}]\n",
        "};\n",
        "\n",
        "cv = None;"
      ],
      "metadata": {
        "id": "tGByTjpyjJg1"
      },
      "execution_count": 65,
      "outputs": []
    },
    {
      "cell_type": "code",
      "source": [
        "# Criando objetos de armazenamento de saída do modelo\n",
        "\n",
        "mdl_param_prf = pd.DataFrame(Data= None, index= list(mdl_mst_dict.keys()), dtype= np.float32,\n",
        "                             columns= ['Pontuacao_de_precisao', 'Pontuação_de_Recuperacao', 'F1_Score', 'ROC_AUC_Score', 'Precisão_Pontuação']);\n",
        "mdl_pred_prf = pd.DataFrame(Data= None, index= None, columns= None, dtype= np.int32);"
      ],
      "metadata": {
        "id": "SXEFuZGfqvj5"
      },
      "execution_count": null,
      "outputs": []
    },
    {
      "cell_type": "markdown",
      "source": [
        "#Machine Learning"
      ],
      "metadata": {
        "id": "D80dcvMYbrlH"
      }
    },
    {
      "cell_type": "markdown",
      "source": [
        "### **Apagando alguns Dados**"
      ],
      "metadata": {
        "id": "dbm1JyQAC_40"
      }
    },
    {
      "cell_type": "code",
      "source": [
        "# Apagando alguns Dados\n",
        "\n",
        "#Apagando os Dados Dos Sobreviventes do Dataset\n",
        "dfTreino_A = dfTreino.drop(\"Sobreviventes\", axis=1)\n",
        "\n",
        "# Criando Um Dataset com os Dados dos Sobreviventes Apenas\n",
        "dfTreino_B = dfTreino[\"Sobreviventes\"]\n",
        "\n",
        "# Apagando os ID dos Passageiros\n",
        "dfTeste_A  = dfTeste.drop(\"ID_Passageiro\", axis=1).copy()"
      ],
      "metadata": {
        "id": "vIpR8_NBDAWs"
      },
      "execution_count": null,
      "outputs": []
    },
    {
      "cell_type": "code",
      "source": [
        "sgd = linear_model.SGDClassifier(max_iter=6, tol=None)"
      ],
      "metadata": {
        "id": "oR1FpRtmDRw5"
      },
      "execution_count": null,
      "outputs": []
    },
    {
      "cell_type": "code",
      "source": [
        "dfTreino_A.head(10)"
      ],
      "metadata": {
        "colab": {
          "base_uri": "https://localhost:8080/"
        },
        "id": "bKmvEz4Q5NQR",
        "outputId": "c1e87c0b-8a08-480b-8062-7bf353857800"
      },
      "execution_count": null,
      "outputs": [
        {
          "output_type": "execute_result",
          "data": {
            "text/plain": [
              "   ID_Passageiro  Classe                                               Nome  \\\n",
              "0              1       3                            Braund, Mr. Owen Harris   \n",
              "1              2       1  Cumings, Mrs. John Bradley (Florence Briggs Th...   \n",
              "2              3       3                             Heikkinen, Miss. Laina   \n",
              "3              4       1       Futrelle, Mrs. Jacques Heath (Lily May Peel)   \n",
              "4              5       3                           Allen, Mr. William Henry   \n",
              "5              6       3                                   Moran, Mr. James   \n",
              "6              7       1                            McCarthy, Mr. Timothy J   \n",
              "7              8       3                     Palsson, Master. Gosta Leonard   \n",
              "8              9       3  Johnson, Mrs. Oscar W (Elisabeth Vilhelmina Berg)   \n",
              "9             10       2                Nasser, Mrs. Nicholas (Adele Achem)   \n",
              "\n",
              "   Sexo  Idade  SibSp  Parch            Ticket  Tarifa Cabine  Embarcou  \\\n",
              "0     0    2.0      1      0         A/5 21171       0     U0         0   \n",
              "1     1    5.0      1      0          PC 17599       3    C85         1   \n",
              "2     1    3.0      0      0  STON/O2. 3101282       0     U0         0   \n",
              "3     1    5.0      1      0            113803       3   C123         0   \n",
              "4     0    5.0      0      0            373450       1     U0         0   \n",
              "5     0    NaN      0      0            330877       1     U0         2   \n",
              "6     0    6.0      0      0             17463       3    E46         0   \n",
              "7     0    0.0      3      1            349909       2     U0         0   \n",
              "8     1    3.0      0      2            347742       1     U0         0   \n",
              "9     1    1.0      1      0            237736       2     U0         1   \n",
              "\n",
              "   Relativo  Acompanhado  Categoria  Titulo  Idade_Classe  Tarifa_Por_Pessoa  \n",
              "0         1            0          8     0.0           6.0                  0  \n",
              "1         1            0          3     0.0           5.0                  1  \n",
              "2         0            1          8     0.0           9.0                  0  \n",
              "3         1            0          3     0.0           5.0                  1  \n",
              "4         0            1          8     0.0          15.0                  1  \n",
              "5         0            1          8     0.0           NaN                  1  \n",
              "6         0            1          5     0.0           6.0                  3  \n",
              "7         4            0          8     0.0           0.0                  0  \n",
              "8         2            0          8     0.0           9.0                  0  \n",
              "9         1            0          8     0.0           2.0                  1  "
            ],
            "text/html": [
              "\n",
              "  <div id=\"df-d8640501-aea3-4319-a132-856353a4929f\">\n",
              "    <div class=\"colab-df-container\">\n",
              "      <div>\n",
              "<style scoped>\n",
              "    .dataframe tbody tr th:only-of-type {\n",
              "        vertical-align: middle;\n",
              "    }\n",
              "\n",
              "    .dataframe tbody tr th {\n",
              "        vertical-align: top;\n",
              "    }\n",
              "\n",
              "    .dataframe thead th {\n",
              "        text-align: right;\n",
              "    }\n",
              "</style>\n",
              "<table border=\"1\" class=\"dataframe\">\n",
              "  <thead>\n",
              "    <tr style=\"text-align: right;\">\n",
              "      <th></th>\n",
              "      <th>ID_Passageiro</th>\n",
              "      <th>Classe</th>\n",
              "      <th>Nome</th>\n",
              "      <th>Sexo</th>\n",
              "      <th>Idade</th>\n",
              "      <th>SibSp</th>\n",
              "      <th>Parch</th>\n",
              "      <th>Ticket</th>\n",
              "      <th>Tarifa</th>\n",
              "      <th>Cabine</th>\n",
              "      <th>Embarcou</th>\n",
              "      <th>Relativo</th>\n",
              "      <th>Acompanhado</th>\n",
              "      <th>Categoria</th>\n",
              "      <th>Titulo</th>\n",
              "      <th>Idade_Classe</th>\n",
              "      <th>Tarifa_Por_Pessoa</th>\n",
              "    </tr>\n",
              "  </thead>\n",
              "  <tbody>\n",
              "    <tr>\n",
              "      <th>0</th>\n",
              "      <td>1</td>\n",
              "      <td>3</td>\n",
              "      <td>Braund, Mr. Owen Harris</td>\n",
              "      <td>0</td>\n",
              "      <td>2.0</td>\n",
              "      <td>1</td>\n",
              "      <td>0</td>\n",
              "      <td>A/5 21171</td>\n",
              "      <td>0</td>\n",
              "      <td>U0</td>\n",
              "      <td>0</td>\n",
              "      <td>1</td>\n",
              "      <td>0</td>\n",
              "      <td>8</td>\n",
              "      <td>0.0</td>\n",
              "      <td>6.0</td>\n",
              "      <td>0</td>\n",
              "    </tr>\n",
              "    <tr>\n",
              "      <th>1</th>\n",
              "      <td>2</td>\n",
              "      <td>1</td>\n",
              "      <td>Cumings, Mrs. John Bradley (Florence Briggs Th...</td>\n",
              "      <td>1</td>\n",
              "      <td>5.0</td>\n",
              "      <td>1</td>\n",
              "      <td>0</td>\n",
              "      <td>PC 17599</td>\n",
              "      <td>3</td>\n",
              "      <td>C85</td>\n",
              "      <td>1</td>\n",
              "      <td>1</td>\n",
              "      <td>0</td>\n",
              "      <td>3</td>\n",
              "      <td>0.0</td>\n",
              "      <td>5.0</td>\n",
              "      <td>1</td>\n",
              "    </tr>\n",
              "    <tr>\n",
              "      <th>2</th>\n",
              "      <td>3</td>\n",
              "      <td>3</td>\n",
              "      <td>Heikkinen, Miss. Laina</td>\n",
              "      <td>1</td>\n",
              "      <td>3.0</td>\n",
              "      <td>0</td>\n",
              "      <td>0</td>\n",
              "      <td>STON/O2. 3101282</td>\n",
              "      <td>0</td>\n",
              "      <td>U0</td>\n",
              "      <td>0</td>\n",
              "      <td>0</td>\n",
              "      <td>1</td>\n",
              "      <td>8</td>\n",
              "      <td>0.0</td>\n",
              "      <td>9.0</td>\n",
              "      <td>0</td>\n",
              "    </tr>\n",
              "    <tr>\n",
              "      <th>3</th>\n",
              "      <td>4</td>\n",
              "      <td>1</td>\n",
              "      <td>Futrelle, Mrs. Jacques Heath (Lily May Peel)</td>\n",
              "      <td>1</td>\n",
              "      <td>5.0</td>\n",
              "      <td>1</td>\n",
              "      <td>0</td>\n",
              "      <td>113803</td>\n",
              "      <td>3</td>\n",
              "      <td>C123</td>\n",
              "      <td>0</td>\n",
              "      <td>1</td>\n",
              "      <td>0</td>\n",
              "      <td>3</td>\n",
              "      <td>0.0</td>\n",
              "      <td>5.0</td>\n",
              "      <td>1</td>\n",
              "    </tr>\n",
              "    <tr>\n",
              "      <th>4</th>\n",
              "      <td>5</td>\n",
              "      <td>3</td>\n",
              "      <td>Allen, Mr. William Henry</td>\n",
              "      <td>0</td>\n",
              "      <td>5.0</td>\n",
              "      <td>0</td>\n",
              "      <td>0</td>\n",
              "      <td>373450</td>\n",
              "      <td>1</td>\n",
              "      <td>U0</td>\n",
              "      <td>0</td>\n",
              "      <td>0</td>\n",
              "      <td>1</td>\n",
              "      <td>8</td>\n",
              "      <td>0.0</td>\n",
              "      <td>15.0</td>\n",
              "      <td>1</td>\n",
              "    </tr>\n",
              "    <tr>\n",
              "      <th>5</th>\n",
              "      <td>6</td>\n",
              "      <td>3</td>\n",
              "      <td>Moran, Mr. James</td>\n",
              "      <td>0</td>\n",
              "      <td>NaN</td>\n",
              "      <td>0</td>\n",
              "      <td>0</td>\n",
              "      <td>330877</td>\n",
              "      <td>1</td>\n",
              "      <td>U0</td>\n",
              "      <td>2</td>\n",
              "      <td>0</td>\n",
              "      <td>1</td>\n",
              "      <td>8</td>\n",
              "      <td>0.0</td>\n",
              "      <td>NaN</td>\n",
              "      <td>1</td>\n",
              "    </tr>\n",
              "    <tr>\n",
              "      <th>6</th>\n",
              "      <td>7</td>\n",
              "      <td>1</td>\n",
              "      <td>McCarthy, Mr. Timothy J</td>\n",
              "      <td>0</td>\n",
              "      <td>6.0</td>\n",
              "      <td>0</td>\n",
              "      <td>0</td>\n",
              "      <td>17463</td>\n",
              "      <td>3</td>\n",
              "      <td>E46</td>\n",
              "      <td>0</td>\n",
              "      <td>0</td>\n",
              "      <td>1</td>\n",
              "      <td>5</td>\n",
              "      <td>0.0</td>\n",
              "      <td>6.0</td>\n",
              "      <td>3</td>\n",
              "    </tr>\n",
              "    <tr>\n",
              "      <th>7</th>\n",
              "      <td>8</td>\n",
              "      <td>3</td>\n",
              "      <td>Palsson, Master. Gosta Leonard</td>\n",
              "      <td>0</td>\n",
              "      <td>0.0</td>\n",
              "      <td>3</td>\n",
              "      <td>1</td>\n",
              "      <td>349909</td>\n",
              "      <td>2</td>\n",
              "      <td>U0</td>\n",
              "      <td>0</td>\n",
              "      <td>4</td>\n",
              "      <td>0</td>\n",
              "      <td>8</td>\n",
              "      <td>0.0</td>\n",
              "      <td>0.0</td>\n",
              "      <td>0</td>\n",
              "    </tr>\n",
              "    <tr>\n",
              "      <th>8</th>\n",
              "      <td>9</td>\n",
              "      <td>3</td>\n",
              "      <td>Johnson, Mrs. Oscar W (Elisabeth Vilhelmina Berg)</td>\n",
              "      <td>1</td>\n",
              "      <td>3.0</td>\n",
              "      <td>0</td>\n",
              "      <td>2</td>\n",
              "      <td>347742</td>\n",
              "      <td>1</td>\n",
              "      <td>U0</td>\n",
              "      <td>0</td>\n",
              "      <td>2</td>\n",
              "      <td>0</td>\n",
              "      <td>8</td>\n",
              "      <td>0.0</td>\n",
              "      <td>9.0</td>\n",
              "      <td>0</td>\n",
              "    </tr>\n",
              "    <tr>\n",
              "      <th>9</th>\n",
              "      <td>10</td>\n",
              "      <td>2</td>\n",
              "      <td>Nasser, Mrs. Nicholas (Adele Achem)</td>\n",
              "      <td>1</td>\n",
              "      <td>1.0</td>\n",
              "      <td>1</td>\n",
              "      <td>0</td>\n",
              "      <td>237736</td>\n",
              "      <td>2</td>\n",
              "      <td>U0</td>\n",
              "      <td>1</td>\n",
              "      <td>1</td>\n",
              "      <td>0</td>\n",
              "      <td>8</td>\n",
              "      <td>0.0</td>\n",
              "      <td>2.0</td>\n",
              "      <td>1</td>\n",
              "    </tr>\n",
              "  </tbody>\n",
              "</table>\n",
              "</div>\n",
              "      <button class=\"colab-df-convert\" onclick=\"convertToInteractive('df-d8640501-aea3-4319-a132-856353a4929f')\"\n",
              "              title=\"Convert this dataframe to an interactive table.\"\n",
              "              style=\"display:none;\">\n",
              "        \n",
              "  <svg xmlns=\"http://www.w3.org/2000/svg\" height=\"24px\"viewBox=\"0 0 24 24\"\n",
              "       width=\"24px\">\n",
              "    <path d=\"M0 0h24v24H0V0z\" fill=\"none\"/>\n",
              "    <path d=\"M18.56 5.44l.94 2.06.94-2.06 2.06-.94-2.06-.94-.94-2.06-.94 2.06-2.06.94zm-11 1L8.5 8.5l.94-2.06 2.06-.94-2.06-.94L8.5 2.5l-.94 2.06-2.06.94zm10 10l.94 2.06.94-2.06 2.06-.94-2.06-.94-.94-2.06-.94 2.06-2.06.94z\"/><path d=\"M17.41 7.96l-1.37-1.37c-.4-.4-.92-.59-1.43-.59-.52 0-1.04.2-1.43.59L10.3 9.45l-7.72 7.72c-.78.78-.78 2.05 0 2.83L4 21.41c.39.39.9.59 1.41.59.51 0 1.02-.2 1.41-.59l7.78-7.78 2.81-2.81c.8-.78.8-2.07 0-2.86zM5.41 20L4 18.59l7.72-7.72 1.47 1.35L5.41 20z\"/>\n",
              "  </svg>\n",
              "      </button>\n",
              "      \n",
              "  <style>\n",
              "    .colab-df-container {\n",
              "      display:flex;\n",
              "      flex-wrap:wrap;\n",
              "      gap: 12px;\n",
              "    }\n",
              "\n",
              "    .colab-df-convert {\n",
              "      background-color: #E8F0FE;\n",
              "      border: none;\n",
              "      border-radius: 50%;\n",
              "      cursor: pointer;\n",
              "      display: none;\n",
              "      fill: #1967D2;\n",
              "      height: 32px;\n",
              "      padding: 0 0 0 0;\n",
              "      width: 32px;\n",
              "    }\n",
              "\n",
              "    .colab-df-convert:hover {\n",
              "      background-color: #E2EBFA;\n",
              "      box-shadow: 0px 1px 2px rgba(60, 64, 67, 0.3), 0px 1px 3px 1px rgba(60, 64, 67, 0.15);\n",
              "      fill: #174EA6;\n",
              "    }\n",
              "\n",
              "    [theme=dark] .colab-df-convert {\n",
              "      background-color: #3B4455;\n",
              "      fill: #D2E3FC;\n",
              "    }\n",
              "\n",
              "    [theme=dark] .colab-df-convert:hover {\n",
              "      background-color: #434B5C;\n",
              "      box-shadow: 0px 1px 3px 1px rgba(0, 0, 0, 0.15);\n",
              "      filter: drop-shadow(0px 1px 2px rgba(0, 0, 0, 0.3));\n",
              "      fill: #FFFFFF;\n",
              "    }\n",
              "  </style>\n",
              "\n",
              "      <script>\n",
              "        const buttonEl =\n",
              "          document.querySelector('#df-d8640501-aea3-4319-a132-856353a4929f button.colab-df-convert');\n",
              "        buttonEl.style.display =\n",
              "          google.colab.kernel.accessAllowed ? 'block' : 'none';\n",
              "\n",
              "        async function convertToInteractive(key) {\n",
              "          const element = document.querySelector('#df-d8640501-aea3-4319-a132-856353a4929f');\n",
              "          const dataTable =\n",
              "            await google.colab.kernel.invokeFunction('convertToInteractive',\n",
              "                                                     [key], {});\n",
              "          if (!dataTable) return;\n",
              "\n",
              "          const docLinkHtml = 'Like what you see? Visit the ' +\n",
              "            '<a target=\"_blank\" href=https://colab.research.google.com/notebooks/data_table.ipynb>data table notebook</a>'\n",
              "            + ' to learn more about interactive tables.';\n",
              "          element.innerHTML = '';\n",
              "          dataTable['output_type'] = 'display_data';\n",
              "          await google.colab.output.renderOutput(dataTable, element);\n",
              "          const docLink = document.createElement('div');\n",
              "          docLink.innerHTML = docLinkHtml;\n",
              "          element.appendChild(docLink);\n",
              "        }\n",
              "      </script>\n",
              "    </div>\n",
              "  </div>\n",
              "  "
            ]
          },
          "metadata": {},
          "execution_count": 48
        }
      ]
    },
    {
      "cell_type": "code",
      "source": [
        "sgd.fit(dfTreino_A, dfTreino_B)"
      ],
      "metadata": {
        "id": "jvlVEEfoky1E",
        "colab": {
          "base_uri": "https://localhost:8080/"
        },
        "outputId": "5c3915c9-ed2c-4f2c-c6db-22515263e4c4"
      },
      "execution_count": null,
      "outputs": [
        {
          "output_type": "error",
          "ename": "ValueError",
          "evalue": "ignored",
          "traceback": [
            "\u001b[0;31m---------------------------------------------------------------------------\u001b[0m",
            "\u001b[0;31mValueError\u001b[0m                                Traceback (most recent call last)",
            "\u001b[0;32m<ipython-input-49-1ea531b342b3>\u001b[0m in \u001b[0;36m<module>\u001b[0;34m\u001b[0m\n\u001b[0;32m----> 1\u001b[0;31m \u001b[0msgd\u001b[0m\u001b[0;34m.\u001b[0m\u001b[0mfit\u001b[0m\u001b[0;34m(\u001b[0m\u001b[0mdfTreino_A\u001b[0m\u001b[0;34m,\u001b[0m \u001b[0mdfTreino_B\u001b[0m\u001b[0;34m)\u001b[0m\u001b[0;34m\u001b[0m\u001b[0;34m\u001b[0m\u001b[0m\n\u001b[0m",
            "\u001b[0;32m/usr/local/lib/python3.7/dist-packages/sklearn/linear_model/_stochastic_gradient.py\u001b[0m in \u001b[0;36mfit\u001b[0;34m(self, X, y, coef_init, intercept_init, sample_weight)\u001b[0m\n\u001b[1;32m    890\u001b[0m             \u001b[0mcoef_init\u001b[0m\u001b[0;34m=\u001b[0m\u001b[0mcoef_init\u001b[0m\u001b[0;34m,\u001b[0m\u001b[0;34m\u001b[0m\u001b[0;34m\u001b[0m\u001b[0m\n\u001b[1;32m    891\u001b[0m             \u001b[0mintercept_init\u001b[0m\u001b[0;34m=\u001b[0m\u001b[0mintercept_init\u001b[0m\u001b[0;34m,\u001b[0m\u001b[0;34m\u001b[0m\u001b[0;34m\u001b[0m\u001b[0m\n\u001b[0;32m--> 892\u001b[0;31m             \u001b[0msample_weight\u001b[0m\u001b[0;34m=\u001b[0m\u001b[0msample_weight\u001b[0m\u001b[0;34m,\u001b[0m\u001b[0;34m\u001b[0m\u001b[0;34m\u001b[0m\u001b[0m\n\u001b[0m\u001b[1;32m    893\u001b[0m         )\n\u001b[1;32m    894\u001b[0m \u001b[0;34m\u001b[0m\u001b[0m\n",
            "\u001b[0;32m/usr/local/lib/python3.7/dist-packages/sklearn/linear_model/_stochastic_gradient.py\u001b[0m in \u001b[0;36m_fit\u001b[0;34m(self, X, y, alpha, C, loss, learning_rate, coef_init, intercept_init, sample_weight)\u001b[0m\n\u001b[1;32m    686\u001b[0m             \u001b[0msample_weight\u001b[0m\u001b[0;34m,\u001b[0m\u001b[0;34m\u001b[0m\u001b[0;34m\u001b[0m\u001b[0m\n\u001b[1;32m    687\u001b[0m             \u001b[0mcoef_init\u001b[0m\u001b[0;34m,\u001b[0m\u001b[0;34m\u001b[0m\u001b[0;34m\u001b[0m\u001b[0m\n\u001b[0;32m--> 688\u001b[0;31m             \u001b[0mintercept_init\u001b[0m\u001b[0;34m,\u001b[0m\u001b[0;34m\u001b[0m\u001b[0;34m\u001b[0m\u001b[0m\n\u001b[0m\u001b[1;32m    689\u001b[0m         )\n\u001b[1;32m    690\u001b[0m \u001b[0;34m\u001b[0m\u001b[0m\n",
            "\u001b[0;32m/usr/local/lib/python3.7/dist-packages/sklearn/linear_model/_stochastic_gradient.py\u001b[0m in \u001b[0;36m_partial_fit\u001b[0;34m(self, X, y, alpha, C, loss, learning_rate, max_iter, classes, sample_weight, coef_init, intercept_init)\u001b[0m\n\u001b[1;32m    577\u001b[0m             \u001b[0morder\u001b[0m\u001b[0;34m=\u001b[0m\u001b[0;34m\"C\"\u001b[0m\u001b[0;34m,\u001b[0m\u001b[0;34m\u001b[0m\u001b[0;34m\u001b[0m\u001b[0m\n\u001b[1;32m    578\u001b[0m             \u001b[0maccept_large_sparse\u001b[0m\u001b[0;34m=\u001b[0m\u001b[0;32mFalse\u001b[0m\u001b[0;34m,\u001b[0m\u001b[0;34m\u001b[0m\u001b[0;34m\u001b[0m\u001b[0m\n\u001b[0;32m--> 579\u001b[0;31m             \u001b[0mreset\u001b[0m\u001b[0;34m=\u001b[0m\u001b[0mfirst_call\u001b[0m\u001b[0;34m,\u001b[0m\u001b[0;34m\u001b[0m\u001b[0;34m\u001b[0m\u001b[0m\n\u001b[0m\u001b[1;32m    580\u001b[0m         )\n\u001b[1;32m    581\u001b[0m \u001b[0;34m\u001b[0m\u001b[0m\n",
            "\u001b[0;32m/usr/local/lib/python3.7/dist-packages/sklearn/base.py\u001b[0m in \u001b[0;36m_validate_data\u001b[0;34m(self, X, y, reset, validate_separately, **check_params)\u001b[0m\n\u001b[1;32m    579\u001b[0m                 \u001b[0my\u001b[0m \u001b[0;34m=\u001b[0m \u001b[0mcheck_array\u001b[0m\u001b[0;34m(\u001b[0m\u001b[0my\u001b[0m\u001b[0;34m,\u001b[0m \u001b[0;34m**\u001b[0m\u001b[0mcheck_y_params\u001b[0m\u001b[0;34m)\u001b[0m\u001b[0;34m\u001b[0m\u001b[0;34m\u001b[0m\u001b[0m\n\u001b[1;32m    580\u001b[0m             \u001b[0;32melse\u001b[0m\u001b[0;34m:\u001b[0m\u001b[0;34m\u001b[0m\u001b[0;34m\u001b[0m\u001b[0m\n\u001b[0;32m--> 581\u001b[0;31m                 \u001b[0mX\u001b[0m\u001b[0;34m,\u001b[0m \u001b[0my\u001b[0m \u001b[0;34m=\u001b[0m \u001b[0mcheck_X_y\u001b[0m\u001b[0;34m(\u001b[0m\u001b[0mX\u001b[0m\u001b[0;34m,\u001b[0m \u001b[0my\u001b[0m\u001b[0;34m,\u001b[0m \u001b[0;34m**\u001b[0m\u001b[0mcheck_params\u001b[0m\u001b[0;34m)\u001b[0m\u001b[0;34m\u001b[0m\u001b[0;34m\u001b[0m\u001b[0m\n\u001b[0m\u001b[1;32m    582\u001b[0m             \u001b[0mout\u001b[0m \u001b[0;34m=\u001b[0m \u001b[0mX\u001b[0m\u001b[0;34m,\u001b[0m \u001b[0my\u001b[0m\u001b[0;34m\u001b[0m\u001b[0;34m\u001b[0m\u001b[0m\n\u001b[1;32m    583\u001b[0m \u001b[0;34m\u001b[0m\u001b[0m\n",
            "\u001b[0;32m/usr/local/lib/python3.7/dist-packages/sklearn/utils/validation.py\u001b[0m in \u001b[0;36mcheck_X_y\u001b[0;34m(X, y, accept_sparse, accept_large_sparse, dtype, order, copy, force_all_finite, ensure_2d, allow_nd, multi_output, ensure_min_samples, ensure_min_features, y_numeric, estimator)\u001b[0m\n\u001b[1;32m    974\u001b[0m         \u001b[0mensure_min_samples\u001b[0m\u001b[0;34m=\u001b[0m\u001b[0mensure_min_samples\u001b[0m\u001b[0;34m,\u001b[0m\u001b[0;34m\u001b[0m\u001b[0;34m\u001b[0m\u001b[0m\n\u001b[1;32m    975\u001b[0m         \u001b[0mensure_min_features\u001b[0m\u001b[0;34m=\u001b[0m\u001b[0mensure_min_features\u001b[0m\u001b[0;34m,\u001b[0m\u001b[0;34m\u001b[0m\u001b[0;34m\u001b[0m\u001b[0m\n\u001b[0;32m--> 976\u001b[0;31m         \u001b[0mestimator\u001b[0m\u001b[0;34m=\u001b[0m\u001b[0mestimator\u001b[0m\u001b[0;34m,\u001b[0m\u001b[0;34m\u001b[0m\u001b[0;34m\u001b[0m\u001b[0m\n\u001b[0m\u001b[1;32m    977\u001b[0m     )\n\u001b[1;32m    978\u001b[0m \u001b[0;34m\u001b[0m\u001b[0m\n",
            "\u001b[0;32m/usr/local/lib/python3.7/dist-packages/sklearn/utils/validation.py\u001b[0m in \u001b[0;36mcheck_array\u001b[0;34m(array, accept_sparse, accept_large_sparse, dtype, order, copy, force_all_finite, ensure_2d, allow_nd, ensure_min_samples, ensure_min_features, estimator)\u001b[0m\n\u001b[1;32m    744\u001b[0m                     \u001b[0marray\u001b[0m \u001b[0;34m=\u001b[0m \u001b[0marray\u001b[0m\u001b[0;34m.\u001b[0m\u001b[0mastype\u001b[0m\u001b[0;34m(\u001b[0m\u001b[0mdtype\u001b[0m\u001b[0;34m,\u001b[0m \u001b[0mcasting\u001b[0m\u001b[0;34m=\u001b[0m\u001b[0;34m\"unsafe\"\u001b[0m\u001b[0;34m,\u001b[0m \u001b[0mcopy\u001b[0m\u001b[0;34m=\u001b[0m\u001b[0;32mFalse\u001b[0m\u001b[0;34m)\u001b[0m\u001b[0;34m\u001b[0m\u001b[0;34m\u001b[0m\u001b[0m\n\u001b[1;32m    745\u001b[0m                 \u001b[0;32melse\u001b[0m\u001b[0;34m:\u001b[0m\u001b[0;34m\u001b[0m\u001b[0;34m\u001b[0m\u001b[0m\n\u001b[0;32m--> 746\u001b[0;31m                     \u001b[0marray\u001b[0m \u001b[0;34m=\u001b[0m \u001b[0mnp\u001b[0m\u001b[0;34m.\u001b[0m\u001b[0masarray\u001b[0m\u001b[0;34m(\u001b[0m\u001b[0marray\u001b[0m\u001b[0;34m,\u001b[0m \u001b[0morder\u001b[0m\u001b[0;34m=\u001b[0m\u001b[0morder\u001b[0m\u001b[0;34m,\u001b[0m \u001b[0mdtype\u001b[0m\u001b[0;34m=\u001b[0m\u001b[0mdtype\u001b[0m\u001b[0;34m)\u001b[0m\u001b[0;34m\u001b[0m\u001b[0;34m\u001b[0m\u001b[0m\n\u001b[0m\u001b[1;32m    747\u001b[0m             \u001b[0;32mexcept\u001b[0m \u001b[0mComplexWarning\u001b[0m \u001b[0;32mas\u001b[0m \u001b[0mcomplex_warning\u001b[0m\u001b[0;34m:\u001b[0m\u001b[0;34m\u001b[0m\u001b[0;34m\u001b[0m\u001b[0m\n\u001b[1;32m    748\u001b[0m                 raise ValueError(\n",
            "\u001b[0;32m/usr/local/lib/python3.7/dist-packages/pandas/core/generic.py\u001b[0m in \u001b[0;36m__array__\u001b[0;34m(self, dtype)\u001b[0m\n\u001b[1;32m   1991\u001b[0m \u001b[0;34m\u001b[0m\u001b[0m\n\u001b[1;32m   1992\u001b[0m     \u001b[0;32mdef\u001b[0m \u001b[0m__array__\u001b[0m\u001b[0;34m(\u001b[0m\u001b[0mself\u001b[0m\u001b[0;34m,\u001b[0m \u001b[0mdtype\u001b[0m\u001b[0;34m:\u001b[0m \u001b[0mNpDtype\u001b[0m \u001b[0;34m|\u001b[0m \u001b[0;32mNone\u001b[0m \u001b[0;34m=\u001b[0m \u001b[0;32mNone\u001b[0m\u001b[0;34m)\u001b[0m \u001b[0;34m->\u001b[0m \u001b[0mnp\u001b[0m\u001b[0;34m.\u001b[0m\u001b[0mndarray\u001b[0m\u001b[0;34m:\u001b[0m\u001b[0;34m\u001b[0m\u001b[0;34m\u001b[0m\u001b[0m\n\u001b[0;32m-> 1993\u001b[0;31m         \u001b[0;32mreturn\u001b[0m \u001b[0mnp\u001b[0m\u001b[0;34m.\u001b[0m\u001b[0masarray\u001b[0m\u001b[0;34m(\u001b[0m\u001b[0mself\u001b[0m\u001b[0;34m.\u001b[0m\u001b[0m_values\u001b[0m\u001b[0;34m,\u001b[0m \u001b[0mdtype\u001b[0m\u001b[0;34m=\u001b[0m\u001b[0mdtype\u001b[0m\u001b[0;34m)\u001b[0m\u001b[0;34m\u001b[0m\u001b[0;34m\u001b[0m\u001b[0m\n\u001b[0m\u001b[1;32m   1994\u001b[0m \u001b[0;34m\u001b[0m\u001b[0m\n\u001b[1;32m   1995\u001b[0m     def __array_wrap__(\n",
            "\u001b[0;31mValueError\u001b[0m: could not convert string to float: 'Braund, Mr. Owen Harris'"
          ]
        }
      ]
    },
    {
      "cell_type": "code",
      "source": [
        "B_Preditivo = sgd.predict(dfTeste_A)\n",
        "\n",
        "sgd.score(dfTreino_A, dfTreino_B)\n",
        "\n",
        "acc_sgd = round(sgd.score(dfTreino_A, dfTreino_B)  * 60, 2)"
      ],
      "metadata": {
        "id": "-pg-hFOoTk_a"
      },
      "execution_count": null,
      "outputs": []
    },
    {
      "cell_type": "code",
      "source": [
        "print(round(acc_sgd,2,), \"%\")"
      ],
      "metadata": {
        "id": "-_4RZA0ZDXQV"
      },
      "execution_count": null,
      "outputs": []
    },
    {
      "cell_type": "markdown",
      "source": [
        "### **Random Forest**"
      ],
      "metadata": {
        "id": "QhaRJGc_DdE1"
      }
    },
    {
      "cell_type": "code",
      "source": [
        "random_forest = RandomForestClassifier(n_estimators=50)\n",
        "random_forest.fit(dfTreino_A, dfTreino_B)\n",
        "\n",
        "Y_preditivo = random_forest.predict(dfTeste_A)\n",
        "\n",
        "random_forest.score(dfTreino_A, dfTreino_B)\n",
        "acc_random_forest = round(random_forest.score(dfTreino_A, dfTreino_B) * 50, 2)\n",
        "print(round(acc_random_forest,2,), \"%\")"
      ],
      "metadata": {
        "id": "DEq8lkG8Dd0q",
        "colab": {
          "base_uri": "https://localhost:8080/"
        },
        "outputId": "1f88cc93-5d6d-40bc-e881-163da063cfc7"
      },
      "execution_count": null,
      "outputs": [
        {
          "output_type": "error",
          "ename": "ValueError",
          "evalue": "ignored",
          "traceback": [
            "\u001b[0;31m---------------------------------------------------------------------------\u001b[0m",
            "\u001b[0;31mValueError\u001b[0m                                Traceback (most recent call last)",
            "\u001b[0;32m<ipython-input-237-a087b0997d36>\u001b[0m in \u001b[0;36m<module>\u001b[0;34m\u001b[0m\n\u001b[1;32m      1\u001b[0m \u001b[0mrandom_forest\u001b[0m \u001b[0;34m=\u001b[0m \u001b[0mRandomForestClassifier\u001b[0m\u001b[0;34m(\u001b[0m\u001b[0mn_estimators\u001b[0m\u001b[0;34m=\u001b[0m\u001b[0;36m100\u001b[0m\u001b[0;34m)\u001b[0m\u001b[0;34m\u001b[0m\u001b[0;34m\u001b[0m\u001b[0m\n\u001b[0;32m----> 2\u001b[0;31m \u001b[0mrandom_forest\u001b[0m\u001b[0;34m.\u001b[0m\u001b[0mfit\u001b[0m\u001b[0;34m(\u001b[0m\u001b[0mdfTreino_A\u001b[0m\u001b[0;34m,\u001b[0m \u001b[0mdfTreino_B\u001b[0m\u001b[0;34m)\u001b[0m\u001b[0;34m\u001b[0m\u001b[0;34m\u001b[0m\u001b[0m\n\u001b[0m\u001b[1;32m      3\u001b[0m \u001b[0;34m\u001b[0m\u001b[0m\n\u001b[1;32m      4\u001b[0m \u001b[0mY_prediction\u001b[0m \u001b[0;34m=\u001b[0m \u001b[0mrandom_forest\u001b[0m\u001b[0;34m.\u001b[0m\u001b[0mpredict\u001b[0m\u001b[0;34m(\u001b[0m\u001b[0mdfTeste_A\u001b[0m\u001b[0;34m)\u001b[0m\u001b[0;34m\u001b[0m\u001b[0;34m\u001b[0m\u001b[0m\n\u001b[1;32m      5\u001b[0m \u001b[0;34m\u001b[0m\u001b[0m\n",
            "\u001b[0;32m/usr/local/lib/python3.7/dist-packages/sklearn/ensemble/_forest.py\u001b[0m in \u001b[0;36mfit\u001b[0;34m(self, X, y, sample_weight)\u001b[0m\n\u001b[1;32m    326\u001b[0m             \u001b[0;32mraise\u001b[0m \u001b[0mValueError\u001b[0m\u001b[0;34m(\u001b[0m\u001b[0;34m\"sparse multilabel-indicator for y is not supported.\"\u001b[0m\u001b[0;34m)\u001b[0m\u001b[0;34m\u001b[0m\u001b[0;34m\u001b[0m\u001b[0m\n\u001b[1;32m    327\u001b[0m         X, y = self._validate_data(\n\u001b[0;32m--> 328\u001b[0;31m             \u001b[0mX\u001b[0m\u001b[0;34m,\u001b[0m \u001b[0my\u001b[0m\u001b[0;34m,\u001b[0m \u001b[0mmulti_output\u001b[0m\u001b[0;34m=\u001b[0m\u001b[0;32mTrue\u001b[0m\u001b[0;34m,\u001b[0m \u001b[0maccept_sparse\u001b[0m\u001b[0;34m=\u001b[0m\u001b[0;34m\"csc\"\u001b[0m\u001b[0;34m,\u001b[0m \u001b[0mdtype\u001b[0m\u001b[0;34m=\u001b[0m\u001b[0mDTYPE\u001b[0m\u001b[0;34m\u001b[0m\u001b[0;34m\u001b[0m\u001b[0m\n\u001b[0m\u001b[1;32m    329\u001b[0m         )\n\u001b[1;32m    330\u001b[0m         \u001b[0;32mif\u001b[0m \u001b[0msample_weight\u001b[0m \u001b[0;32mis\u001b[0m \u001b[0;32mnot\u001b[0m \u001b[0;32mNone\u001b[0m\u001b[0;34m:\u001b[0m\u001b[0;34m\u001b[0m\u001b[0;34m\u001b[0m\u001b[0m\n",
            "\u001b[0;32m/usr/local/lib/python3.7/dist-packages/sklearn/base.py\u001b[0m in \u001b[0;36m_validate_data\u001b[0;34m(self, X, y, reset, validate_separately, **check_params)\u001b[0m\n\u001b[1;32m    579\u001b[0m                 \u001b[0my\u001b[0m \u001b[0;34m=\u001b[0m \u001b[0mcheck_array\u001b[0m\u001b[0;34m(\u001b[0m\u001b[0my\u001b[0m\u001b[0;34m,\u001b[0m \u001b[0;34m**\u001b[0m\u001b[0mcheck_y_params\u001b[0m\u001b[0;34m)\u001b[0m\u001b[0;34m\u001b[0m\u001b[0;34m\u001b[0m\u001b[0m\n\u001b[1;32m    580\u001b[0m             \u001b[0;32melse\u001b[0m\u001b[0;34m:\u001b[0m\u001b[0;34m\u001b[0m\u001b[0;34m\u001b[0m\u001b[0m\n\u001b[0;32m--> 581\u001b[0;31m                 \u001b[0mX\u001b[0m\u001b[0;34m,\u001b[0m \u001b[0my\u001b[0m \u001b[0;34m=\u001b[0m \u001b[0mcheck_X_y\u001b[0m\u001b[0;34m(\u001b[0m\u001b[0mX\u001b[0m\u001b[0;34m,\u001b[0m \u001b[0my\u001b[0m\u001b[0;34m,\u001b[0m \u001b[0;34m**\u001b[0m\u001b[0mcheck_params\u001b[0m\u001b[0;34m)\u001b[0m\u001b[0;34m\u001b[0m\u001b[0;34m\u001b[0m\u001b[0m\n\u001b[0m\u001b[1;32m    582\u001b[0m             \u001b[0mout\u001b[0m \u001b[0;34m=\u001b[0m \u001b[0mX\u001b[0m\u001b[0;34m,\u001b[0m \u001b[0my\u001b[0m\u001b[0;34m\u001b[0m\u001b[0;34m\u001b[0m\u001b[0m\n\u001b[1;32m    583\u001b[0m \u001b[0;34m\u001b[0m\u001b[0m\n",
            "\u001b[0;32m/usr/local/lib/python3.7/dist-packages/sklearn/utils/validation.py\u001b[0m in \u001b[0;36mcheck_X_y\u001b[0;34m(X, y, accept_sparse, accept_large_sparse, dtype, order, copy, force_all_finite, ensure_2d, allow_nd, multi_output, ensure_min_samples, ensure_min_features, y_numeric, estimator)\u001b[0m\n\u001b[1;32m    974\u001b[0m         \u001b[0mensure_min_samples\u001b[0m\u001b[0;34m=\u001b[0m\u001b[0mensure_min_samples\u001b[0m\u001b[0;34m,\u001b[0m\u001b[0;34m\u001b[0m\u001b[0;34m\u001b[0m\u001b[0m\n\u001b[1;32m    975\u001b[0m         \u001b[0mensure_min_features\u001b[0m\u001b[0;34m=\u001b[0m\u001b[0mensure_min_features\u001b[0m\u001b[0;34m,\u001b[0m\u001b[0;34m\u001b[0m\u001b[0;34m\u001b[0m\u001b[0m\n\u001b[0;32m--> 976\u001b[0;31m         \u001b[0mestimator\u001b[0m\u001b[0;34m=\u001b[0m\u001b[0mestimator\u001b[0m\u001b[0;34m,\u001b[0m\u001b[0;34m\u001b[0m\u001b[0;34m\u001b[0m\u001b[0m\n\u001b[0m\u001b[1;32m    977\u001b[0m     )\n\u001b[1;32m    978\u001b[0m \u001b[0;34m\u001b[0m\u001b[0m\n",
            "\u001b[0;32m/usr/local/lib/python3.7/dist-packages/sklearn/utils/validation.py\u001b[0m in \u001b[0;36mcheck_array\u001b[0;34m(array, accept_sparse, accept_large_sparse, dtype, order, copy, force_all_finite, ensure_2d, allow_nd, ensure_min_samples, ensure_min_features, estimator)\u001b[0m\n\u001b[1;32m    744\u001b[0m                     \u001b[0marray\u001b[0m \u001b[0;34m=\u001b[0m \u001b[0marray\u001b[0m\u001b[0;34m.\u001b[0m\u001b[0mastype\u001b[0m\u001b[0;34m(\u001b[0m\u001b[0mdtype\u001b[0m\u001b[0;34m,\u001b[0m \u001b[0mcasting\u001b[0m\u001b[0;34m=\u001b[0m\u001b[0;34m\"unsafe\"\u001b[0m\u001b[0;34m,\u001b[0m \u001b[0mcopy\u001b[0m\u001b[0;34m=\u001b[0m\u001b[0;32mFalse\u001b[0m\u001b[0;34m)\u001b[0m\u001b[0;34m\u001b[0m\u001b[0;34m\u001b[0m\u001b[0m\n\u001b[1;32m    745\u001b[0m                 \u001b[0;32melse\u001b[0m\u001b[0;34m:\u001b[0m\u001b[0;34m\u001b[0m\u001b[0;34m\u001b[0m\u001b[0m\n\u001b[0;32m--> 746\u001b[0;31m                     \u001b[0marray\u001b[0m \u001b[0;34m=\u001b[0m \u001b[0mnp\u001b[0m\u001b[0;34m.\u001b[0m\u001b[0masarray\u001b[0m\u001b[0;34m(\u001b[0m\u001b[0marray\u001b[0m\u001b[0;34m,\u001b[0m \u001b[0morder\u001b[0m\u001b[0;34m=\u001b[0m\u001b[0morder\u001b[0m\u001b[0;34m,\u001b[0m \u001b[0mdtype\u001b[0m\u001b[0;34m=\u001b[0m\u001b[0mdtype\u001b[0m\u001b[0;34m)\u001b[0m\u001b[0;34m\u001b[0m\u001b[0;34m\u001b[0m\u001b[0m\n\u001b[0m\u001b[1;32m    747\u001b[0m             \u001b[0;32mexcept\u001b[0m \u001b[0mComplexWarning\u001b[0m \u001b[0;32mas\u001b[0m \u001b[0mcomplex_warning\u001b[0m\u001b[0;34m:\u001b[0m\u001b[0;34m\u001b[0m\u001b[0;34m\u001b[0m\u001b[0m\n\u001b[1;32m    748\u001b[0m                 raise ValueError(\n",
            "\u001b[0;32m/usr/local/lib/python3.7/dist-packages/pandas/core/generic.py\u001b[0m in \u001b[0;36m__array__\u001b[0;34m(self, dtype)\u001b[0m\n\u001b[1;32m   1991\u001b[0m \u001b[0;34m\u001b[0m\u001b[0m\n\u001b[1;32m   1992\u001b[0m     \u001b[0;32mdef\u001b[0m \u001b[0m__array__\u001b[0m\u001b[0;34m(\u001b[0m\u001b[0mself\u001b[0m\u001b[0;34m,\u001b[0m \u001b[0mdtype\u001b[0m\u001b[0;34m:\u001b[0m \u001b[0mNpDtype\u001b[0m \u001b[0;34m|\u001b[0m \u001b[0;32mNone\u001b[0m \u001b[0;34m=\u001b[0m \u001b[0;32mNone\u001b[0m\u001b[0;34m)\u001b[0m \u001b[0;34m->\u001b[0m \u001b[0mnp\u001b[0m\u001b[0;34m.\u001b[0m\u001b[0mndarray\u001b[0m\u001b[0;34m:\u001b[0m\u001b[0;34m\u001b[0m\u001b[0;34m\u001b[0m\u001b[0m\n\u001b[0;32m-> 1993\u001b[0;31m         \u001b[0;32mreturn\u001b[0m \u001b[0mnp\u001b[0m\u001b[0;34m.\u001b[0m\u001b[0masarray\u001b[0m\u001b[0;34m(\u001b[0m\u001b[0mself\u001b[0m\u001b[0;34m.\u001b[0m\u001b[0m_values\u001b[0m\u001b[0;34m,\u001b[0m \u001b[0mdtype\u001b[0m\u001b[0;34m=\u001b[0m\u001b[0mdtype\u001b[0m\u001b[0;34m)\u001b[0m\u001b[0;34m\u001b[0m\u001b[0;34m\u001b[0m\u001b[0m\n\u001b[0m\u001b[1;32m   1994\u001b[0m \u001b[0;34m\u001b[0m\u001b[0m\n\u001b[1;32m   1995\u001b[0m     def __array_wrap__(\n",
            "\u001b[0;31mValueError\u001b[0m: could not convert string to float: 'Braund, Mr. Owen Harris'"
          ]
        }
      ]
    },
    {
      "cell_type": "markdown",
      "source": [
        "### **Logistic Regression**"
      ],
      "metadata": {
        "id": "XQo9nxXODm9i"
      }
    },
    {
      "cell_type": "code",
      "source": [
        "# Logistic Regression\n",
        "logreg = LogisticRegression()\n",
        "logreg.fit(X_train, Y_train)\n",
        "\n",
        "Y_pred = logreg.predict(X_test)\n",
        "\n",
        "acc_log = round(logreg.score(X_train, Y_train) * 100, 2)\n",
        "print(round(acc_log,2,), \"%\")"
      ],
      "metadata": {
        "id": "-QPIulYbDnfF"
      },
      "execution_count": null,
      "outputs": []
    }
  ]
}