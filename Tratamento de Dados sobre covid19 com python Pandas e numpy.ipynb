{
  "cells": [
    {
      "cell_type": "markdown",
      "metadata": {
        "id": "r6NfOulEwjPZ"
      },
      "source": [
        "**Fazendo tratamento de dados e analise de dados com o Python**\n",
        "** tratamento de dados e ciencia de dados**\n",
        "\n",
        "Wagner Ribeiro De Carvalho\n",
        "1197698988\n",
        "wagnerrc9999@yahoo.com\n"
      ]
    },
    {
      "cell_type": "markdown",
      "metadata": {
        "id": "lVqbyIlsenYH"
      },
      "source": [
        "# **Preparando o Ambiente de Trabalho.**"
      ]
    },
    {
      "cell_type": "markdown",
      "metadata": {
        "id": "yu0GeK5IenT_"
      },
      "source": [
        ""
      ]
    },
    {
      "cell_type": "markdown",
      "metadata": {
        "id": "SjrEYgNgdqzr"
      },
      "source": [
        "**Primeiro** **vamos** **Instalar algumas coisas que vamos usar como oo pandas e o numpy**\n",
        "**caso já tenha feito isso pule para o próximo comando.** **bold text**\n",
        "\n",
        "\n"
      ]
    },
    {
      "cell_type": "markdown",
      "metadata": {
        "id": "5m0mD6A8eifo"
      },
      "source": [
        ""
      ]
    },
    {
      "cell_type": "code",
      "execution_count": null,
      "metadata": {
        "id": "deRTjXNCM1ZU"
      },
      "outputs": [],
      "source": [
        "#Para instalar as Bibliotecas instale o retire o # da frente da linha.\n",
        "#instalando as Bibliotecas\n",
        "pip install numpy\n",
        "pip install pandas\n",
        "pip install openpyxl\n",
        "!pip install plotly\n",
        "\n"
      ]
    },
    {
      "cell_type": "markdown",
      "metadata": {
        "id": "y6F0xfDZdptJ"
      },
      "source": [
        "**Agora vamos carregar as bibliotecas que usaremos no python**"
      ]
    },
    {
      "cell_type": "code",
      "execution_count": null,
      "metadata": {
        "id": "JMHuGhnJ_6mk"
      },
      "outputs": [],
      "source": [
        "# importanto as bibliotecas\n",
        "import numpy as np\n",
        "import pandas as pd\n",
        "import plotly.express as px\n",
        "import openpyxl\n",
        "# importando os objetos do pandas que será utilizado.\n",
        "from pandas import Series, DataFrame"
      ]
    },
    {
      "cell_type": "markdown",
      "metadata": {
        "id": "pJBs6s_nRZax"
      },
      "source": [
        "**Importando os dados**"
      ]
    },
    {
      "cell_type": "code",
      "execution_count": null,
      "metadata": {
        "id": "bfAnzT9RxZrj"
      },
      "outputs": [],
      "source": [
        "# Importando os dados:\n",
        "# importando Dados sobre Covid19 de 2022\n",
        "df = pd.read_csv(\"https://s3.sa-east-1.amazonaws.com/ckan.saude.gov.br/LEITOS/2022-06-05/esus-vepi.LeitoOcupacao_2022.csv\")"
      ]
    },
    {
      "cell_type": "markdown",
      "metadata": {
        "id": "GpAAs57Ogq0c"
      },
      "source": [
        "**Mostando os dados**"
      ]
    },
    {
      "cell_type": "code",
      "execution_count": null,
      "metadata": {
        "colab": {
          "base_uri": "https://localhost:8080/",
          "height": 679
        },
        "id": "G6biyEz_xZRu",
        "outputId": "4d91ac35-695d-4a88-f82d-b6f4e1161f74"
      },
      "outputs": [
        {
          "output_type": "display_data",
          "data": {
            "text/plain": [
              "                       Data_Notificacao     CNES  Ocupacao_Suspeito_Cli  \\\n",
              "0             2022-01-17 03:00:00+00:00  2379341                   13.0   \n",
              "1             2022-01-05 03:00:00+00:00  2594366                    0.0   \n",
              "2      2022-01-01 03:00:50.682000+00:00  2747871                    0.0   \n",
              "3      2022-01-01 03:00:08.570000+00:00  2082497                    0.0   \n",
              "5      2022-01-01 03:00:37.005000+00:00  2664984                    0.0   \n",
              "...                                 ...      ...                    ...   \n",
              "193101 2022-06-05 03:00:41.286000+00:00  6048692                    0.0   \n",
              "193102 2022-06-05 03:00:01.172000+00:00  2178559                    0.0   \n",
              "193103 2022-06-05 03:00:19.760000+00:00  2761165                    0.0   \n",
              "193104 2022-06-05 03:00:54.586000+00:00  2760916                    0.0   \n",
              "193105 2022-06-05 03:00:48.405000+00:00  2765659                    0.0   \n",
              "\n",
              "        Ocupacao_Suspeito_Uti  Ocupacao_Confirmado_Cli  \\\n",
              "0                         8.0                      0.0   \n",
              "1                         0.0                      0.0   \n",
              "2                         0.0                      0.0   \n",
              "3                         0.0                      0.0   \n",
              "5                         0.0                      0.0   \n",
              "...                       ...                      ...   \n",
              "193101                    0.0                      0.0   \n",
              "193102                    0.0                      0.0   \n",
              "193103                    0.0                      0.0   \n",
              "193104                    0.0                      0.0   \n",
              "193105                    0.0                      0.0   \n",
              "\n",
              "        Ocupacao_Confirmado_Uti  Ocupacao_Covid_Uti  Ocupacao_Covid_Cli  \\\n",
              "0                           0.0                 0.0                 1.0   \n",
              "1                           0.0                 0.0                 0.0   \n",
              "2                           0.0                 1.0                 9.0   \n",
              "3                           0.0                 0.0                 1.0   \n",
              "5                           0.0                 0.0                 1.0   \n",
              "...                         ...                 ...                 ...   \n",
              "193101                      0.0                 0.0                 1.0   \n",
              "193102                      0.0                 4.0                 3.0   \n",
              "193103                      0.0                 0.0                 0.0   \n",
              "193104                      0.0                 0.0                 0.0   \n",
              "193105                      0.0                 0.0                 0.0   \n",
              "\n",
              "        Ocupacao_Hospitalar_Uti  Ocupacao_Hospitalar_Cli  ...  \\\n",
              "0                           8.0                     12.0  ...   \n",
              "1                           9.0                     31.0  ...   \n",
              "2                           3.0                     14.0  ...   \n",
              "3                           0.0                      3.0  ...   \n",
              "5                           0.0                      3.0  ...   \n",
              "...                         ...                      ...  ...   \n",
              "193101                     35.0                     84.0  ...   \n",
              "193102                     16.0                     32.0  ...   \n",
              "193103                      0.0                      6.0  ...   \n",
              "193104                      0.0                      2.0  ...   \n",
              "193105                      0.0                     28.0  ...   \n",
              "\n",
              "        saidaConfirmadaAltas       Origem  Estado_Notificacao  \\\n",
              "0                        1.0  parse-cloud      Santa Catarina   \n",
              "1                        0.0  parse-cloud              Paraná   \n",
              "2                        0.0  parse-cloud           São Paulo   \n",
              "3                        0.0  parse-cloud           São Paulo   \n",
              "5                        0.0  parse-cloud      Santa Catarina   \n",
              "...                      ...          ...                 ...   \n",
              "193101                   0.0  parse-cloud      Santa Catarina   \n",
              "193102                   0.0  parse-cloud        Minas Gerais   \n",
              "193103                   0.0  parse-cloud        Minas Gerais   \n",
              "193104                   0.0  parse-cloud        Minas Gerais   \n",
              "193105                   0.0  parse-cloud           Tocantins   \n",
              "\n",
              "        Municipio_Notificacao          estado              municipio excluido  \\\n",
              "0                       Mafra  Santa Catarina                  Mafra    False   \n",
              "1                    Umuarama          Paraná               Umuarama    False   \n",
              "2                    Ilhabela       São Paulo               Ilhabela    False   \n",
              "3        Bernardino de Campos       São Paulo   Bernardino de Campos    False   \n",
              "5                    Palmitos  Santa Catarina               Palmitos    False   \n",
              "...                       ...             ...                    ...      ...   \n",
              "193101              Joinville  Santa Catarina              Joinville    False   \n",
              "193102                Curvelo    Minas Gerais                Curvelo    False   \n",
              "193103               Cristina    Minas Gerais               Cristina    False   \n",
              "193104                Araporã    Minas Gerais                Araporã    False   \n",
              "193105  Miracema do Tocantins       Tocantins  Miracema do Tocantins    False   \n",
              "\n",
              "       validado                      _created_at  \\\n",
              "0         False 2021-02-15 11:08:07.797000+00:00   \n",
              "1         False 2021-12-08 10:42:04.123000+00:00   \n",
              "2         False 2022-01-01 03:34:58.234000+00:00   \n",
              "3         False 2022-01-01 04:50:29.194000+00:00   \n",
              "5         False 2022-01-01 05:50:49.260000+00:00   \n",
              "...         ...                              ...   \n",
              "193101    False 2022-06-05 20:11:44.983000+00:00   \n",
              "193102    False 2022-06-05 20:28:52.638000+00:00   \n",
              "193103    False 2022-06-05 20:40:33.556000+00:00   \n",
              "193104    False 2022-06-05 20:51:06.370000+00:00   \n",
              "193105    False 2022-06-05 20:56:16.558000+00:00   \n",
              "\n",
              "                            _updated_at  \n",
              "0      2022-01-17 21:56:42.351000+00:00  \n",
              "1      2022-01-05 14:17:35.799000+00:00  \n",
              "2      2022-01-01 03:34:58.234000+00:00  \n",
              "3      2022-01-01 04:50:29.194000+00:00  \n",
              "5      2022-01-01 05:50:49.260000+00:00  \n",
              "...                                 ...  \n",
              "193101 2022-06-05 20:11:44.983000+00:00  \n",
              "193102 2022-06-05 20:28:52.638000+00:00  \n",
              "193103 2022-06-05 20:40:33.556000+00:00  \n",
              "193104 2022-06-05 20:51:06.370000+00:00  \n",
              "193105 2022-06-05 20:56:16.558000+00:00  \n",
              "\n",
              "[193105 rows x 23 columns]"
            ],
            "text/html": [
              "\n",
              "  <div id=\"df-576ba155-53ac-438c-8408-254a2c131d3c\">\n",
              "    <div class=\"colab-df-container\">\n",
              "      <div>\n",
              "<style scoped>\n",
              "    .dataframe tbody tr th:only-of-type {\n",
              "        vertical-align: middle;\n",
              "    }\n",
              "\n",
              "    .dataframe tbody tr th {\n",
              "        vertical-align: top;\n",
              "    }\n",
              "\n",
              "    .dataframe thead th {\n",
              "        text-align: right;\n",
              "    }\n",
              "</style>\n",
              "<table border=\"1\" class=\"dataframe\">\n",
              "  <thead>\n",
              "    <tr style=\"text-align: right;\">\n",
              "      <th></th>\n",
              "      <th>Data_Notificacao</th>\n",
              "      <th>CNES</th>\n",
              "      <th>Ocupacao_Suspeito_Cli</th>\n",
              "      <th>Ocupacao_Suspeito_Uti</th>\n",
              "      <th>Ocupacao_Confirmado_Cli</th>\n",
              "      <th>Ocupacao_Confirmado_Uti</th>\n",
              "      <th>Ocupacao_Covid_Uti</th>\n",
              "      <th>Ocupacao_Covid_Cli</th>\n",
              "      <th>Ocupacao_Hospitalar_Uti</th>\n",
              "      <th>Ocupacao_Hospitalar_Cli</th>\n",
              "      <th>...</th>\n",
              "      <th>saidaConfirmadaAltas</th>\n",
              "      <th>Origem</th>\n",
              "      <th>Estado_Notificacao</th>\n",
              "      <th>Municipio_Notificacao</th>\n",
              "      <th>estado</th>\n",
              "      <th>municipio</th>\n",
              "      <th>excluido</th>\n",
              "      <th>validado</th>\n",
              "      <th>_created_at</th>\n",
              "      <th>_updated_at</th>\n",
              "    </tr>\n",
              "  </thead>\n",
              "  <tbody>\n",
              "    <tr>\n",
              "      <th>0</th>\n",
              "      <td>2022-01-17 03:00:00+00:00</td>\n",
              "      <td>2379341</td>\n",
              "      <td>13.0</td>\n",
              "      <td>8.0</td>\n",
              "      <td>0.0</td>\n",
              "      <td>0.0</td>\n",
              "      <td>0.0</td>\n",
              "      <td>1.0</td>\n",
              "      <td>8.0</td>\n",
              "      <td>12.0</td>\n",
              "      <td>...</td>\n",
              "      <td>1.0</td>\n",
              "      <td>parse-cloud</td>\n",
              "      <td>Santa Catarina</td>\n",
              "      <td>Mafra</td>\n",
              "      <td>Santa Catarina</td>\n",
              "      <td>Mafra</td>\n",
              "      <td>False</td>\n",
              "      <td>False</td>\n",
              "      <td>2021-02-15 11:08:07.797000+00:00</td>\n",
              "      <td>2022-01-17 21:56:42.351000+00:00</td>\n",
              "    </tr>\n",
              "    <tr>\n",
              "      <th>1</th>\n",
              "      <td>2022-01-05 03:00:00+00:00</td>\n",
              "      <td>2594366</td>\n",
              "      <td>0.0</td>\n",
              "      <td>0.0</td>\n",
              "      <td>0.0</td>\n",
              "      <td>0.0</td>\n",
              "      <td>0.0</td>\n",
              "      <td>0.0</td>\n",
              "      <td>9.0</td>\n",
              "      <td>31.0</td>\n",
              "      <td>...</td>\n",
              "      <td>0.0</td>\n",
              "      <td>parse-cloud</td>\n",
              "      <td>Paraná</td>\n",
              "      <td>Umuarama</td>\n",
              "      <td>Paraná</td>\n",
              "      <td>Umuarama</td>\n",
              "      <td>False</td>\n",
              "      <td>False</td>\n",
              "      <td>2021-12-08 10:42:04.123000+00:00</td>\n",
              "      <td>2022-01-05 14:17:35.799000+00:00</td>\n",
              "    </tr>\n",
              "    <tr>\n",
              "      <th>2</th>\n",
              "      <td>2022-01-01 03:00:50.682000+00:00</td>\n",
              "      <td>2747871</td>\n",
              "      <td>0.0</td>\n",
              "      <td>0.0</td>\n",
              "      <td>0.0</td>\n",
              "      <td>0.0</td>\n",
              "      <td>1.0</td>\n",
              "      <td>9.0</td>\n",
              "      <td>3.0</td>\n",
              "      <td>14.0</td>\n",
              "      <td>...</td>\n",
              "      <td>0.0</td>\n",
              "      <td>parse-cloud</td>\n",
              "      <td>São Paulo</td>\n",
              "      <td>Ilhabela</td>\n",
              "      <td>São Paulo</td>\n",
              "      <td>Ilhabela</td>\n",
              "      <td>False</td>\n",
              "      <td>False</td>\n",
              "      <td>2022-01-01 03:34:58.234000+00:00</td>\n",
              "      <td>2022-01-01 03:34:58.234000+00:00</td>\n",
              "    </tr>\n",
              "    <tr>\n",
              "      <th>3</th>\n",
              "      <td>2022-01-01 03:00:08.570000+00:00</td>\n",
              "      <td>2082497</td>\n",
              "      <td>0.0</td>\n",
              "      <td>0.0</td>\n",
              "      <td>0.0</td>\n",
              "      <td>0.0</td>\n",
              "      <td>0.0</td>\n",
              "      <td>1.0</td>\n",
              "      <td>0.0</td>\n",
              "      <td>3.0</td>\n",
              "      <td>...</td>\n",
              "      <td>0.0</td>\n",
              "      <td>parse-cloud</td>\n",
              "      <td>São Paulo</td>\n",
              "      <td>Bernardino de Campos</td>\n",
              "      <td>São Paulo</td>\n",
              "      <td>Bernardino de Campos</td>\n",
              "      <td>False</td>\n",
              "      <td>False</td>\n",
              "      <td>2022-01-01 04:50:29.194000+00:00</td>\n",
              "      <td>2022-01-01 04:50:29.194000+00:00</td>\n",
              "    </tr>\n",
              "    <tr>\n",
              "      <th>5</th>\n",
              "      <td>2022-01-01 03:00:37.005000+00:00</td>\n",
              "      <td>2664984</td>\n",
              "      <td>0.0</td>\n",
              "      <td>0.0</td>\n",
              "      <td>0.0</td>\n",
              "      <td>0.0</td>\n",
              "      <td>0.0</td>\n",
              "      <td>1.0</td>\n",
              "      <td>0.0</td>\n",
              "      <td>3.0</td>\n",
              "      <td>...</td>\n",
              "      <td>0.0</td>\n",
              "      <td>parse-cloud</td>\n",
              "      <td>Santa Catarina</td>\n",
              "      <td>Palmitos</td>\n",
              "      <td>Santa Catarina</td>\n",
              "      <td>Palmitos</td>\n",
              "      <td>False</td>\n",
              "      <td>False</td>\n",
              "      <td>2022-01-01 05:50:49.260000+00:00</td>\n",
              "      <td>2022-01-01 05:50:49.260000+00:00</td>\n",
              "    </tr>\n",
              "    <tr>\n",
              "      <th>...</th>\n",
              "      <td>...</td>\n",
              "      <td>...</td>\n",
              "      <td>...</td>\n",
              "      <td>...</td>\n",
              "      <td>...</td>\n",
              "      <td>...</td>\n",
              "      <td>...</td>\n",
              "      <td>...</td>\n",
              "      <td>...</td>\n",
              "      <td>...</td>\n",
              "      <td>...</td>\n",
              "      <td>...</td>\n",
              "      <td>...</td>\n",
              "      <td>...</td>\n",
              "      <td>...</td>\n",
              "      <td>...</td>\n",
              "      <td>...</td>\n",
              "      <td>...</td>\n",
              "      <td>...</td>\n",
              "      <td>...</td>\n",
              "      <td>...</td>\n",
              "    </tr>\n",
              "    <tr>\n",
              "      <th>193101</th>\n",
              "      <td>2022-06-05 03:00:41.286000+00:00</td>\n",
              "      <td>6048692</td>\n",
              "      <td>0.0</td>\n",
              "      <td>0.0</td>\n",
              "      <td>0.0</td>\n",
              "      <td>0.0</td>\n",
              "      <td>0.0</td>\n",
              "      <td>1.0</td>\n",
              "      <td>35.0</td>\n",
              "      <td>84.0</td>\n",
              "      <td>...</td>\n",
              "      <td>0.0</td>\n",
              "      <td>parse-cloud</td>\n",
              "      <td>Santa Catarina</td>\n",
              "      <td>Joinville</td>\n",
              "      <td>Santa Catarina</td>\n",
              "      <td>Joinville</td>\n",
              "      <td>False</td>\n",
              "      <td>False</td>\n",
              "      <td>2022-06-05 20:11:44.983000+00:00</td>\n",
              "      <td>2022-06-05 20:11:44.983000+00:00</td>\n",
              "    </tr>\n",
              "    <tr>\n",
              "      <th>193102</th>\n",
              "      <td>2022-06-05 03:00:01.172000+00:00</td>\n",
              "      <td>2178559</td>\n",
              "      <td>0.0</td>\n",
              "      <td>0.0</td>\n",
              "      <td>0.0</td>\n",
              "      <td>0.0</td>\n",
              "      <td>4.0</td>\n",
              "      <td>3.0</td>\n",
              "      <td>16.0</td>\n",
              "      <td>32.0</td>\n",
              "      <td>...</td>\n",
              "      <td>0.0</td>\n",
              "      <td>parse-cloud</td>\n",
              "      <td>Minas Gerais</td>\n",
              "      <td>Curvelo</td>\n",
              "      <td>Minas Gerais</td>\n",
              "      <td>Curvelo</td>\n",
              "      <td>False</td>\n",
              "      <td>False</td>\n",
              "      <td>2022-06-05 20:28:52.638000+00:00</td>\n",
              "      <td>2022-06-05 20:28:52.638000+00:00</td>\n",
              "    </tr>\n",
              "    <tr>\n",
              "      <th>193103</th>\n",
              "      <td>2022-06-05 03:00:19.760000+00:00</td>\n",
              "      <td>2761165</td>\n",
              "      <td>0.0</td>\n",
              "      <td>0.0</td>\n",
              "      <td>0.0</td>\n",
              "      <td>0.0</td>\n",
              "      <td>0.0</td>\n",
              "      <td>0.0</td>\n",
              "      <td>0.0</td>\n",
              "      <td>6.0</td>\n",
              "      <td>...</td>\n",
              "      <td>0.0</td>\n",
              "      <td>parse-cloud</td>\n",
              "      <td>Minas Gerais</td>\n",
              "      <td>Cristina</td>\n",
              "      <td>Minas Gerais</td>\n",
              "      <td>Cristina</td>\n",
              "      <td>False</td>\n",
              "      <td>False</td>\n",
              "      <td>2022-06-05 20:40:33.556000+00:00</td>\n",
              "      <td>2022-06-05 20:40:33.556000+00:00</td>\n",
              "    </tr>\n",
              "    <tr>\n",
              "      <th>193104</th>\n",
              "      <td>2022-06-05 03:00:54.586000+00:00</td>\n",
              "      <td>2760916</td>\n",
              "      <td>0.0</td>\n",
              "      <td>0.0</td>\n",
              "      <td>0.0</td>\n",
              "      <td>0.0</td>\n",
              "      <td>0.0</td>\n",
              "      <td>0.0</td>\n",
              "      <td>0.0</td>\n",
              "      <td>2.0</td>\n",
              "      <td>...</td>\n",
              "      <td>0.0</td>\n",
              "      <td>parse-cloud</td>\n",
              "      <td>Minas Gerais</td>\n",
              "      <td>Araporã</td>\n",
              "      <td>Minas Gerais</td>\n",
              "      <td>Araporã</td>\n",
              "      <td>False</td>\n",
              "      <td>False</td>\n",
              "      <td>2022-06-05 20:51:06.370000+00:00</td>\n",
              "      <td>2022-06-05 20:51:06.370000+00:00</td>\n",
              "    </tr>\n",
              "    <tr>\n",
              "      <th>193105</th>\n",
              "      <td>2022-06-05 03:00:48.405000+00:00</td>\n",
              "      <td>2765659</td>\n",
              "      <td>0.0</td>\n",
              "      <td>0.0</td>\n",
              "      <td>0.0</td>\n",
              "      <td>0.0</td>\n",
              "      <td>0.0</td>\n",
              "      <td>0.0</td>\n",
              "      <td>0.0</td>\n",
              "      <td>28.0</td>\n",
              "      <td>...</td>\n",
              "      <td>0.0</td>\n",
              "      <td>parse-cloud</td>\n",
              "      <td>Tocantins</td>\n",
              "      <td>Miracema do Tocantins</td>\n",
              "      <td>Tocantins</td>\n",
              "      <td>Miracema do Tocantins</td>\n",
              "      <td>False</td>\n",
              "      <td>False</td>\n",
              "      <td>2022-06-05 20:56:16.558000+00:00</td>\n",
              "      <td>2022-06-05 20:56:16.558000+00:00</td>\n",
              "    </tr>\n",
              "  </tbody>\n",
              "</table>\n",
              "<p>193105 rows × 23 columns</p>\n",
              "</div>\n",
              "      <button class=\"colab-df-convert\" onclick=\"convertToInteractive('df-576ba155-53ac-438c-8408-254a2c131d3c')\"\n",
              "              title=\"Convert this dataframe to an interactive table.\"\n",
              "              style=\"display:none;\">\n",
              "        \n",
              "  <svg xmlns=\"http://www.w3.org/2000/svg\" height=\"24px\"viewBox=\"0 0 24 24\"\n",
              "       width=\"24px\">\n",
              "    <path d=\"M0 0h24v24H0V0z\" fill=\"none\"/>\n",
              "    <path d=\"M18.56 5.44l.94 2.06.94-2.06 2.06-.94-2.06-.94-.94-2.06-.94 2.06-2.06.94zm-11 1L8.5 8.5l.94-2.06 2.06-.94-2.06-.94L8.5 2.5l-.94 2.06-2.06.94zm10 10l.94 2.06.94-2.06 2.06-.94-2.06-.94-.94-2.06-.94 2.06-2.06.94z\"/><path d=\"M17.41 7.96l-1.37-1.37c-.4-.4-.92-.59-1.43-.59-.52 0-1.04.2-1.43.59L10.3 9.45l-7.72 7.72c-.78.78-.78 2.05 0 2.83L4 21.41c.39.39.9.59 1.41.59.51 0 1.02-.2 1.41-.59l7.78-7.78 2.81-2.81c.8-.78.8-2.07 0-2.86zM5.41 20L4 18.59l7.72-7.72 1.47 1.35L5.41 20z\"/>\n",
              "  </svg>\n",
              "      </button>\n",
              "      \n",
              "  <style>\n",
              "    .colab-df-container {\n",
              "      display:flex;\n",
              "      flex-wrap:wrap;\n",
              "      gap: 12px;\n",
              "    }\n",
              "\n",
              "    .colab-df-convert {\n",
              "      background-color: #E8F0FE;\n",
              "      border: none;\n",
              "      border-radius: 50%;\n",
              "      cursor: pointer;\n",
              "      display: none;\n",
              "      fill: #1967D2;\n",
              "      height: 32px;\n",
              "      padding: 0 0 0 0;\n",
              "      width: 32px;\n",
              "    }\n",
              "\n",
              "    .colab-df-convert:hover {\n",
              "      background-color: #E2EBFA;\n",
              "      box-shadow: 0px 1px 2px rgba(60, 64, 67, 0.3), 0px 1px 3px 1px rgba(60, 64, 67, 0.15);\n",
              "      fill: #174EA6;\n",
              "    }\n",
              "\n",
              "    [theme=dark] .colab-df-convert {\n",
              "      background-color: #3B4455;\n",
              "      fill: #D2E3FC;\n",
              "    }\n",
              "\n",
              "    [theme=dark] .colab-df-convert:hover {\n",
              "      background-color: #434B5C;\n",
              "      box-shadow: 0px 1px 3px 1px rgba(0, 0, 0, 0.15);\n",
              "      filter: drop-shadow(0px 1px 2px rgba(0, 0, 0, 0.3));\n",
              "      fill: #FFFFFF;\n",
              "    }\n",
              "  </style>\n",
              "\n",
              "      <script>\n",
              "        const buttonEl =\n",
              "          document.querySelector('#df-576ba155-53ac-438c-8408-254a2c131d3c button.colab-df-convert');\n",
              "        buttonEl.style.display =\n",
              "          google.colab.kernel.accessAllowed ? 'block' : 'none';\n",
              "\n",
              "        async function convertToInteractive(key) {\n",
              "          const element = document.querySelector('#df-576ba155-53ac-438c-8408-254a2c131d3c');\n",
              "          const dataTable =\n",
              "            await google.colab.kernel.invokeFunction('convertToInteractive',\n",
              "                                                     [key], {});\n",
              "          if (!dataTable) return;\n",
              "\n",
              "          const docLinkHtml = 'Like what you see? Visit the ' +\n",
              "            '<a target=\"_blank\" href=https://colab.research.google.com/notebooks/data_table.ipynb>data table notebook</a>'\n",
              "            + ' to learn more about interactive tables.';\n",
              "          element.innerHTML = '';\n",
              "          dataTable['output_type'] = 'display_data';\n",
              "          await google.colab.output.renderOutput(dataTable, element);\n",
              "          const docLink = document.createElement('div');\n",
              "          docLink.innerHTML = docLinkHtml;\n",
              "          element.appendChild(docLink);\n",
              "        }\n",
              "      </script>\n",
              "    </div>\n",
              "  </div>\n",
              "  "
            ]
          },
          "metadata": {}
        }
      ],
      "source": [
        "#mostrar os dados\n",
        "display(df)\n",
        "#print(df)"
      ]
    },
    {
      "cell_type": "code",
      "execution_count": null,
      "metadata": {
        "colab": {
          "base_uri": "https://localhost:8080/"
        },
        "id": "cNcGTJ3pDFge",
        "outputId": "1aac3eda-9262-49ca-8a76-6fdf9f4fd45f"
      },
      "outputs": [
        {
          "output_type": "stream",
          "name": "stdout",
          "text": [
            "<class 'pandas.core.frame.DataFrame'>\n",
            "Int64Index: 193105 entries, 0 to 193105\n",
            "Data columns (total 23 columns):\n",
            " #   Column                   Non-Null Count   Dtype              \n",
            "---  ------                   --------------   -----              \n",
            " 0   Data_Notificacao         193105 non-null  datetime64[ns, UTC]\n",
            " 1   CNES                     193105 non-null  object             \n",
            " 2   Ocupacao_Suspeito_Cli    193105 non-null  float64            \n",
            " 3   Ocupacao_Suspeito_Uti    193105 non-null  float64            \n",
            " 4   Ocupacao_Confirmado_Cli  193105 non-null  float64            \n",
            " 5   Ocupacao_Confirmado_Uti  193105 non-null  float64            \n",
            " 6   Ocupacao_Covid_Uti       193105 non-null  float64            \n",
            " 7   Ocupacao_Covid_Cli       193105 non-null  float64            \n",
            " 8   Ocupacao_Hospitalar_Uti  193105 non-null  float64            \n",
            " 9   Ocupacao_Hospitalar_Cli  193105 non-null  float64            \n",
            " 10  Saida_Suspeita_Obitos    193105 non-null  float64            \n",
            " 11  Saida_Suspeita_Altas     193105 non-null  float64            \n",
            " 12  saidaConfirmadaObitos    193105 non-null  float64            \n",
            " 13  saidaConfirmadaAltas     193105 non-null  float64            \n",
            " 14  Origem                   193105 non-null  object             \n",
            " 15  Estado_Notificacao       193105 non-null  object             \n",
            " 16  Municipio_Notificacao    193105 non-null  object             \n",
            " 17  estado                   193105 non-null  object             \n",
            " 18  municipio                193105 non-null  object             \n",
            " 19  excluido                 193105 non-null  bool               \n",
            " 20  validado                 193105 non-null  bool               \n",
            " 21  _created_at              193105 non-null  datetime64[ns, UTC]\n",
            " 22  _updated_at              193105 non-null  datetime64[ns, UTC]\n",
            "dtypes: bool(2), datetime64[ns, UTC](3), float64(12), object(6)\n",
            "memory usage: 32.8+ MB\n",
            "None\n"
          ]
        }
      ],
      "source": [
        "#mostando as informações do dataset\n",
        "print(df.info())"
      ]
    },
    {
      "cell_type": "markdown",
      "metadata": {
        "id": "vE6iKYExeL9F"
      },
      "source": [
        "# **Preparando e Tratando o Dataset**"
      ]
    },
    {
      "cell_type": "markdown",
      "metadata": {
        "id": "bDgS08F_zeDo"
      },
      "source": [
        "**Elimanando as Colunas que não usaremos.**"
      ]
    },
    {
      "cell_type": "code",
      "execution_count": null,
      "metadata": {
        "id": "t2Ym6rA1zecI"
      },
      "outputs": [],
      "source": [
        "#para excluir a Coluna Unnamed\n",
        "df = df.drop(\"Unnamed: 0\", axis=1)"
      ]
    },
    {
      "cell_type": "code",
      "execution_count": null,
      "metadata": {
        "id": "dudSplfG2DNN"
      },
      "outputs": [],
      "source": [
        "\n",
        "df = df.drop(\"_p_usuario\", axis=1)\n",
        "df = df.drop(\"_id\", axis=1)"
      ]
    },
    {
      "cell_type": "code",
      "execution_count": null,
      "metadata": {
        "id": "VUgaHkIE2C_Q"
      },
      "outputs": [],
      "source": [
        "#Para Excluir uma Linha ---- em algumas versões do python é necessário por \"\" o numero\n",
        "df = df.drop(4, axis=0)"
      ]
    },
    {
      "cell_type": "code",
      "execution_count": null,
      "metadata": {
        "id": "bF7fXXQ5y80-"
      },
      "outputs": [],
      "source": [
        ""
      ]
    },
    {
      "cell_type": "markdown",
      "metadata": {
        "id": "NBWR7yJAhbZK"
      },
      "source": [
        "**Eliminando colunas vazias**"
      ]
    },
    {
      "cell_type": "code",
      "execution_count": null,
      "metadata": {
        "id": "LdEzZXkBO_E3"
      },
      "outputs": [],
      "source": [
        "#Eliminando colunas vazias\n",
        "# tire # o da frente da linha para rodar uma das opções\n",
        "df = df.dropna(how=\"all\", axis=0)\n",
        "#Eliminando Algumas Colunas Vazias\n",
        "#df2 = df.dropna(how=\"any\", axis=0)\n"
      ]
    },
    {
      "cell_type": "markdown",
      "metadata": {
        "id": "R7Pkr4aLhr24"
      },
      "source": [
        "**Eliminando Linhas vazias**"
      ]
    },
    {
      "cell_type": "code",
      "execution_count": null,
      "metadata": {
        "id": "2aCYasziQ_Ip"
      },
      "outputs": [],
      "source": [
        "#Eliminando Linhas vazias\n",
        "df = df.dropna(how=\"all\", axis=1)\n",
        "#Eliminando Algumas Colunas Vazias\n",
        "#df2 = df2.dropna(how=any, axis=1)"
      ]
    },
    {
      "cell_type": "markdown",
      "metadata": {
        "id": "hhW03Jbhc7uy"
      },
      "source": [
        "**Removendo** **Dados** **Duplicado**\n",
        "\n",
        "\n"
      ]
    },
    {
      "cell_type": "code",
      "execution_count": null,
      "metadata": {
        "colab": {
          "base_uri": "https://localhost:8080/",
          "height": 679
        },
        "id": "l-nB2Nkxc8Mc",
        "outputId": "cecb3e5e-8479-4b23-c983-17753a1d4d2c"
      },
      "outputs": [
        {
          "output_type": "execute_result",
          "data": {
            "text/plain": [
              "                 dataNotificacao     cnes  ocupacaoSuspeitoCli  \\\n",
              "0       2022-01-17T03:00:00.000Z  2379341                 13.0   \n",
              "1       2022-01-05T03:00:00.000Z  2594366                  NaN   \n",
              "2       2022-01-01T03:00:50.682Z  2747871                  NaN   \n",
              "3       2022-01-01T03:00:08.570Z  2082497                  NaN   \n",
              "5       2022-01-01T03:00:37.005Z  2664984                  NaN   \n",
              "...                          ...      ...                  ...   \n",
              "193101  2022-06-05T03:00:41.286Z  6048692                  NaN   \n",
              "193102  2022-06-05T03:00:01.172Z  2178559                  NaN   \n",
              "193103  2022-06-05T03:00:19.760Z  2761165                  NaN   \n",
              "193104  2022-06-05T03:00:54.586Z  2760916                  NaN   \n",
              "193105  2022-06-05T03:00:48.405Z  2765659                  NaN   \n",
              "\n",
              "        ocupacaoSuspeitoUti  ocupacaoConfirmadoCli  ocupacaoConfirmadoUti  \\\n",
              "0                       8.0                    0.0                    0.0   \n",
              "1                       NaN                    NaN                    NaN   \n",
              "2                       NaN                    NaN                    NaN   \n",
              "3                       NaN                    NaN                    NaN   \n",
              "5                       NaN                    NaN                    NaN   \n",
              "...                     ...                    ...                    ...   \n",
              "193101                  NaN                    NaN                    NaN   \n",
              "193102                  NaN                    NaN                    NaN   \n",
              "193103                  NaN                    NaN                    NaN   \n",
              "193104                  NaN                    NaN                    NaN   \n",
              "193105                  NaN                    NaN                    NaN   \n",
              "\n",
              "        ocupacaoCovidUti  ocupacaoCovidCli  ocupacaoHospitalarUti  \\\n",
              "0                    0.0               1.0                    8.0   \n",
              "1                    0.0               0.0                    9.0   \n",
              "2                    1.0               9.0                    3.0   \n",
              "3                    0.0               1.0                    0.0   \n",
              "5                    0.0               1.0                    0.0   \n",
              "...                  ...               ...                    ...   \n",
              "193101               0.0               1.0                   35.0   \n",
              "193102               4.0               3.0                   16.0   \n",
              "193103               0.0               0.0                    0.0   \n",
              "193104               0.0               0.0                    0.0   \n",
              "193105               0.0               0.0                    0.0   \n",
              "\n",
              "        ocupacaoHospitalarCli  ...  saidaConfirmadaAltas       origem  \\\n",
              "0                        12.0  ...                   1.0  parse-cloud   \n",
              "1                        31.0  ...                   0.0  parse-cloud   \n",
              "2                        14.0  ...                   0.0  parse-cloud   \n",
              "3                         3.0  ...                   0.0  parse-cloud   \n",
              "5                         3.0  ...                   0.0  parse-cloud   \n",
              "...                       ...  ...                   ...          ...   \n",
              "193101                   84.0  ...                   0.0  parse-cloud   \n",
              "193102                   32.0  ...                   0.0  parse-cloud   \n",
              "193103                    6.0  ...                   0.0  parse-cloud   \n",
              "193104                    2.0  ...                   0.0  parse-cloud   \n",
              "193105                   28.0  ...                   0.0  parse-cloud   \n",
              "\n",
              "        estadoNotificacao   municipioNotificacao          estado  \\\n",
              "0          Santa Catarina                  Mafra  Santa Catarina   \n",
              "1                  Paraná               Umuarama          Paraná   \n",
              "2               São Paulo               Ilhabela       São Paulo   \n",
              "3               São Paulo   Bernardino de Campos       São Paulo   \n",
              "5          Santa Catarina               Palmitos  Santa Catarina   \n",
              "...                   ...                    ...             ...   \n",
              "193101     Santa Catarina              Joinville  Santa Catarina   \n",
              "193102       Minas Gerais                Curvelo    Minas Gerais   \n",
              "193103       Minas Gerais               Cristina    Minas Gerais   \n",
              "193104       Minas Gerais                Araporã    Minas Gerais   \n",
              "193105          Tocantins  Miracema do Tocantins       Tocantins   \n",
              "\n",
              "                    municipio excluido validado               _created_at  \\\n",
              "0                       Mafra    False    False  2021-02-15T11:08:07.797Z   \n",
              "1                    Umuarama    False    False  2021-12-08T10:42:04.123Z   \n",
              "2                    Ilhabela    False    False  2022-01-01T03:34:58.234Z   \n",
              "3        Bernardino de Campos    False    False  2022-01-01T04:50:29.194Z   \n",
              "5                    Palmitos    False    False  2022-01-01T05:50:49.260Z   \n",
              "...                       ...      ...      ...                       ...   \n",
              "193101              Joinville    False    False  2022-06-05T20:11:44.983Z   \n",
              "193102                Curvelo    False    False  2022-06-05T20:28:52.638Z   \n",
              "193103               Cristina    False    False  2022-06-05T20:40:33.556Z   \n",
              "193104                Araporã    False    False  2022-06-05T20:51:06.370Z   \n",
              "193105  Miracema do Tocantins    False    False  2022-06-05T20:56:16.558Z   \n",
              "\n",
              "                     _updated_at  \n",
              "0       2022-01-17T21:56:42.351Z  \n",
              "1       2022-01-05T14:17:35.799Z  \n",
              "2       2022-01-01T03:34:58.234Z  \n",
              "3       2022-01-01T04:50:29.194Z  \n",
              "5       2022-01-01T05:50:49.260Z  \n",
              "...                          ...  \n",
              "193101  2022-06-05T20:11:44.983Z  \n",
              "193102  2022-06-05T20:28:52.638Z  \n",
              "193103  2022-06-05T20:40:33.556Z  \n",
              "193104  2022-06-05T20:51:06.370Z  \n",
              "193105  2022-06-05T20:56:16.558Z  \n",
              "\n",
              "[193105 rows x 23 columns]"
            ],
            "text/html": [
              "\n",
              "  <div id=\"df-b72dd05a-1620-4cba-8e44-ae8536c8b12a\">\n",
              "    <div class=\"colab-df-container\">\n",
              "      <div>\n",
              "<style scoped>\n",
              "    .dataframe tbody tr th:only-of-type {\n",
              "        vertical-align: middle;\n",
              "    }\n",
              "\n",
              "    .dataframe tbody tr th {\n",
              "        vertical-align: top;\n",
              "    }\n",
              "\n",
              "    .dataframe thead th {\n",
              "        text-align: right;\n",
              "    }\n",
              "</style>\n",
              "<table border=\"1\" class=\"dataframe\">\n",
              "  <thead>\n",
              "    <tr style=\"text-align: right;\">\n",
              "      <th></th>\n",
              "      <th>dataNotificacao</th>\n",
              "      <th>cnes</th>\n",
              "      <th>ocupacaoSuspeitoCli</th>\n",
              "      <th>ocupacaoSuspeitoUti</th>\n",
              "      <th>ocupacaoConfirmadoCli</th>\n",
              "      <th>ocupacaoConfirmadoUti</th>\n",
              "      <th>ocupacaoCovidUti</th>\n",
              "      <th>ocupacaoCovidCli</th>\n",
              "      <th>ocupacaoHospitalarUti</th>\n",
              "      <th>ocupacaoHospitalarCli</th>\n",
              "      <th>...</th>\n",
              "      <th>saidaConfirmadaAltas</th>\n",
              "      <th>origem</th>\n",
              "      <th>estadoNotificacao</th>\n",
              "      <th>municipioNotificacao</th>\n",
              "      <th>estado</th>\n",
              "      <th>municipio</th>\n",
              "      <th>excluido</th>\n",
              "      <th>validado</th>\n",
              "      <th>_created_at</th>\n",
              "      <th>_updated_at</th>\n",
              "    </tr>\n",
              "  </thead>\n",
              "  <tbody>\n",
              "    <tr>\n",
              "      <th>0</th>\n",
              "      <td>2022-01-17T03:00:00.000Z</td>\n",
              "      <td>2379341</td>\n",
              "      <td>13.0</td>\n",
              "      <td>8.0</td>\n",
              "      <td>0.0</td>\n",
              "      <td>0.0</td>\n",
              "      <td>0.0</td>\n",
              "      <td>1.0</td>\n",
              "      <td>8.0</td>\n",
              "      <td>12.0</td>\n",
              "      <td>...</td>\n",
              "      <td>1.0</td>\n",
              "      <td>parse-cloud</td>\n",
              "      <td>Santa Catarina</td>\n",
              "      <td>Mafra</td>\n",
              "      <td>Santa Catarina</td>\n",
              "      <td>Mafra</td>\n",
              "      <td>False</td>\n",
              "      <td>False</td>\n",
              "      <td>2021-02-15T11:08:07.797Z</td>\n",
              "      <td>2022-01-17T21:56:42.351Z</td>\n",
              "    </tr>\n",
              "    <tr>\n",
              "      <th>1</th>\n",
              "      <td>2022-01-05T03:00:00.000Z</td>\n",
              "      <td>2594366</td>\n",
              "      <td>NaN</td>\n",
              "      <td>NaN</td>\n",
              "      <td>NaN</td>\n",
              "      <td>NaN</td>\n",
              "      <td>0.0</td>\n",
              "      <td>0.0</td>\n",
              "      <td>9.0</td>\n",
              "      <td>31.0</td>\n",
              "      <td>...</td>\n",
              "      <td>0.0</td>\n",
              "      <td>parse-cloud</td>\n",
              "      <td>Paraná</td>\n",
              "      <td>Umuarama</td>\n",
              "      <td>Paraná</td>\n",
              "      <td>Umuarama</td>\n",
              "      <td>False</td>\n",
              "      <td>False</td>\n",
              "      <td>2021-12-08T10:42:04.123Z</td>\n",
              "      <td>2022-01-05T14:17:35.799Z</td>\n",
              "    </tr>\n",
              "    <tr>\n",
              "      <th>2</th>\n",
              "      <td>2022-01-01T03:00:50.682Z</td>\n",
              "      <td>2747871</td>\n",
              "      <td>NaN</td>\n",
              "      <td>NaN</td>\n",
              "      <td>NaN</td>\n",
              "      <td>NaN</td>\n",
              "      <td>1.0</td>\n",
              "      <td>9.0</td>\n",
              "      <td>3.0</td>\n",
              "      <td>14.0</td>\n",
              "      <td>...</td>\n",
              "      <td>0.0</td>\n",
              "      <td>parse-cloud</td>\n",
              "      <td>São Paulo</td>\n",
              "      <td>Ilhabela</td>\n",
              "      <td>São Paulo</td>\n",
              "      <td>Ilhabela</td>\n",
              "      <td>False</td>\n",
              "      <td>False</td>\n",
              "      <td>2022-01-01T03:34:58.234Z</td>\n",
              "      <td>2022-01-01T03:34:58.234Z</td>\n",
              "    </tr>\n",
              "    <tr>\n",
              "      <th>3</th>\n",
              "      <td>2022-01-01T03:00:08.570Z</td>\n",
              "      <td>2082497</td>\n",
              "      <td>NaN</td>\n",
              "      <td>NaN</td>\n",
              "      <td>NaN</td>\n",
              "      <td>NaN</td>\n",
              "      <td>0.0</td>\n",
              "      <td>1.0</td>\n",
              "      <td>0.0</td>\n",
              "      <td>3.0</td>\n",
              "      <td>...</td>\n",
              "      <td>0.0</td>\n",
              "      <td>parse-cloud</td>\n",
              "      <td>São Paulo</td>\n",
              "      <td>Bernardino de Campos</td>\n",
              "      <td>São Paulo</td>\n",
              "      <td>Bernardino de Campos</td>\n",
              "      <td>False</td>\n",
              "      <td>False</td>\n",
              "      <td>2022-01-01T04:50:29.194Z</td>\n",
              "      <td>2022-01-01T04:50:29.194Z</td>\n",
              "    </tr>\n",
              "    <tr>\n",
              "      <th>5</th>\n",
              "      <td>2022-01-01T03:00:37.005Z</td>\n",
              "      <td>2664984</td>\n",
              "      <td>NaN</td>\n",
              "      <td>NaN</td>\n",
              "      <td>NaN</td>\n",
              "      <td>NaN</td>\n",
              "      <td>0.0</td>\n",
              "      <td>1.0</td>\n",
              "      <td>0.0</td>\n",
              "      <td>3.0</td>\n",
              "      <td>...</td>\n",
              "      <td>0.0</td>\n",
              "      <td>parse-cloud</td>\n",
              "      <td>Santa Catarina</td>\n",
              "      <td>Palmitos</td>\n",
              "      <td>Santa Catarina</td>\n",
              "      <td>Palmitos</td>\n",
              "      <td>False</td>\n",
              "      <td>False</td>\n",
              "      <td>2022-01-01T05:50:49.260Z</td>\n",
              "      <td>2022-01-01T05:50:49.260Z</td>\n",
              "    </tr>\n",
              "    <tr>\n",
              "      <th>...</th>\n",
              "      <td>...</td>\n",
              "      <td>...</td>\n",
              "      <td>...</td>\n",
              "      <td>...</td>\n",
              "      <td>...</td>\n",
              "      <td>...</td>\n",
              "      <td>...</td>\n",
              "      <td>...</td>\n",
              "      <td>...</td>\n",
              "      <td>...</td>\n",
              "      <td>...</td>\n",
              "      <td>...</td>\n",
              "      <td>...</td>\n",
              "      <td>...</td>\n",
              "      <td>...</td>\n",
              "      <td>...</td>\n",
              "      <td>...</td>\n",
              "      <td>...</td>\n",
              "      <td>...</td>\n",
              "      <td>...</td>\n",
              "      <td>...</td>\n",
              "    </tr>\n",
              "    <tr>\n",
              "      <th>193101</th>\n",
              "      <td>2022-06-05T03:00:41.286Z</td>\n",
              "      <td>6048692</td>\n",
              "      <td>NaN</td>\n",
              "      <td>NaN</td>\n",
              "      <td>NaN</td>\n",
              "      <td>NaN</td>\n",
              "      <td>0.0</td>\n",
              "      <td>1.0</td>\n",
              "      <td>35.0</td>\n",
              "      <td>84.0</td>\n",
              "      <td>...</td>\n",
              "      <td>0.0</td>\n",
              "      <td>parse-cloud</td>\n",
              "      <td>Santa Catarina</td>\n",
              "      <td>Joinville</td>\n",
              "      <td>Santa Catarina</td>\n",
              "      <td>Joinville</td>\n",
              "      <td>False</td>\n",
              "      <td>False</td>\n",
              "      <td>2022-06-05T20:11:44.983Z</td>\n",
              "      <td>2022-06-05T20:11:44.983Z</td>\n",
              "    </tr>\n",
              "    <tr>\n",
              "      <th>193102</th>\n",
              "      <td>2022-06-05T03:00:01.172Z</td>\n",
              "      <td>2178559</td>\n",
              "      <td>NaN</td>\n",
              "      <td>NaN</td>\n",
              "      <td>NaN</td>\n",
              "      <td>NaN</td>\n",
              "      <td>4.0</td>\n",
              "      <td>3.0</td>\n",
              "      <td>16.0</td>\n",
              "      <td>32.0</td>\n",
              "      <td>...</td>\n",
              "      <td>0.0</td>\n",
              "      <td>parse-cloud</td>\n",
              "      <td>Minas Gerais</td>\n",
              "      <td>Curvelo</td>\n",
              "      <td>Minas Gerais</td>\n",
              "      <td>Curvelo</td>\n",
              "      <td>False</td>\n",
              "      <td>False</td>\n",
              "      <td>2022-06-05T20:28:52.638Z</td>\n",
              "      <td>2022-06-05T20:28:52.638Z</td>\n",
              "    </tr>\n",
              "    <tr>\n",
              "      <th>193103</th>\n",
              "      <td>2022-06-05T03:00:19.760Z</td>\n",
              "      <td>2761165</td>\n",
              "      <td>NaN</td>\n",
              "      <td>NaN</td>\n",
              "      <td>NaN</td>\n",
              "      <td>NaN</td>\n",
              "      <td>0.0</td>\n",
              "      <td>0.0</td>\n",
              "      <td>0.0</td>\n",
              "      <td>6.0</td>\n",
              "      <td>...</td>\n",
              "      <td>0.0</td>\n",
              "      <td>parse-cloud</td>\n",
              "      <td>Minas Gerais</td>\n",
              "      <td>Cristina</td>\n",
              "      <td>Minas Gerais</td>\n",
              "      <td>Cristina</td>\n",
              "      <td>False</td>\n",
              "      <td>False</td>\n",
              "      <td>2022-06-05T20:40:33.556Z</td>\n",
              "      <td>2022-06-05T20:40:33.556Z</td>\n",
              "    </tr>\n",
              "    <tr>\n",
              "      <th>193104</th>\n",
              "      <td>2022-06-05T03:00:54.586Z</td>\n",
              "      <td>2760916</td>\n",
              "      <td>NaN</td>\n",
              "      <td>NaN</td>\n",
              "      <td>NaN</td>\n",
              "      <td>NaN</td>\n",
              "      <td>0.0</td>\n",
              "      <td>0.0</td>\n",
              "      <td>0.0</td>\n",
              "      <td>2.0</td>\n",
              "      <td>...</td>\n",
              "      <td>0.0</td>\n",
              "      <td>parse-cloud</td>\n",
              "      <td>Minas Gerais</td>\n",
              "      <td>Araporã</td>\n",
              "      <td>Minas Gerais</td>\n",
              "      <td>Araporã</td>\n",
              "      <td>False</td>\n",
              "      <td>False</td>\n",
              "      <td>2022-06-05T20:51:06.370Z</td>\n",
              "      <td>2022-06-05T20:51:06.370Z</td>\n",
              "    </tr>\n",
              "    <tr>\n",
              "      <th>193105</th>\n",
              "      <td>2022-06-05T03:00:48.405Z</td>\n",
              "      <td>2765659</td>\n",
              "      <td>NaN</td>\n",
              "      <td>NaN</td>\n",
              "      <td>NaN</td>\n",
              "      <td>NaN</td>\n",
              "      <td>0.0</td>\n",
              "      <td>0.0</td>\n",
              "      <td>0.0</td>\n",
              "      <td>28.0</td>\n",
              "      <td>...</td>\n",
              "      <td>0.0</td>\n",
              "      <td>parse-cloud</td>\n",
              "      <td>Tocantins</td>\n",
              "      <td>Miracema do Tocantins</td>\n",
              "      <td>Tocantins</td>\n",
              "      <td>Miracema do Tocantins</td>\n",
              "      <td>False</td>\n",
              "      <td>False</td>\n",
              "      <td>2022-06-05T20:56:16.558Z</td>\n",
              "      <td>2022-06-05T20:56:16.558Z</td>\n",
              "    </tr>\n",
              "  </tbody>\n",
              "</table>\n",
              "<p>193105 rows × 23 columns</p>\n",
              "</div>\n",
              "      <button class=\"colab-df-convert\" onclick=\"convertToInteractive('df-b72dd05a-1620-4cba-8e44-ae8536c8b12a')\"\n",
              "              title=\"Convert this dataframe to an interactive table.\"\n",
              "              style=\"display:none;\">\n",
              "        \n",
              "  <svg xmlns=\"http://www.w3.org/2000/svg\" height=\"24px\"viewBox=\"0 0 24 24\"\n",
              "       width=\"24px\">\n",
              "    <path d=\"M0 0h24v24H0V0z\" fill=\"none\"/>\n",
              "    <path d=\"M18.56 5.44l.94 2.06.94-2.06 2.06-.94-2.06-.94-.94-2.06-.94 2.06-2.06.94zm-11 1L8.5 8.5l.94-2.06 2.06-.94-2.06-.94L8.5 2.5l-.94 2.06-2.06.94zm10 10l.94 2.06.94-2.06 2.06-.94-2.06-.94-.94-2.06-.94 2.06-2.06.94z\"/><path d=\"M17.41 7.96l-1.37-1.37c-.4-.4-.92-.59-1.43-.59-.52 0-1.04.2-1.43.59L10.3 9.45l-7.72 7.72c-.78.78-.78 2.05 0 2.83L4 21.41c.39.39.9.59 1.41.59.51 0 1.02-.2 1.41-.59l7.78-7.78 2.81-2.81c.8-.78.8-2.07 0-2.86zM5.41 20L4 18.59l7.72-7.72 1.47 1.35L5.41 20z\"/>\n",
              "  </svg>\n",
              "      </button>\n",
              "      \n",
              "  <style>\n",
              "    .colab-df-container {\n",
              "      display:flex;\n",
              "      flex-wrap:wrap;\n",
              "      gap: 12px;\n",
              "    }\n",
              "\n",
              "    .colab-df-convert {\n",
              "      background-color: #E8F0FE;\n",
              "      border: none;\n",
              "      border-radius: 50%;\n",
              "      cursor: pointer;\n",
              "      display: none;\n",
              "      fill: #1967D2;\n",
              "      height: 32px;\n",
              "      padding: 0 0 0 0;\n",
              "      width: 32px;\n",
              "    }\n",
              "\n",
              "    .colab-df-convert:hover {\n",
              "      background-color: #E2EBFA;\n",
              "      box-shadow: 0px 1px 2px rgba(60, 64, 67, 0.3), 0px 1px 3px 1px rgba(60, 64, 67, 0.15);\n",
              "      fill: #174EA6;\n",
              "    }\n",
              "\n",
              "    [theme=dark] .colab-df-convert {\n",
              "      background-color: #3B4455;\n",
              "      fill: #D2E3FC;\n",
              "    }\n",
              "\n",
              "    [theme=dark] .colab-df-convert:hover {\n",
              "      background-color: #434B5C;\n",
              "      box-shadow: 0px 1px 3px 1px rgba(0, 0, 0, 0.15);\n",
              "      filter: drop-shadow(0px 1px 2px rgba(0, 0, 0, 0.3));\n",
              "      fill: #FFFFFF;\n",
              "    }\n",
              "  </style>\n",
              "\n",
              "      <script>\n",
              "        const buttonEl =\n",
              "          document.querySelector('#df-b72dd05a-1620-4cba-8e44-ae8536c8b12a button.colab-df-convert');\n",
              "        buttonEl.style.display =\n",
              "          google.colab.kernel.accessAllowed ? 'block' : 'none';\n",
              "\n",
              "        async function convertToInteractive(key) {\n",
              "          const element = document.querySelector('#df-b72dd05a-1620-4cba-8e44-ae8536c8b12a');\n",
              "          const dataTable =\n",
              "            await google.colab.kernel.invokeFunction('convertToInteractive',\n",
              "                                                     [key], {});\n",
              "          if (!dataTable) return;\n",
              "\n",
              "          const docLinkHtml = 'Like what you see? Visit the ' +\n",
              "            '<a target=\"_blank\" href=https://colab.research.google.com/notebooks/data_table.ipynb>data table notebook</a>'\n",
              "            + ' to learn more about interactive tables.';\n",
              "          element.innerHTML = '';\n",
              "          dataTable['output_type'] = 'display_data';\n",
              "          await google.colab.output.renderOutput(dataTable, element);\n",
              "          const docLink = document.createElement('div');\n",
              "          docLink.innerHTML = docLinkHtml;\n",
              "          element.appendChild(docLink);\n",
              "        }\n",
              "      </script>\n",
              "    </div>\n",
              "  </div>\n",
              "  "
            ]
          },
          "metadata": {},
          "execution_count": 58
        }
      ],
      "source": [
        "# removendo poucas ou apenas uma Linha\n",
        "df.duplicated()\n",
        "df.duplicated()\n",
        "# Removendo Todas as Linhas.\n",
        "df.drop_duplicates()"
      ]
    },
    {
      "cell_type": "markdown",
      "metadata": {
        "id": "aGhYy2o5lH5c"
      },
      "source": [
        "**Tratando Colunas Em branco**\n",
        "\n",
        "valores que estão em NaN seram transformado em valores com numeros"
      ]
    },
    {
      "cell_type": "code",
      "execution_count": null,
      "metadata": {
        "id": "YhttYpJTlIdY"
      },
      "outputs": [],
      "source": [
        "df = df.fillna(0)"
      ]
    },
    {
      "cell_type": "markdown",
      "metadata": {
        "id": "xacGs7oulnTy"
      },
      "source": [
        "Podemos usar tambem esse tratamento para substituir um elemento determinado."
      ]
    },
    {
      "cell_type": "code",
      "execution_count": null,
      "metadata": {
        "id": "5Mwvh-CZlnsm"
      },
      "outputs": [],
      "source": [
        ""
      ]
    },
    {
      "cell_type": "markdown",
      "metadata": {
        "id": "scWKd-RKwrny"
      },
      "source": [
        "**Renomeando as Colunas**"
      ]
    },
    {
      "cell_type": "code",
      "execution_count": null,
      "metadata": {
        "id": "kYYCrlfkwvKb"
      },
      "outputs": [],
      "source": [
        "df.rename(columns = {'Unnamed: 0':'Unaneme', '_id':'ID','dataNotificacao':'Data_Notificacao','cnes':'CNES',\n",
        "                        'ocupacaoSuspeitoCli':'Ocupacao_Suspeito_Cli','ocupacaoSuspeitoUti':'Ocupacao_Suspeito_Uti',\n",
        "                        'ocupacaoCovidUti':'Ocupacao_Covid_Uti','ocupacaoCovidCli':'Ocupacao_Covid_Cli',\n",
        "                        'origem':'Origem', '_p_usuario':'P_Usuario','estadoNotificacao':'Estado_Notificacao','municipioNotificacao':'Municipio_Notificacao',\n",
        "                  'ocupacaoConfirmadoCli':'Ocupacao_Confirmado_Cli','ocupacaoConfirmadoUti':'Ocupacao_Confirmado_Uti',\n",
        "                        'ocupacaoHospitalarUti':'Ocupacao_Hospitalar_Uti', 'ocupacaoHospitalarCli':'Ocupacao_Hospitalar_Cli','saidaSuspeitaObitos':'Saida_Suspeita_Obitos','saidaSuspeitaAltas':'Saida_Suspeita_Altas'\n",
        "                        }, inplace = True)"
      ]
    },
    {
      "cell_type": "markdown",
      "metadata": {
        "id": "sOig1JzAcBEu"
      },
      "source": [
        "transformações "
      ]
    },
    {
      "cell_type": "code",
      "execution_count": null,
      "metadata": {
        "id": "xv6G6gGVFd7u"
      },
      "outputs": [],
      "source": [
        "#Transformando colunas onde tem dados de DATA e hora em datatimes\n",
        "df[\"Data_Notificacao\"] =pd.to_datetime(df[\"Data_Notificacao\"], errors=\"coerce\")\n",
        "df[\"_created_at\"] =pd.to_datetime(df[\"_created_at\"], errors=\"coerce\")\n",
        "df[\"_updated_at\"] =pd.to_datetime(df[\"_updated_at\"], errors=\"coerce\")\n"
      ]
    },
    {
      "cell_type": "code",
      "execution_count": null,
      "metadata": {
        "id": "1ZCfw8KVA8QT"
      },
      "outputs": [],
      "source": [
        "# Transformando as Colunas\n",
        "# transformando uma coluna texto em número\n",
        "#df[\"ID\"] =pd.to_numeric(df[\"ID\"], errors=\"coerce\")"
      ]
    },
    {
      "cell_type": "markdown",
      "metadata": {
        "id": "UdeUf0Awd69z"
      },
      "source": [
        "# **Gráficos**"
      ]
    },
    {
      "cell_type": "markdown",
      "metadata": {
        "id": "OpokblNhLPOj"
      },
      "source": [
        "**Criação de gráficos**"
      ]
    },
    {
      "cell_type": "code",
      "execution_count": null,
      "metadata": {
        "id": "AxU_9Ih0LoLB"
      },
      "outputs": [],
      "source": [
        "#gráfico\n",
        "#grafico = px.histogram(df2, x=\"ocupacaoHospitalarUti\", color=\"ocupacaoHospitalarCli\")\n",
        "\n",
        "#para criar um gráfico de barra\n",
        "grafico = px.bar(df2, x=\"ocupacaoHospitalarUti\", color=\"ocupacaoHospitalarCli\")\n",
        "# para criar um gráfico de pizza\n",
        "#grafico = px.pie(df2, x=\"ocupacaoHospitalarUti\", color=\"ocupacaoHospitalarCli\")\n",
        "#para criar um gráfico de linhas\n",
        "#grafico = px.line(df2, x=\"ocupacaoHospitalarUti\", color=\"ocupacaoHospitalarCli\")\n",
        "#para criar um gráfico de histograma\n",
        "#grafico = px.histogram(df2, x=\"ocupacaoHospitalarUti\", color=\"ocupacaoHospitalarCli\")"
      ]
    },
    {
      "cell_type": "code",
      "execution_count": null,
      "metadata": {
        "id": "AzrutEOvFd-v"
      },
      "outputs": [],
      "source": [
        "#mostrar o gráfico\n",
        "grafico.show()"
      ]
    },
    {
      "cell_type": "markdown",
      "metadata": {
        "id": "KVusZX0jiiJY"
      },
      "source": [
        "**Importando as Bibliotecas para Gráficos e Plots**"
      ]
    },
    {
      "cell_type": "code",
      "execution_count": null,
      "metadata": {
        "id": "MFK0SEtqijFV"
      },
      "outputs": [],
      "source": [
        "from matplotlib import pyplot as plt\n",
        "from matplotlib import rcParams\n",
        "import seaborn as sns"
      ]
    },
    {
      "cell_type": "markdown",
      "metadata": {
        "id": "8DhSiOeQilam"
      },
      "source": [
        ""
      ]
    },
    {
      "cell_type": "code",
      "execution_count": null,
      "metadata": {
        "colab": {
          "base_uri": "https://localhost:8080/",
          "height": 294
        },
        "id": "W2H9kHlwimHk",
        "outputId": "061ba0d8-eae7-44f8-cb54-cb700cd2641d"
      },
      "outputs": [
        {
          "data": {
            "text/plain": [
              "<matplotlib.axes._subplots.AxesSubplot at 0x7f8465108650>"
            ]
          },
          "execution_count": 7,
          "metadata": {},
          "output_type": "execute_result"
        },
        {
          "data": {
            "image/png": "[encoded data removed]",
            "text/plain": [
              "<Figure size 432x288 with 1 Axes>"
            ]
          },
          "metadata": {},
          "output_type": "display_data"
        }
      ],
      "source": [
        "df.plot()"
      ]
    },
    {
      "cell_type": "markdown",
      "metadata": {
        "id": "43AT1HaSk3np"
      },
      "source": [
        "**Selecionando as Colunas que queremos**\n",
        "\n",
        "aqui passamos uma lista em python com []"
      ]
    },
    {
      "cell_type": "code",
      "execution_count": null,
      "metadata": {
        "id": "fh1CTXF-kEpT"
      },
      "outputs": [],
      "source": [
        "dfplot = df[['Ocupacao_Covid_Uti','Ocupacao_Covid_Cli']]"
      ]
    },
    {
      "cell_type": "code",
      "execution_count": null,
      "metadata": {
        "colab": {
          "base_uri": "https://localhost:8080/",
          "height": 283
        },
        "id": "WWM4NAUfCeC2",
        "outputId": "f1165eef-eaef-4210-e570-535cc970793c"
      },
      "outputs": [
        {
          "data": {
            "text/plain": [
              "<matplotlib.axes._subplots.AxesSubplot at 0x7f8461088550>"
            ]
          },
          "execution_count": 9,
          "metadata": {},
          "output_type": "execute_result"
        },
        {
          "data": {
            "image/png": "[encoded data removed]",
            "text/plain": [
              "<Figure size 432x288 with 1 Axes>"
            ]
          },
          "metadata": {},
          "output_type": "display_data"
        }
      ],
      "source": [
        "dfplot.plot()"
      ]
    },
    {
      "cell_type": "markdown",
      "metadata": {
        "id": "lzBWNxCjs1tz"
      },
      "source": [
        "**Gráfico de barras**"
      ]
    },
    {
      "cell_type": "code",
      "execution_count": null,
      "metadata": {
        "id": "9YWkrpK6s2br"
      },
      "outputs": [],
      "source": [
        "from matplotlib import pyplot as plt\n",
        "from matplotlib import rcParams\n",
        "import seaborn as sns"
      ]
    },
    {
      "cell_type": "markdown",
      "metadata": {
        "id": "aR-AtyT_s25D"
      },
      "source": [
        "**Gráfico de Barras Ocupação de UTI e CLI**"
      ]
    },
    {
      "cell_type": "code",
      "execution_count": null,
      "metadata": {
        "colab": {
          "base_uri": "https://localhost:8080/"
        },
        "id": "OkPCp0_bs3db",
        "outputId": "2e8bad36-bf79-4944-f538-fa7d5140b02b"
      },
      "outputs": [
        {
          "data": {
            "text/plain": [
              "<matplotlib.axes._subplots.AxesSubplot at 0x7f88120ec190>"
            ]
          },
          "execution_count": 12,
          "metadata": {},
          "output_type": "execute_result"
        }
      ],
      "source": [
        "#df.columns = ['Ocupacao_Suspeito_Uti',\t'ocupacaoConfirmadoCli',\t'ocupacaoConfirmadoUti',\t'Ocupacao_Covid_Uti',\t'Ocupacao_Covid_Cli']\n",
        "Ocupacao_Covid_Cli = df['Ocupacao_Covid_Cli']\n",
        "Ocupacao_Covid_Cli.plot(kind='bar')"
      ]
    },
    {
      "cell_type": "markdown",
      "metadata": {
        "id": "RHSZVDcYD-aP"
      },
      "source": [
        "# **Estatistica**. **Descritiva**.\n",
        "\n"
      ]
    },
    {
      "cell_type": "markdown",
      "metadata": {
        "id": "VPNA43yVcbR-"
      },
      "source": [
        "**Somatório**."
      ]
    },
    {
      "cell_type": "markdown",
      "metadata": {
        "id": "fd4x8RSRhjHR"
      },
      "source": [
        "fazendo os samatório das colunas do Dataset\n",
        "aqui podemos ver a quantidade de casos, obitos, altas etc sobre o covid19 em 2022"
      ]
    },
    {
      "cell_type": "code",
      "execution_count": null,
      "metadata": {
        "colab": {
          "base_uri": "https://localhost:8080/"
        },
        "id": "obz3kxwVD_zQ",
        "outputId": "019feecc-6d9f-4ff3-b8fb-781a281b7292"
      },
      "outputs": [
        {
          "output_type": "execute_result",
          "data": {
            "text/plain": [
              "8.0"
            ]
          },
          "metadata": {},
          "execution_count": 13
        }
      ],
      "source": [
        "#Para rodar outras somas retire o # de frete do código.\n",
        "\n",
        "#dfOcupacao_Suspeito_Cli = df[\"Ocupacao_Suspeito_Cli\"]\n",
        "#dfOcupacao_Suspeito_Cli.sum()\n",
        "\n",
        "df[\"Ocupacao_Suspeito_Uti\"].sum()\n",
        "#df[\"Ocupacao_Confirmado_Cli\"].sum()\n",
        "#df[\"Ocupacao_Confirmado_Uti\"].sum()\n",
        "#df[\"Ocupacao_Covid_Uti\"].sum()\n",
        "#df[\"Ocupacao_Covid_Cli\"].sum()\n",
        "#df[\"Ocupacao_Hospitalar_Uti\"].sum()\n",
        "#df[\"Ocupacao_Hospitalar_Cli\"].sum()\n",
        "#df[\"Saida_Suspeita_Obitos\"].sum()\n",
        "#df[\"Saida_Suspeita_Altas\"].sum()\n",
        "#df[\"saidaConfirmadaObitos\"].sum()\n",
        "#df[\"saidaConfirmadaAltas\"].sum()\n"
      ]
    },
    {
      "cell_type": "code",
      "execution_count": null,
      "metadata": {
        "colab": {
          "base_uri": "https://localhost:8080/"
        },
        "id": "RBbQKqUYcjVV",
        "outputId": "376b8742-4cb2-4cf2-8d78-a8b32284775c"
      },
      "outputs": [
        {
          "output_type": "stream",
          "name": "stderr",
          "text": [
            "/usr/local/lib/python3.7/dist-packages/ipykernel_launcher.py:1: FutureWarning: Dropping of nuisance columns in DataFrame reductions (with 'numeric_only=None') is deprecated; in a future version this will raise TypeError.  Select only valid columns before calling the reduction.\n",
            "  \"\"\"Entry point for launching an IPython kernel.\n"
          ]
        },
        {
          "output_type": "execute_result",
          "data": {
            "text/plain": [
              "0          44.0\n",
              "1          40.0\n",
              "2          27.0\n",
              "3           4.0\n",
              "5           4.0\n",
              "          ...  \n",
              "193101    120.0\n",
              "193102     55.0\n",
              "193103      6.0\n",
              "193104      2.0\n",
              "193105     28.0\n",
              "Length: 193105, dtype: float64"
            ]
          },
          "metadata": {},
          "execution_count": 14
        }
      ],
      "source": [
        "df.sum(axis=1)"
      ]
    },
    {
      "cell_type": "markdown",
      "metadata": {
        "id": "1QsIssVrEAlP"
      },
      "source": [
        "Médiana"
      ]
    },
    {
      "cell_type": "code",
      "execution_count": null,
      "metadata": {
        "colab": {
          "base_uri": "https://localhost:8080/"
        },
        "id": "23Yjtr-fEBGY",
        "outputId": "8741055f-ed71-404f-a777-fdd187e74086"
      },
      "outputs": [
        {
          "output_type": "execute_result",
          "data": {
            "text/plain": [
              "0.0"
            ]
          },
          "metadata": {},
          "execution_count": 15
        }
      ],
      "source": [
        "#df[\"Ocupacao_Suspeito_Cli\"].median()\n",
        "#df.median()\n",
        "\n",
        "df[\"Ocupacao_Suspeito_Uti\"].median()\n",
        "#df[\"Ocupacao_Confirmado_Cli\"].median()\n",
        "#df[\"Ocupacao_Confirmado_Uti\"].median()\n",
        "#df[\"Ocupacao_Covid_Uti\"].median()\n",
        "#df[\"Ocupacao_Covid_Cli\"].median()\n",
        "#df[\"Ocupacao_Hospitalar_Uti\"].median()\n",
        "#df[\"Ocupacao_Hospitalar_Cli\"].median()\n",
        "#df[\"Saida_Suspeita_Obitos\"].median()\n",
        "#df[\"Saida_Suspeita_Altas\"].median()\n",
        "#df[\"saidaConfirmadaObitos\"].median()\n",
        "#df[\"saidaConfirmadaAltas\"].median()"
      ]
    },
    {
      "cell_type": "markdown",
      "metadata": {
        "id": "je9OXVJec8dk"
      },
      "source": [
        "Média"
      ]
    },
    {
      "cell_type": "code",
      "execution_count": null,
      "metadata": {
        "colab": {
          "base_uri": "https://localhost:8080/"
        },
        "id": "T3WMm5_Nc9jI",
        "outputId": "368e6827-4dfe-4c3c-ab30-4316cd31874e"
      },
      "outputs": [
        {
          "output_type": "execute_result",
          "data": {
            "text/plain": [
              "4.1428238523083294e-05"
            ]
          },
          "metadata": {},
          "execution_count": 16
        }
      ],
      "source": [
        "#df.mean()\n",
        "\n",
        "df[\"Ocupacao_Suspeito_Uti\"].mean()\n",
        "#df[\"Ocupacao_Confirmado_Cli\"].mean()\n",
        "#df[\"Ocupacao_Confirmado_Uti\"].mean()\n",
        "#df[\"Ocupacao_Covid_Uti\"].mean()\n",
        "#df[\"Ocupacao_Covid_Cli\"].mean()\n",
        "#df[\"Ocupacao_Hospitalar_Uti\"].mean()\n",
        "#df[\"Ocupacao_Hospitalar_Cli\"].mean()\n",
        "#df[\"Saida_Suspeita_Obitos\"].mean()\n",
        "#df[\"Saida_Suspeita_Altas\"].mean()\n",
        "#df[\"saidaConfirmadaObitos\"].mean()\n",
        "#df[\"saidaConfirmadaAltas\"].mean()"
      ]
    },
    {
      "cell_type": "markdown",
      "metadata": {
        "id": "L1YZttBhc880"
      },
      "source": [
        "Maxímo"
      ]
    },
    {
      "cell_type": "code",
      "execution_count": null,
      "metadata": {
        "colab": {
          "base_uri": "https://localhost:8080/"
        },
        "id": "9SEWdbo8e9Dk",
        "outputId": "55ebe222-60d3-4807-84c5-b3a461564a54"
      },
      "outputs": [
        {
          "output_type": "execute_result",
          "data": {
            "text/plain": [
              "8.0"
            ]
          },
          "metadata": {},
          "execution_count": 17
        }
      ],
      "source": [
        "#df.max()\n",
        "\n",
        "df[\"Ocupacao_Suspeito_Uti\"].max()\n",
        "#df[\"Ocupacao_Confirmado_Cli\"].max()\n",
        "#df[\"Ocupacao_Confirmado_Uti\"].max()\n",
        "#df[\"Ocupacao_Covid_Uti\"].max()\n",
        "#df[\"Ocupacao_Covid_Cli\"].max()\n",
        "#df[\"Ocupacao_Hospitalar_Uti\"].max()\n",
        "#df[\"Ocupacao_Hospitalar_Cli\"].max()\n",
        "#df[\"Saida_Suspeita_Obitos\"].max()\n",
        "#df[\"Saida_Suspeita_Altas\"].max()\n",
        "#df[\"saidaConfirmadaObitos\"].max()\n",
        "#df[\"saidaConfirmadaAltas\"].max()"
      ]
    },
    {
      "cell_type": "markdown",
      "metadata": {
        "id": "gx8jUVy8G79L"
      },
      "source": [
        "**Disperção** **de** **uma** **variável**"
      ]
    },
    {
      "cell_type": "markdown",
      "metadata": {
        "id": "eZc4eB4eHvd7"
      },
      "source": [
        "Variança"
      ]
    },
    {
      "cell_type": "code",
      "execution_count": null,
      "metadata": {
        "colab": {
          "base_uri": "https://localhost:8080/"
        },
        "id": "Kl3Uq6WEG8jE",
        "outputId": "7374cbd4-1e37-4220-c80f-248384de614a"
      },
      "outputs": [
        {
          "output_type": "execute_result",
          "data": {
            "text/plain": [
              "0.00033142590818466624"
            ]
          },
          "metadata": {},
          "execution_count": 18
        }
      ],
      "source": [
        "#df.var()\n",
        "\n",
        "df[\"Ocupacao_Suspeito_Uti\"].var()\n",
        "#df[\"Ocupacao_Confirmado_Cli\"].var()\n",
        "#df[\"Ocupacao_Confirmado_Uti\"].var()\n",
        "#df[\"Ocupacao_Covid_Uti\"].var()\n",
        "#df[\"Ocupacao_Covid_Cli\"].var()\n",
        "#df[\"Ocupacao_Hospitalar_Uti\"].var()\n",
        "#df[\"Ocupacao_Hospitalar_Cli\"].var()\n",
        "#df[\"Saida_Suspeita_Obitos\"].var()\n",
        "#df[\"Saida_Suspeita_Altas\"].var()\n",
        "#df[\"saidaConfirmadaObitos\"].var()\n",
        "#df[\"saidaConfirmadaAltas\"].var()"
      ]
    },
    {
      "cell_type": "markdown",
      "metadata": {
        "id": "INOT7aQpHvZU"
      },
      "source": [
        "Desvio padrão"
      ]
    },
    {
      "cell_type": "code",
      "execution_count": null,
      "metadata": {
        "colab": {
          "base_uri": "https://localhost:8080/"
        },
        "id": "BC4rrsFoHuDi",
        "outputId": "8404e75a-bafb-46cc-e800-2c9b5560c055"
      },
      "outputs": [
        {
          "output_type": "execute_result",
          "data": {
            "text/plain": [
              "0.018205106651285136"
            ]
          },
          "metadata": {},
          "execution_count": 19
        }
      ],
      "source": [
        "#df.std()\n",
        "\n",
        "df[\"Ocupacao_Suspeito_Uti\"].std()\n",
        "#df[\"Ocupacao_Confirmado_Cli\"].std()\n",
        "#df[\"Ocupacao_Confirmado_Uti\"].std()\n",
        "#df[\"Ocupacao_Covid_Uti\"].std()\n",
        "#df[\"Ocupacao_Covid_Cli\"].std()\n",
        "#df[\"Ocupacao_Hospitalar_Uti\"].std()\n",
        "#df[\"Ocupacao_Hospitalar_Cli\"].std()\n",
        "#df[\"Saida_Suspeita_Obitos\"].std()\n",
        "#df[\"Saida_Suspeita_Altas\"].std()\n",
        "#df[\"saidaConfirmadaObitos\"].std()\n",
        "#df[\"saidaConfirmadaAltas\"].std()"
      ]
    },
    {
      "cell_type": "markdown",
      "metadata": {
        "id": "grl9Zxb7X-Lk"
      },
      "source": [
        "Contagem de Valores em um array"
      ]
    },
    {
      "cell_type": "code",
      "execution_count": null,
      "metadata": {
        "colab": {
          "base_uri": "https://localhost:8080/"
        },
        "id": "sTU1jv0OX-pf",
        "outputId": "ae84e51c-89c1-49ff-b918-cc30ff97def0"
      },
      "outputs": [
        {
          "output_type": "execute_result",
          "data": {
            "text/plain": [
              "0.0    193104\n",
              "8.0         1\n",
              "Name: Ocupacao_Suspeito_Uti, dtype: int64"
            ]
          },
          "metadata": {},
          "execution_count": 20
        }
      ],
      "source": [
        "\n",
        "df[\"Ocupacao_Suspeito_Uti\"].value_counts()\n",
        "#df[\"Ocupacao_Confirmado_Cli\"].value_counts()\n",
        "#df[\"Ocupacao_Confirmado_Uti\"].value_counts()\n",
        "#df[\"Ocupacao_Covid_Uti\"].value_counts()\n",
        "#df[\"Ocupacao_Covid_Cli\"].value_counts()\n",
        "#df[\"Ocupacao_Hospitalar_Uti\"].value_counts()\n",
        "#df[\"Ocupacao_Hospitalar_Cli\"].value_counts()\n",
        "#df[\"Saida_Suspeita_Obitos\"].value_counts()\n",
        "#df[\"Saida_Suspeita_Altas\"].value_counts()\n",
        "#df[\"saidaConfirmadaObitos\"].value_counts()\n",
        "#df[\"saidaConfirmadaAltas\"].value_counts()"
      ]
    },
    {
      "cell_type": "markdown",
      "metadata": {
        "id": "zfFVjKuxsPAi"
      },
      "source": [
        "# **Dados Categoricos**"
      ]
    },
    {
      "cell_type": "markdown",
      "metadata": {
        "id": "dXGHCFlJsX2l"
      },
      "source": [
        "Dados categóricos"
      ]
    },
    {
      "cell_type": "code",
      "execution_count": null,
      "metadata": {
        "colab": {
          "background_save": true
        },
        "id": "7j-OtcxcsdSL"
      },
      "outputs": [],
      "source": [
        "df_Saidas = df[[\"Saida_Suspeita_Obitos\",\"Saida_Suspeita_Altas\",\"saidaConfirmadaObitos\",\"saidaConfirmadaAltas\"]]\n",
        "\n",
        "df_saidas_grupo = df_Saidas.groupby(\"saidaConfirmadaObitos\")\n",
        "df_saidas_grupo.describe().T"
      ]
    },
    {
      "cell_type": "markdown",
      "source": [
        "**Transformando** **variáveis** **em** **dados** **categóricos:**\n"
      ],
      "metadata": {
        "id": "-xNURnr7c0xU"
      }
    },
    {
      "cell_type": "code",
      "source": [
        "df_estado = df[['Estado_Notificacao','estado','Ocupacao_Hospitalar_Uti','Ocupacao_Hospitalar_Cli','Saida_Suspeita_Altas']]\n",
        "df_estado.head()"
      ],
      "metadata": {
        "id": "oECnonR3c1fm"
      },
      "execution_count": null,
      "outputs": []
    },
    {
      "cell_type": "code",
      "source": [
        "df_ocupa_grupo = df_estado.groupby(\"estado\")\n",
        "df_ocupa_grupo.describe().T"
      ],
      "metadata": {
        "id": "QRBRSAEjeRhv"
      },
      "execution_count": null,
      "outputs": []
    },
    {
      "cell_type": "code",
      "source": [
        "df['grupo'] = pd.Series(df['Ocupacao_Hospitalar_Uti'], dtype=\"category\")"
      ],
      "metadata": {
        "id": "GHxWxMPYdqkm"
      },
      "execution_count": null,
      "outputs": []
    },
    {
      "cell_type": "code",
      "source": [
        "df['grupo'].dtype"
      ],
      "metadata": {
        "id": "BivRIIFZd5Cd"
      },
      "execution_count": null,
      "outputs": []
    },
    {
      "cell_type": "code",
      "source": [
        "df['grupo'].head()"
      ],
      "metadata": {
        "id": "QrxJrh98d8by"
      },
      "execution_count": null,
      "outputs": []
    },
    {
      "cell_type": "code",
      "source": [
        "df['grupo'].value_counts()"
      ],
      "metadata": {
        "id": "Y0GtseNNeAON"
      },
      "execution_count": null,
      "outputs": []
    },
    {
      "cell_type": "markdown",
      "source": [
        "# **Coeficiente de Pearson**"
      ],
      "metadata": {
        "id": "ss9pJ5e-XKZz"
      }
    },
    {
      "cell_type": "code",
      "source": [
        "import matplotlib.pyplot as plt\n",
        "from matplotlib import rcParams\n",
        "\n",
        "import seaborn as sns\n",
        "\n",
        "\n",
        "%matplotlib inline\n",
        "rcParams['figure.figsize'] = 6, 3\n",
        "sns.set_style('whitegrid')"
      ],
      "metadata": {
        "id": "bJGCgGCpXK9e"
      },
      "execution_count": null,
      "outputs": []
    },
    {
      "cell_type": "code",
      "source": [
        "from scipy.stats.stats import pearsonr"
      ],
      "metadata": {
        "id": "ku8M-kDvkQmW"
      },
      "execution_count": null,
      "outputs": []
    },
    {
      "cell_type": "markdown",
      "source": [
        ""
      ],
      "metadata": {
        "id": "Y5tvzuc8XLgK"
      }
    },
    {
      "cell_type": "code",
      "source": [
        "df_conf = df[['Ocupacao_Confirmado_Cli', 'Ocupacao_Confirmado_Uti', 'Ocupacao_Hospitalar_Uti', 'Ocupacao_Hospitalar_Cli']]\n",
        "sns.pairplot(df_conf)"
      ],
      "metadata": {
        "colab": {
          "base_uri": "https://localhost:8080/",
          "height": 744
        },
        "id": "PlfDTqhzXL_e",
        "outputId": "07cc6985-5df4-4dab-af7e-f9dd2a7c26f1"
      },
      "execution_count": null,
      "outputs": [
        {
          "data": {
            "text/plain": [
              "<seaborn.axisgrid.PairGrid at 0x7fa68d03ff90>"
            ]
          },
          "execution_count": 64,
          "metadata": {},
          "output_type": "execute_result"
        },
        {
          "output_type": "display_data",
          "data": {
            "text/plain": [
              "<Figure size 720x720 with 20 Axes>"
            ],
            "image/png": "[encoded data removed]"
          },
          "metadata": {}
        }
      ]
    },
    {
      "cell_type": "markdown",
      "source": [
        "###**Calculando o P valor**"
      ],
      "metadata": {
        "id": "c8UzpX6wXMbS"
      }
    },
    {
      "cell_type": "code",
      "source": [
        "estado = df['estado']\n",
        "#OCupação\n",
        "Ocupacao_Confirmado_Cli = df['Ocupacao_Confirmado_Cli']\n",
        "Ocupacao_Confirmado_Uti = df['Ocupacao_Confirmado_Uti']\n",
        "Ocupacao_Hospitalar_Uti = df['Ocupacao_Hospitalar_Uti']\n",
        "Ocupacao_Hospitalar_Cli = df['Ocupacao_Hospitalar_Cli']\n",
        "\n",
        "#Saida\n",
        "Saida_Suspeita_Altas = df['Saida_Suspeita_Altas']\n",
        "Saida_Suspeita_Obitos = df['Saida_Suspeita_Obitos']\n",
        "saidaConfirmadaObitos = df['saidaConfirmadaObitos']\n",
        "saidaConfirmadaAltas = df['saidaConfirmadaAltas']\n"
      ],
      "metadata": {
        "id": "97I1FF1PXM1V"
      },
      "execution_count": null,
      "outputs": []
    },
    {
      "cell_type": "code",
      "source": [
        "\n",
        "coeficiente_pearsonr, p_valor = pearsonr(Saida_Suspeita_Altas, Saida_Suspeita_Obitos)\n",
        "print('PearsonR Correlation Coefficient {:0.3}'.format(coeficiente_pearsonr))"
      ],
      "metadata": {
        "colab": {
          "base_uri": "https://localhost:8080/"
        },
        "id": "hkmLnNvOaIog",
        "outputId": "0f5a77ea-c7f4-415a-ad0a-7c5ed083c049"
      },
      "execution_count": null,
      "outputs": [
        {
          "output_type": "stream",
          "name": "stdout",
          "text": [
            "PearsonR Correlation Coefficient 0.674\n"
          ]
        }
      ]
    },
    {
      "cell_type": "code",
      "source": [
        "\n",
        "coeficiente_pearsonr, p_valor = pearsonr(Saida_Suspeita_Altas, Ocupacao_Hospitalar_Uti)\n",
        "print('PearsonR Correlation Coefficient {:0.3}'.format(coeficiente_pearsonr))"
      ],
      "metadata": {
        "colab": {
          "base_uri": "https://localhost:8080/"
        },
        "id": "Ujx56OBDaJCL",
        "outputId": "2cdec7bc-0883-419e-84af-5b7899ea5708"
      },
      "execution_count": null,
      "outputs": [
        {
          "output_type": "stream",
          "name": "stdout",
          "text": [
            "PearsonR Correlation Coefficient 0.0215\n"
          ]
        }
      ]
    },
    {
      "cell_type": "code",
      "source": [
        "\n",
        "coeficiente_pearsonr, p_valor = pearsonr(Saida_Suspeita_Altas, saidaConfirmadaAltas)\n",
        "print('PearsonR Correlation Coefficient {:0.3}'.format(coeficiente_pearsonr))"
      ],
      "metadata": {
        "colab": {
          "base_uri": "https://localhost:8080/"
        },
        "id": "5iPhdldlaJbC",
        "outputId": "57613361-d114-4a4e-9766-895aff25c9f9"
      },
      "execution_count": null,
      "outputs": [
        {
          "output_type": "stream",
          "name": "stdout",
          "text": [
            "PearsonR Correlation Coefficient 0.153\n"
          ]
        }
      ]
    },
    {
      "cell_type": "markdown",
      "source": [
        "Usando pandas para calcular o coeficiente de correlação de Pearson"
      ],
      "metadata": {
        "id": "2AI8YJvrpqz3"
      }
    },
    {
      "cell_type": "code",
      "source": [
        "corr = df_conf.corr()\n",
        "#Transformando valores NaN em Valores numéricos\n",
        "corr = corr.fillna(0)\n",
        "corr"
      ],
      "metadata": {
        "colab": {
          "base_uri": "https://localhost:8080/",
          "height": 175
        },
        "id": "IihNQwgSprVk",
        "outputId": "34a05cff-a204-405f-dbb5-e6273300a312"
      },
      "execution_count": null,
      "outputs": [
        {
          "output_type": "execute_result",
          "data": {
            "text/plain": [
              "                         Ocupacao_Confirmado_Cli  Ocupacao_Confirmado_Uti  \\\n",
              "Ocupacao_Confirmado_Cli                      0.0                      0.0   \n",
              "Ocupacao_Confirmado_Uti                      0.0                      0.0   \n",
              "Ocupacao_Hospitalar_Uti                      0.0                      0.0   \n",
              "Ocupacao_Hospitalar_Cli                      0.0                      0.0   \n",
              "\n",
              "                         Ocupacao_Hospitalar_Uti  Ocupacao_Hospitalar_Cli  \n",
              "Ocupacao_Confirmado_Cli                  0.00000                  0.00000  \n",
              "Ocupacao_Confirmado_Uti                  0.00000                  0.00000  \n",
              "Ocupacao_Hospitalar_Uti                  1.00000                  0.34002  \n",
              "Ocupacao_Hospitalar_Cli                  0.34002                  1.00000  "
            ],
            "text/html": [
              "\n",
              "  <div id=\"df-5cf5e162-dfe0-4ad3-a21d-5c9130ca58ec\">\n",
              "    <div class=\"colab-df-container\">\n",
              "      <div>\n",
              "<style scoped>\n",
              "    .dataframe tbody tr th:only-of-type {\n",
              "        vertical-align: middle;\n",
              "    }\n",
              "\n",
              "    .dataframe tbody tr th {\n",
              "        vertical-align: top;\n",
              "    }\n",
              "\n",
              "    .dataframe thead th {\n",
              "        text-align: right;\n",
              "    }\n",
              "</style>\n",
              "<table border=\"1\" class=\"dataframe\">\n",
              "  <thead>\n",
              "    <tr style=\"text-align: right;\">\n",
              "      <th></th>\n",
              "      <th>Ocupacao_Confirmado_Cli</th>\n",
              "      <th>Ocupacao_Confirmado_Uti</th>\n",
              "      <th>Ocupacao_Hospitalar_Uti</th>\n",
              "      <th>Ocupacao_Hospitalar_Cli</th>\n",
              "    </tr>\n",
              "  </thead>\n",
              "  <tbody>\n",
              "    <tr>\n",
              "      <th>Ocupacao_Confirmado_Cli</th>\n",
              "      <td>0.0</td>\n",
              "      <td>0.0</td>\n",
              "      <td>0.00000</td>\n",
              "      <td>0.00000</td>\n",
              "    </tr>\n",
              "    <tr>\n",
              "      <th>Ocupacao_Confirmado_Uti</th>\n",
              "      <td>0.0</td>\n",
              "      <td>0.0</td>\n",
              "      <td>0.00000</td>\n",
              "      <td>0.00000</td>\n",
              "    </tr>\n",
              "    <tr>\n",
              "      <th>Ocupacao_Hospitalar_Uti</th>\n",
              "      <td>0.0</td>\n",
              "      <td>0.0</td>\n",
              "      <td>1.00000</td>\n",
              "      <td>0.34002</td>\n",
              "    </tr>\n",
              "    <tr>\n",
              "      <th>Ocupacao_Hospitalar_Cli</th>\n",
              "      <td>0.0</td>\n",
              "      <td>0.0</td>\n",
              "      <td>0.34002</td>\n",
              "      <td>1.00000</td>\n",
              "    </tr>\n",
              "  </tbody>\n",
              "</table>\n",
              "</div>\n",
              "      <button class=\"colab-df-convert\" onclick=\"convertToInteractive('df-5cf5e162-dfe0-4ad3-a21d-5c9130ca58ec')\"\n",
              "              title=\"Convert this dataframe to an interactive table.\"\n",
              "              style=\"display:none;\">\n",
              "        \n",
              "  <svg xmlns=\"http://www.w3.org/2000/svg\" height=\"24px\"viewBox=\"0 0 24 24\"\n",
              "       width=\"24px\">\n",
              "    <path d=\"M0 0h24v24H0V0z\" fill=\"none\"/>\n",
              "    <path d=\"M18.56 5.44l.94 2.06.94-2.06 2.06-.94-2.06-.94-.94-2.06-.94 2.06-2.06.94zm-11 1L8.5 8.5l.94-2.06 2.06-.94-2.06-.94L8.5 2.5l-.94 2.06-2.06.94zm10 10l.94 2.06.94-2.06 2.06-.94-2.06-.94-.94-2.06-.94 2.06-2.06.94z\"/><path d=\"M17.41 7.96l-1.37-1.37c-.4-.4-.92-.59-1.43-.59-.52 0-1.04.2-1.43.59L10.3 9.45l-7.72 7.72c-.78.78-.78 2.05 0 2.83L4 21.41c.39.39.9.59 1.41.59.51 0 1.02-.2 1.41-.59l7.78-7.78 2.81-2.81c.8-.78.8-2.07 0-2.86zM5.41 20L4 18.59l7.72-7.72 1.47 1.35L5.41 20z\"/>\n",
              "  </svg>\n",
              "      </button>\n",
              "      \n",
              "  <style>\n",
              "    .colab-df-container {\n",
              "      display:flex;\n",
              "      flex-wrap:wrap;\n",
              "      gap: 12px;\n",
              "    }\n",
              "\n",
              "    .colab-df-convert {\n",
              "      background-color: #E8F0FE;\n",
              "      border: none;\n",
              "      border-radius: 50%;\n",
              "      cursor: pointer;\n",
              "      display: none;\n",
              "      fill: #1967D2;\n",
              "      height: 32px;\n",
              "      padding: 0 0 0 0;\n",
              "      width: 32px;\n",
              "    }\n",
              "\n",
              "    .colab-df-convert:hover {\n",
              "      background-color: #E2EBFA;\n",
              "      box-shadow: 0px 1px 2px rgba(60, 64, 67, 0.3), 0px 1px 3px 1px rgba(60, 64, 67, 0.15);\n",
              "      fill: #174EA6;\n",
              "    }\n",
              "\n",
              "    [theme=dark] .colab-df-convert {\n",
              "      background-color: #3B4455;\n",
              "      fill: #D2E3FC;\n",
              "    }\n",
              "\n",
              "    [theme=dark] .colab-df-convert:hover {\n",
              "      background-color: #434B5C;\n",
              "      box-shadow: 0px 1px 3px 1px rgba(0, 0, 0, 0.15);\n",
              "      filter: drop-shadow(0px 1px 2px rgba(0, 0, 0, 0.3));\n",
              "      fill: #FFFFFF;\n",
              "    }\n",
              "  </style>\n",
              "\n",
              "      <script>\n",
              "        const buttonEl =\n",
              "          document.querySelector('#df-5cf5e162-dfe0-4ad3-a21d-5c9130ca58ec button.colab-df-convert');\n",
              "        buttonEl.style.display =\n",
              "          google.colab.kernel.accessAllowed ? 'block' : 'none';\n",
              "\n",
              "        async function convertToInteractive(key) {\n",
              "          const element = document.querySelector('#df-5cf5e162-dfe0-4ad3-a21d-5c9130ca58ec');\n",
              "          const dataTable =\n",
              "            await google.colab.kernel.invokeFunction('convertToInteractive',\n",
              "                                                     [key], {});\n",
              "          if (!dataTable) return;\n",
              "\n",
              "          const docLinkHtml = 'Like what you see? Visit the ' +\n",
              "            '<a target=\"_blank\" href=https://colab.research.google.com/notebooks/data_table.ipynb>data table notebook</a>'\n",
              "            + ' to learn more about interactive tables.';\n",
              "          element.innerHTML = '';\n",
              "          dataTable['output_type'] = 'display_data';\n",
              "          await google.colab.output.renderOutput(dataTable, element);\n",
              "          const docLink = document.createElement('div');\n",
              "          docLink.innerHTML = docLinkHtml;\n",
              "          element.appendChild(docLink);\n",
              "        }\n",
              "      </script>\n",
              "    </div>\n",
              "  </div>\n",
              "  "
            ]
          },
          "metadata": {},
          "execution_count": 72
        }
      ]
    },
    {
      "cell_type": "markdown",
      "source": [
        "# **Q Quadrático**"
      ],
      "metadata": {
        "id": "6iVSxC-9rqof"
      }
    },
    {
      "cell_type": "markdown",
      "source": [
        "Importando as Bibliotecas"
      ],
      "metadata": {
        "id": "5aCLm6mBrtt1"
      }
    },
    {
      "cell_type": "code",
      "source": [
        "import pandas as pd\n",
        "\n",
        "import matplotlib.pyplot as plt\n",
        "from matplotlib import rcParams\n",
        "\n",
        "import seaborn as sns\n",
        "\n",
        "%matplotlib inline\n",
        "rcParams['figure.figsize'] = 6, 3\n",
        "sns.set_style('whitegrid')"
      ],
      "metadata": {
        "id": "F8LxZvDOr-wN"
      },
      "execution_count": null,
      "outputs": []
    },
    {
      "cell_type": "code",
      "source": [
        "from scipy.stats import spearmanr"
      ],
      "metadata": {
        "id": "F6d5bwhwsAwd"
      },
      "execution_count": null,
      "outputs": []
    },
    {
      "cell_type": "markdown",
      "source": [
        "Correlação de Spearman\n",
        "\n"
      ],
      "metadata": {
        "id": "ujnXf6VYsFUx"
      }
    },
    {
      "cell_type": "code",
      "source": [
        ""
      ],
      "metadata": {
        "id": "kZRCNyiJsGgV"
      },
      "execution_count": null,
      "outputs": []
    },
    {
      "cell_type": "markdown",
      "source": [
        "podemos dizer que as variveis Saida_Suspeita_Altas e Saida_Suspeita_Altas tem entre eles à mais forte correlacao as outras duas tem uma correlacao apenas moderada"
      ],
      "metadata": {
        "id": "y_Lm7eOBsR9u"
      }
    },
    {
      "cell_type": "code",
      "source": [
        "coeficiente_spearmanr, p_valor = spearmanr(Saida_Suspeita_Altas, Ocupacao_Hospitalar_Cli)\n",
        "print('Spearman Rank Correlation Coefficient {:0.3}'.format(coeficiente_spearmanr))"
      ],
      "metadata": {
        "colab": {
          "base_uri": "https://localhost:8080/"
        },
        "id": "moivGpU-sSYW",
        "outputId": "4e61c38b-ffa9-4bcd-b0c5-a07f8d080427"
      },
      "execution_count": null,
      "outputs": [
        {
          "output_type": "stream",
          "name": "stdout",
          "text": [
            "Spearman Rank Correlation Coefficient 0.154\n"
          ]
        }
      ]
    },
    {
      "cell_type": "code",
      "source": [
        "coeficiente_spearmanr, p_valor = spearmanr(Saida_Suspeita_Altas, Ocupacao_Hospitalar_Uti)\n",
        "print('Spearman Rank Correlation Coefficient {:0.3}'.format(coeficiente_spearmanr))"
      ],
      "metadata": {
        "colab": {
          "base_uri": "https://localhost:8080/"
        },
        "id": "xoUkfvqJuwkP",
        "outputId": "99568d3b-c9b9-4910-ec83-8a6dda050d84"
      },
      "execution_count": null,
      "outputs": [
        {
          "output_type": "stream",
          "name": "stdout",
          "text": [
            "Spearman Rank Correlation Coefficient 0.156\n"
          ]
        }
      ]
    },
    {
      "cell_type": "code",
      "source": [
        "coeficiente_spearmanr, p_valor = spearmanr(Saida_Suspeita_Altas, Saida_Suspeita_Altas)\n",
        "print('Spearman Rank Correlation Coefficient {:0.3}'.format(coeficiente_spearmanr))"
      ],
      "metadata": {
        "colab": {
          "base_uri": "https://localhost:8080/"
        },
        "id": "5ujJn3kevuF9",
        "outputId": "ae6151e5-625d-4e1c-a0dd-0893d7496210"
      },
      "execution_count": null,
      "outputs": [
        {
          "output_type": "stream",
          "name": "stdout",
          "text": [
            "Spearman Rank Correlation Coefficient 1.0\n"
          ]
        }
      ]
    },
    {
      "cell_type": "markdown",
      "source": [
        "**Chi-square**"
      ],
      "metadata": {
        "id": "vbr1t9YlwHtX"
      }
    },
    {
      "cell_type": "code",
      "source": [
        "#montar um crosstab\n",
        "\n",
        "df_table = pd.crosstab(Saida_Suspeita_Obitos, saidaConfirmadaObitos)\n",
        "\n",
        "from scipy.stats import chi2_contingency\n",
        "chi2, p, dof, expected = chi2_contingency(df_table.values)\n",
        "print('Chi-square Statistic {:0.3} p_value {:0.3}'.format(chi2, p))\n",
        "\n",
        "\n",
        "\n"
      ],
      "metadata": {
        "id": "9qpYtSkIwVEw",
        "colab": {
          "base_uri": "https://localhost:8080/"
        },
        "outputId": "2a7ecf5d-aa7b-4798-88f0-cea03d141787"
      },
      "execution_count": 82,
      "outputs": [
        {
          "output_type": "stream",
          "name": "stdout",
          "text": [
            "Chi-square Statistic 2.3e+06 p_value 0.0\n"
          ]
        }
      ]
    },
    {
      "cell_type": "code",
      "source": [
        "df_table = pd.crosstab(Saida_Suspeita_Obitos, Ocupacao_Hospitalar_Uti)\n",
        "\n",
        "from scipy.stats import chi2_contingency\n",
        "chi2, p, dof, expected = chi2_contingency(df_table.values)\n",
        "print('Chi-square Statistic {:0.3} p_value {:0.3}'.format(chi2, p))"
      ],
      "metadata": {
        "colab": {
          "base_uri": "https://localhost:8080/"
        },
        "id": "sy1Byntmxtjr",
        "outputId": "b2ef2251-0271-4d4c-b209-71531eaf4978"
      },
      "execution_count": 83,
      "outputs": [
        {
          "output_type": "stream",
          "name": "stdout",
          "text": [
            "Chi-square Statistic 2.83e+05 p_value 0.0\n"
          ]
        }
      ]
    },
    {
      "cell_type": "code",
      "source": [
        "df_table = pd.crosstab(Saida_Suspeita_Obitos, Saida_Suspeita_Altas)\n",
        "\n",
        "from scipy.stats import chi2_contingency\n",
        "chi2, p, dof, expected = chi2_contingency(df_table.values)\n",
        "print('Chi-square Statistic {:0.3} p_value {:0.3}'.format(chi2, p))"
      ],
      "metadata": {
        "colab": {
          "base_uri": "https://localhost:8080/"
        },
        "id": "A0fRNYIKxthC",
        "outputId": "25fd6305-2147-4dff-8f78-c7abe20270c5"
      },
      "execution_count": 84,
      "outputs": [
        {
          "output_type": "stream",
          "name": "stdout",
          "text": [
            "Chi-square Statistic 2.78e+06 p_value 0.0\n"
          ]
        }
      ]
    },
    {
      "cell_type": "markdown",
      "source": [
        "# **Scikit-Learn**"
      ],
      "metadata": {
        "id": "KltP8Osk4zee"
      }
    },
    {
      "cell_type": "code",
      "source": [
        "import pandas as pd\n",
        "import seaborn as sns\n",
        "import matplotlib.pyplot as plt\n",
        "\n",
        "from matplotlib import rcParams\n",
        "from sklearn import preprocessing\n",
        "\n",
        "%matplotlib inline\n",
        "rcParams['figure.figsize'] = 5, 4\n",
        "sns.set_style('whitegrid')"
      ],
      "metadata": {
        "id": "r2Nr3R1H5IIp"
      },
      "execution_count": 86,
      "outputs": []
    },
    {
      "cell_type": "markdown",
      "source": [
        "### Normalizando e transformando variáveis com MinMaxScalar() e fit_transform()"
      ],
      "metadata": {
        "id": "QgBPQXgX5J9S"
      }
    },
    {
      "cell_type": "code",
      "source": [
        "df[['Ocupacao_Hospitalar_Uti']].describe()"
      ],
      "metadata": {
        "colab": {
          "base_uri": "https://localhost:8080/",
          "height": 300
        },
        "id": "G7bGMxH55LcC",
        "outputId": "09d4f12b-d2e7-4ce7-f774-40b7fc639d42"
      },
      "execution_count": 92,
      "outputs": [
        {
          "output_type": "execute_result",
          "data": {
            "text/plain": [
              "       Ocupacao_Hospitalar_Uti\n",
              "count            193105.000000\n",
              "mean                  8.446420\n",
              "std                  27.474508\n",
              "min                  -5.000000\n",
              "25%                   0.000000\n",
              "50%                   0.000000\n",
              "75%                  10.000000\n",
              "max                8191.000000"
            ],
            "text/html": [
              "\n",
              "  <div id=\"df-c87c45b2-e638-4f62-8b71-c866dbf86bb9\">\n",
              "    <div class=\"colab-df-container\">\n",
              "      <div>\n",
              "<style scoped>\n",
              "    .dataframe tbody tr th:only-of-type {\n",
              "        vertical-align: middle;\n",
              "    }\n",
              "\n",
              "    .dataframe tbody tr th {\n",
              "        vertical-align: top;\n",
              "    }\n",
              "\n",
              "    .dataframe thead th {\n",
              "        text-align: right;\n",
              "    }\n",
              "</style>\n",
              "<table border=\"1\" class=\"dataframe\">\n",
              "  <thead>\n",
              "    <tr style=\"text-align: right;\">\n",
              "      <th></th>\n",
              "      <th>Ocupacao_Hospitalar_Uti</th>\n",
              "    </tr>\n",
              "  </thead>\n",
              "  <tbody>\n",
              "    <tr>\n",
              "      <th>count</th>\n",
              "      <td>193105.000000</td>\n",
              "    </tr>\n",
              "    <tr>\n",
              "      <th>mean</th>\n",
              "      <td>8.446420</td>\n",
              "    </tr>\n",
              "    <tr>\n",
              "      <th>std</th>\n",
              "      <td>27.474508</td>\n",
              "    </tr>\n",
              "    <tr>\n",
              "      <th>min</th>\n",
              "      <td>-5.000000</td>\n",
              "    </tr>\n",
              "    <tr>\n",
              "      <th>25%</th>\n",
              "      <td>0.000000</td>\n",
              "    </tr>\n",
              "    <tr>\n",
              "      <th>50%</th>\n",
              "      <td>0.000000</td>\n",
              "    </tr>\n",
              "    <tr>\n",
              "      <th>75%</th>\n",
              "      <td>10.000000</td>\n",
              "    </tr>\n",
              "    <tr>\n",
              "      <th>max</th>\n",
              "      <td>8191.000000</td>\n",
              "    </tr>\n",
              "  </tbody>\n",
              "</table>\n",
              "</div>\n",
              "      <button class=\"colab-df-convert\" onclick=\"convertToInteractive('df-c87c45b2-e638-4f62-8b71-c866dbf86bb9')\"\n",
              "              title=\"Convert this dataframe to an interactive table.\"\n",
              "              style=\"display:none;\">\n",
              "        \n",
              "  <svg xmlns=\"http://www.w3.org/2000/svg\" height=\"24px\"viewBox=\"0 0 24 24\"\n",
              "       width=\"24px\">\n",
              "    <path d=\"M0 0h24v24H0V0z\" fill=\"none\"/>\n",
              "    <path d=\"M18.56 5.44l.94 2.06.94-2.06 2.06-.94-2.06-.94-.94-2.06-.94 2.06-2.06.94zm-11 1L8.5 8.5l.94-2.06 2.06-.94-2.06-.94L8.5 2.5l-.94 2.06-2.06.94zm10 10l.94 2.06.94-2.06 2.06-.94-2.06-.94-.94-2.06-.94 2.06-2.06.94z\"/><path d=\"M17.41 7.96l-1.37-1.37c-.4-.4-.92-.59-1.43-.59-.52 0-1.04.2-1.43.59L10.3 9.45l-7.72 7.72c-.78.78-.78 2.05 0 2.83L4 21.41c.39.39.9.59 1.41.59.51 0 1.02-.2 1.41-.59l7.78-7.78 2.81-2.81c.8-.78.8-2.07 0-2.86zM5.41 20L4 18.59l7.72-7.72 1.47 1.35L5.41 20z\"/>\n",
              "  </svg>\n",
              "      </button>\n",
              "      \n",
              "  <style>\n",
              "    .colab-df-container {\n",
              "      display:flex;\n",
              "      flex-wrap:wrap;\n",
              "      gap: 12px;\n",
              "    }\n",
              "\n",
              "    .colab-df-convert {\n",
              "      background-color: #E8F0FE;\n",
              "      border: none;\n",
              "      border-radius: 50%;\n",
              "      cursor: pointer;\n",
              "      display: none;\n",
              "      fill: #1967D2;\n",
              "      height: 32px;\n",
              "      padding: 0 0 0 0;\n",
              "      width: 32px;\n",
              "    }\n",
              "\n",
              "    .colab-df-convert:hover {\n",
              "      background-color: #E2EBFA;\n",
              "      box-shadow: 0px 1px 2px rgba(60, 64, 67, 0.3), 0px 1px 3px 1px rgba(60, 64, 67, 0.15);\n",
              "      fill: #174EA6;\n",
              "    }\n",
              "\n",
              "    [theme=dark] .colab-df-convert {\n",
              "      background-color: #3B4455;\n",
              "      fill: #D2E3FC;\n",
              "    }\n",
              "\n",
              "    [theme=dark] .colab-df-convert:hover {\n",
              "      background-color: #434B5C;\n",
              "      box-shadow: 0px 1px 3px 1px rgba(0, 0, 0, 0.15);\n",
              "      filter: drop-shadow(0px 1px 2px rgba(0, 0, 0, 0.3));\n",
              "      fill: #FFFFFF;\n",
              "    }\n",
              "  </style>\n",
              "\n",
              "      <script>\n",
              "        const buttonEl =\n",
              "          document.querySelector('#df-c87c45b2-e638-4f62-8b71-c866dbf86bb9 button.colab-df-convert');\n",
              "        buttonEl.style.display =\n",
              "          google.colab.kernel.accessAllowed ? 'block' : 'none';\n",
              "\n",
              "        async function convertToInteractive(key) {\n",
              "          const element = document.querySelector('#df-c87c45b2-e638-4f62-8b71-c866dbf86bb9');\n",
              "          const dataTable =\n",
              "            await google.colab.kernel.invokeFunction('convertToInteractive',\n",
              "                                                     [key], {});\n",
              "          if (!dataTable) return;\n",
              "\n",
              "          const docLinkHtml = 'Like what you see? Visit the ' +\n",
              "            '<a target=\"_blank\" href=https://colab.research.google.com/notebooks/data_table.ipynb>data table notebook</a>'\n",
              "            + ' to learn more about interactive tables.';\n",
              "          element.innerHTML = '';\n",
              "          dataTable['output_type'] = 'display_data';\n",
              "          await google.colab.output.renderOutput(dataTable, element);\n",
              "          const docLink = document.createElement('div');\n",
              "          docLink.innerHTML = docLinkHtml;\n",
              "          element.appendChild(docLink);\n",
              "        }\n",
              "      </script>\n",
              "    </div>\n",
              "  </div>\n",
              "  "
            ]
          },
          "metadata": {},
          "execution_count": 92
        }
      ]
    },
    {
      "cell_type": "code",
      "source": [
        "plt.plot(Ocupacao_Hospitalar_Uti)"
      ],
      "metadata": {
        "colab": {
          "base_uri": "https://localhost:8080/",
          "height": 283
        },
        "id": "5KkiVTrA6Anr",
        "outputId": "a8372b56-2d3e-4b1d-95f8-2ce4bbcac720"
      },
      "execution_count": 91,
      "outputs": [
        {
          "output_type": "execute_result",
          "data": {
            "text/plain": [
              "[<matplotlib.lines.Line2D at 0x7fa66c05fbd0>]"
            ]
          },
          "metadata": {},
          "execution_count": 91
        },
        {
          "output_type": "display_data",
          "data": {
            "text/plain": [
              "<Figure size 360x288 with 1 Axes>"
            ],
            "image/png": "[encoded data removed]"
          },
          "metadata": {}
        }
      ]
    },
    {
      "cell_type": "code",
      "source": [
        "Ocupacao_Hospitalar_Uti_mat = Ocupacao_Hospitalar_Uti.values.reshape(-1,1)\n",
        "scaled = preprocessing.MinMaxScaler()\n",
        "scaled_Ocupacao_Hospitalar_Uti = scaled.fit_transform(Ocupacao_Hospitalar_Uti_mat)\n",
        "plt.plot(scaled_Ocupacao_Hospitalar_Uti)"
      ],
      "metadata": {
        "colab": {
          "base_uri": "https://localhost:8080/",
          "height": 283
        },
        "id": "S323uNcJ64VA",
        "outputId": "3f463248-aa7b-4961-85ba-41162ad034bc"
      },
      "execution_count": 96,
      "outputs": [
        {
          "output_type": "execute_result",
          "data": {
            "text/plain": [
              "[<matplotlib.lines.Line2D at 0x7fa66bb65dd0>]"
            ]
          },
          "metadata": {},
          "execution_count": 96
        },
        {
          "output_type": "display_data",
          "data": {
            "text/plain": [
              "<Figure size 360x288 with 1 Axes>"
            ],
            "image/png": "[encoded data removed]"
          },
          "metadata": {}
        }
      ]
    },
    {
      "cell_type": "code",
      "source": [
        "\n",
        "Ocupacao_Hospitalar_Uti_scaled = preprocessing.MinMaxScaler(feature_range=(0,10))\n",
        "scaled_Ocupacao_Hospitalar_Uti = scaled.fit_transform(Ocupacao_Hospitalar_Uti_mat)\n",
        "plt.plot(scaled_Ocupacao_Hospitalar_Uti)"
      ],
      "metadata": {
        "colab": {
          "base_uri": "https://localhost:8080/",
          "height": 283
        },
        "id": "U6ohWtq68IjF",
        "outputId": "b832add6-7d74-4da9-d86a-9cbf010bdbb0"
      },
      "execution_count": 98,
      "outputs": [
        {
          "output_type": "execute_result",
          "data": {
            "text/plain": [
              "[<matplotlib.lines.Line2D at 0x7fa66b901fd0>]"
            ]
          },
          "metadata": {},
          "execution_count": 98
        },
        {
          "output_type": "display_data",
          "data": {
            "text/plain": [
              "<Figure size 360x288 with 1 Axes>"
            ],
            "image/png": "[encoded data removed]"
          },
          "metadata": {}
        }
      ]
    },
    {
      "cell_type": "markdown",
      "source": [
        "### Usando scale() para padronizar as variáveis\n"
      ],
      "metadata": {
        "id": "OyVaTpUY6xXZ"
      }
    },
    {
      "cell_type": "code",
      "source": [
        "Ocupacao_Hospitalar_Uti_padronizado = preprocessing.scale(Ocupacao_Hospitalar_Uti, axis=0, with_mean=False, with_std=False)\n",
        "plt.plot(Ocupacao_Hospitalar_Uti_padronizado)"
      ],
      "metadata": {
        "colab": {
          "base_uri": "https://localhost:8080/",
          "height": 283
        },
        "id": "JOIxL5v69IwK",
        "outputId": "ed2502b0-f961-4a9a-a9f9-b6abeacf0415"
      },
      "execution_count": 99,
      "outputs": [
        {
          "output_type": "execute_result",
          "data": {
            "text/plain": [
              "[<matplotlib.lines.Line2D at 0x7fa66b5f51d0>]"
            ]
          },
          "metadata": {},
          "execution_count": 99
        },
        {
          "output_type": "display_data",
          "data": {
            "text/plain": [
              "<Figure size 360x288 with 1 Axes>"
            ],
            "image/png": "[encoded data removed]"
          },
          "metadata": {}
        }
      ]
    },
    {
      "cell_type": "code",
      "source": [
        "Ocupacao_Hospitalar_Cli_padronizado = preprocessing.scale(Ocupacao_Hospitalar_Cli)\n",
        "plt.plot(Ocupacao_Hospitalar_Cli_padronizado)"
      ],
      "metadata": {
        "colab": {
          "base_uri": "https://localhost:8080/",
          "height": 283
        },
        "id": "DjxYzreW9eH1",
        "outputId": "e64d932e-4380-4dd4-c2f8-f01081812b38"
      },
      "execution_count": 102,
      "outputs": [
        {
          "output_type": "execute_result",
          "data": {
            "text/plain": [
              "[<matplotlib.lines.Line2D at 0x7fa687684610>]"
            ]
          },
          "metadata": {},
          "execution_count": 102
        },
        {
          "output_type": "display_data",
          "data": {
            "text/plain": [
              "<Figure size 360x288 with 1 Axes>"
            ],
            "image/png": "[encoded data removed]"
          },
          "metadata": {}
        }
      ]
    },
    {
      "cell_type": "markdown",
      "metadata": {
        "id": "em-4pyzQoNzH"
      },
      "source": [
        "# **Regressão Linear**\n",
        "\n",
        "é um metodo estatistico onde, se diz que as variaveis sempre vão voltar para a media. ou seja em dados pontos os dados sempre voltam para a media.\n",
        "\n",
        "temos duas várias uma X e a outra Y e e em hipotese uma é a explicação da outra, Quanto maior foir o r coeficiente linear melhor o resultado.\n",
        "\n",
        "Y = X + \n",
        "\n",
        "Y = ax + b + ei\n",
        "ei = Y - ax -b\n",
        "\n"
      ]
    },
    {
      "cell_type": "code",
      "execution_count": null,
      "metadata": {
        "id": "hyMnIbryoO5e"
      },
      "outputs": [],
      "source": [
        ""
      ]
    },
    {
      "cell_type": "code",
      "execution_count": null,
      "metadata": {
        "id": "euoXAbo1dxQQ"
      },
      "outputs": [],
      "source": [
        ""
      ]
    }
  ],
  "metadata": {
    "colab": {
      "collapsed_sections": [
        "lVqbyIlsenYH",
        "vE6iKYExeL9F",
        "UdeUf0Awd69z",
        "RHSZVDcYD-aP",
        "zfFVjKuxsPAi",
        "QgBPQXgX5J9S",
        "em-4pyzQoNzH"
      ],
      "name": "Data_Science.ipynb",
      "provenance": []
    },
    "kernelspec": {
      "display_name": "Python 3",
      "name": "python3"
    },
    "language_info": {
      "name": "python"
    }
  },
  "nbformat": 4,
  "nbformat_minor": 0
}