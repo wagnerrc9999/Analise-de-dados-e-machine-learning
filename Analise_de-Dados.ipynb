{
  "nbformat": 4,
  "nbformat_minor": 0,
  "metadata": {
    "colab": {
      "provenance": [],
      "collapsed_sections": []
    },
    "kernelspec": {
      "name": "python3",
      "display_name": "Python 3"
    },
    "language_info": {
      "name": "python"
    }
  },
  "cells": [
    {
      "cell_type": "markdown",
      "source": [
        "**Analise de Dados e Gráfico**\n",
        "\n",
        "1.   **nome:** Wagner Ribeiiro De Carvalho\n",
        "\n",
        "1.   **tel:** 11976098988"
      ],
      "metadata": {
        "id": "TlDV0Hgvar-y"
      }
    },
    {
      "cell_type": "code",
      "execution_count": null,
      "metadata": {
        "id": "GsToOalEU4Jc"
      },
      "outputs": [],
      "source": [
        "#Carrendo as Bibliotecas\n",
        "import numpy as np \n",
        "import pandas as pd \n",
        "import seaborn as sns\n",
        "import re"
      ]
    },
    {
      "cell_type": "markdown",
      "source": [
        "## **Tratando os Dados**"
      ],
      "metadata": {
        "id": "Z21JhG9vVNiq"
      }
    },
    {
      "cell_type": "code",
      "source": [
        "df = pd.read_csv(\"https://raw.githubusercontent.com/wagnerrc9999/dataset/main/acidentes.csv\")"
      ],
      "metadata": {
        "id": "eQJpb4YZVOY_"
      },
      "execution_count": null,
      "outputs": []
    },
    {
      "cell_type": "code",
      "source": [
        "df.info()"
      ],
      "metadata": {
        "id": "7s2qRHVOHkor"
      },
      "execution_count": null,
      "outputs": []
    },
    {
      "cell_type": "code",
      "source": [
        "# Convertendo uma campo object para Date.\n",
        "df['data_acidente'] = df['data_acidente'].astype('datetime64[ms]')"
      ],
      "metadata": {
        "id": "01H-VdmCH6V-"
      },
      "execution_count": null,
      "outputs": []
    },
    {
      "cell_type": "code",
      "source": [
        "df.head(56)"
      ],
      "metadata": {
        "colab": {
          "base_uri": "https://localhost:8080/",
          "height": 1000
        },
        "id": "3gBklAtNItHl",
        "outputId": "37228328-ebd0-4ed4-f0d4-a9f054a7a2ca"
      },
      "execution_count": null,
      "outputs": [
        {
          "output_type": "execute_result",
          "data": {
            "text/plain": [
              "       id_acidente data_acidente              tipo_lesao risco_classificacao  \\\n",
              "lesao                                                                          \n",
              "1.0              1    2014-02-11               Laceração                Leve   \n",
              "2.0              2    2014-02-05  Ferimentos Perfurantes               Médio   \n",
              "3.0              3    2014-01-31                Contusão                Leve   \n",
              "4.0              4    2014-01-13                   Corte                Leve   \n",
              "3.0              5    2014-02-14                Contusão               Médio   \n",
              "4.0              6    2014-02-17                   Corte                Leve   \n",
              "4.0             12    2014-01-15                   Corte                Leve   \n",
              "1.0             13    2014-01-11               Laceração                Leve   \n",
              "4.0             14    2014-01-06                   Corte                Leve   \n",
              "5.0             15    2014-01-03              Queimadura                Leve   \n",
              "5.0             16    2014-02-06              Queimadura                Leve   \n",
              "2.0             17    2014-02-04  Ferimentos Perfurantes                Leve   \n",
              "3.0             19    2014-02-12                Contusão                Leve   \n",
              "6.0             20    2014-01-26                Hematoma                Leve   \n",
              "4.0             21    2014-01-27                   Corte                Leve   \n",
              "4.0             22    2014-01-21                   Corte                Leve   \n",
              "5.0             23    2014-01-15              Queimadura                Leve   \n",
              "4.0             24    2014-02-01                   Corte                Leve   \n",
              "2.0             25    2014-02-21  Ferimentos Perfurantes               Médio   \n",
              "4.0             26    2014-02-21                   Corte               Médio   \n",
              "3.0             27    2014-02-26                Contusão                Leve   \n",
              "6.0             28    2014-03-01                Hematoma               Médio   \n",
              "8.0             29    2014-03-05                  Trauma               Médio   \n",
              "4.0             30    2014-03-11                   Corte               Médio   \n",
              "3.0             31    2014-03-12                Contusão                Leve   \n",
              "4.0             32    2014-03-13                   Corte                Leve   \n",
              "3.0             33    2014-03-17                Contusão                Leve   \n",
              "4.0             34    2014-03-29                   Corte                Leve   \n",
              "4.0             35    2014-04-03                   Corte                Leve   \n",
              "4.0             36    2014-04-11                   Corte                Leve   \n",
              "NaN             37    2014-04-11               Irritação                Leve   \n",
              "2.0             39    2014-04-15  Ferimentos Perfurantes                Leve   \n",
              "1.0             40    2014-04-18               Laceração                Leve   \n",
              "3.0             41    2014-04-11                Contusão               Médio   \n",
              "3.0             42    2014-04-29                Contusão               Médio   \n",
              "3.0             43    2014-05-01                Contusão                Leve   \n",
              "3.0             44    2014-05-07                Contusão                Leve   \n",
              "3.0             45    2014-05-07                Contusão                Leve   \n",
              "3.0             46    2014-04-30                Contusão                Leve   \n",
              "4.0             47    2014-03-11                   Corte                Leve   \n",
              "4.0             48    2014-05-20                   Corte               Médio   \n",
              "3.0             49    2014-05-21                Contusão                Leve   \n",
              "2.0             50    2014-05-22  Ferimentos Perfurantes               Médio   \n",
              "3.0             52    2014-06-02                Contusão               Médio   \n",
              "2.0             53    2014-06-06  Ferimentos Perfurantes               Médio   \n",
              "1.0             54    2014-06-06               Laceração                Leve   \n",
              "4.0             55    2014-06-06                   Corte                Leve   \n",
              "3.0             56    2014-06-08                Contusão                Leve   \n",
              "7.0             57    2014-06-26                 Fratura                Alto   \n",
              "1.0             58    2014-07-07               Laceração                Leve   \n",
              "4.0             59    2014-07-08                   Corte               Médio   \n",
              "3.0             60    2014-07-13                Contusão               Médio   \n",
              "NaN             61    2013-07-12                     NaN               Médio   \n",
              "7.0             62    2014-01-20                 Fratura               Médio   \n",
              "4.0             63    2014-07-26                   Corte                Leve   \n",
              "3.0             64    2014-07-25                Contusão                Leve   \n",
              "\n",
              "       risco  lesao   ano  mes  \n",
              "lesao                           \n",
              "1.0      1.0    1.0  1970    2  \n",
              "2.0      2.0    2.0  1970    2  \n",
              "3.0      1.0    3.0  1970    1  \n",
              "4.0      1.0    4.0  1970    1  \n",
              "3.0      2.0    3.0  1970    2  \n",
              "4.0      1.0    4.0  1970    2  \n",
              "4.0      1.0    4.0  1970    1  \n",
              "1.0      1.0    1.0  1970    1  \n",
              "4.0      1.0    4.0  1970    1  \n",
              "5.0      1.0    5.0  1970    1  \n",
              "5.0      1.0    5.0  1970    2  \n",
              "2.0      1.0    2.0  1970    2  \n",
              "3.0      1.0    3.0  1970    2  \n",
              "6.0      1.0    6.0  1970    1  \n",
              "4.0      1.0    4.0  1970    1  \n",
              "4.0      1.0    4.0  1970    1  \n",
              "5.0      1.0    5.0  1970    1  \n",
              "4.0      1.0    4.0  1970    2  \n",
              "2.0      2.0    2.0  1970    2  \n",
              "4.0      2.0    4.0  1970    2  \n",
              "3.0      1.0    3.0  1970    2  \n",
              "6.0      2.0    6.0  1970    3  \n",
              "8.0      2.0    8.0  1970    3  \n",
              "4.0      2.0    4.0  1970    3  \n",
              "3.0      1.0    3.0  1970    3  \n",
              "4.0      1.0    4.0  1970    3  \n",
              "3.0      1.0    3.0  1970    3  \n",
              "4.0      1.0    4.0  1970    3  \n",
              "4.0      1.0    4.0  1970    4  \n",
              "4.0      1.0    4.0  1970    4  \n",
              "NaN      1.0    NaN  1970    4  \n",
              "2.0      1.0    2.0  1970    4  \n",
              "1.0      1.0    1.0  1970    4  \n",
              "3.0      2.0    3.0  1970    4  \n",
              "3.0      2.0    3.0  1970    4  \n",
              "3.0      1.0    3.0  1970    5  \n",
              "3.0      1.0    3.0  1970    5  \n",
              "3.0      1.0    3.0  1970    5  \n",
              "3.0      1.0    3.0  1970    4  \n",
              "4.0      1.0    4.0  1970    3  \n",
              "4.0      2.0    4.0  1970    5  \n",
              "3.0      1.0    3.0  1970    5  \n",
              "2.0      2.0    2.0  1970    5  \n",
              "3.0      2.0    3.0  1970    6  \n",
              "2.0      2.0    2.0  1970    6  \n",
              "1.0      1.0    1.0  1970    6  \n",
              "4.0      1.0    4.0  1970    6  \n",
              "3.0      1.0    3.0  1970    6  \n",
              "7.0      3.0    7.0  1970    6  \n",
              "1.0      1.0    1.0  1970    7  \n",
              "4.0      2.0    4.0  1970    7  \n",
              "3.0      2.0    3.0  1970    7  \n",
              "NaN      2.0    NaN  1970    7  \n",
              "7.0      2.0    7.0  1970    1  \n",
              "4.0      1.0    4.0  1970    7  \n",
              "3.0      1.0    3.0  1970    7  "
            ],
            "text/html": [
              "\n",
              "  <div id=\"df-e7dbf93f-b426-41a8-86e1-4abd7f8c25a8\">\n",
              "    <div class=\"colab-df-container\">\n",
              "      <div>\n",
              "<style scoped>\n",
              "    .dataframe tbody tr th:only-of-type {\n",
              "        vertical-align: middle;\n",
              "    }\n",
              "\n",
              "    .dataframe tbody tr th {\n",
              "        vertical-align: top;\n",
              "    }\n",
              "\n",
              "    .dataframe thead th {\n",
              "        text-align: right;\n",
              "    }\n",
              "</style>\n",
              "<table border=\"1\" class=\"dataframe\">\n",
              "  <thead>\n",
              "    <tr style=\"text-align: right;\">\n",
              "      <th></th>\n",
              "      <th>id_acidente</th>\n",
              "      <th>data_acidente</th>\n",
              "      <th>tipo_lesao</th>\n",
              "      <th>risco_classificacao</th>\n",
              "      <th>risco</th>\n",
              "      <th>lesao</th>\n",
              "      <th>ano</th>\n",
              "      <th>mes</th>\n",
              "    </tr>\n",
              "    <tr>\n",
              "      <th>lesao</th>\n",
              "      <th></th>\n",
              "      <th></th>\n",
              "      <th></th>\n",
              "      <th></th>\n",
              "      <th></th>\n",
              "      <th></th>\n",
              "      <th></th>\n",
              "      <th></th>\n",
              "    </tr>\n",
              "  </thead>\n",
              "  <tbody>\n",
              "    <tr>\n",
              "      <th>1.0</th>\n",
              "      <td>1</td>\n",
              "      <td>2014-02-11</td>\n",
              "      <td>Laceração</td>\n",
              "      <td>Leve</td>\n",
              "      <td>1.0</td>\n",
              "      <td>1.0</td>\n",
              "      <td>1970</td>\n",
              "      <td>2</td>\n",
              "    </tr>\n",
              "    <tr>\n",
              "      <th>2.0</th>\n",
              "      <td>2</td>\n",
              "      <td>2014-02-05</td>\n",
              "      <td>Ferimentos Perfurantes</td>\n",
              "      <td>Médio</td>\n",
              "      <td>2.0</td>\n",
              "      <td>2.0</td>\n",
              "      <td>1970</td>\n",
              "      <td>2</td>\n",
              "    </tr>\n",
              "    <tr>\n",
              "      <th>3.0</th>\n",
              "      <td>3</td>\n",
              "      <td>2014-01-31</td>\n",
              "      <td>Contusão</td>\n",
              "      <td>Leve</td>\n",
              "      <td>1.0</td>\n",
              "      <td>3.0</td>\n",
              "      <td>1970</td>\n",
              "      <td>1</td>\n",
              "    </tr>\n",
              "    <tr>\n",
              "      <th>4.0</th>\n",
              "      <td>4</td>\n",
              "      <td>2014-01-13</td>\n",
              "      <td>Corte</td>\n",
              "      <td>Leve</td>\n",
              "      <td>1.0</td>\n",
              "      <td>4.0</td>\n",
              "      <td>1970</td>\n",
              "      <td>1</td>\n",
              "    </tr>\n",
              "    <tr>\n",
              "      <th>3.0</th>\n",
              "      <td>5</td>\n",
              "      <td>2014-02-14</td>\n",
              "      <td>Contusão</td>\n",
              "      <td>Médio</td>\n",
              "      <td>2.0</td>\n",
              "      <td>3.0</td>\n",
              "      <td>1970</td>\n",
              "      <td>2</td>\n",
              "    </tr>\n",
              "    <tr>\n",
              "      <th>4.0</th>\n",
              "      <td>6</td>\n",
              "      <td>2014-02-17</td>\n",
              "      <td>Corte</td>\n",
              "      <td>Leve</td>\n",
              "      <td>1.0</td>\n",
              "      <td>4.0</td>\n",
              "      <td>1970</td>\n",
              "      <td>2</td>\n",
              "    </tr>\n",
              "    <tr>\n",
              "      <th>4.0</th>\n",
              "      <td>12</td>\n",
              "      <td>2014-01-15</td>\n",
              "      <td>Corte</td>\n",
              "      <td>Leve</td>\n",
              "      <td>1.0</td>\n",
              "      <td>4.0</td>\n",
              "      <td>1970</td>\n",
              "      <td>1</td>\n",
              "    </tr>\n",
              "    <tr>\n",
              "      <th>1.0</th>\n",
              "      <td>13</td>\n",
              "      <td>2014-01-11</td>\n",
              "      <td>Laceração</td>\n",
              "      <td>Leve</td>\n",
              "      <td>1.0</td>\n",
              "      <td>1.0</td>\n",
              "      <td>1970</td>\n",
              "      <td>1</td>\n",
              "    </tr>\n",
              "    <tr>\n",
              "      <th>4.0</th>\n",
              "      <td>14</td>\n",
              "      <td>2014-01-06</td>\n",
              "      <td>Corte</td>\n",
              "      <td>Leve</td>\n",
              "      <td>1.0</td>\n",
              "      <td>4.0</td>\n",
              "      <td>1970</td>\n",
              "      <td>1</td>\n",
              "    </tr>\n",
              "    <tr>\n",
              "      <th>5.0</th>\n",
              "      <td>15</td>\n",
              "      <td>2014-01-03</td>\n",
              "      <td>Queimadura</td>\n",
              "      <td>Leve</td>\n",
              "      <td>1.0</td>\n",
              "      <td>5.0</td>\n",
              "      <td>1970</td>\n",
              "      <td>1</td>\n",
              "    </tr>\n",
              "    <tr>\n",
              "      <th>5.0</th>\n",
              "      <td>16</td>\n",
              "      <td>2014-02-06</td>\n",
              "      <td>Queimadura</td>\n",
              "      <td>Leve</td>\n",
              "      <td>1.0</td>\n",
              "      <td>5.0</td>\n",
              "      <td>1970</td>\n",
              "      <td>2</td>\n",
              "    </tr>\n",
              "    <tr>\n",
              "      <th>2.0</th>\n",
              "      <td>17</td>\n",
              "      <td>2014-02-04</td>\n",
              "      <td>Ferimentos Perfurantes</td>\n",
              "      <td>Leve</td>\n",
              "      <td>1.0</td>\n",
              "      <td>2.0</td>\n",
              "      <td>1970</td>\n",
              "      <td>2</td>\n",
              "    </tr>\n",
              "    <tr>\n",
              "      <th>3.0</th>\n",
              "      <td>19</td>\n",
              "      <td>2014-02-12</td>\n",
              "      <td>Contusão</td>\n",
              "      <td>Leve</td>\n",
              "      <td>1.0</td>\n",
              "      <td>3.0</td>\n",
              "      <td>1970</td>\n",
              "      <td>2</td>\n",
              "    </tr>\n",
              "    <tr>\n",
              "      <th>6.0</th>\n",
              "      <td>20</td>\n",
              "      <td>2014-01-26</td>\n",
              "      <td>Hematoma</td>\n",
              "      <td>Leve</td>\n",
              "      <td>1.0</td>\n",
              "      <td>6.0</td>\n",
              "      <td>1970</td>\n",
              "      <td>1</td>\n",
              "    </tr>\n",
              "    <tr>\n",
              "      <th>4.0</th>\n",
              "      <td>21</td>\n",
              "      <td>2014-01-27</td>\n",
              "      <td>Corte</td>\n",
              "      <td>Leve</td>\n",
              "      <td>1.0</td>\n",
              "      <td>4.0</td>\n",
              "      <td>1970</td>\n",
              "      <td>1</td>\n",
              "    </tr>\n",
              "    <tr>\n",
              "      <th>4.0</th>\n",
              "      <td>22</td>\n",
              "      <td>2014-01-21</td>\n",
              "      <td>Corte</td>\n",
              "      <td>Leve</td>\n",
              "      <td>1.0</td>\n",
              "      <td>4.0</td>\n",
              "      <td>1970</td>\n",
              "      <td>1</td>\n",
              "    </tr>\n",
              "    <tr>\n",
              "      <th>5.0</th>\n",
              "      <td>23</td>\n",
              "      <td>2014-01-15</td>\n",
              "      <td>Queimadura</td>\n",
              "      <td>Leve</td>\n",
              "      <td>1.0</td>\n",
              "      <td>5.0</td>\n",
              "      <td>1970</td>\n",
              "      <td>1</td>\n",
              "    </tr>\n",
              "    <tr>\n",
              "      <th>4.0</th>\n",
              "      <td>24</td>\n",
              "      <td>2014-02-01</td>\n",
              "      <td>Corte</td>\n",
              "      <td>Leve</td>\n",
              "      <td>1.0</td>\n",
              "      <td>4.0</td>\n",
              "      <td>1970</td>\n",
              "      <td>2</td>\n",
              "    </tr>\n",
              "    <tr>\n",
              "      <th>2.0</th>\n",
              "      <td>25</td>\n",
              "      <td>2014-02-21</td>\n",
              "      <td>Ferimentos Perfurantes</td>\n",
              "      <td>Médio</td>\n",
              "      <td>2.0</td>\n",
              "      <td>2.0</td>\n",
              "      <td>1970</td>\n",
              "      <td>2</td>\n",
              "    </tr>\n",
              "    <tr>\n",
              "      <th>4.0</th>\n",
              "      <td>26</td>\n",
              "      <td>2014-02-21</td>\n",
              "      <td>Corte</td>\n",
              "      <td>Médio</td>\n",
              "      <td>2.0</td>\n",
              "      <td>4.0</td>\n",
              "      <td>1970</td>\n",
              "      <td>2</td>\n",
              "    </tr>\n",
              "    <tr>\n",
              "      <th>3.0</th>\n",
              "      <td>27</td>\n",
              "      <td>2014-02-26</td>\n",
              "      <td>Contusão</td>\n",
              "      <td>Leve</td>\n",
              "      <td>1.0</td>\n",
              "      <td>3.0</td>\n",
              "      <td>1970</td>\n",
              "      <td>2</td>\n",
              "    </tr>\n",
              "    <tr>\n",
              "      <th>6.0</th>\n",
              "      <td>28</td>\n",
              "      <td>2014-03-01</td>\n",
              "      <td>Hematoma</td>\n",
              "      <td>Médio</td>\n",
              "      <td>2.0</td>\n",
              "      <td>6.0</td>\n",
              "      <td>1970</td>\n",
              "      <td>3</td>\n",
              "    </tr>\n",
              "    <tr>\n",
              "      <th>8.0</th>\n",
              "      <td>29</td>\n",
              "      <td>2014-03-05</td>\n",
              "      <td>Trauma</td>\n",
              "      <td>Médio</td>\n",
              "      <td>2.0</td>\n",
              "      <td>8.0</td>\n",
              "      <td>1970</td>\n",
              "      <td>3</td>\n",
              "    </tr>\n",
              "    <tr>\n",
              "      <th>4.0</th>\n",
              "      <td>30</td>\n",
              "      <td>2014-03-11</td>\n",
              "      <td>Corte</td>\n",
              "      <td>Médio</td>\n",
              "      <td>2.0</td>\n",
              "      <td>4.0</td>\n",
              "      <td>1970</td>\n",
              "      <td>3</td>\n",
              "    </tr>\n",
              "    <tr>\n",
              "      <th>3.0</th>\n",
              "      <td>31</td>\n",
              "      <td>2014-03-12</td>\n",
              "      <td>Contusão</td>\n",
              "      <td>Leve</td>\n",
              "      <td>1.0</td>\n",
              "      <td>3.0</td>\n",
              "      <td>1970</td>\n",
              "      <td>3</td>\n",
              "    </tr>\n",
              "    <tr>\n",
              "      <th>4.0</th>\n",
              "      <td>32</td>\n",
              "      <td>2014-03-13</td>\n",
              "      <td>Corte</td>\n",
              "      <td>Leve</td>\n",
              "      <td>1.0</td>\n",
              "      <td>4.0</td>\n",
              "      <td>1970</td>\n",
              "      <td>3</td>\n",
              "    </tr>\n",
              "    <tr>\n",
              "      <th>3.0</th>\n",
              "      <td>33</td>\n",
              "      <td>2014-03-17</td>\n",
              "      <td>Contusão</td>\n",
              "      <td>Leve</td>\n",
              "      <td>1.0</td>\n",
              "      <td>3.0</td>\n",
              "      <td>1970</td>\n",
              "      <td>3</td>\n",
              "    </tr>\n",
              "    <tr>\n",
              "      <th>4.0</th>\n",
              "      <td>34</td>\n",
              "      <td>2014-03-29</td>\n",
              "      <td>Corte</td>\n",
              "      <td>Leve</td>\n",
              "      <td>1.0</td>\n",
              "      <td>4.0</td>\n",
              "      <td>1970</td>\n",
              "      <td>3</td>\n",
              "    </tr>\n",
              "    <tr>\n",
              "      <th>4.0</th>\n",
              "      <td>35</td>\n",
              "      <td>2014-04-03</td>\n",
              "      <td>Corte</td>\n",
              "      <td>Leve</td>\n",
              "      <td>1.0</td>\n",
              "      <td>4.0</td>\n",
              "      <td>1970</td>\n",
              "      <td>4</td>\n",
              "    </tr>\n",
              "    <tr>\n",
              "      <th>4.0</th>\n",
              "      <td>36</td>\n",
              "      <td>2014-04-11</td>\n",
              "      <td>Corte</td>\n",
              "      <td>Leve</td>\n",
              "      <td>1.0</td>\n",
              "      <td>4.0</td>\n",
              "      <td>1970</td>\n",
              "      <td>4</td>\n",
              "    </tr>\n",
              "    <tr>\n",
              "      <th>NaN</th>\n",
              "      <td>37</td>\n",
              "      <td>2014-04-11</td>\n",
              "      <td>Irritação</td>\n",
              "      <td>Leve</td>\n",
              "      <td>1.0</td>\n",
              "      <td>NaN</td>\n",
              "      <td>1970</td>\n",
              "      <td>4</td>\n",
              "    </tr>\n",
              "    <tr>\n",
              "      <th>2.0</th>\n",
              "      <td>39</td>\n",
              "      <td>2014-04-15</td>\n",
              "      <td>Ferimentos Perfurantes</td>\n",
              "      <td>Leve</td>\n",
              "      <td>1.0</td>\n",
              "      <td>2.0</td>\n",
              "      <td>1970</td>\n",
              "      <td>4</td>\n",
              "    </tr>\n",
              "    <tr>\n",
              "      <th>1.0</th>\n",
              "      <td>40</td>\n",
              "      <td>2014-04-18</td>\n",
              "      <td>Laceração</td>\n",
              "      <td>Leve</td>\n",
              "      <td>1.0</td>\n",
              "      <td>1.0</td>\n",
              "      <td>1970</td>\n",
              "      <td>4</td>\n",
              "    </tr>\n",
              "    <tr>\n",
              "      <th>3.0</th>\n",
              "      <td>41</td>\n",
              "      <td>2014-04-11</td>\n",
              "      <td>Contusão</td>\n",
              "      <td>Médio</td>\n",
              "      <td>2.0</td>\n",
              "      <td>3.0</td>\n",
              "      <td>1970</td>\n",
              "      <td>4</td>\n",
              "    </tr>\n",
              "    <tr>\n",
              "      <th>3.0</th>\n",
              "      <td>42</td>\n",
              "      <td>2014-04-29</td>\n",
              "      <td>Contusão</td>\n",
              "      <td>Médio</td>\n",
              "      <td>2.0</td>\n",
              "      <td>3.0</td>\n",
              "      <td>1970</td>\n",
              "      <td>4</td>\n",
              "    </tr>\n",
              "    <tr>\n",
              "      <th>3.0</th>\n",
              "      <td>43</td>\n",
              "      <td>2014-05-01</td>\n",
              "      <td>Contusão</td>\n",
              "      <td>Leve</td>\n",
              "      <td>1.0</td>\n",
              "      <td>3.0</td>\n",
              "      <td>1970</td>\n",
              "      <td>5</td>\n",
              "    </tr>\n",
              "    <tr>\n",
              "      <th>3.0</th>\n",
              "      <td>44</td>\n",
              "      <td>2014-05-07</td>\n",
              "      <td>Contusão</td>\n",
              "      <td>Leve</td>\n",
              "      <td>1.0</td>\n",
              "      <td>3.0</td>\n",
              "      <td>1970</td>\n",
              "      <td>5</td>\n",
              "    </tr>\n",
              "    <tr>\n",
              "      <th>3.0</th>\n",
              "      <td>45</td>\n",
              "      <td>2014-05-07</td>\n",
              "      <td>Contusão</td>\n",
              "      <td>Leve</td>\n",
              "      <td>1.0</td>\n",
              "      <td>3.0</td>\n",
              "      <td>1970</td>\n",
              "      <td>5</td>\n",
              "    </tr>\n",
              "    <tr>\n",
              "      <th>3.0</th>\n",
              "      <td>46</td>\n",
              "      <td>2014-04-30</td>\n",
              "      <td>Contusão</td>\n",
              "      <td>Leve</td>\n",
              "      <td>1.0</td>\n",
              "      <td>3.0</td>\n",
              "      <td>1970</td>\n",
              "      <td>4</td>\n",
              "    </tr>\n",
              "    <tr>\n",
              "      <th>4.0</th>\n",
              "      <td>47</td>\n",
              "      <td>2014-03-11</td>\n",
              "      <td>Corte</td>\n",
              "      <td>Leve</td>\n",
              "      <td>1.0</td>\n",
              "      <td>4.0</td>\n",
              "      <td>1970</td>\n",
              "      <td>3</td>\n",
              "    </tr>\n",
              "    <tr>\n",
              "      <th>4.0</th>\n",
              "      <td>48</td>\n",
              "      <td>2014-05-20</td>\n",
              "      <td>Corte</td>\n",
              "      <td>Médio</td>\n",
              "      <td>2.0</td>\n",
              "      <td>4.0</td>\n",
              "      <td>1970</td>\n",
              "      <td>5</td>\n",
              "    </tr>\n",
              "    <tr>\n",
              "      <th>3.0</th>\n",
              "      <td>49</td>\n",
              "      <td>2014-05-21</td>\n",
              "      <td>Contusão</td>\n",
              "      <td>Leve</td>\n",
              "      <td>1.0</td>\n",
              "      <td>3.0</td>\n",
              "      <td>1970</td>\n",
              "      <td>5</td>\n",
              "    </tr>\n",
              "    <tr>\n",
              "      <th>2.0</th>\n",
              "      <td>50</td>\n",
              "      <td>2014-05-22</td>\n",
              "      <td>Ferimentos Perfurantes</td>\n",
              "      <td>Médio</td>\n",
              "      <td>2.0</td>\n",
              "      <td>2.0</td>\n",
              "      <td>1970</td>\n",
              "      <td>5</td>\n",
              "    </tr>\n",
              "    <tr>\n",
              "      <th>3.0</th>\n",
              "      <td>52</td>\n",
              "      <td>2014-06-02</td>\n",
              "      <td>Contusão</td>\n",
              "      <td>Médio</td>\n",
              "      <td>2.0</td>\n",
              "      <td>3.0</td>\n",
              "      <td>1970</td>\n",
              "      <td>6</td>\n",
              "    </tr>\n",
              "    <tr>\n",
              "      <th>2.0</th>\n",
              "      <td>53</td>\n",
              "      <td>2014-06-06</td>\n",
              "      <td>Ferimentos Perfurantes</td>\n",
              "      <td>Médio</td>\n",
              "      <td>2.0</td>\n",
              "      <td>2.0</td>\n",
              "      <td>1970</td>\n",
              "      <td>6</td>\n",
              "    </tr>\n",
              "    <tr>\n",
              "      <th>1.0</th>\n",
              "      <td>54</td>\n",
              "      <td>2014-06-06</td>\n",
              "      <td>Laceração</td>\n",
              "      <td>Leve</td>\n",
              "      <td>1.0</td>\n",
              "      <td>1.0</td>\n",
              "      <td>1970</td>\n",
              "      <td>6</td>\n",
              "    </tr>\n",
              "    <tr>\n",
              "      <th>4.0</th>\n",
              "      <td>55</td>\n",
              "      <td>2014-06-06</td>\n",
              "      <td>Corte</td>\n",
              "      <td>Leve</td>\n",
              "      <td>1.0</td>\n",
              "      <td>4.0</td>\n",
              "      <td>1970</td>\n",
              "      <td>6</td>\n",
              "    </tr>\n",
              "    <tr>\n",
              "      <th>3.0</th>\n",
              "      <td>56</td>\n",
              "      <td>2014-06-08</td>\n",
              "      <td>Contusão</td>\n",
              "      <td>Leve</td>\n",
              "      <td>1.0</td>\n",
              "      <td>3.0</td>\n",
              "      <td>1970</td>\n",
              "      <td>6</td>\n",
              "    </tr>\n",
              "    <tr>\n",
              "      <th>7.0</th>\n",
              "      <td>57</td>\n",
              "      <td>2014-06-26</td>\n",
              "      <td>Fratura</td>\n",
              "      <td>Alto</td>\n",
              "      <td>3.0</td>\n",
              "      <td>7.0</td>\n",
              "      <td>1970</td>\n",
              "      <td>6</td>\n",
              "    </tr>\n",
              "    <tr>\n",
              "      <th>1.0</th>\n",
              "      <td>58</td>\n",
              "      <td>2014-07-07</td>\n",
              "      <td>Laceração</td>\n",
              "      <td>Leve</td>\n",
              "      <td>1.0</td>\n",
              "      <td>1.0</td>\n",
              "      <td>1970</td>\n",
              "      <td>7</td>\n",
              "    </tr>\n",
              "    <tr>\n",
              "      <th>4.0</th>\n",
              "      <td>59</td>\n",
              "      <td>2014-07-08</td>\n",
              "      <td>Corte</td>\n",
              "      <td>Médio</td>\n",
              "      <td>2.0</td>\n",
              "      <td>4.0</td>\n",
              "      <td>1970</td>\n",
              "      <td>7</td>\n",
              "    </tr>\n",
              "    <tr>\n",
              "      <th>3.0</th>\n",
              "      <td>60</td>\n",
              "      <td>2014-07-13</td>\n",
              "      <td>Contusão</td>\n",
              "      <td>Médio</td>\n",
              "      <td>2.0</td>\n",
              "      <td>3.0</td>\n",
              "      <td>1970</td>\n",
              "      <td>7</td>\n",
              "    </tr>\n",
              "    <tr>\n",
              "      <th>NaN</th>\n",
              "      <td>61</td>\n",
              "      <td>2013-07-12</td>\n",
              "      <td>NaN</td>\n",
              "      <td>Médio</td>\n",
              "      <td>2.0</td>\n",
              "      <td>NaN</td>\n",
              "      <td>1970</td>\n",
              "      <td>7</td>\n",
              "    </tr>\n",
              "    <tr>\n",
              "      <th>7.0</th>\n",
              "      <td>62</td>\n",
              "      <td>2014-01-20</td>\n",
              "      <td>Fratura</td>\n",
              "      <td>Médio</td>\n",
              "      <td>2.0</td>\n",
              "      <td>7.0</td>\n",
              "      <td>1970</td>\n",
              "      <td>1</td>\n",
              "    </tr>\n",
              "    <tr>\n",
              "      <th>4.0</th>\n",
              "      <td>63</td>\n",
              "      <td>2014-07-26</td>\n",
              "      <td>Corte</td>\n",
              "      <td>Leve</td>\n",
              "      <td>1.0</td>\n",
              "      <td>4.0</td>\n",
              "      <td>1970</td>\n",
              "      <td>7</td>\n",
              "    </tr>\n",
              "    <tr>\n",
              "      <th>3.0</th>\n",
              "      <td>64</td>\n",
              "      <td>2014-07-25</td>\n",
              "      <td>Contusão</td>\n",
              "      <td>Leve</td>\n",
              "      <td>1.0</td>\n",
              "      <td>3.0</td>\n",
              "      <td>1970</td>\n",
              "      <td>7</td>\n",
              "    </tr>\n",
              "  </tbody>\n",
              "</table>\n",
              "</div>\n",
              "      <button class=\"colab-df-convert\" onclick=\"convertToInteractive('df-e7dbf93f-b426-41a8-86e1-4abd7f8c25a8')\"\n",
              "              title=\"Convert this dataframe to an interactive table.\"\n",
              "              style=\"display:none;\">\n",
              "        \n",
              "  <svg xmlns=\"http://www.w3.org/2000/svg\" height=\"24px\"viewBox=\"0 0 24 24\"\n",
              "       width=\"24px\">\n",
              "    <path d=\"M0 0h24v24H0V0z\" fill=\"none\"/>\n",
              "    <path d=\"M18.56 5.44l.94 2.06.94-2.06 2.06-.94-2.06-.94-.94-2.06-.94 2.06-2.06.94zm-11 1L8.5 8.5l.94-2.06 2.06-.94-2.06-.94L8.5 2.5l-.94 2.06-2.06.94zm10 10l.94 2.06.94-2.06 2.06-.94-2.06-.94-.94-2.06-.94 2.06-2.06.94z\"/><path d=\"M17.41 7.96l-1.37-1.37c-.4-.4-.92-.59-1.43-.59-.52 0-1.04.2-1.43.59L10.3 9.45l-7.72 7.72c-.78.78-.78 2.05 0 2.83L4 21.41c.39.39.9.59 1.41.59.51 0 1.02-.2 1.41-.59l7.78-7.78 2.81-2.81c.8-.78.8-2.07 0-2.86zM5.41 20L4 18.59l7.72-7.72 1.47 1.35L5.41 20z\"/>\n",
              "  </svg>\n",
              "      </button>\n",
              "      \n",
              "  <style>\n",
              "    .colab-df-container {\n",
              "      display:flex;\n",
              "      flex-wrap:wrap;\n",
              "      gap: 12px;\n",
              "    }\n",
              "\n",
              "    .colab-df-convert {\n",
              "      background-color: #E8F0FE;\n",
              "      border: none;\n",
              "      border-radius: 50%;\n",
              "      cursor: pointer;\n",
              "      display: none;\n",
              "      fill: #1967D2;\n",
              "      height: 32px;\n",
              "      padding: 0 0 0 0;\n",
              "      width: 32px;\n",
              "    }\n",
              "\n",
              "    .colab-df-convert:hover {\n",
              "      background-color: #E2EBFA;\n",
              "      box-shadow: 0px 1px 2px rgba(60, 64, 67, 0.3), 0px 1px 3px 1px rgba(60, 64, 67, 0.15);\n",
              "      fill: #174EA6;\n",
              "    }\n",
              "\n",
              "    [theme=dark] .colab-df-convert {\n",
              "      background-color: #3B4455;\n",
              "      fill: #D2E3FC;\n",
              "    }\n",
              "\n",
              "    [theme=dark] .colab-df-convert:hover {\n",
              "      background-color: #434B5C;\n",
              "      box-shadow: 0px 1px 3px 1px rgba(0, 0, 0, 0.15);\n",
              "      filter: drop-shadow(0px 1px 2px rgba(0, 0, 0, 0.3));\n",
              "      fill: #FFFFFF;\n",
              "    }\n",
              "  </style>\n",
              "\n",
              "      <script>\n",
              "        const buttonEl =\n",
              "          document.querySelector('#df-e7dbf93f-b426-41a8-86e1-4abd7f8c25a8 button.colab-df-convert');\n",
              "        buttonEl.style.display =\n",
              "          google.colab.kernel.accessAllowed ? 'block' : 'none';\n",
              "\n",
              "        async function convertToInteractive(key) {\n",
              "          const element = document.querySelector('#df-e7dbf93f-b426-41a8-86e1-4abd7f8c25a8');\n",
              "          const dataTable =\n",
              "            await google.colab.kernel.invokeFunction('convertToInteractive',\n",
              "                                                     [key], {});\n",
              "          if (!dataTable) return;\n",
              "\n",
              "          const docLinkHtml = 'Like what you see? Visit the ' +\n",
              "            '<a target=\"_blank\" href=https://colab.research.google.com/notebooks/data_table.ipynb>data table notebook</a>'\n",
              "            + ' to learn more about interactive tables.';\n",
              "          element.innerHTML = '';\n",
              "          dataTable['output_type'] = 'display_data';\n",
              "          await google.colab.output.renderOutput(dataTable, element);\n",
              "          const docLink = document.createElement('div');\n",
              "          docLink.innerHTML = docLinkHtml;\n",
              "          element.appendChild(docLink);\n",
              "        }\n",
              "      </script>\n",
              "    </div>\n",
              "  </div>\n",
              "  "
            ]
          },
          "metadata": {},
          "execution_count": 147
        }
      ]
    },
    {
      "cell_type": "markdown",
      "source": [
        "## **Criando Colunas para analise**\n"
      ],
      "metadata": {
        "id": "KEH3gPDxHjSX"
      }
    },
    {
      "cell_type": "markdown",
      "source": [
        "Criando um dataframe"
      ],
      "metadata": {
        "id": "62ZA8DYFwH9J"
      }
    },
    {
      "cell_type": "code",
      "source": [
        "lesao = {\n",
        "    'Laceração': '1',\n",
        "    'Ferimentos Perfurantes': '2',\n",
        "    'Contusão': '3',\n",
        "    'Corte': '4',\n",
        "    'Queimadura': '5',\n",
        "    'Hematoma': '6',\n",
        "    'Fratura' : '7',\n",
        "    'Trauma' : '8',\n",
        "}"
      ],
      "metadata": {
        "id": "otrUy7-xCvYn"
      },
      "execution_count": null,
      "outputs": []
    },
    {
      "cell_type": "code",
      "source": [
        "risco = {\n",
        "    'Leve': '1',\n",
        "    'Médio': '2',\n",
        "    'Alto': '3',\n",
        "}"
      ],
      "metadata": {
        "id": "CJkkE9ZeTplI"
      },
      "execution_count": null,
      "outputs": []
    },
    {
      "cell_type": "markdown",
      "source": [
        "**Mapeando os novos Dataframe no dataframe DF**"
      ],
      "metadata": {
        "id": "z3yK0ICbwPw2"
      }
    },
    {
      "cell_type": "code",
      "source": [
        "df['risco'] = df['risco_classificacao'].map(risco)  # criando nova coluna\n",
        "df['lesao'] = df['tipo_lesao'].map(lesao)  # criando nova coluna"
      ],
      "metadata": {
        "id": "_TxBsHZoDLtC"
      },
      "execution_count": null,
      "outputs": []
    },
    {
      "cell_type": "markdown",
      "source": [
        "**Convertendo coluna Object em tipo Numérico**"
      ],
      "metadata": {
        "id": "qY7MdNSHwXs_"
      }
    },
    {
      "cell_type": "code",
      "source": [
        "#df['risco'] = df['risco'].astype(int)\n",
        "df['risco'] = pd.to_numeric(df['risco'])\n",
        "df['lesao'] = pd.to_numeric(df['lesao'])"
      ],
      "metadata": {
        "id": "usdW7P_3JDPM"
      },
      "execution_count": null,
      "outputs": []
    },
    {
      "cell_type": "code",
      "source": [
        "df.columns.values"
      ],
      "metadata": {
        "colab": {
          "base_uri": "https://localhost:8080/"
        },
        "id": "oaT0BxHxwvJg",
        "outputId": "ef0fc2f9-f674-40bc-aa5c-d78159e62e8e"
      },
      "execution_count": null,
      "outputs": [
        {
          "output_type": "execute_result",
          "data": {
            "text/plain": [
              "array(['id_acidente', 'data_acidente', 'tipo_lesao',\n",
              "       'risco_classificacao', 'risco', 'lesao'], dtype=object)"
            ]
          },
          "metadata": {},
          "execution_count": 124
        }
      ]
    },
    {
      "cell_type": "markdown",
      "source": [
        "**Capiturando e separando Dados**"
      ],
      "metadata": {
        "id": "LLf7bRvA-O4s"
      }
    },
    {
      "cell_type": "code",
      "source": [
        "df[\"ano\"] = pd.DatetimeIndex(pd.to_datetime(df[\"data_acidente\"], format=\"%Y-%m-%d\")).year\n",
        "\n",
        "df[\"data_acidente\"] = pd.to_datetime(df[\"data_acidente\"], format=\"%Y-%m-%d\")\n",
        "df[\"ano\"] = pd.DatetimeIndex(df['ano']).year"
      ],
      "metadata": {
        "id": "uLqm1uXT-R7H"
      },
      "execution_count": null,
      "outputs": []
    },
    {
      "cell_type": "code",
      "source": [
        "df[\"mes\"] = pd.DatetimeIndex(pd.to_datetime(df[\"data_acidente\"], format=\"%Y-%m-%d\")).year\n",
        "\n",
        "df[\"data_acidente\"] = pd.to_datetime(df[\"data_acidente\"], format=\"%Y-%m-%d\")\n",
        "df[\"mes\"] = pd.DatetimeIndex(df['mes']).month"
      ],
      "metadata": {
        "id": "95QzRnfhEwfI"
      },
      "execution_count": null,
      "outputs": []
    },
    {
      "cell_type": "code",
      "source": [
        "#Ano\n",
        "#df2 = df.copy()\n",
        "df[\"ano\"] = pd.DatetimeIndex(pd.to_datetime(df2[\"data_acidente\"], format=\"%Y-%m-%d\")).year"
      ],
      "metadata": {
        "id": "7yF0ZxjCI68O"
      },
      "execution_count": null,
      "outputs": []
    },
    {
      "cell_type": "code",
      "source": [
        "# Mes\n",
        "#df2 = df.copy()\n",
        "df[\"mes\"] = pd.DatetimeIndex(pd.to_datetime(df2[\"data_acidente\"], format=\"%Y-%m-%d\")).month"
      ],
      "metadata": {
        "id": "cS2wsW8bJgGN"
      },
      "execution_count": null,
      "outputs": []
    },
    {
      "cell_type": "markdown",
      "source": [
        "## **Analide Dos Dados**"
      ],
      "metadata": {
        "id": "lV4dUjrHv8b6"
      }
    },
    {
      "cell_type": "markdown",
      "source": [
        "**Analise de Dados**"
      ],
      "metadata": {
        "id": "WezwT6XoNTPc"
      }
    },
    {
      "cell_type": "code",
      "source": [
        "# importanto as Bibliotecas\n",
        "import matplotlib.pyplot as plt\n",
        "from matplotlib import rcParams\n",
        "import seaborn as sns\n",
        "import matplotlib.patches as mpatches\n",
        "%matplotlib inline\n",
        "\n",
        "from matplotlib import pyplot as plt\n",
        "from matplotlib import rcParams\n",
        "import seaborn as sns\n",
        "sns.set_style('whitegrid')\n",
        "%matplotlib inline"
      ],
      "metadata": {
        "id": "h4xIiLvaNZd0"
      },
      "execution_count": null,
      "outputs": []
    },
    {
      "cell_type": "code",
      "source": [
        "rcParams['figure.figsize'] = 9, 7\n",
        "sns.set_style('whitegrid')"
      ],
      "metadata": {
        "id": "LJr_48TzQRtI"
      },
      "execution_count": null,
      "outputs": []
    },
    {
      "cell_type": "code",
      "source": [
        "df_risco_classificacao = df['risco']\n",
        "df_lesao = df['lesao']\n",
        "df_ano = df['ano']"
      ],
      "metadata": {
        "id": "LCmpINyDN0K3"
      },
      "execution_count": null,
      "outputs": []
    },
    {
      "cell_type": "code",
      "source": [
        "df_risco_classificacao.plot(kind='barh')"
      ],
      "metadata": {
        "colab": {
          "base_uri": "https://localhost:8080/",
          "height": 286
        },
        "id": "sQT1G9--NK5j",
        "outputId": "725bbd69-e94a-42dd-b492-d251dcaf6530"
      },
      "execution_count": null,
      "outputs": [
        {
          "output_type": "execute_result",
          "data": {
            "text/plain": [
              "<matplotlib.axes._subplots.AxesSubplot at 0x7f8f866781d0>"
            ]
          },
          "metadata": {},
          "execution_count": 150
        },
        {
          "output_type": "display_data",
          "data": {
            "text/plain": [
              "<Figure size 432x288 with 1 Axes>"
            ],
            "image/png": "[encoded data removed]"
          },
          "metadata": {
            "needs_background": "light"
          }
        }
      ]
    },
    {
      "cell_type": "code",
      "source": [
        "df_risco_classificacao.plot(kind='bar')"
      ],
      "metadata": {
        "id": "8e-Rt8wRBDW5"
      },
      "execution_count": null,
      "outputs": []
    },
    {
      "cell_type": "markdown",
      "source": [
        "Grafico"
      ],
      "metadata": {
        "id": "Il6yD08aBJok"
      }
    },
    {
      "cell_type": "code",
      "source": [
        "df.index = df.lesao\n",
        "plt.hist(df['lesao'])\n",
        "\n",
        "#Dando Nomes para as Legendas\n",
        "plt.title('Tipo de Lesões')\n",
        "plt.xlabel('lesao')\n",
        "plt.ylabel('Numeros')\n",
        "\n",
        "plt.xticks(df_lesao.index, df.tipo_lesao, rotation=45)\n",
        "\n",
        "legenda = mpatches.Patch(label='tipo_lesao')\n",
        "plt.legend(handles=[legenda])\n",
        "\n",
        "plt.plot()\n",
        "plt.show()"
      ],
      "metadata": {
        "colab": {
          "base_uri": "https://localhost:8080/",
          "height": 375
        },
        "id": "GBNSMQoYREfL",
        "outputId": "004701f7-35a5-428e-cf08-385673722cad"
      },
      "execution_count": null,
      "outputs": [
        {
          "output_type": "display_data",
          "data": {
            "text/plain": [
              "<Figure size 432x288 with 1 Axes>"
            ],
            "image/png": "[encoded data removed]"
          },
          "metadata": {
            "needs_background": "light"
          }
        }
      ]
    },
    {
      "cell_type": "code",
      "source": [
        "sns.distplot(df_risco_classificacao)"
      ],
      "metadata": {
        "id": "Elvkcw1WSLP1"
      },
      "execution_count": null,
      "outputs": []
    },
    {
      "cell_type": "markdown",
      "source": [],
      "metadata": {
        "id": "mGdxATjLxSVe"
      }
    },
    {
      "cell_type": "code",
      "source": [
        "df.index = df.lesao\n",
        "plt.hist(df['lesao'])\n",
        "\n",
        "plt.plot(df_lesao)\n",
        "plt.title('Tipo de Lesões')\n",
        "plt.xlabel('Lesões')\n",
        "plt.ylabel('leo')\n",
        "\n",
        "plt.xticks(df_lesao.index, df.tipo_lesao, rotation=44)\n",
        "\n",
        "\n",
        "legenda = mpatches.Patch(label='tipo_lesao')\n",
        "plt.legend(handles=[legenda])\n",
        "\n",
        "plt.show()"
      ],
      "metadata": {
        "colab": {
          "base_uri": "https://localhost:8080/",
          "height": 373
        },
        "id": "AEYpejttxSyh",
        "outputId": "ba8de6d7-e9bb-4770-f635-20b0cb0bbcb6"
      },
      "execution_count": null,
      "outputs": [
        {
          "output_type": "display_data",
          "data": {
            "text/plain": [
              "<Figure size 432x288 with 1 Axes>"
            ],
            "image/png": "[encoded data removed]"
          },
          "metadata": {
            "needs_background": "light"
          }
        }
      ]
    },
    {
      "cell_type": "code",
      "source": [
        "plt.plot()\n",
        "# titulos\n",
        "plt.title('Milhas por galão por carro em mtcars')\n",
        "plt.xlabel('nomes dos carros')\n",
        "plt.ylabel('millhas/galão')\n",
        "#\n",
        "plt.xticks(df_lesao.index, df.tipo_lesao, rotation=45)\n",
        "#\n",
        "plt.annotate('Corte', xy=(19.9), xytext = (21,33),\n",
        "           arrowprops=dict(facecolor='black', shrink=0.05))\n",
        "plt.show()"
      ],
      "metadata": {
        "id": "Nv0KdZOWzCsw"
      },
      "execution_count": null,
      "outputs": []
    },
    {
      "cell_type": "markdown",
      "source": [
        "gráficos"
      ],
      "metadata": {
        "id": "Y_ajDHbySe74"
      }
    },
    {
      "cell_type": "code",
      "source": [
        "df.plot(kind='scatter', x='ano', y='lesao', c=['darkgray'], s=150)"
      ],
      "metadata": {
        "colab": {
          "base_uri": "https://localhost:8080/",
          "height": 296
        },
        "id": "0sMgIU0bSiOu",
        "outputId": "df048c5a-6e8a-43b5-dc6b-6a3a76dbf6ed"
      },
      "execution_count": null,
      "outputs": [
        {
          "output_type": "execute_result",
          "data": {
            "text/plain": [
              "<matplotlib.axes._subplots.AxesSubplot at 0x7f8f8546a4d0>"
            ]
          },
          "metadata": {},
          "execution_count": 155
        },
        {
          "output_type": "display_data",
          "data": {
            "text/plain": [
              "<Figure size 432x288 with 1 Axes>"
            ],
            "image/png": "[encoded data removed]"
          },
          "metadata": {
            "needs_background": "light"
          }
        }
      ]
    },
    {
      "cell_type": "code",
      "source": [
        "df.boxplot(column='lesao', by='risco')"
      ],
      "metadata": {
        "id": "_lvU9TTlTBSo"
      },
      "execution_count": null,
      "outputs": []
    },
    {
      "cell_type": "code",
      "source": [
        "df2 = df.sample(n=40, random_state=10, axis=0)\n",
        "\n",
        "#titulo\n",
        "plt.xlabel('lesao')\n",
        "plt.ylabel('ano')\n",
        "plt.title('Series Temporal')\n",
        "\n",
        "\n",
        "df2['risco'].plot()"
      ],
      "metadata": {
        "id": "mkfSN5KMcFha"
      },
      "execution_count": null,
      "outputs": []
    },
    {
      "cell_type": "markdown",
      "source": [],
      "metadata": {
        "id": "wxJGmkDu7Frf"
      }
    },
    {
      "cell_type": "code",
      "source": [
        "\n",
        "\n",
        "df.boxplot(column='lesao', by='risco')\n",
        "df.boxplot(column='lesao', by='mes')"
      ],
      "metadata": {
        "colab": {
          "base_uri": "https://localhost:8080/",
          "height": 692
        },
        "id": "8ZQpt-U57GNU",
        "outputId": "eebdd107-a4e2-41e1-e785-4523eaa99e14"
      },
      "execution_count": null,
      "outputs": [
        {
          "output_type": "stream",
          "name": "stderr",
          "text": [
            "/usr/local/lib/python3.7/dist-packages/matplotlib/cbook/__init__.py:1376: VisibleDeprecationWarning: Creating an ndarray from ragged nested sequences (which is a list-or-tuple of lists-or-tuples-or ndarrays with different lengths or shapes) is deprecated. If you meant to do this, you must specify 'dtype=object' when creating the ndarray.\n",
            "  X = np.atleast_1d(X.T if isinstance(X, np.ndarray) else np.asarray(X))\n",
            "/usr/local/lib/python3.7/dist-packages/matplotlib/cbook/__init__.py:1376: VisibleDeprecationWarning: Creating an ndarray from ragged nested sequences (which is a list-or-tuple of lists-or-tuples-or ndarrays with different lengths or shapes) is deprecated. If you meant to do this, you must specify 'dtype=object' when creating the ndarray.\n",
            "  X = np.atleast_1d(X.T if isinstance(X, np.ndarray) else np.asarray(X))\n"
          ]
        },
        {
          "output_type": "execute_result",
          "data": {
            "text/plain": [
              "<matplotlib.axes._subplots.AxesSubplot at 0x7f8f869ff4d0>"
            ]
          },
          "metadata": {},
          "execution_count": 166
        },
        {
          "output_type": "display_data",
          "data": {
            "text/plain": [
              "<Figure size 432x288 with 1 Axes>"
            ],
            "image/png": "[encoded data removed]"
          },
          "metadata": {
            "needs_background": "light"
          }
        },
        {
          "output_type": "display_data",
          "data": {
            "text/plain": [
              "<Figure size 432x288 with 1 Axes>"
            ],
            "image/png": "[encoded data removed]"
          },
          "metadata": {
            "needs_background": "light"
          }
        }
      ]
    },
    {
      "cell_type": "code",
      "source": [
        "sns.boxplot(x='mes', y='lesao', data=df, palette='hls')"
      ],
      "metadata": {
        "colab": {
          "base_uri": "https://localhost:8080/",
          "height": 296
        },
        "id": "znjdR4WBSszl",
        "outputId": "aa192455-0234-4d2b-a371-e6ac19968786"
      },
      "execution_count": null,
      "outputs": [
        {
          "output_type": "execute_result",
          "data": {
            "text/plain": [
              "<matplotlib.axes._subplots.AxesSubplot at 0x7f8f84c87c10>"
            ]
          },
          "metadata": {},
          "execution_count": 172
        },
        {
          "output_type": "display_data",
          "data": {
            "text/plain": [
              "<Figure size 432x288 with 1 Axes>"
            ],
            "image/png": "[encoded data removed]"
          },
          "metadata": {
            "needs_background": "light"
          }
        }
      ]
    },
    {
      "cell_type": "markdown",
      "source": [
        "## New Section"
      ],
      "metadata": {
        "id": "CFXV3TaNSap4"
      }
    },
    {
      "cell_type": "markdown",
      "source": [
        "### **Variaveis Categóricas**"
      ],
      "metadata": {
        "id": "p48kQrKhSdNW"
      }
    },
    {
      "cell_type": "markdown",
      "source": [
        "Criando Dados Categóricos"
      ],
      "metadata": {
        "id": "h7y32RvHall5"
      }
    },
    {
      "cell_type": "code",
      "source": [
        "df['cate'] = pd.Series(df['lesao'], dtype=\"category\")"
      ],
      "metadata": {
        "id": "CJGThlOHSdwb"
      },
      "execution_count": null,
      "outputs": []
    },
    {
      "cell_type": "code",
      "source": [
        "df['cate'].dtype"
      ],
      "metadata": {
        "id": "jTAwezopXAVA"
      },
      "execution_count": null,
      "outputs": []
    },
    {
      "cell_type": "code",
      "source": [
        "df.index = df.tipo_lesao\n",
        "df['cate'].head()"
      ],
      "metadata": {
        "id": "DjZEXabXXVtw"
      },
      "execution_count": null,
      "outputs": []
    },
    {
      "cell_type": "code",
      "source": [
        "df['cate'].value_counts()"
      ],
      "metadata": {
        "id": "86MoGXF4YBcq"
      },
      "execution_count": null,
      "outputs": []
    },
    {
      "cell_type": "code",
      "source": [
        "lesao_grupos = df.groupby('cate')\n",
        "lesao_grupos.describe().T"
      ],
      "metadata": {
        "id": "00Kj2iEwYhX0"
      },
      "execution_count": null,
      "outputs": []
    },
    {
      "cell_type": "markdown",
      "source": [
        "Mostrando Cruzamento entre Variaveis"
      ],
      "metadata": {
        "id": "g8JV46tZaWYB"
      }
    },
    {
      "cell_type": "code",
      "source": [
        "pd.crosstab(df['cate'], df['mes'])"
      ],
      "metadata": {
        "id": "7yrI9bw1YNKI"
      },
      "execution_count": null,
      "outputs": []
    },
    {
      "cell_type": "code",
      "source": [
        "pd.crosstab(df['cate'], df['tipo_lesao'])"
      ],
      "metadata": {
        "colab": {
          "base_uri": "https://localhost:8080/",
          "height": 331
        },
        "id": "l1lNphQ6Z0cA",
        "outputId": "7701330f-d089-4800-a700-f8e9039accbe"
      },
      "execution_count": null,
      "outputs": [
        {
          "output_type": "execute_result",
          "data": {
            "text/plain": [
              "tipo_lesao  Contusão  Corte  Ferimentos Perfurantes  Fratura  Hematoma  \\\n",
              "cate                                                                     \n",
              "1.0                0      0                       0        0         0   \n",
              "2.0                0      0                      34        0         0   \n",
              "3.0               74      0                       0        0         0   \n",
              "4.0                0    180                       0        0         0   \n",
              "5.0                0      0                       0        0         0   \n",
              "6.0                0      0                       0        0        15   \n",
              "7.0                0      0                       0        8         0   \n",
              "8.0                0      0                       0        0         0   \n",
              "\n",
              "tipo_lesao  Laceração  Queimadura  Trauma  \n",
              "cate                                       \n",
              "1.0                10           0       0  \n",
              "2.0                 0           0       0  \n",
              "3.0                 0           0       0  \n",
              "4.0                 0           0       0  \n",
              "5.0                 0          10       0  \n",
              "6.0                 0           0       0  \n",
              "7.0                 0           0       0  \n",
              "8.0                 0           0       6  "
            ],
            "text/html": [
              "\n",
              "  <div id=\"df-79618df8-3d51-4423-b00b-310431760036\">\n",
              "    <div class=\"colab-df-container\">\n",
              "      <div>\n",
              "<style scoped>\n",
              "    .dataframe tbody tr th:only-of-type {\n",
              "        vertical-align: middle;\n",
              "    }\n",
              "\n",
              "    .dataframe tbody tr th {\n",
              "        vertical-align: top;\n",
              "    }\n",
              "\n",
              "    .dataframe thead th {\n",
              "        text-align: right;\n",
              "    }\n",
              "</style>\n",
              "<table border=\"1\" class=\"dataframe\">\n",
              "  <thead>\n",
              "    <tr style=\"text-align: right;\">\n",
              "      <th>tipo_lesao</th>\n",
              "      <th>Contusão</th>\n",
              "      <th>Corte</th>\n",
              "      <th>Ferimentos Perfurantes</th>\n",
              "      <th>Fratura</th>\n",
              "      <th>Hematoma</th>\n",
              "      <th>Laceração</th>\n",
              "      <th>Queimadura</th>\n",
              "      <th>Trauma</th>\n",
              "    </tr>\n",
              "    <tr>\n",
              "      <th>cate</th>\n",
              "      <th></th>\n",
              "      <th></th>\n",
              "      <th></th>\n",
              "      <th></th>\n",
              "      <th></th>\n",
              "      <th></th>\n",
              "      <th></th>\n",
              "      <th></th>\n",
              "    </tr>\n",
              "  </thead>\n",
              "  <tbody>\n",
              "    <tr>\n",
              "      <th>1.0</th>\n",
              "      <td>0</td>\n",
              "      <td>0</td>\n",
              "      <td>0</td>\n",
              "      <td>0</td>\n",
              "      <td>0</td>\n",
              "      <td>10</td>\n",
              "      <td>0</td>\n",
              "      <td>0</td>\n",
              "    </tr>\n",
              "    <tr>\n",
              "      <th>2.0</th>\n",
              "      <td>0</td>\n",
              "      <td>0</td>\n",
              "      <td>34</td>\n",
              "      <td>0</td>\n",
              "      <td>0</td>\n",
              "      <td>0</td>\n",
              "      <td>0</td>\n",
              "      <td>0</td>\n",
              "    </tr>\n",
              "    <tr>\n",
              "      <th>3.0</th>\n",
              "      <td>74</td>\n",
              "      <td>0</td>\n",
              "      <td>0</td>\n",
              "      <td>0</td>\n",
              "      <td>0</td>\n",
              "      <td>0</td>\n",
              "      <td>0</td>\n",
              "      <td>0</td>\n",
              "    </tr>\n",
              "    <tr>\n",
              "      <th>4.0</th>\n",
              "      <td>0</td>\n",
              "      <td>180</td>\n",
              "      <td>0</td>\n",
              "      <td>0</td>\n",
              "      <td>0</td>\n",
              "      <td>0</td>\n",
              "      <td>0</td>\n",
              "      <td>0</td>\n",
              "    </tr>\n",
              "    <tr>\n",
              "      <th>5.0</th>\n",
              "      <td>0</td>\n",
              "      <td>0</td>\n",
              "      <td>0</td>\n",
              "      <td>0</td>\n",
              "      <td>0</td>\n",
              "      <td>0</td>\n",
              "      <td>10</td>\n",
              "      <td>0</td>\n",
              "    </tr>\n",
              "    <tr>\n",
              "      <th>6.0</th>\n",
              "      <td>0</td>\n",
              "      <td>0</td>\n",
              "      <td>0</td>\n",
              "      <td>0</td>\n",
              "      <td>15</td>\n",
              "      <td>0</td>\n",
              "      <td>0</td>\n",
              "      <td>0</td>\n",
              "    </tr>\n",
              "    <tr>\n",
              "      <th>7.0</th>\n",
              "      <td>0</td>\n",
              "      <td>0</td>\n",
              "      <td>0</td>\n",
              "      <td>8</td>\n",
              "      <td>0</td>\n",
              "      <td>0</td>\n",
              "      <td>0</td>\n",
              "      <td>0</td>\n",
              "    </tr>\n",
              "    <tr>\n",
              "      <th>8.0</th>\n",
              "      <td>0</td>\n",
              "      <td>0</td>\n",
              "      <td>0</td>\n",
              "      <td>0</td>\n",
              "      <td>0</td>\n",
              "      <td>0</td>\n",
              "      <td>0</td>\n",
              "      <td>6</td>\n",
              "    </tr>\n",
              "  </tbody>\n",
              "</table>\n",
              "</div>\n",
              "      <button class=\"colab-df-convert\" onclick=\"convertToInteractive('df-79618df8-3d51-4423-b00b-310431760036')\"\n",
              "              title=\"Convert this dataframe to an interactive table.\"\n",
              "              style=\"display:none;\">\n",
              "        \n",
              "  <svg xmlns=\"http://www.w3.org/2000/svg\" height=\"24px\"viewBox=\"0 0 24 24\"\n",
              "       width=\"24px\">\n",
              "    <path d=\"M0 0h24v24H0V0z\" fill=\"none\"/>\n",
              "    <path d=\"M18.56 5.44l.94 2.06.94-2.06 2.06-.94-2.06-.94-.94-2.06-.94 2.06-2.06.94zm-11 1L8.5 8.5l.94-2.06 2.06-.94-2.06-.94L8.5 2.5l-.94 2.06-2.06.94zm10 10l.94 2.06.94-2.06 2.06-.94-2.06-.94-.94-2.06-.94 2.06-2.06.94z\"/><path d=\"M17.41 7.96l-1.37-1.37c-.4-.4-.92-.59-1.43-.59-.52 0-1.04.2-1.43.59L10.3 9.45l-7.72 7.72c-.78.78-.78 2.05 0 2.83L4 21.41c.39.39.9.59 1.41.59.51 0 1.02-.2 1.41-.59l7.78-7.78 2.81-2.81c.8-.78.8-2.07 0-2.86zM5.41 20L4 18.59l7.72-7.72 1.47 1.35L5.41 20z\"/>\n",
              "  </svg>\n",
              "      </button>\n",
              "      \n",
              "  <style>\n",
              "    .colab-df-container {\n",
              "      display:flex;\n",
              "      flex-wrap:wrap;\n",
              "      gap: 12px;\n",
              "    }\n",
              "\n",
              "    .colab-df-convert {\n",
              "      background-color: #E8F0FE;\n",
              "      border: none;\n",
              "      border-radius: 50%;\n",
              "      cursor: pointer;\n",
              "      display: none;\n",
              "      fill: #1967D2;\n",
              "      height: 32px;\n",
              "      padding: 0 0 0 0;\n",
              "      width: 32px;\n",
              "    }\n",
              "\n",
              "    .colab-df-convert:hover {\n",
              "      background-color: #E2EBFA;\n",
              "      box-shadow: 0px 1px 2px rgba(60, 64, 67, 0.3), 0px 1px 3px 1px rgba(60, 64, 67, 0.15);\n",
              "      fill: #174EA6;\n",
              "    }\n",
              "\n",
              "    [theme=dark] .colab-df-convert {\n",
              "      background-color: #3B4455;\n",
              "      fill: #D2E3FC;\n",
              "    }\n",
              "\n",
              "    [theme=dark] .colab-df-convert:hover {\n",
              "      background-color: #434B5C;\n",
              "      box-shadow: 0px 1px 3px 1px rgba(0, 0, 0, 0.15);\n",
              "      filter: drop-shadow(0px 1px 2px rgba(0, 0, 0, 0.3));\n",
              "      fill: #FFFFFF;\n",
              "    }\n",
              "  </style>\n",
              "\n",
              "      <script>\n",
              "        const buttonEl =\n",
              "          document.querySelector('#df-79618df8-3d51-4423-b00b-310431760036 button.colab-df-convert');\n",
              "        buttonEl.style.display =\n",
              "          google.colab.kernel.accessAllowed ? 'block' : 'none';\n",
              "\n",
              "        async function convertToInteractive(key) {\n",
              "          const element = document.querySelector('#df-79618df8-3d51-4423-b00b-310431760036');\n",
              "          const dataTable =\n",
              "            await google.colab.kernel.invokeFunction('convertToInteractive',\n",
              "                                                     [key], {});\n",
              "          if (!dataTable) return;\n",
              "\n",
              "          const docLinkHtml = 'Like what you see? Visit the ' +\n",
              "            '<a target=\"_blank\" href=https://colab.research.google.com/notebooks/data_table.ipynb>data table notebook</a>'\n",
              "            + ' to learn more about interactive tables.';\n",
              "          element.innerHTML = '';\n",
              "          dataTable['output_type'] = 'display_data';\n",
              "          await google.colab.output.renderOutput(dataTable, element);\n",
              "          const docLink = document.createElement('div');\n",
              "          docLink.innerHTML = docLinkHtml;\n",
              "          element.appendChild(docLink);\n",
              "        }\n",
              "      </script>\n",
              "    </div>\n",
              "  </div>\n",
              "  "
            ]
          },
          "metadata": {},
          "execution_count": 185
        }
      ]
    },
    {
      "cell_type": "code",
      "source": [],
      "metadata": {
        "id": "Qw1pjpjGbAsN"
      },
      "execution_count": null,
      "outputs": []
    },
    {
      "cell_type": "markdown",
      "source": [
        "### **Usando Spearman e Qui-Quadrado**"
      ],
      "metadata": {
        "id": "tCKQkZn4bByX"
      }
    },
    {
      "cell_type": "markdown",
      "source": [],
      "metadata": {
        "id": "_75qPVnubCVD"
      }
    },
    {
      "cell_type": "code",
      "source": [
        "from scipy.stats import spearmanr"
      ],
      "metadata": {
        "id": "Rebl_NuEbH_r"
      },
      "execution_count": null,
      "outputs": []
    },
    {
      "cell_type": "code",
      "source": [
        "sns.pairplot(df)"
      ],
      "metadata": {
        "id": "73XtjscbbVZE"
      },
      "execution_count": null,
      "outputs": []
    }
  ]
}